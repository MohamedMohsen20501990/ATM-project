{
 "cells": [
  {
   "cell_type": "code",
   "execution_count": 1,
   "id": "0038bf22",
   "metadata": {
    "execution": {
     "iopub.execute_input": "2024-07-06T14:54:35.831172Z",
     "iopub.status.busy": "2024-07-06T14:54:35.830705Z",
     "iopub.status.idle": "2024-07-06T14:54:38.630608Z",
     "shell.execute_reply": "2024-07-06T14:54:38.629549Z"
    },
    "papermill": {
     "duration": 2.831606,
     "end_time": "2024-07-06T14:54:38.633216",
     "exception": false,
     "start_time": "2024-07-06T14:54:35.801610",
     "status": "completed"
    },
    "tags": []
   },
   "outputs": [],
   "source": [
    "import pandas as pd\n",
    "import numpy as np\n",
    "\n",
    "import seaborn as sns\n",
    "import matplotlib.pyplot as plt\n",
    "%matplotlib inline\n",
    "\n",
    "from sklearn.preprocessing import OrdinalEncoder, OneHotEncoder\n",
    "\n",
    "from sklearn.impute import SimpleImputer\n",
    "\n",
    "from sklearn.compose import make_column_transformer, ColumnTransformer\n",
    "from sklearn.pipeline import Pipeline, make_pipeline\n",
    "\n",
    "from sklearn.linear_model import LogisticRegression\n",
    "from sklearn.svm import SVC\n",
    "from sklearn.tree import DecisionTreeClassifier\n",
    "from sklearn.neighbors import KNeighborsClassifier\n",
    "from sklearn.naive_bayes import GaussianNB\n",
    "from xgboost import XGBClassifier\n",
    "from sklearn.ensemble import RandomForestClassifier, AdaBoostClassifier, GradientBoostingClassifier, ExtraTreesClassifier, VotingClassifier\n",
    "\n",
    "\n",
    "from sklearn.model_selection import cross_val_score, StratifiedKFold, train_test_split, GridSearchCV"
   ]
  },
  {
   "cell_type": "code",
   "execution_count": 2,
   "id": "1033224c",
   "metadata": {
    "execution": {
     "iopub.execute_input": "2024-07-06T14:54:38.687886Z",
     "iopub.status.busy": "2024-07-06T14:54:38.686823Z",
     "iopub.status.idle": "2024-07-06T14:54:38.718530Z",
     "shell.execute_reply": "2024-07-06T14:54:38.717309Z"
    },
    "papermill": {
     "duration": 0.061417,
     "end_time": "2024-07-06T14:54:38.720965",
     "exception": false,
     "start_time": "2024-07-06T14:54:38.659548",
     "status": "completed"
    },
    "tags": []
   },
   "outputs": [],
   "source": [
    "train_data = pd.read_csv('/kaggle/input/titanic/train.csv')\n",
    "test_data = pd.read_csv('/kaggle/input/titanic/test.csv')"
   ]
  },
  {
   "cell_type": "code",
   "execution_count": 3,
   "id": "09dae2f8",
   "metadata": {
    "execution": {
     "iopub.execute_input": "2024-07-06T14:54:38.777524Z",
     "iopub.status.busy": "2024-07-06T14:54:38.777038Z",
     "iopub.status.idle": "2024-07-06T14:54:38.809174Z",
     "shell.execute_reply": "2024-07-06T14:54:38.808043Z"
    },
    "papermill": {
     "duration": 0.064342,
     "end_time": "2024-07-06T14:54:38.811707",
     "exception": false,
     "start_time": "2024-07-06T14:54:38.747365",
     "status": "completed"
    },
    "tags": []
   },
   "outputs": [
    {
     "data": {
      "text/html": [
       "<div>\n",
       "<style scoped>\n",
       "    .dataframe tbody tr th:only-of-type {\n",
       "        vertical-align: middle;\n",
       "    }\n",
       "\n",
       "    .dataframe tbody tr th {\n",
       "        vertical-align: top;\n",
       "    }\n",
       "\n",
       "    .dataframe thead th {\n",
       "        text-align: right;\n",
       "    }\n",
       "</style>\n",
       "<table border=\"1\" class=\"dataframe\">\n",
       "  <thead>\n",
       "    <tr style=\"text-align: right;\">\n",
       "      <th></th>\n",
       "      <th>PassengerId</th>\n",
       "      <th>Survived</th>\n",
       "      <th>Pclass</th>\n",
       "      <th>Name</th>\n",
       "      <th>Sex</th>\n",
       "      <th>Age</th>\n",
       "      <th>SibSp</th>\n",
       "      <th>Parch</th>\n",
       "      <th>Ticket</th>\n",
       "      <th>Fare</th>\n",
       "      <th>Cabin</th>\n",
       "      <th>Embarked</th>\n",
       "    </tr>\n",
       "  </thead>\n",
       "  <tbody>\n",
       "    <tr>\n",
       "      <th>0</th>\n",
       "      <td>1</td>\n",
       "      <td>0</td>\n",
       "      <td>3</td>\n",
       "      <td>Braund, Mr. Owen Harris</td>\n",
       "      <td>male</td>\n",
       "      <td>22.0</td>\n",
       "      <td>1</td>\n",
       "      <td>0</td>\n",
       "      <td>A/5 21171</td>\n",
       "      <td>7.2500</td>\n",
       "      <td>NaN</td>\n",
       "      <td>S</td>\n",
       "    </tr>\n",
       "    <tr>\n",
       "      <th>1</th>\n",
       "      <td>2</td>\n",
       "      <td>1</td>\n",
       "      <td>1</td>\n",
       "      <td>Cumings, Mrs. John Bradley (Florence Briggs Th...</td>\n",
       "      <td>female</td>\n",
       "      <td>38.0</td>\n",
       "      <td>1</td>\n",
       "      <td>0</td>\n",
       "      <td>PC 17599</td>\n",
       "      <td>71.2833</td>\n",
       "      <td>C85</td>\n",
       "      <td>C</td>\n",
       "    </tr>\n",
       "    <tr>\n",
       "      <th>2</th>\n",
       "      <td>3</td>\n",
       "      <td>1</td>\n",
       "      <td>3</td>\n",
       "      <td>Heikkinen, Miss. Laina</td>\n",
       "      <td>female</td>\n",
       "      <td>26.0</td>\n",
       "      <td>0</td>\n",
       "      <td>0</td>\n",
       "      <td>STON/O2. 3101282</td>\n",
       "      <td>7.9250</td>\n",
       "      <td>NaN</td>\n",
       "      <td>S</td>\n",
       "    </tr>\n",
       "    <tr>\n",
       "      <th>3</th>\n",
       "      <td>4</td>\n",
       "      <td>1</td>\n",
       "      <td>1</td>\n",
       "      <td>Futrelle, Mrs. Jacques Heath (Lily May Peel)</td>\n",
       "      <td>female</td>\n",
       "      <td>35.0</td>\n",
       "      <td>1</td>\n",
       "      <td>0</td>\n",
       "      <td>113803</td>\n",
       "      <td>53.1000</td>\n",
       "      <td>C123</td>\n",
       "      <td>S</td>\n",
       "    </tr>\n",
       "    <tr>\n",
       "      <th>4</th>\n",
       "      <td>5</td>\n",
       "      <td>0</td>\n",
       "      <td>3</td>\n",
       "      <td>Allen, Mr. William Henry</td>\n",
       "      <td>male</td>\n",
       "      <td>35.0</td>\n",
       "      <td>0</td>\n",
       "      <td>0</td>\n",
       "      <td>373450</td>\n",
       "      <td>8.0500</td>\n",
       "      <td>NaN</td>\n",
       "      <td>S</td>\n",
       "    </tr>\n",
       "  </tbody>\n",
       "</table>\n",
       "</div>"
      ],
      "text/plain": [
       "   PassengerId  Survived  Pclass  \\\n",
       "0            1         0       3   \n",
       "1            2         1       1   \n",
       "2            3         1       3   \n",
       "3            4         1       1   \n",
       "4            5         0       3   \n",
       "\n",
       "                                                Name     Sex   Age  SibSp  \\\n",
       "0                            Braund, Mr. Owen Harris    male  22.0      1   \n",
       "1  Cumings, Mrs. John Bradley (Florence Briggs Th...  female  38.0      1   \n",
       "2                             Heikkinen, Miss. Laina  female  26.0      0   \n",
       "3       Futrelle, Mrs. Jacques Heath (Lily May Peel)  female  35.0      1   \n",
       "4                           Allen, Mr. William Henry    male  35.0      0   \n",
       "\n",
       "   Parch            Ticket     Fare Cabin Embarked  \n",
       "0      0         A/5 21171   7.2500   NaN        S  \n",
       "1      0          PC 17599  71.2833   C85        C  \n",
       "2      0  STON/O2. 3101282   7.9250   NaN        S  \n",
       "3      0            113803  53.1000  C123        S  \n",
       "4      0            373450   8.0500   NaN        S  "
      ]
     },
     "execution_count": 3,
     "metadata": {},
     "output_type": "execute_result"
    }
   ],
   "source": [
    "train_data.head()"
   ]
  },
  {
   "cell_type": "code",
   "execution_count": 4,
   "id": "01febff0",
   "metadata": {
    "execution": {
     "iopub.execute_input": "2024-07-06T14:54:38.875686Z",
     "iopub.status.busy": "2024-07-06T14:54:38.874805Z",
     "iopub.status.idle": "2024-07-06T14:54:38.900162Z",
     "shell.execute_reply": "2024-07-06T14:54:38.899002Z"
    },
    "papermill": {
     "duration": 0.056093,
     "end_time": "2024-07-06T14:54:38.902466",
     "exception": false,
     "start_time": "2024-07-06T14:54:38.846373",
     "status": "completed"
    },
    "tags": []
   },
   "outputs": [
    {
     "name": "stdout",
     "output_type": "stream",
     "text": [
      "<class 'pandas.core.frame.DataFrame'>\n",
      "RangeIndex: 891 entries, 0 to 890\n",
      "Data columns (total 12 columns):\n",
      " #   Column       Non-Null Count  Dtype  \n",
      "---  ------       --------------  -----  \n",
      " 0   PassengerId  891 non-null    int64  \n",
      " 1   Survived     891 non-null    int64  \n",
      " 2   Pclass       891 non-null    int64  \n",
      " 3   Name         891 non-null    object \n",
      " 4   Sex          891 non-null    object \n",
      " 5   Age          714 non-null    float64\n",
      " 6   SibSp        891 non-null    int64  \n",
      " 7   Parch        891 non-null    int64  \n",
      " 8   Ticket       891 non-null    object \n",
      " 9   Fare         891 non-null    float64\n",
      " 10  Cabin        204 non-null    object \n",
      " 11  Embarked     889 non-null    object \n",
      "dtypes: float64(2), int64(5), object(5)\n",
      "memory usage: 83.7+ KB\n"
     ]
    }
   ],
   "source": [
    "train_data.info()"
   ]
  },
  {
   "cell_type": "code",
   "execution_count": 5,
   "id": "1a45ef34",
   "metadata": {
    "execution": {
     "iopub.execute_input": "2024-07-06T14:54:38.963228Z",
     "iopub.status.busy": "2024-07-06T14:54:38.962713Z",
     "iopub.status.idle": "2024-07-06T14:54:38.994251Z",
     "shell.execute_reply": "2024-07-06T14:54:38.993280Z"
    },
    "papermill": {
     "duration": 0.067232,
     "end_time": "2024-07-06T14:54:38.997067",
     "exception": false,
     "start_time": "2024-07-06T14:54:38.929835",
     "status": "completed"
    },
    "tags": []
   },
   "outputs": [
    {
     "data": {
      "text/html": [
       "<div>\n",
       "<style scoped>\n",
       "    .dataframe tbody tr th:only-of-type {\n",
       "        vertical-align: middle;\n",
       "    }\n",
       "\n",
       "    .dataframe tbody tr th {\n",
       "        vertical-align: top;\n",
       "    }\n",
       "\n",
       "    .dataframe thead th {\n",
       "        text-align: right;\n",
       "    }\n",
       "</style>\n",
       "<table border=\"1\" class=\"dataframe\">\n",
       "  <thead>\n",
       "    <tr style=\"text-align: right;\">\n",
       "      <th></th>\n",
       "      <th>PassengerId</th>\n",
       "      <th>Survived</th>\n",
       "      <th>Pclass</th>\n",
       "      <th>Age</th>\n",
       "      <th>SibSp</th>\n",
       "      <th>Parch</th>\n",
       "      <th>Fare</th>\n",
       "    </tr>\n",
       "  </thead>\n",
       "  <tbody>\n",
       "    <tr>\n",
       "      <th>count</th>\n",
       "      <td>891.000000</td>\n",
       "      <td>891.000000</td>\n",
       "      <td>891.000000</td>\n",
       "      <td>714.000000</td>\n",
       "      <td>891.000000</td>\n",
       "      <td>891.000000</td>\n",
       "      <td>891.000000</td>\n",
       "    </tr>\n",
       "    <tr>\n",
       "      <th>mean</th>\n",
       "      <td>446.000000</td>\n",
       "      <td>0.383838</td>\n",
       "      <td>2.308642</td>\n",
       "      <td>29.699118</td>\n",
       "      <td>0.523008</td>\n",
       "      <td>0.381594</td>\n",
       "      <td>32.204208</td>\n",
       "    </tr>\n",
       "    <tr>\n",
       "      <th>std</th>\n",
       "      <td>257.353842</td>\n",
       "      <td>0.486592</td>\n",
       "      <td>0.836071</td>\n",
       "      <td>14.526497</td>\n",
       "      <td>1.102743</td>\n",
       "      <td>0.806057</td>\n",
       "      <td>49.693429</td>\n",
       "    </tr>\n",
       "    <tr>\n",
       "      <th>min</th>\n",
       "      <td>1.000000</td>\n",
       "      <td>0.000000</td>\n",
       "      <td>1.000000</td>\n",
       "      <td>0.420000</td>\n",
       "      <td>0.000000</td>\n",
       "      <td>0.000000</td>\n",
       "      <td>0.000000</td>\n",
       "    </tr>\n",
       "    <tr>\n",
       "      <th>25%</th>\n",
       "      <td>223.500000</td>\n",
       "      <td>0.000000</td>\n",
       "      <td>2.000000</td>\n",
       "      <td>20.125000</td>\n",
       "      <td>0.000000</td>\n",
       "      <td>0.000000</td>\n",
       "      <td>7.910400</td>\n",
       "    </tr>\n",
       "    <tr>\n",
       "      <th>50%</th>\n",
       "      <td>446.000000</td>\n",
       "      <td>0.000000</td>\n",
       "      <td>3.000000</td>\n",
       "      <td>28.000000</td>\n",
       "      <td>0.000000</td>\n",
       "      <td>0.000000</td>\n",
       "      <td>14.454200</td>\n",
       "    </tr>\n",
       "    <tr>\n",
       "      <th>75%</th>\n",
       "      <td>668.500000</td>\n",
       "      <td>1.000000</td>\n",
       "      <td>3.000000</td>\n",
       "      <td>38.000000</td>\n",
       "      <td>1.000000</td>\n",
       "      <td>0.000000</td>\n",
       "      <td>31.000000</td>\n",
       "    </tr>\n",
       "    <tr>\n",
       "      <th>max</th>\n",
       "      <td>891.000000</td>\n",
       "      <td>1.000000</td>\n",
       "      <td>3.000000</td>\n",
       "      <td>80.000000</td>\n",
       "      <td>8.000000</td>\n",
       "      <td>6.000000</td>\n",
       "      <td>512.329200</td>\n",
       "    </tr>\n",
       "  </tbody>\n",
       "</table>\n",
       "</div>"
      ],
      "text/plain": [
       "       PassengerId    Survived      Pclass         Age       SibSp  \\\n",
       "count   891.000000  891.000000  891.000000  714.000000  891.000000   \n",
       "mean    446.000000    0.383838    2.308642   29.699118    0.523008   \n",
       "std     257.353842    0.486592    0.836071   14.526497    1.102743   \n",
       "min       1.000000    0.000000    1.000000    0.420000    0.000000   \n",
       "25%     223.500000    0.000000    2.000000   20.125000    0.000000   \n",
       "50%     446.000000    0.000000    3.000000   28.000000    0.000000   \n",
       "75%     668.500000    1.000000    3.000000   38.000000    1.000000   \n",
       "max     891.000000    1.000000    3.000000   80.000000    8.000000   \n",
       "\n",
       "            Parch        Fare  \n",
       "count  891.000000  891.000000  \n",
       "mean     0.381594   32.204208  \n",
       "std      0.806057   49.693429  \n",
       "min      0.000000    0.000000  \n",
       "25%      0.000000    7.910400  \n",
       "50%      0.000000   14.454200  \n",
       "75%      0.000000   31.000000  \n",
       "max      6.000000  512.329200  "
      ]
     },
     "execution_count": 5,
     "metadata": {},
     "output_type": "execute_result"
    }
   ],
   "source": [
    "train_data.describe()"
   ]
  },
  {
   "cell_type": "markdown",
   "id": "50950ff5",
   "metadata": {
    "papermill": {
     "duration": 0.027057,
     "end_time": "2024-07-06T14:54:39.056682",
     "exception": false,
     "start_time": "2024-07-06T14:54:39.029625",
     "status": "completed"
    },
    "tags": []
   },
   "source": [
    "take a look in the categorical data"
   ]
  },
  {
   "cell_type": "code",
   "execution_count": 6,
   "id": "bedf3548",
   "metadata": {
    "execution": {
     "iopub.execute_input": "2024-07-06T14:54:39.177803Z",
     "iopub.status.busy": "2024-07-06T14:54:39.177106Z",
     "iopub.status.idle": "2024-07-06T14:54:39.197225Z",
     "shell.execute_reply": "2024-07-06T14:54:39.196260Z"
    },
    "papermill": {
     "duration": 0.115609,
     "end_time": "2024-07-06T14:54:39.199773",
     "exception": false,
     "start_time": "2024-07-06T14:54:39.084164",
     "status": "completed"
    },
    "tags": []
   },
   "outputs": [
    {
     "data": {
      "text/html": [
       "<div>\n",
       "<style scoped>\n",
       "    .dataframe tbody tr th:only-of-type {\n",
       "        vertical-align: middle;\n",
       "    }\n",
       "\n",
       "    .dataframe tbody tr th {\n",
       "        vertical-align: top;\n",
       "    }\n",
       "\n",
       "    .dataframe thead th {\n",
       "        text-align: right;\n",
       "    }\n",
       "</style>\n",
       "<table border=\"1\" class=\"dataframe\">\n",
       "  <thead>\n",
       "    <tr style=\"text-align: right;\">\n",
       "      <th></th>\n",
       "      <th>Name</th>\n",
       "      <th>Sex</th>\n",
       "      <th>Ticket</th>\n",
       "      <th>Cabin</th>\n",
       "      <th>Embarked</th>\n",
       "    </tr>\n",
       "  </thead>\n",
       "  <tbody>\n",
       "    <tr>\n",
       "      <th>count</th>\n",
       "      <td>891</td>\n",
       "      <td>891</td>\n",
       "      <td>891</td>\n",
       "      <td>204</td>\n",
       "      <td>889</td>\n",
       "    </tr>\n",
       "    <tr>\n",
       "      <th>unique</th>\n",
       "      <td>891</td>\n",
       "      <td>2</td>\n",
       "      <td>681</td>\n",
       "      <td>147</td>\n",
       "      <td>3</td>\n",
       "    </tr>\n",
       "    <tr>\n",
       "      <th>top</th>\n",
       "      <td>Braund, Mr. Owen Harris</td>\n",
       "      <td>male</td>\n",
       "      <td>347082</td>\n",
       "      <td>B96 B98</td>\n",
       "      <td>S</td>\n",
       "    </tr>\n",
       "    <tr>\n",
       "      <th>freq</th>\n",
       "      <td>1</td>\n",
       "      <td>577</td>\n",
       "      <td>7</td>\n",
       "      <td>4</td>\n",
       "      <td>644</td>\n",
       "    </tr>\n",
       "  </tbody>\n",
       "</table>\n",
       "</div>"
      ],
      "text/plain": [
       "                           Name   Sex  Ticket    Cabin Embarked\n",
       "count                       891   891     891      204      889\n",
       "unique                      891     2     681      147        3\n",
       "top     Braund, Mr. Owen Harris  male  347082  B96 B98        S\n",
       "freq                          1   577       7        4      644"
      ]
     },
     "execution_count": 6,
     "metadata": {},
     "output_type": "execute_result"
    }
   ],
   "source": [
    "train_data.describe(include=['O'])"
   ]
  },
  {
   "cell_type": "markdown",
   "id": "8a6aee91",
   "metadata": {
    "papermill": {
     "duration": 0.032819,
     "end_time": "2024-07-06T14:54:39.265808",
     "exception": false,
     "start_time": "2024-07-06T14:54:39.232989",
     "status": "completed"
    },
    "tags": []
   },
   "source": [
    "make some grouping"
   ]
  },
  {
   "cell_type": "code",
   "execution_count": 7,
   "id": "50b176ba",
   "metadata": {
    "execution": {
     "iopub.execute_input": "2024-07-06T14:54:39.322709Z",
     "iopub.status.busy": "2024-07-06T14:54:39.321678Z",
     "iopub.status.idle": "2024-07-06T14:54:39.337167Z",
     "shell.execute_reply": "2024-07-06T14:54:39.336114Z"
    },
    "papermill": {
     "duration": 0.046418,
     "end_time": "2024-07-06T14:54:39.339693",
     "exception": false,
     "start_time": "2024-07-06T14:54:39.293275",
     "status": "completed"
    },
    "tags": []
   },
   "outputs": [
    {
     "data": {
      "text/html": [
       "<div>\n",
       "<style scoped>\n",
       "    .dataframe tbody tr th:only-of-type {\n",
       "        vertical-align: middle;\n",
       "    }\n",
       "\n",
       "    .dataframe tbody tr th {\n",
       "        vertical-align: top;\n",
       "    }\n",
       "\n",
       "    .dataframe thead th {\n",
       "        text-align: right;\n",
       "    }\n",
       "</style>\n",
       "<table border=\"1\" class=\"dataframe\">\n",
       "  <thead>\n",
       "    <tr style=\"text-align: right;\">\n",
       "      <th></th>\n",
       "      <th>Pclass</th>\n",
       "      <th>Survived</th>\n",
       "    </tr>\n",
       "  </thead>\n",
       "  <tbody>\n",
       "    <tr>\n",
       "      <th>0</th>\n",
       "      <td>1</td>\n",
       "      <td>0.629630</td>\n",
       "    </tr>\n",
       "    <tr>\n",
       "      <th>1</th>\n",
       "      <td>2</td>\n",
       "      <td>0.472826</td>\n",
       "    </tr>\n",
       "    <tr>\n",
       "      <th>2</th>\n",
       "      <td>3</td>\n",
       "      <td>0.242363</td>\n",
       "    </tr>\n",
       "  </tbody>\n",
       "</table>\n",
       "</div>"
      ],
      "text/plain": [
       "   Pclass  Survived\n",
       "0       1  0.629630\n",
       "1       2  0.472826\n",
       "2       3  0.242363"
      ]
     },
     "execution_count": 7,
     "metadata": {},
     "output_type": "execute_result"
    }
   ],
   "source": [
    "#will see how many people survived in every passenger class\n",
    "train_data.groupby(['Pclass'], as_index=False)['Survived'].mean()\n",
    "\n",
    "# the 1,2 class mean is higher than the average showd in the described data and its important info\n"
   ]
  },
  {
   "cell_type": "code",
   "execution_count": 8,
   "id": "7a42e01b",
   "metadata": {
    "execution": {
     "iopub.execute_input": "2024-07-06T14:54:39.400700Z",
     "iopub.status.busy": "2024-07-06T14:54:39.400340Z",
     "iopub.status.idle": "2024-07-06T14:54:39.413062Z",
     "shell.execute_reply": "2024-07-06T14:54:39.411975Z"
    },
    "papermill": {
     "duration": 0.043787,
     "end_time": "2024-07-06T14:54:39.415616",
     "exception": false,
     "start_time": "2024-07-06T14:54:39.371829",
     "status": "completed"
    },
    "tags": []
   },
   "outputs": [
    {
     "data": {
      "text/html": [
       "<div>\n",
       "<style scoped>\n",
       "    .dataframe tbody tr th:only-of-type {\n",
       "        vertical-align: middle;\n",
       "    }\n",
       "\n",
       "    .dataframe tbody tr th {\n",
       "        vertical-align: top;\n",
       "    }\n",
       "\n",
       "    .dataframe thead th {\n",
       "        text-align: right;\n",
       "    }\n",
       "</style>\n",
       "<table border=\"1\" class=\"dataframe\">\n",
       "  <thead>\n",
       "    <tr style=\"text-align: right;\">\n",
       "      <th></th>\n",
       "      <th>Sex</th>\n",
       "      <th>Survived</th>\n",
       "    </tr>\n",
       "  </thead>\n",
       "  <tbody>\n",
       "    <tr>\n",
       "      <th>0</th>\n",
       "      <td>female</td>\n",
       "      <td>0.742038</td>\n",
       "    </tr>\n",
       "    <tr>\n",
       "      <th>1</th>\n",
       "      <td>male</td>\n",
       "      <td>0.188908</td>\n",
       "    </tr>\n",
       "  </tbody>\n",
       "</table>\n",
       "</div>"
      ],
      "text/plain": [
       "      Sex  Survived\n",
       "0  female  0.742038\n",
       "1    male  0.188908"
      ]
     },
     "execution_count": 8,
     "metadata": {},
     "output_type": "execute_result"
    }
   ],
   "source": [
    "#will see how many people survived relating to sex\n",
    "train_data.groupby(['Sex'], as_index=False)['Survived'].mean()"
   ]
  },
  {
   "cell_type": "code",
   "execution_count": 9,
   "id": "6239523b",
   "metadata": {
    "execution": {
     "iopub.execute_input": "2024-07-06T14:54:39.479542Z",
     "iopub.status.busy": "2024-07-06T14:54:39.479168Z",
     "iopub.status.idle": "2024-07-06T14:54:39.490571Z",
     "shell.execute_reply": "2024-07-06T14:54:39.489508Z"
    },
    "papermill": {
     "duration": 0.042723,
     "end_time": "2024-07-06T14:54:39.492740",
     "exception": false,
     "start_time": "2024-07-06T14:54:39.450017",
     "status": "completed"
    },
    "tags": []
   },
   "outputs": [
    {
     "data": {
      "text/html": [
       "<div>\n",
       "<style scoped>\n",
       "    .dataframe tbody tr th:only-of-type {\n",
       "        vertical-align: middle;\n",
       "    }\n",
       "\n",
       "    .dataframe tbody tr th {\n",
       "        vertical-align: top;\n",
       "    }\n",
       "\n",
       "    .dataframe thead th {\n",
       "        text-align: right;\n",
       "    }\n",
       "</style>\n",
       "<table border=\"1\" class=\"dataframe\">\n",
       "  <thead>\n",
       "    <tr style=\"text-align: right;\">\n",
       "      <th></th>\n",
       "      <th>SibSp</th>\n",
       "      <th>Survived</th>\n",
       "    </tr>\n",
       "  </thead>\n",
       "  <tbody>\n",
       "    <tr>\n",
       "      <th>0</th>\n",
       "      <td>0</td>\n",
       "      <td>0.345395</td>\n",
       "    </tr>\n",
       "    <tr>\n",
       "      <th>1</th>\n",
       "      <td>1</td>\n",
       "      <td>0.535885</td>\n",
       "    </tr>\n",
       "    <tr>\n",
       "      <th>2</th>\n",
       "      <td>2</td>\n",
       "      <td>0.464286</td>\n",
       "    </tr>\n",
       "    <tr>\n",
       "      <th>3</th>\n",
       "      <td>3</td>\n",
       "      <td>0.250000</td>\n",
       "    </tr>\n",
       "    <tr>\n",
       "      <th>4</th>\n",
       "      <td>4</td>\n",
       "      <td>0.166667</td>\n",
       "    </tr>\n",
       "    <tr>\n",
       "      <th>5</th>\n",
       "      <td>5</td>\n",
       "      <td>0.000000</td>\n",
       "    </tr>\n",
       "    <tr>\n",
       "      <th>6</th>\n",
       "      <td>8</td>\n",
       "      <td>0.000000</td>\n",
       "    </tr>\n",
       "  </tbody>\n",
       "</table>\n",
       "</div>"
      ],
      "text/plain": [
       "   SibSp  Survived\n",
       "0      0  0.345395\n",
       "1      1  0.535885\n",
       "2      2  0.464286\n",
       "3      3  0.250000\n",
       "4      4  0.166667\n",
       "5      5  0.000000\n",
       "6      8  0.000000"
      ]
     },
     "execution_count": 9,
     "metadata": {},
     "output_type": "execute_result"
    }
   ],
   "source": [
    "#will see how many people survived relating to number of sibilings\n",
    "train_data.groupby(['SibSp'], as_index=False)['Survived'].mean()"
   ]
  },
  {
   "cell_type": "code",
   "execution_count": 10,
   "id": "543e8a97",
   "metadata": {
    "execution": {
     "iopub.execute_input": "2024-07-06T14:54:39.550623Z",
     "iopub.status.busy": "2024-07-06T14:54:39.549648Z",
     "iopub.status.idle": "2024-07-06T14:54:39.563205Z",
     "shell.execute_reply": "2024-07-06T14:54:39.562125Z"
    },
    "papermill": {
     "duration": 0.045021,
     "end_time": "2024-07-06T14:54:39.565467",
     "exception": false,
     "start_time": "2024-07-06T14:54:39.520446",
     "status": "completed"
    },
    "tags": []
   },
   "outputs": [
    {
     "data": {
      "text/html": [
       "<div>\n",
       "<style scoped>\n",
       "    .dataframe tbody tr th:only-of-type {\n",
       "        vertical-align: middle;\n",
       "    }\n",
       "\n",
       "    .dataframe tbody tr th {\n",
       "        vertical-align: top;\n",
       "    }\n",
       "\n",
       "    .dataframe thead th {\n",
       "        text-align: right;\n",
       "    }\n",
       "</style>\n",
       "<table border=\"1\" class=\"dataframe\">\n",
       "  <thead>\n",
       "    <tr style=\"text-align: right;\">\n",
       "      <th></th>\n",
       "      <th>Parch</th>\n",
       "      <th>Survived</th>\n",
       "    </tr>\n",
       "  </thead>\n",
       "  <tbody>\n",
       "    <tr>\n",
       "      <th>0</th>\n",
       "      <td>0</td>\n",
       "      <td>0.343658</td>\n",
       "    </tr>\n",
       "    <tr>\n",
       "      <th>1</th>\n",
       "      <td>1</td>\n",
       "      <td>0.550847</td>\n",
       "    </tr>\n",
       "    <tr>\n",
       "      <th>2</th>\n",
       "      <td>2</td>\n",
       "      <td>0.500000</td>\n",
       "    </tr>\n",
       "    <tr>\n",
       "      <th>3</th>\n",
       "      <td>3</td>\n",
       "      <td>0.600000</td>\n",
       "    </tr>\n",
       "    <tr>\n",
       "      <th>4</th>\n",
       "      <td>4</td>\n",
       "      <td>0.000000</td>\n",
       "    </tr>\n",
       "    <tr>\n",
       "      <th>5</th>\n",
       "      <td>5</td>\n",
       "      <td>0.200000</td>\n",
       "    </tr>\n",
       "    <tr>\n",
       "      <th>6</th>\n",
       "      <td>6</td>\n",
       "      <td>0.000000</td>\n",
       "    </tr>\n",
       "  </tbody>\n",
       "</table>\n",
       "</div>"
      ],
      "text/plain": [
       "   Parch  Survived\n",
       "0      0  0.343658\n",
       "1      1  0.550847\n",
       "2      2  0.500000\n",
       "3      3  0.600000\n",
       "4      4  0.000000\n",
       "5      5  0.200000\n",
       "6      6  0.000000"
      ]
     },
     "execution_count": 10,
     "metadata": {},
     "output_type": "execute_result"
    }
   ],
   "source": [
    "#will see how many people survived relating to number of paents ans children\n",
    "train_data.groupby(['Parch'], as_index=False)['Survived'].mean()"
   ]
  },
  {
   "cell_type": "code",
   "execution_count": 11,
   "id": "76164829",
   "metadata": {
    "execution": {
     "iopub.execute_input": "2024-07-06T14:54:39.623650Z",
     "iopub.status.busy": "2024-07-06T14:54:39.622664Z",
     "iopub.status.idle": "2024-07-06T14:54:39.631431Z",
     "shell.execute_reply": "2024-07-06T14:54:39.630421Z"
    },
    "papermill": {
     "duration": 0.040655,
     "end_time": "2024-07-06T14:54:39.634015",
     "exception": false,
     "start_time": "2024-07-06T14:54:39.593360",
     "status": "completed"
    },
    "tags": []
   },
   "outputs": [],
   "source": [
    "# making a new feature (family size depending on sibilings and parch)\n",
    "# feature engeneering\n",
    "train_data['family_size'] = train_data['SibSp'] + train_data['Parch'] + 1\n",
    "test_data['family_size'] = train_data['SibSp'] + train_data['Parch'] + 1"
   ]
  },
  {
   "cell_type": "code",
   "execution_count": 12,
   "id": "ccf4b705",
   "metadata": {
    "execution": {
     "iopub.execute_input": "2024-07-06T14:54:39.696708Z",
     "iopub.status.busy": "2024-07-06T14:54:39.696349Z",
     "iopub.status.idle": "2024-07-06T14:54:39.713292Z",
     "shell.execute_reply": "2024-07-06T14:54:39.712279Z"
    },
    "papermill": {
     "duration": 0.049094,
     "end_time": "2024-07-06T14:54:39.715975",
     "exception": false,
     "start_time": "2024-07-06T14:54:39.666881",
     "status": "completed"
    },
    "tags": []
   },
   "outputs": [
    {
     "data": {
      "text/html": [
       "<div>\n",
       "<style scoped>\n",
       "    .dataframe tbody tr th:only-of-type {\n",
       "        vertical-align: middle;\n",
       "    }\n",
       "\n",
       "    .dataframe tbody tr th {\n",
       "        vertical-align: top;\n",
       "    }\n",
       "\n",
       "    .dataframe thead th {\n",
       "        text-align: right;\n",
       "    }\n",
       "</style>\n",
       "<table border=\"1\" class=\"dataframe\">\n",
       "  <thead>\n",
       "    <tr style=\"text-align: right;\">\n",
       "      <th></th>\n",
       "      <th>PassengerId</th>\n",
       "      <th>Survived</th>\n",
       "      <th>Pclass</th>\n",
       "      <th>Name</th>\n",
       "      <th>Sex</th>\n",
       "      <th>Age</th>\n",
       "      <th>SibSp</th>\n",
       "      <th>Parch</th>\n",
       "      <th>Ticket</th>\n",
       "      <th>Fare</th>\n",
       "      <th>Cabin</th>\n",
       "      <th>Embarked</th>\n",
       "      <th>family_size</th>\n",
       "    </tr>\n",
       "  </thead>\n",
       "  <tbody>\n",
       "    <tr>\n",
       "      <th>0</th>\n",
       "      <td>1</td>\n",
       "      <td>0</td>\n",
       "      <td>3</td>\n",
       "      <td>Braund, Mr. Owen Harris</td>\n",
       "      <td>male</td>\n",
       "      <td>22.0</td>\n",
       "      <td>1</td>\n",
       "      <td>0</td>\n",
       "      <td>A/5 21171</td>\n",
       "      <td>7.2500</td>\n",
       "      <td>NaN</td>\n",
       "      <td>S</td>\n",
       "      <td>2</td>\n",
       "    </tr>\n",
       "    <tr>\n",
       "      <th>1</th>\n",
       "      <td>2</td>\n",
       "      <td>1</td>\n",
       "      <td>1</td>\n",
       "      <td>Cumings, Mrs. John Bradley (Florence Briggs Th...</td>\n",
       "      <td>female</td>\n",
       "      <td>38.0</td>\n",
       "      <td>1</td>\n",
       "      <td>0</td>\n",
       "      <td>PC 17599</td>\n",
       "      <td>71.2833</td>\n",
       "      <td>C85</td>\n",
       "      <td>C</td>\n",
       "      <td>2</td>\n",
       "    </tr>\n",
       "    <tr>\n",
       "      <th>2</th>\n",
       "      <td>3</td>\n",
       "      <td>1</td>\n",
       "      <td>3</td>\n",
       "      <td>Heikkinen, Miss. Laina</td>\n",
       "      <td>female</td>\n",
       "      <td>26.0</td>\n",
       "      <td>0</td>\n",
       "      <td>0</td>\n",
       "      <td>STON/O2. 3101282</td>\n",
       "      <td>7.9250</td>\n",
       "      <td>NaN</td>\n",
       "      <td>S</td>\n",
       "      <td>1</td>\n",
       "    </tr>\n",
       "    <tr>\n",
       "      <th>3</th>\n",
       "      <td>4</td>\n",
       "      <td>1</td>\n",
       "      <td>1</td>\n",
       "      <td>Futrelle, Mrs. Jacques Heath (Lily May Peel)</td>\n",
       "      <td>female</td>\n",
       "      <td>35.0</td>\n",
       "      <td>1</td>\n",
       "      <td>0</td>\n",
       "      <td>113803</td>\n",
       "      <td>53.1000</td>\n",
       "      <td>C123</td>\n",
       "      <td>S</td>\n",
       "      <td>2</td>\n",
       "    </tr>\n",
       "    <tr>\n",
       "      <th>4</th>\n",
       "      <td>5</td>\n",
       "      <td>0</td>\n",
       "      <td>3</td>\n",
       "      <td>Allen, Mr. William Henry</td>\n",
       "      <td>male</td>\n",
       "      <td>35.0</td>\n",
       "      <td>0</td>\n",
       "      <td>0</td>\n",
       "      <td>373450</td>\n",
       "      <td>8.0500</td>\n",
       "      <td>NaN</td>\n",
       "      <td>S</td>\n",
       "      <td>1</td>\n",
       "    </tr>\n",
       "    <tr>\n",
       "      <th>5</th>\n",
       "      <td>6</td>\n",
       "      <td>0</td>\n",
       "      <td>3</td>\n",
       "      <td>Moran, Mr. James</td>\n",
       "      <td>male</td>\n",
       "      <td>NaN</td>\n",
       "      <td>0</td>\n",
       "      <td>0</td>\n",
       "      <td>330877</td>\n",
       "      <td>8.4583</td>\n",
       "      <td>NaN</td>\n",
       "      <td>Q</td>\n",
       "      <td>1</td>\n",
       "    </tr>\n",
       "    <tr>\n",
       "      <th>6</th>\n",
       "      <td>7</td>\n",
       "      <td>0</td>\n",
       "      <td>1</td>\n",
       "      <td>McCarthy, Mr. Timothy J</td>\n",
       "      <td>male</td>\n",
       "      <td>54.0</td>\n",
       "      <td>0</td>\n",
       "      <td>0</td>\n",
       "      <td>17463</td>\n",
       "      <td>51.8625</td>\n",
       "      <td>E46</td>\n",
       "      <td>S</td>\n",
       "      <td>1</td>\n",
       "    </tr>\n",
       "    <tr>\n",
       "      <th>7</th>\n",
       "      <td>8</td>\n",
       "      <td>0</td>\n",
       "      <td>3</td>\n",
       "      <td>Palsson, Master. Gosta Leonard</td>\n",
       "      <td>male</td>\n",
       "      <td>2.0</td>\n",
       "      <td>3</td>\n",
       "      <td>1</td>\n",
       "      <td>349909</td>\n",
       "      <td>21.0750</td>\n",
       "      <td>NaN</td>\n",
       "      <td>S</td>\n",
       "      <td>5</td>\n",
       "    </tr>\n",
       "    <tr>\n",
       "      <th>8</th>\n",
       "      <td>9</td>\n",
       "      <td>1</td>\n",
       "      <td>3</td>\n",
       "      <td>Johnson, Mrs. Oscar W (Elisabeth Vilhelmina Berg)</td>\n",
       "      <td>female</td>\n",
       "      <td>27.0</td>\n",
       "      <td>0</td>\n",
       "      <td>2</td>\n",
       "      <td>347742</td>\n",
       "      <td>11.1333</td>\n",
       "      <td>NaN</td>\n",
       "      <td>S</td>\n",
       "      <td>3</td>\n",
       "    </tr>\n",
       "    <tr>\n",
       "      <th>9</th>\n",
       "      <td>10</td>\n",
       "      <td>1</td>\n",
       "      <td>2</td>\n",
       "      <td>Nasser, Mrs. Nicholas (Adele Achem)</td>\n",
       "      <td>female</td>\n",
       "      <td>14.0</td>\n",
       "      <td>1</td>\n",
       "      <td>0</td>\n",
       "      <td>237736</td>\n",
       "      <td>30.0708</td>\n",
       "      <td>NaN</td>\n",
       "      <td>C</td>\n",
       "      <td>2</td>\n",
       "    </tr>\n",
       "  </tbody>\n",
       "</table>\n",
       "</div>"
      ],
      "text/plain": [
       "   PassengerId  Survived  Pclass  \\\n",
       "0            1         0       3   \n",
       "1            2         1       1   \n",
       "2            3         1       3   \n",
       "3            4         1       1   \n",
       "4            5         0       3   \n",
       "5            6         0       3   \n",
       "6            7         0       1   \n",
       "7            8         0       3   \n",
       "8            9         1       3   \n",
       "9           10         1       2   \n",
       "\n",
       "                                                Name     Sex   Age  SibSp  \\\n",
       "0                            Braund, Mr. Owen Harris    male  22.0      1   \n",
       "1  Cumings, Mrs. John Bradley (Florence Briggs Th...  female  38.0      1   \n",
       "2                             Heikkinen, Miss. Laina  female  26.0      0   \n",
       "3       Futrelle, Mrs. Jacques Heath (Lily May Peel)  female  35.0      1   \n",
       "4                           Allen, Mr. William Henry    male  35.0      0   \n",
       "5                                   Moran, Mr. James    male   NaN      0   \n",
       "6                            McCarthy, Mr. Timothy J    male  54.0      0   \n",
       "7                     Palsson, Master. Gosta Leonard    male   2.0      3   \n",
       "8  Johnson, Mrs. Oscar W (Elisabeth Vilhelmina Berg)  female  27.0      0   \n",
       "9                Nasser, Mrs. Nicholas (Adele Achem)  female  14.0      1   \n",
       "\n",
       "   Parch            Ticket     Fare Cabin Embarked  family_size  \n",
       "0      0         A/5 21171   7.2500   NaN        S            2  \n",
       "1      0          PC 17599  71.2833   C85        C            2  \n",
       "2      0  STON/O2. 3101282   7.9250   NaN        S            1  \n",
       "3      0            113803  53.1000  C123        S            2  \n",
       "4      0            373450   8.0500   NaN        S            1  \n",
       "5      0            330877   8.4583   NaN        Q            1  \n",
       "6      0             17463  51.8625   E46        S            1  \n",
       "7      1            349909  21.0750   NaN        S            5  \n",
       "8      2            347742  11.1333   NaN        S            3  \n",
       "9      0            237736  30.0708   NaN        C            2  "
      ]
     },
     "execution_count": 12,
     "metadata": {},
     "output_type": "execute_result"
    }
   ],
   "source": [
    "train_data.head(10)"
   ]
  },
  {
   "cell_type": "code",
   "execution_count": 13,
   "id": "2854bf45",
   "metadata": {
    "execution": {
     "iopub.execute_input": "2024-07-06T14:54:39.777440Z",
     "iopub.status.busy": "2024-07-06T14:54:39.776543Z",
     "iopub.status.idle": "2024-07-06T14:54:39.788154Z",
     "shell.execute_reply": "2024-07-06T14:54:39.787117Z"
    },
    "papermill": {
     "duration": 0.043187,
     "end_time": "2024-07-06T14:54:39.790509",
     "exception": false,
     "start_time": "2024-07-06T14:54:39.747322",
     "status": "completed"
    },
    "tags": []
   },
   "outputs": [
    {
     "data": {
      "text/html": [
       "<div>\n",
       "<style scoped>\n",
       "    .dataframe tbody tr th:only-of-type {\n",
       "        vertical-align: middle;\n",
       "    }\n",
       "\n",
       "    .dataframe tbody tr th {\n",
       "        vertical-align: top;\n",
       "    }\n",
       "\n",
       "    .dataframe thead th {\n",
       "        text-align: right;\n",
       "    }\n",
       "</style>\n",
       "<table border=\"1\" class=\"dataframe\">\n",
       "  <thead>\n",
       "    <tr style=\"text-align: right;\">\n",
       "      <th></th>\n",
       "      <th>family_size</th>\n",
       "      <th>Survived</th>\n",
       "    </tr>\n",
       "  </thead>\n",
       "  <tbody>\n",
       "    <tr>\n",
       "      <th>0</th>\n",
       "      <td>1</td>\n",
       "      <td>0.303538</td>\n",
       "    </tr>\n",
       "    <tr>\n",
       "      <th>1</th>\n",
       "      <td>2</td>\n",
       "      <td>0.552795</td>\n",
       "    </tr>\n",
       "    <tr>\n",
       "      <th>2</th>\n",
       "      <td>3</td>\n",
       "      <td>0.578431</td>\n",
       "    </tr>\n",
       "    <tr>\n",
       "      <th>3</th>\n",
       "      <td>4</td>\n",
       "      <td>0.724138</td>\n",
       "    </tr>\n",
       "    <tr>\n",
       "      <th>4</th>\n",
       "      <td>5</td>\n",
       "      <td>0.200000</td>\n",
       "    </tr>\n",
       "    <tr>\n",
       "      <th>5</th>\n",
       "      <td>6</td>\n",
       "      <td>0.136364</td>\n",
       "    </tr>\n",
       "    <tr>\n",
       "      <th>6</th>\n",
       "      <td>7</td>\n",
       "      <td>0.333333</td>\n",
       "    </tr>\n",
       "    <tr>\n",
       "      <th>7</th>\n",
       "      <td>8</td>\n",
       "      <td>0.000000</td>\n",
       "    </tr>\n",
       "    <tr>\n",
       "      <th>8</th>\n",
       "      <td>11</td>\n",
       "      <td>0.000000</td>\n",
       "    </tr>\n",
       "  </tbody>\n",
       "</table>\n",
       "</div>"
      ],
      "text/plain": [
       "   family_size  Survived\n",
       "0            1  0.303538\n",
       "1            2  0.552795\n",
       "2            3  0.578431\n",
       "3            4  0.724138\n",
       "4            5  0.200000\n",
       "5            6  0.136364\n",
       "6            7  0.333333\n",
       "7            8  0.000000\n",
       "8           11  0.000000"
      ]
     },
     "execution_count": 13,
     "metadata": {},
     "output_type": "execute_result"
    }
   ],
   "source": [
    "train_data.groupby(['family_size'], as_index=False)['Survived'].mean()"
   ]
  },
  {
   "cell_type": "code",
   "execution_count": 14,
   "id": "9ca1f998",
   "metadata": {
    "execution": {
     "iopub.execute_input": "2024-07-06T14:54:39.849536Z",
     "iopub.status.busy": "2024-07-06T14:54:39.848596Z",
     "iopub.status.idle": "2024-07-06T14:54:39.857489Z",
     "shell.execute_reply": "2024-07-06T14:54:39.856394Z"
    },
    "papermill": {
     "duration": 0.040735,
     "end_time": "2024-07-06T14:54:39.859659",
     "exception": false,
     "start_time": "2024-07-06T14:54:39.818924",
     "status": "completed"
    },
    "tags": []
   },
   "outputs": [],
   "source": [
    "family_desc = {1: 'alone',2: 'small', 3: 'small', 4: 'small', 5: 'medium', 6: 'medium', 7: 'large', 8: 'large', 11: 'large' }\n",
    "# numerical to categorical\n",
    "train_data['family_size_grouped'] = train_data['family_size'].map(family_desc)\n",
    "test_data['family_size_grouped'] = train_data['family_size'].map(family_desc)"
   ]
  },
  {
   "cell_type": "code",
   "execution_count": 15,
   "id": "374f8b0a",
   "metadata": {
    "execution": {
     "iopub.execute_input": "2024-07-06T14:54:39.919385Z",
     "iopub.status.busy": "2024-07-06T14:54:39.918238Z",
     "iopub.status.idle": "2024-07-06T14:54:39.936418Z",
     "shell.execute_reply": "2024-07-06T14:54:39.935445Z"
    },
    "papermill": {
     "duration": 0.050923,
     "end_time": "2024-07-06T14:54:39.939170",
     "exception": false,
     "start_time": "2024-07-06T14:54:39.888247",
     "status": "completed"
    },
    "tags": []
   },
   "outputs": [
    {
     "data": {
      "text/html": [
       "<div>\n",
       "<style scoped>\n",
       "    .dataframe tbody tr th:only-of-type {\n",
       "        vertical-align: middle;\n",
       "    }\n",
       "\n",
       "    .dataframe tbody tr th {\n",
       "        vertical-align: top;\n",
       "    }\n",
       "\n",
       "    .dataframe thead th {\n",
       "        text-align: right;\n",
       "    }\n",
       "</style>\n",
       "<table border=\"1\" class=\"dataframe\">\n",
       "  <thead>\n",
       "    <tr style=\"text-align: right;\">\n",
       "      <th></th>\n",
       "      <th>PassengerId</th>\n",
       "      <th>Survived</th>\n",
       "      <th>Pclass</th>\n",
       "      <th>Name</th>\n",
       "      <th>Sex</th>\n",
       "      <th>Age</th>\n",
       "      <th>SibSp</th>\n",
       "      <th>Parch</th>\n",
       "      <th>Ticket</th>\n",
       "      <th>Fare</th>\n",
       "      <th>Cabin</th>\n",
       "      <th>Embarked</th>\n",
       "      <th>family_size</th>\n",
       "      <th>family_size_grouped</th>\n",
       "    </tr>\n",
       "  </thead>\n",
       "  <tbody>\n",
       "    <tr>\n",
       "      <th>0</th>\n",
       "      <td>1</td>\n",
       "      <td>0</td>\n",
       "      <td>3</td>\n",
       "      <td>Braund, Mr. Owen Harris</td>\n",
       "      <td>male</td>\n",
       "      <td>22.0</td>\n",
       "      <td>1</td>\n",
       "      <td>0</td>\n",
       "      <td>A/5 21171</td>\n",
       "      <td>7.2500</td>\n",
       "      <td>NaN</td>\n",
       "      <td>S</td>\n",
       "      <td>2</td>\n",
       "      <td>small</td>\n",
       "    </tr>\n",
       "    <tr>\n",
       "      <th>1</th>\n",
       "      <td>2</td>\n",
       "      <td>1</td>\n",
       "      <td>1</td>\n",
       "      <td>Cumings, Mrs. John Bradley (Florence Briggs Th...</td>\n",
       "      <td>female</td>\n",
       "      <td>38.0</td>\n",
       "      <td>1</td>\n",
       "      <td>0</td>\n",
       "      <td>PC 17599</td>\n",
       "      <td>71.2833</td>\n",
       "      <td>C85</td>\n",
       "      <td>C</td>\n",
       "      <td>2</td>\n",
       "      <td>small</td>\n",
       "    </tr>\n",
       "    <tr>\n",
       "      <th>2</th>\n",
       "      <td>3</td>\n",
       "      <td>1</td>\n",
       "      <td>3</td>\n",
       "      <td>Heikkinen, Miss. Laina</td>\n",
       "      <td>female</td>\n",
       "      <td>26.0</td>\n",
       "      <td>0</td>\n",
       "      <td>0</td>\n",
       "      <td>STON/O2. 3101282</td>\n",
       "      <td>7.9250</td>\n",
       "      <td>NaN</td>\n",
       "      <td>S</td>\n",
       "      <td>1</td>\n",
       "      <td>alone</td>\n",
       "    </tr>\n",
       "    <tr>\n",
       "      <th>3</th>\n",
       "      <td>4</td>\n",
       "      <td>1</td>\n",
       "      <td>1</td>\n",
       "      <td>Futrelle, Mrs. Jacques Heath (Lily May Peel)</td>\n",
       "      <td>female</td>\n",
       "      <td>35.0</td>\n",
       "      <td>1</td>\n",
       "      <td>0</td>\n",
       "      <td>113803</td>\n",
       "      <td>53.1000</td>\n",
       "      <td>C123</td>\n",
       "      <td>S</td>\n",
       "      <td>2</td>\n",
       "      <td>small</td>\n",
       "    </tr>\n",
       "    <tr>\n",
       "      <th>4</th>\n",
       "      <td>5</td>\n",
       "      <td>0</td>\n",
       "      <td>3</td>\n",
       "      <td>Allen, Mr. William Henry</td>\n",
       "      <td>male</td>\n",
       "      <td>35.0</td>\n",
       "      <td>0</td>\n",
       "      <td>0</td>\n",
       "      <td>373450</td>\n",
       "      <td>8.0500</td>\n",
       "      <td>NaN</td>\n",
       "      <td>S</td>\n",
       "      <td>1</td>\n",
       "      <td>alone</td>\n",
       "    </tr>\n",
       "    <tr>\n",
       "      <th>5</th>\n",
       "      <td>6</td>\n",
       "      <td>0</td>\n",
       "      <td>3</td>\n",
       "      <td>Moran, Mr. James</td>\n",
       "      <td>male</td>\n",
       "      <td>NaN</td>\n",
       "      <td>0</td>\n",
       "      <td>0</td>\n",
       "      <td>330877</td>\n",
       "      <td>8.4583</td>\n",
       "      <td>NaN</td>\n",
       "      <td>Q</td>\n",
       "      <td>1</td>\n",
       "      <td>alone</td>\n",
       "    </tr>\n",
       "    <tr>\n",
       "      <th>6</th>\n",
       "      <td>7</td>\n",
       "      <td>0</td>\n",
       "      <td>1</td>\n",
       "      <td>McCarthy, Mr. Timothy J</td>\n",
       "      <td>male</td>\n",
       "      <td>54.0</td>\n",
       "      <td>0</td>\n",
       "      <td>0</td>\n",
       "      <td>17463</td>\n",
       "      <td>51.8625</td>\n",
       "      <td>E46</td>\n",
       "      <td>S</td>\n",
       "      <td>1</td>\n",
       "      <td>alone</td>\n",
       "    </tr>\n",
       "    <tr>\n",
       "      <th>7</th>\n",
       "      <td>8</td>\n",
       "      <td>0</td>\n",
       "      <td>3</td>\n",
       "      <td>Palsson, Master. Gosta Leonard</td>\n",
       "      <td>male</td>\n",
       "      <td>2.0</td>\n",
       "      <td>3</td>\n",
       "      <td>1</td>\n",
       "      <td>349909</td>\n",
       "      <td>21.0750</td>\n",
       "      <td>NaN</td>\n",
       "      <td>S</td>\n",
       "      <td>5</td>\n",
       "      <td>medium</td>\n",
       "    </tr>\n",
       "    <tr>\n",
       "      <th>8</th>\n",
       "      <td>9</td>\n",
       "      <td>1</td>\n",
       "      <td>3</td>\n",
       "      <td>Johnson, Mrs. Oscar W (Elisabeth Vilhelmina Berg)</td>\n",
       "      <td>female</td>\n",
       "      <td>27.0</td>\n",
       "      <td>0</td>\n",
       "      <td>2</td>\n",
       "      <td>347742</td>\n",
       "      <td>11.1333</td>\n",
       "      <td>NaN</td>\n",
       "      <td>S</td>\n",
       "      <td>3</td>\n",
       "      <td>small</td>\n",
       "    </tr>\n",
       "    <tr>\n",
       "      <th>9</th>\n",
       "      <td>10</td>\n",
       "      <td>1</td>\n",
       "      <td>2</td>\n",
       "      <td>Nasser, Mrs. Nicholas (Adele Achem)</td>\n",
       "      <td>female</td>\n",
       "      <td>14.0</td>\n",
       "      <td>1</td>\n",
       "      <td>0</td>\n",
       "      <td>237736</td>\n",
       "      <td>30.0708</td>\n",
       "      <td>NaN</td>\n",
       "      <td>C</td>\n",
       "      <td>2</td>\n",
       "      <td>small</td>\n",
       "    </tr>\n",
       "  </tbody>\n",
       "</table>\n",
       "</div>"
      ],
      "text/plain": [
       "   PassengerId  Survived  Pclass  \\\n",
       "0            1         0       3   \n",
       "1            2         1       1   \n",
       "2            3         1       3   \n",
       "3            4         1       1   \n",
       "4            5         0       3   \n",
       "5            6         0       3   \n",
       "6            7         0       1   \n",
       "7            8         0       3   \n",
       "8            9         1       3   \n",
       "9           10         1       2   \n",
       "\n",
       "                                                Name     Sex   Age  SibSp  \\\n",
       "0                            Braund, Mr. Owen Harris    male  22.0      1   \n",
       "1  Cumings, Mrs. John Bradley (Florence Briggs Th...  female  38.0      1   \n",
       "2                             Heikkinen, Miss. Laina  female  26.0      0   \n",
       "3       Futrelle, Mrs. Jacques Heath (Lily May Peel)  female  35.0      1   \n",
       "4                           Allen, Mr. William Henry    male  35.0      0   \n",
       "5                                   Moran, Mr. James    male   NaN      0   \n",
       "6                            McCarthy, Mr. Timothy J    male  54.0      0   \n",
       "7                     Palsson, Master. Gosta Leonard    male   2.0      3   \n",
       "8  Johnson, Mrs. Oscar W (Elisabeth Vilhelmina Berg)  female  27.0      0   \n",
       "9                Nasser, Mrs. Nicholas (Adele Achem)  female  14.0      1   \n",
       "\n",
       "   Parch            Ticket     Fare Cabin Embarked  family_size  \\\n",
       "0      0         A/5 21171   7.2500   NaN        S            2   \n",
       "1      0          PC 17599  71.2833   C85        C            2   \n",
       "2      0  STON/O2. 3101282   7.9250   NaN        S            1   \n",
       "3      0            113803  53.1000  C123        S            2   \n",
       "4      0            373450   8.0500   NaN        S            1   \n",
       "5      0            330877   8.4583   NaN        Q            1   \n",
       "6      0             17463  51.8625   E46        S            1   \n",
       "7      1            349909  21.0750   NaN        S            5   \n",
       "8      2            347742  11.1333   NaN        S            3   \n",
       "9      0            237736  30.0708   NaN        C            2   \n",
       "\n",
       "  family_size_grouped  \n",
       "0               small  \n",
       "1               small  \n",
       "2               alone  \n",
       "3               small  \n",
       "4               alone  \n",
       "5               alone  \n",
       "6               alone  \n",
       "7              medium  \n",
       "8               small  \n",
       "9               small  "
      ]
     },
     "execution_count": 15,
     "metadata": {},
     "output_type": "execute_result"
    }
   ],
   "source": [
    "train_data.head(10)"
   ]
  },
  {
   "cell_type": "code",
   "execution_count": 16,
   "id": "7fc7a104",
   "metadata": {
    "execution": {
     "iopub.execute_input": "2024-07-06T14:54:40.006370Z",
     "iopub.status.busy": "2024-07-06T14:54:40.005994Z",
     "iopub.status.idle": "2024-07-06T14:54:40.017457Z",
     "shell.execute_reply": "2024-07-06T14:54:40.016535Z"
    },
    "papermill": {
     "duration": 0.046149,
     "end_time": "2024-07-06T14:54:40.019699",
     "exception": false,
     "start_time": "2024-07-06T14:54:39.973550",
     "status": "completed"
    },
    "tags": []
   },
   "outputs": [
    {
     "data": {
      "text/html": [
       "<div>\n",
       "<style scoped>\n",
       "    .dataframe tbody tr th:only-of-type {\n",
       "        vertical-align: middle;\n",
       "    }\n",
       "\n",
       "    .dataframe tbody tr th {\n",
       "        vertical-align: top;\n",
       "    }\n",
       "\n",
       "    .dataframe thead th {\n",
       "        text-align: right;\n",
       "    }\n",
       "</style>\n",
       "<table border=\"1\" class=\"dataframe\">\n",
       "  <thead>\n",
       "    <tr style=\"text-align: right;\">\n",
       "      <th></th>\n",
       "      <th>family_size_grouped</th>\n",
       "      <th>Survived</th>\n",
       "    </tr>\n",
       "  </thead>\n",
       "  <tbody>\n",
       "    <tr>\n",
       "      <th>0</th>\n",
       "      <td>alone</td>\n",
       "      <td>0.303538</td>\n",
       "    </tr>\n",
       "    <tr>\n",
       "      <th>1</th>\n",
       "      <td>large</td>\n",
       "      <td>0.160000</td>\n",
       "    </tr>\n",
       "    <tr>\n",
       "      <th>2</th>\n",
       "      <td>medium</td>\n",
       "      <td>0.162162</td>\n",
       "    </tr>\n",
       "    <tr>\n",
       "      <th>3</th>\n",
       "      <td>small</td>\n",
       "      <td>0.578767</td>\n",
       "    </tr>\n",
       "  </tbody>\n",
       "</table>\n",
       "</div>"
      ],
      "text/plain": [
       "  family_size_grouped  Survived\n",
       "0               alone  0.303538\n",
       "1               large  0.160000\n",
       "2              medium  0.162162\n",
       "3               small  0.578767"
      ]
     },
     "execution_count": 16,
     "metadata": {},
     "output_type": "execute_result"
    }
   ],
   "source": [
    "train_data.groupby(['family_size_grouped'], as_index=False)['Survived'].mean()"
   ]
  },
  {
   "cell_type": "code",
   "execution_count": 17,
   "id": "a635af26",
   "metadata": {
    "execution": {
     "iopub.execute_input": "2024-07-06T14:54:40.079943Z",
     "iopub.status.busy": "2024-07-06T14:54:40.079545Z",
     "iopub.status.idle": "2024-07-06T14:54:40.091610Z",
     "shell.execute_reply": "2024-07-06T14:54:40.090630Z"
    },
    "papermill": {
     "duration": 0.044969,
     "end_time": "2024-07-06T14:54:40.093762",
     "exception": false,
     "start_time": "2024-07-06T14:54:40.048793",
     "status": "completed"
    },
    "tags": []
   },
   "outputs": [
    {
     "data": {
      "text/html": [
       "<div>\n",
       "<style scoped>\n",
       "    .dataframe tbody tr th:only-of-type {\n",
       "        vertical-align: middle;\n",
       "    }\n",
       "\n",
       "    .dataframe tbody tr th {\n",
       "        vertical-align: top;\n",
       "    }\n",
       "\n",
       "    .dataframe thead th {\n",
       "        text-align: right;\n",
       "    }\n",
       "</style>\n",
       "<table border=\"1\" class=\"dataframe\">\n",
       "  <thead>\n",
       "    <tr style=\"text-align: right;\">\n",
       "      <th></th>\n",
       "      <th>Embarked</th>\n",
       "      <th>Survived</th>\n",
       "    </tr>\n",
       "  </thead>\n",
       "  <tbody>\n",
       "    <tr>\n",
       "      <th>0</th>\n",
       "      <td>C</td>\n",
       "      <td>0.553571</td>\n",
       "    </tr>\n",
       "    <tr>\n",
       "      <th>1</th>\n",
       "      <td>Q</td>\n",
       "      <td>0.389610</td>\n",
       "    </tr>\n",
       "    <tr>\n",
       "      <th>2</th>\n",
       "      <td>S</td>\n",
       "      <td>0.336957</td>\n",
       "    </tr>\n",
       "  </tbody>\n",
       "</table>\n",
       "</div>"
      ],
      "text/plain": [
       "  Embarked  Survived\n",
       "0        C  0.553571\n",
       "1        Q  0.389610\n",
       "2        S  0.336957"
      ]
     },
     "execution_count": 17,
     "metadata": {},
     "output_type": "execute_result"
    }
   ],
   "source": [
    "train_data.groupby(['Embarked'], as_index=False)['Survived'].mean()"
   ]
  },
  {
   "cell_type": "markdown",
   "id": "7adce960",
   "metadata": {
    "papermill": {
     "duration": 0.028854,
     "end_time": "2024-07-06T14:54:40.151894",
     "exception": false,
     "start_time": "2024-07-06T14:54:40.123040",
     "status": "completed"
    },
    "tags": []
   },
   "source": [
    "maybe 'C' was an expensive city"
   ]
  },
  {
   "cell_type": "code",
   "execution_count": 18,
   "id": "b94992fa",
   "metadata": {
    "execution": {
     "iopub.execute_input": "2024-07-06T14:54:40.212538Z",
     "iopub.status.busy": "2024-07-06T14:54:40.211774Z",
     "iopub.status.idle": "2024-07-06T14:54:40.971071Z",
     "shell.execute_reply": "2024-07-06T14:54:40.969764Z"
    },
    "papermill": {
     "duration": 0.79234,
     "end_time": "2024-07-06T14:54:40.973430",
     "exception": false,
     "start_time": "2024-07-06T14:54:40.181090",
     "status": "completed"
    },
    "tags": []
   },
   "outputs": [
    {
     "name": "stderr",
     "output_type": "stream",
     "text": [
      "/opt/conda/lib/python3.10/site-packages/seaborn/_oldcore.py:1119: FutureWarning: use_inf_as_na option is deprecated and will be removed in a future version. Convert inf values to NaN before operating instead.\n",
      "  with pd.option_context('mode.use_inf_as_na', True):\n",
      "/opt/conda/lib/python3.10/site-packages/seaborn/_oldcore.py:1075: FutureWarning: When grouping with a length-1 list-like, you will need to pass a length-1 tuple to get_group in a future version of pandas. Pass `(name,)` instead of `name` to silence this warning.\n",
      "  data_subset = grouped_data.get_group(pd_key)\n",
      "/opt/conda/lib/python3.10/site-packages/seaborn/_oldcore.py:1075: FutureWarning: When grouping with a length-1 list-like, you will need to pass a length-1 tuple to get_group in a future version of pandas. Pass `(name,)` instead of `name` to silence this warning.\n",
      "  data_subset = grouped_data.get_group(pd_key)\n",
      "/opt/conda/lib/python3.10/site-packages/seaborn/_oldcore.py:1075: FutureWarning: When grouping with a length-1 list-like, you will need to pass a length-1 tuple to get_group in a future version of pandas. Pass `(name,)` instead of `name` to silence this warning.\n",
      "  data_subset = grouped_data.get_group(pd_key)\n"
     ]
    },
    {
     "data": {
      "text/plain": [
       "<seaborn.axisgrid.FacetGrid at 0x7a2f4483c8b0>"
      ]
     },
     "execution_count": 18,
     "metadata": {},
     "output_type": "execute_result"
    },
    {
     "data": {
      "image/png": "[encoded data removed]",
      "text/plain": [
       "<Figure size 1000x500 with 2 Axes>"
      ]
     },
     "metadata": {},
     "output_type": "display_data"
    }
   ],
   "source": [
    "sns.displot(train_data, x='Age', col='Survived', binwidth=10, height=5)"
   ]
  },
  {
   "cell_type": "code",
   "execution_count": 19,
   "id": "e3c5c792",
   "metadata": {
    "execution": {
     "iopub.execute_input": "2024-07-06T14:54:41.035658Z",
     "iopub.status.busy": "2024-07-06T14:54:41.035255Z",
     "iopub.status.idle": "2024-07-06T14:54:41.052837Z",
     "shell.execute_reply": "2024-07-06T14:54:41.051905Z"
    },
    "papermill": {
     "duration": 0.051772,
     "end_time": "2024-07-06T14:54:41.055187",
     "exception": false,
     "start_time": "2024-07-06T14:54:41.003415",
     "status": "completed"
    },
    "tags": []
   },
   "outputs": [],
   "source": [
    "train_data['age_cut'] = pd.qcut(train_data['Age'], 8)\n",
    "test_data['age_cut'] = pd.qcut(test_data['Age'], 8)"
   ]
  },
  {
   "cell_type": "code",
   "execution_count": 20,
   "id": "c0176d4e",
   "metadata": {
    "execution": {
     "iopub.execute_input": "2024-07-06T14:54:41.118025Z",
     "iopub.status.busy": "2024-07-06T14:54:41.117111Z",
     "iopub.status.idle": "2024-07-06T14:54:41.126932Z",
     "shell.execute_reply": "2024-07-06T14:54:41.125977Z"
    },
    "papermill": {
     "duration": 0.042995,
     "end_time": "2024-07-06T14:54:41.129000",
     "exception": false,
     "start_time": "2024-07-06T14:54:41.086005",
     "status": "completed"
    },
    "tags": []
   },
   "outputs": [
    {
     "data": {
      "text/plain": [
       "0    (20.125, 24.0]\n",
       "1    (32.312, 38.0]\n",
       "2      (24.0, 28.0]\n",
       "3    (32.312, 38.0]\n",
       "4    (32.312, 38.0]\n",
       "5               NaN\n",
       "6      (47.0, 80.0]\n",
       "7     (0.419, 16.0]\n",
       "8      (24.0, 28.0]\n",
       "9     (0.419, 16.0]\n",
       "Name: age_cut, dtype: category\n",
       "Categories (8, interval[float64, right]): [(0.419, 16.0] < (16.0, 20.125] < (20.125, 24.0] < (24.0, 28.0] < (28.0, 32.312] < (32.312, 38.0] < (38.0, 47.0] < (47.0, 80.0]]"
      ]
     },
     "execution_count": 20,
     "metadata": {},
     "output_type": "execute_result"
    }
   ],
   "source": [
    "train_data['age_cut'].head(10)"
   ]
  },
  {
   "cell_type": "code",
   "execution_count": 21,
   "id": "a9f0ea8c",
   "metadata": {
    "execution": {
     "iopub.execute_input": "2024-07-06T14:54:41.191165Z",
     "iopub.status.busy": "2024-07-06T14:54:41.190780Z",
     "iopub.status.idle": "2024-07-06T14:54:41.204609Z",
     "shell.execute_reply": "2024-07-06T14:54:41.203573Z"
    },
    "papermill": {
     "duration": 0.047751,
     "end_time": "2024-07-06T14:54:41.206963",
     "exception": false,
     "start_time": "2024-07-06T14:54:41.159212",
     "status": "completed"
    },
    "tags": []
   },
   "outputs": [
    {
     "name": "stderr",
     "output_type": "stream",
     "text": [
      "/tmp/ipykernel_18/3927429718.py:1: FutureWarning: The default of observed=False is deprecated and will be changed to True in a future version of pandas. Pass observed=False to retain current behavior or observed=True to adopt the future default and silence this warning.\n",
      "  train_data.groupby(['age_cut'], as_index=False)['Survived'].mean()\n"
     ]
    },
    {
     "data": {
      "text/html": [
       "<div>\n",
       "<style scoped>\n",
       "    .dataframe tbody tr th:only-of-type {\n",
       "        vertical-align: middle;\n",
       "    }\n",
       "\n",
       "    .dataframe tbody tr th {\n",
       "        vertical-align: top;\n",
       "    }\n",
       "\n",
       "    .dataframe thead th {\n",
       "        text-align: right;\n",
       "    }\n",
       "</style>\n",
       "<table border=\"1\" class=\"dataframe\">\n",
       "  <thead>\n",
       "    <tr style=\"text-align: right;\">\n",
       "      <th></th>\n",
       "      <th>age_cut</th>\n",
       "      <th>Survived</th>\n",
       "    </tr>\n",
       "  </thead>\n",
       "  <tbody>\n",
       "    <tr>\n",
       "      <th>0</th>\n",
       "      <td>(0.419, 16.0]</td>\n",
       "      <td>0.550000</td>\n",
       "    </tr>\n",
       "    <tr>\n",
       "      <th>1</th>\n",
       "      <td>(16.0, 20.125]</td>\n",
       "      <td>0.341772</td>\n",
       "    </tr>\n",
       "    <tr>\n",
       "      <th>2</th>\n",
       "      <td>(20.125, 24.0]</td>\n",
       "      <td>0.367347</td>\n",
       "    </tr>\n",
       "    <tr>\n",
       "      <th>3</th>\n",
       "      <td>(24.0, 28.0]</td>\n",
       "      <td>0.352941</td>\n",
       "    </tr>\n",
       "    <tr>\n",
       "      <th>4</th>\n",
       "      <td>(28.0, 32.312]</td>\n",
       "      <td>0.416667</td>\n",
       "    </tr>\n",
       "    <tr>\n",
       "      <th>5</th>\n",
       "      <td>(32.312, 38.0]</td>\n",
       "      <td>0.450549</td>\n",
       "    </tr>\n",
       "    <tr>\n",
       "      <th>6</th>\n",
       "      <td>(38.0, 47.0]</td>\n",
       "      <td>0.329545</td>\n",
       "    </tr>\n",
       "    <tr>\n",
       "      <th>7</th>\n",
       "      <td>(47.0, 80.0]</td>\n",
       "      <td>0.415730</td>\n",
       "    </tr>\n",
       "  </tbody>\n",
       "</table>\n",
       "</div>"
      ],
      "text/plain": [
       "          age_cut  Survived\n",
       "0   (0.419, 16.0]  0.550000\n",
       "1  (16.0, 20.125]  0.341772\n",
       "2  (20.125, 24.0]  0.367347\n",
       "3    (24.0, 28.0]  0.352941\n",
       "4  (28.0, 32.312]  0.416667\n",
       "5  (32.312, 38.0]  0.450549\n",
       "6    (38.0, 47.0]  0.329545\n",
       "7    (47.0, 80.0]  0.415730"
      ]
     },
     "execution_count": 21,
     "metadata": {},
     "output_type": "execute_result"
    }
   ],
   "source": [
    "train_data.groupby(['age_cut'], as_index=False)['Survived'].mean()"
   ]
  },
  {
   "cell_type": "code",
   "execution_count": 22,
   "id": "65ba99ed",
   "metadata": {
    "execution": {
     "iopub.execute_input": "2024-07-06T14:54:41.268222Z",
     "iopub.status.busy": "2024-07-06T14:54:41.267831Z",
     "iopub.status.idle": "2024-07-06T14:54:41.298757Z",
     "shell.execute_reply": "2024-07-06T14:54:41.297800Z"
    },
    "papermill": {
     "duration": 0.064251,
     "end_time": "2024-07-06T14:54:41.300912",
     "exception": false,
     "start_time": "2024-07-06T14:54:41.236661",
     "status": "completed"
    },
    "tags": []
   },
   "outputs": [
    {
     "data": {
      "text/plain": [
       "Series([], Name: Age, dtype: float64)"
      ]
     },
     "execution_count": 22,
     "metadata": {},
     "output_type": "execute_result"
    }
   ],
   "source": [
    "train_data.loc[train_data['Age']<= 16, 'Age']= 0\n",
    "train_data.loc[(train_data['Age']> 16) & (train_data['Age']<= 20.125), 'Age']= 1\n",
    "train_data.loc[(train_data['Age']> 20.125) & (train_data['Age']<= 24), 'Age']= 2\n",
    "train_data.loc[(train_data['Age']> 24) & (train_data['Age']<= 28), 'Age']= 3\n",
    "train_data.loc[(train_data['Age']> 28) & (train_data['Age']<= 32.312), 'Age']= 4\n",
    "train_data.loc[(train_data['Age']> 32.312) & (train_data['Age']<= 38), 'Age']= 5\n",
    "train_data.loc[(train_data['Age']> 38) & (train_data['Age']<= 47), 'Age']= 6\n",
    "train_data.loc[(train_data['Age']> 47) & (train_data['Age']<= 80), 'Age']= 7\n",
    "train_data.loc[train_data['Age']> 80, 'Age']\n",
    "\n",
    "\n",
    "test_data.loc[test_data['Age']<= 16, 'Age']= 0\n",
    "test_data.loc[(test_data['Age']> 16) & (test_data['Age']<= 20.125), 'Age']= 1\n",
    "test_data.loc[(test_data['Age']> 20.125) & (test_data['Age']<= 24), 'Age']= 2\n",
    "test_data.loc[(test_data['Age']> 24) & (test_data['Age']<= 28), 'Age']= 3\n",
    "test_data.loc[(test_data['Age']> 28) & (test_data['Age']<= 32.312), 'Age']= 4\n",
    "test_data.loc[(test_data['Age']> 32.312) & (test_data['Age']<= 38), 'Age']= 5\n",
    "test_data.loc[(test_data['Age']> 38) & (test_data['Age']<= 47), 'Age']= 6\n",
    "test_data.loc[(test_data['Age']> 47) & (test_data['Age']<= 80), 'Age']= 7\n",
    "test_data.loc[test_data['Age']> 80, 'Age']\n",
    "\n",
    "\n",
    "\n",
    "\n"
   ]
  },
  {
   "cell_type": "code",
   "execution_count": 23,
   "id": "81e42244",
   "metadata": {
    "execution": {
     "iopub.execute_input": "2024-07-06T14:54:41.363640Z",
     "iopub.status.busy": "2024-07-06T14:54:41.362691Z",
     "iopub.status.idle": "2024-07-06T14:54:41.380091Z",
     "shell.execute_reply": "2024-07-06T14:54:41.379126Z"
    },
    "papermill": {
     "duration": 0.051192,
     "end_time": "2024-07-06T14:54:41.382415",
     "exception": false,
     "start_time": "2024-07-06T14:54:41.331223",
     "status": "completed"
    },
    "tags": []
   },
   "outputs": [
    {
     "data": {
      "text/html": [
       "<div>\n",
       "<style scoped>\n",
       "    .dataframe tbody tr th:only-of-type {\n",
       "        vertical-align: middle;\n",
       "    }\n",
       "\n",
       "    .dataframe tbody tr th {\n",
       "        vertical-align: top;\n",
       "    }\n",
       "\n",
       "    .dataframe thead th {\n",
       "        text-align: right;\n",
       "    }\n",
       "</style>\n",
       "<table border=\"1\" class=\"dataframe\">\n",
       "  <thead>\n",
       "    <tr style=\"text-align: right;\">\n",
       "      <th></th>\n",
       "      <th>PassengerId</th>\n",
       "      <th>Survived</th>\n",
       "      <th>Pclass</th>\n",
       "      <th>Name</th>\n",
       "      <th>Sex</th>\n",
       "      <th>Age</th>\n",
       "      <th>SibSp</th>\n",
       "      <th>Parch</th>\n",
       "      <th>Ticket</th>\n",
       "      <th>Fare</th>\n",
       "      <th>Cabin</th>\n",
       "      <th>Embarked</th>\n",
       "      <th>family_size</th>\n",
       "      <th>family_size_grouped</th>\n",
       "      <th>age_cut</th>\n",
       "    </tr>\n",
       "  </thead>\n",
       "  <tbody>\n",
       "    <tr>\n",
       "      <th>0</th>\n",
       "      <td>1</td>\n",
       "      <td>0</td>\n",
       "      <td>3</td>\n",
       "      <td>Braund, Mr. Owen Harris</td>\n",
       "      <td>male</td>\n",
       "      <td>2.0</td>\n",
       "      <td>1</td>\n",
       "      <td>0</td>\n",
       "      <td>A/5 21171</td>\n",
       "      <td>7.2500</td>\n",
       "      <td>NaN</td>\n",
       "      <td>S</td>\n",
       "      <td>2</td>\n",
       "      <td>small</td>\n",
       "      <td>(20.125, 24.0]</td>\n",
       "    </tr>\n",
       "    <tr>\n",
       "      <th>1</th>\n",
       "      <td>2</td>\n",
       "      <td>1</td>\n",
       "      <td>1</td>\n",
       "      <td>Cumings, Mrs. John Bradley (Florence Briggs Th...</td>\n",
       "      <td>female</td>\n",
       "      <td>5.0</td>\n",
       "      <td>1</td>\n",
       "      <td>0</td>\n",
       "      <td>PC 17599</td>\n",
       "      <td>71.2833</td>\n",
       "      <td>C85</td>\n",
       "      <td>C</td>\n",
       "      <td>2</td>\n",
       "      <td>small</td>\n",
       "      <td>(32.312, 38.0]</td>\n",
       "    </tr>\n",
       "    <tr>\n",
       "      <th>2</th>\n",
       "      <td>3</td>\n",
       "      <td>1</td>\n",
       "      <td>3</td>\n",
       "      <td>Heikkinen, Miss. Laina</td>\n",
       "      <td>female</td>\n",
       "      <td>3.0</td>\n",
       "      <td>0</td>\n",
       "      <td>0</td>\n",
       "      <td>STON/O2. 3101282</td>\n",
       "      <td>7.9250</td>\n",
       "      <td>NaN</td>\n",
       "      <td>S</td>\n",
       "      <td>1</td>\n",
       "      <td>alone</td>\n",
       "      <td>(24.0, 28.0]</td>\n",
       "    </tr>\n",
       "    <tr>\n",
       "      <th>3</th>\n",
       "      <td>4</td>\n",
       "      <td>1</td>\n",
       "      <td>1</td>\n",
       "      <td>Futrelle, Mrs. Jacques Heath (Lily May Peel)</td>\n",
       "      <td>female</td>\n",
       "      <td>5.0</td>\n",
       "      <td>1</td>\n",
       "      <td>0</td>\n",
       "      <td>113803</td>\n",
       "      <td>53.1000</td>\n",
       "      <td>C123</td>\n",
       "      <td>S</td>\n",
       "      <td>2</td>\n",
       "      <td>small</td>\n",
       "      <td>(32.312, 38.0]</td>\n",
       "    </tr>\n",
       "    <tr>\n",
       "      <th>4</th>\n",
       "      <td>5</td>\n",
       "      <td>0</td>\n",
       "      <td>3</td>\n",
       "      <td>Allen, Mr. William Henry</td>\n",
       "      <td>male</td>\n",
       "      <td>5.0</td>\n",
       "      <td>0</td>\n",
       "      <td>0</td>\n",
       "      <td>373450</td>\n",
       "      <td>8.0500</td>\n",
       "      <td>NaN</td>\n",
       "      <td>S</td>\n",
       "      <td>1</td>\n",
       "      <td>alone</td>\n",
       "      <td>(32.312, 38.0]</td>\n",
       "    </tr>\n",
       "  </tbody>\n",
       "</table>\n",
       "</div>"
      ],
      "text/plain": [
       "   PassengerId  Survived  Pclass  \\\n",
       "0            1         0       3   \n",
       "1            2         1       1   \n",
       "2            3         1       3   \n",
       "3            4         1       1   \n",
       "4            5         0       3   \n",
       "\n",
       "                                                Name     Sex  Age  SibSp  \\\n",
       "0                            Braund, Mr. Owen Harris    male  2.0      1   \n",
       "1  Cumings, Mrs. John Bradley (Florence Briggs Th...  female  5.0      1   \n",
       "2                             Heikkinen, Miss. Laina  female  3.0      0   \n",
       "3       Futrelle, Mrs. Jacques Heath (Lily May Peel)  female  5.0      1   \n",
       "4                           Allen, Mr. William Henry    male  5.0      0   \n",
       "\n",
       "   Parch            Ticket     Fare Cabin Embarked  family_size  \\\n",
       "0      0         A/5 21171   7.2500   NaN        S            2   \n",
       "1      0          PC 17599  71.2833   C85        C            2   \n",
       "2      0  STON/O2. 3101282   7.9250   NaN        S            1   \n",
       "3      0            113803  53.1000  C123        S            2   \n",
       "4      0            373450   8.0500   NaN        S            1   \n",
       "\n",
       "  family_size_grouped         age_cut  \n",
       "0               small  (20.125, 24.0]  \n",
       "1               small  (32.312, 38.0]  \n",
       "2               alone    (24.0, 28.0]  \n",
       "3               small  (32.312, 38.0]  \n",
       "4               alone  (32.312, 38.0]  "
      ]
     },
     "execution_count": 23,
     "metadata": {},
     "output_type": "execute_result"
    }
   ],
   "source": [
    "train_data.head()"
   ]
  },
  {
   "cell_type": "code",
   "execution_count": 24,
   "id": "1f2d353d",
   "metadata": {
    "execution": {
     "iopub.execute_input": "2024-07-06T14:54:41.445634Z",
     "iopub.status.busy": "2024-07-06T14:54:41.444714Z",
     "iopub.status.idle": "2024-07-06T14:54:42.091715Z",
     "shell.execute_reply": "2024-07-06T14:54:42.090719Z"
    },
    "papermill": {
     "duration": 0.68122,
     "end_time": "2024-07-06T14:54:42.094087",
     "exception": false,
     "start_time": "2024-07-06T14:54:41.412867",
     "status": "completed"
    },
    "tags": []
   },
   "outputs": [
    {
     "name": "stderr",
     "output_type": "stream",
     "text": [
      "/opt/conda/lib/python3.10/site-packages/seaborn/_oldcore.py:1119: FutureWarning: use_inf_as_na option is deprecated and will be removed in a future version. Convert inf values to NaN before operating instead.\n",
      "  with pd.option_context('mode.use_inf_as_na', True):\n",
      "/opt/conda/lib/python3.10/site-packages/seaborn/_oldcore.py:1075: FutureWarning: When grouping with a length-1 list-like, you will need to pass a length-1 tuple to get_group in a future version of pandas. Pass `(name,)` instead of `name` to silence this warning.\n",
      "  data_subset = grouped_data.get_group(pd_key)\n",
      "/opt/conda/lib/python3.10/site-packages/seaborn/_oldcore.py:1075: FutureWarning: When grouping with a length-1 list-like, you will need to pass a length-1 tuple to get_group in a future version of pandas. Pass `(name,)` instead of `name` to silence this warning.\n",
      "  data_subset = grouped_data.get_group(pd_key)\n",
      "/opt/conda/lib/python3.10/site-packages/seaborn/_oldcore.py:1075: FutureWarning: When grouping with a length-1 list-like, you will need to pass a length-1 tuple to get_group in a future version of pandas. Pass `(name,)` instead of `name` to silence this warning.\n",
      "  data_subset = grouped_data.get_group(pd_key)\n"
     ]
    },
    {
     "data": {
      "text/plain": [
       "<seaborn.axisgrid.FacetGrid at 0x7a2f44751300>"
      ]
     },
     "execution_count": 24,
     "metadata": {},
     "output_type": "execute_result"
    },
    {
     "data": {
      "image/png": "[encoded data removed]",
      "text/plain": [
       "<Figure size 1000x500 with 2 Axes>"
      ]
     },
     "metadata": {},
     "output_type": "display_data"
    }
   ],
   "source": [
    "sns.displot(train_data, x='Fare', col='Survived', binwidth=80, height=5)"
   ]
  },
  {
   "cell_type": "code",
   "execution_count": 25,
   "id": "20b98e83",
   "metadata": {
    "execution": {
     "iopub.execute_input": "2024-07-06T14:54:42.157568Z",
     "iopub.status.busy": "2024-07-06T14:54:42.157166Z",
     "iopub.status.idle": "2024-07-06T14:54:42.169867Z",
     "shell.execute_reply": "2024-07-06T14:54:42.168930Z"
    },
    "papermill": {
     "duration": 0.047267,
     "end_time": "2024-07-06T14:54:42.172318",
     "exception": false,
     "start_time": "2024-07-06T14:54:42.125051",
     "status": "completed"
    },
    "tags": []
   },
   "outputs": [],
   "source": [
    "train_data['fare_cut'] = pd.qcut(train_data['Fare'], 6)\n",
    "test_data['fare_cut'] = pd.qcut(test_data['Fare'], 6)"
   ]
  },
  {
   "cell_type": "code",
   "execution_count": 26,
   "id": "170afc4f",
   "metadata": {
    "execution": {
     "iopub.execute_input": "2024-07-06T14:54:42.237953Z",
     "iopub.status.busy": "2024-07-06T14:54:42.236788Z",
     "iopub.status.idle": "2024-07-06T14:54:42.251155Z",
     "shell.execute_reply": "2024-07-06T14:54:42.249926Z"
    },
    "papermill": {
     "duration": 0.04904,
     "end_time": "2024-07-06T14:54:42.253264",
     "exception": false,
     "start_time": "2024-07-06T14:54:42.204224",
     "status": "completed"
    },
    "tags": []
   },
   "outputs": [
    {
     "name": "stderr",
     "output_type": "stream",
     "text": [
      "/tmp/ipykernel_18/833314436.py:1: FutureWarning: The default of observed=False is deprecated and will be changed to True in a future version of pandas. Pass observed=False to retain current behavior or observed=True to adopt the future default and silence this warning.\n",
      "  train_data.groupby(['fare_cut'], as_index=False)['Survived'].mean()\n"
     ]
    },
    {
     "data": {
      "text/html": [
       "<div>\n",
       "<style scoped>\n",
       "    .dataframe tbody tr th:only-of-type {\n",
       "        vertical-align: middle;\n",
       "    }\n",
       "\n",
       "    .dataframe tbody tr th {\n",
       "        vertical-align: top;\n",
       "    }\n",
       "\n",
       "    .dataframe thead th {\n",
       "        text-align: right;\n",
       "    }\n",
       "</style>\n",
       "<table border=\"1\" class=\"dataframe\">\n",
       "  <thead>\n",
       "    <tr style=\"text-align: right;\">\n",
       "      <th></th>\n",
       "      <th>fare_cut</th>\n",
       "      <th>Survived</th>\n",
       "    </tr>\n",
       "  </thead>\n",
       "  <tbody>\n",
       "    <tr>\n",
       "      <th>0</th>\n",
       "      <td>(-0.001, 7.775]</td>\n",
       "      <td>0.205128</td>\n",
       "    </tr>\n",
       "    <tr>\n",
       "      <th>1</th>\n",
       "      <td>(7.775, 8.662]</td>\n",
       "      <td>0.190789</td>\n",
       "    </tr>\n",
       "    <tr>\n",
       "      <th>2</th>\n",
       "      <td>(8.662, 14.454]</td>\n",
       "      <td>0.366906</td>\n",
       "    </tr>\n",
       "    <tr>\n",
       "      <th>3</th>\n",
       "      <td>(14.454, 26.0]</td>\n",
       "      <td>0.436242</td>\n",
       "    </tr>\n",
       "    <tr>\n",
       "      <th>4</th>\n",
       "      <td>(26.0, 52.369]</td>\n",
       "      <td>0.417808</td>\n",
       "    </tr>\n",
       "    <tr>\n",
       "      <th>5</th>\n",
       "      <td>(52.369, 512.329]</td>\n",
       "      <td>0.697987</td>\n",
       "    </tr>\n",
       "  </tbody>\n",
       "</table>\n",
       "</div>"
      ],
      "text/plain": [
       "            fare_cut  Survived\n",
       "0    (-0.001, 7.775]  0.205128\n",
       "1     (7.775, 8.662]  0.190789\n",
       "2    (8.662, 14.454]  0.366906\n",
       "3     (14.454, 26.0]  0.436242\n",
       "4     (26.0, 52.369]  0.417808\n",
       "5  (52.369, 512.329]  0.697987"
      ]
     },
     "execution_count": 26,
     "metadata": {},
     "output_type": "execute_result"
    }
   ],
   "source": [
    "train_data.groupby(['fare_cut'], as_index=False)['Survived'].mean()"
   ]
  },
  {
   "cell_type": "code",
   "execution_count": 27,
   "id": "ffe8d385",
   "metadata": {
    "execution": {
     "iopub.execute_input": "2024-07-06T14:54:42.316892Z",
     "iopub.status.busy": "2024-07-06T14:54:42.316466Z",
     "iopub.status.idle": "2024-07-06T14:54:42.342940Z",
     "shell.execute_reply": "2024-07-06T14:54:42.341933Z"
    },
    "papermill": {
     "duration": 0.060937,
     "end_time": "2024-07-06T14:54:42.345094",
     "exception": false,
     "start_time": "2024-07-06T14:54:42.284157",
     "status": "completed"
    },
    "tags": []
   },
   "outputs": [
    {
     "data": {
      "text/plain": [
       "343    512.3292\n",
       "Name: Fare, dtype: float64"
      ]
     },
     "execution_count": 27,
     "metadata": {},
     "output_type": "execute_result"
    }
   ],
   "source": [
    "train_data.loc[train_data['Fare']<= 7.775, 'Fare']= 0\n",
    "train_data.loc[(train_data['Fare']> 7.775) & (train_data['Fare']<= 8.662), 'Fare']= 1\n",
    "train_data.loc[(train_data['Fare']> 8.662) & (train_data['Fare']<= 14.454), 'Fare']= 2\n",
    "train_data.loc[(train_data['Fare']> 14.454) & (train_data['Fare']<= 26), 'Fare']= 3\n",
    "train_data.loc[(train_data['Fare']> 26) & (train_data['Fare']<= 52.369), 'Fare']= 4\n",
    "train_data.loc[(train_data['Fare']> 52.369) & (train_data['Fare']<= 512.329), 'Fare']= 5\n",
    "train_data.loc[train_data['Fare']> 512.329, 'Fare']\n",
    "\n",
    "test_data.loc[test_data['Fare']<= 7.775, 'Fare']= 0\n",
    "test_data.loc[(test_data['Fare']> 7.775) & (test_data['Fare']<= 8.662), 'Fare']= 1\n",
    "test_data.loc[(test_data['Fare']> 8.662) & (test_data['Fare']<= 14.454), 'Fare']= 2\n",
    "test_data.loc[(test_data['Fare']> 14.454) & (test_data['Fare']<= 26), 'Fare']= 3\n",
    "test_data.loc[(test_data['Fare']> 26) & (test_data['Fare']<= 52.369), 'Fare']= 4\n",
    "test_data.loc[(test_data['Fare']> 52.369) & (test_data['Fare']<= 512.329), 'Fare']= 5\n",
    "test_data.loc[test_data['Fare']> 512.329, 'Fare']"
   ]
  },
  {
   "cell_type": "code",
   "execution_count": 28,
   "id": "9efa048a",
   "metadata": {
    "execution": {
     "iopub.execute_input": "2024-07-06T14:54:42.409238Z",
     "iopub.status.busy": "2024-07-06T14:54:42.408837Z",
     "iopub.status.idle": "2024-07-06T14:54:42.418022Z",
     "shell.execute_reply": "2024-07-06T14:54:42.416222Z"
    },
    "papermill": {
     "duration": 0.043911,
     "end_time": "2024-07-06T14:54:42.420300",
     "exception": false,
     "start_time": "2024-07-06T14:54:42.376389",
     "status": "completed"
    },
    "tags": []
   },
   "outputs": [
    {
     "data": {
      "text/plain": [
       "0                                Braund, Mr. Owen Harris\n",
       "1      Cumings, Mrs. John Bradley (Florence Briggs Th...\n",
       "2                                 Heikkinen, Miss. Laina\n",
       "3           Futrelle, Mrs. Jacques Heath (Lily May Peel)\n",
       "4                               Allen, Mr. William Henry\n",
       "                             ...                        \n",
       "886                                Montvila, Rev. Juozas\n",
       "887                         Graham, Miss. Margaret Edith\n",
       "888             Johnston, Miss. Catherine Helen \"Carrie\"\n",
       "889                                Behr, Mr. Karl Howell\n",
       "890                                  Dooley, Mr. Patrick\n",
       "Name: Name, Length: 891, dtype: object"
      ]
     },
     "execution_count": 28,
     "metadata": {},
     "output_type": "execute_result"
    }
   ],
   "source": [
    "train_data['Name']"
   ]
  },
  {
   "cell_type": "code",
   "execution_count": 29,
   "id": "39f7ca8e",
   "metadata": {
    "execution": {
     "iopub.execute_input": "2024-07-06T14:54:42.495689Z",
     "iopub.status.busy": "2024-07-06T14:54:42.494731Z",
     "iopub.status.idle": "2024-07-06T14:54:42.507657Z",
     "shell.execute_reply": "2024-07-06T14:54:42.506590Z"
    },
    "papermill": {
     "duration": 0.051505,
     "end_time": "2024-07-06T14:54:42.510031",
     "exception": false,
     "start_time": "2024-07-06T14:54:42.458526",
     "status": "completed"
    },
    "tags": []
   },
   "outputs": [
    {
     "data": {
      "text/html": [
       "<div>\n",
       "<style scoped>\n",
       "    .dataframe tbody tr th:only-of-type {\n",
       "        vertical-align: middle;\n",
       "    }\n",
       "\n",
       "    .dataframe tbody tr th {\n",
       "        vertical-align: top;\n",
       "    }\n",
       "\n",
       "    .dataframe thead th {\n",
       "        text-align: right;\n",
       "    }\n",
       "</style>\n",
       "<table border=\"1\" class=\"dataframe\">\n",
       "  <thead>\n",
       "    <tr style=\"text-align: right;\">\n",
       "      <th></th>\n",
       "      <th>0</th>\n",
       "      <th>1</th>\n",
       "    </tr>\n",
       "  </thead>\n",
       "  <tbody>\n",
       "    <tr>\n",
       "      <th>0</th>\n",
       "      <td>Braund</td>\n",
       "      <td>Mr. Owen Harris</td>\n",
       "    </tr>\n",
       "    <tr>\n",
       "      <th>1</th>\n",
       "      <td>Cumings</td>\n",
       "      <td>Mrs. John Bradley (Florence Briggs Thayer)</td>\n",
       "    </tr>\n",
       "    <tr>\n",
       "      <th>2</th>\n",
       "      <td>Heikkinen</td>\n",
       "      <td>Miss. Laina</td>\n",
       "    </tr>\n",
       "    <tr>\n",
       "      <th>3</th>\n",
       "      <td>Futrelle</td>\n",
       "      <td>Mrs. Jacques Heath (Lily May Peel)</td>\n",
       "    </tr>\n",
       "    <tr>\n",
       "      <th>4</th>\n",
       "      <td>Allen</td>\n",
       "      <td>Mr. William Henry</td>\n",
       "    </tr>\n",
       "    <tr>\n",
       "      <th>...</th>\n",
       "      <td>...</td>\n",
       "      <td>...</td>\n",
       "    </tr>\n",
       "    <tr>\n",
       "      <th>886</th>\n",
       "      <td>Montvila</td>\n",
       "      <td>Rev. Juozas</td>\n",
       "    </tr>\n",
       "    <tr>\n",
       "      <th>887</th>\n",
       "      <td>Graham</td>\n",
       "      <td>Miss. Margaret Edith</td>\n",
       "    </tr>\n",
       "    <tr>\n",
       "      <th>888</th>\n",
       "      <td>Johnston</td>\n",
       "      <td>Miss. Catherine Helen \"Carrie\"</td>\n",
       "    </tr>\n",
       "    <tr>\n",
       "      <th>889</th>\n",
       "      <td>Behr</td>\n",
       "      <td>Mr. Karl Howell</td>\n",
       "    </tr>\n",
       "    <tr>\n",
       "      <th>890</th>\n",
       "      <td>Dooley</td>\n",
       "      <td>Mr. Patrick</td>\n",
       "    </tr>\n",
       "  </tbody>\n",
       "</table>\n",
       "<p>891 rows × 2 columns</p>\n",
       "</div>"
      ],
      "text/plain": [
       "             0                                            1\n",
       "0       Braund                              Mr. Owen Harris\n",
       "1      Cumings   Mrs. John Bradley (Florence Briggs Thayer)\n",
       "2    Heikkinen                                  Miss. Laina\n",
       "3     Futrelle           Mrs. Jacques Heath (Lily May Peel)\n",
       "4        Allen                            Mr. William Henry\n",
       "..         ...                                          ...\n",
       "886   Montvila                                  Rev. Juozas\n",
       "887     Graham                         Miss. Margaret Edith\n",
       "888   Johnston               Miss. Catherine Helen \"Carrie\"\n",
       "889       Behr                              Mr. Karl Howell\n",
       "890     Dooley                                  Mr. Patrick\n",
       "\n",
       "[891 rows x 2 columns]"
      ]
     },
     "execution_count": 29,
     "metadata": {},
     "output_type": "execute_result"
    }
   ],
   "source": [
    "train_data['Name'].str.split(pat=\",\", expand=True)"
   ]
  },
  {
   "cell_type": "code",
   "execution_count": 30,
   "id": "67b6eb11",
   "metadata": {
    "execution": {
     "iopub.execute_input": "2024-07-06T14:54:42.598353Z",
     "iopub.status.busy": "2024-07-06T14:54:42.597973Z",
     "iopub.status.idle": "2024-07-06T14:54:42.608124Z",
     "shell.execute_reply": "2024-07-06T14:54:42.607082Z"
    },
    "papermill": {
     "duration": 0.060973,
     "end_time": "2024-07-06T14:54:42.610428",
     "exception": false,
     "start_time": "2024-07-06T14:54:42.549455",
     "status": "completed"
    },
    "tags": []
   },
   "outputs": [
    {
     "data": {
      "text/plain": [
       "0                                  Mr. Owen Harris\n",
       "1       Mrs. John Bradley (Florence Briggs Thayer)\n",
       "2                                      Miss. Laina\n",
       "3               Mrs. Jacques Heath (Lily May Peel)\n",
       "4                                Mr. William Henry\n",
       "                          ...                     \n",
       "886                                    Rev. Juozas\n",
       "887                           Miss. Margaret Edith\n",
       "888                 Miss. Catherine Helen \"Carrie\"\n",
       "889                                Mr. Karl Howell\n",
       "890                                    Mr. Patrick\n",
       "Name: 1, Length: 891, dtype: object"
      ]
     },
     "execution_count": 30,
     "metadata": {},
     "output_type": "execute_result"
    }
   ],
   "source": [
    "train_data['Name'].str.split(pat=\",\", expand=True)[1]"
   ]
  },
  {
   "cell_type": "code",
   "execution_count": 31,
   "id": "ed58a6fa",
   "metadata": {
    "execution": {
     "iopub.execute_input": "2024-07-06T14:54:42.675956Z",
     "iopub.status.busy": "2024-07-06T14:54:42.675575Z",
     "iopub.status.idle": "2024-07-06T14:54:42.690788Z",
     "shell.execute_reply": "2024-07-06T14:54:42.689824Z"
    },
    "papermill": {
     "duration": 0.050681,
     "end_time": "2024-07-06T14:54:42.693017",
     "exception": false,
     "start_time": "2024-07-06T14:54:42.642336",
     "status": "completed"
    },
    "tags": []
   },
   "outputs": [
    {
     "data": {
      "text/html": [
       "<div>\n",
       "<style scoped>\n",
       "    .dataframe tbody tr th:only-of-type {\n",
       "        vertical-align: middle;\n",
       "    }\n",
       "\n",
       "    .dataframe tbody tr th {\n",
       "        vertical-align: top;\n",
       "    }\n",
       "\n",
       "    .dataframe thead th {\n",
       "        text-align: right;\n",
       "    }\n",
       "</style>\n",
       "<table border=\"1\" class=\"dataframe\">\n",
       "  <thead>\n",
       "    <tr style=\"text-align: right;\">\n",
       "      <th></th>\n",
       "      <th>0</th>\n",
       "      <th>1</th>\n",
       "      <th>2</th>\n",
       "    </tr>\n",
       "  </thead>\n",
       "  <tbody>\n",
       "    <tr>\n",
       "      <th>0</th>\n",
       "      <td>Mr</td>\n",
       "      <td>Owen Harris</td>\n",
       "      <td>None</td>\n",
       "    </tr>\n",
       "    <tr>\n",
       "      <th>1</th>\n",
       "      <td>Mrs</td>\n",
       "      <td>John Bradley (Florence Briggs Thayer)</td>\n",
       "      <td>None</td>\n",
       "    </tr>\n",
       "    <tr>\n",
       "      <th>2</th>\n",
       "      <td>Miss</td>\n",
       "      <td>Laina</td>\n",
       "      <td>None</td>\n",
       "    </tr>\n",
       "    <tr>\n",
       "      <th>3</th>\n",
       "      <td>Mrs</td>\n",
       "      <td>Jacques Heath (Lily May Peel)</td>\n",
       "      <td>None</td>\n",
       "    </tr>\n",
       "    <tr>\n",
       "      <th>4</th>\n",
       "      <td>Mr</td>\n",
       "      <td>William Henry</td>\n",
       "      <td>None</td>\n",
       "    </tr>\n",
       "    <tr>\n",
       "      <th>...</th>\n",
       "      <td>...</td>\n",
       "      <td>...</td>\n",
       "      <td>...</td>\n",
       "    </tr>\n",
       "    <tr>\n",
       "      <th>886</th>\n",
       "      <td>Rev</td>\n",
       "      <td>Juozas</td>\n",
       "      <td>None</td>\n",
       "    </tr>\n",
       "    <tr>\n",
       "      <th>887</th>\n",
       "      <td>Miss</td>\n",
       "      <td>Margaret Edith</td>\n",
       "      <td>None</td>\n",
       "    </tr>\n",
       "    <tr>\n",
       "      <th>888</th>\n",
       "      <td>Miss</td>\n",
       "      <td>Catherine Helen \"Carrie\"</td>\n",
       "      <td>None</td>\n",
       "    </tr>\n",
       "    <tr>\n",
       "      <th>889</th>\n",
       "      <td>Mr</td>\n",
       "      <td>Karl Howell</td>\n",
       "      <td>None</td>\n",
       "    </tr>\n",
       "    <tr>\n",
       "      <th>890</th>\n",
       "      <td>Mr</td>\n",
       "      <td>Patrick</td>\n",
       "      <td>None</td>\n",
       "    </tr>\n",
       "  </tbody>\n",
       "</table>\n",
       "<p>891 rows × 3 columns</p>\n",
       "</div>"
      ],
      "text/plain": [
       "         0                                       1     2\n",
       "0       Mr                             Owen Harris  None\n",
       "1      Mrs   John Bradley (Florence Briggs Thayer)  None\n",
       "2     Miss                                   Laina  None\n",
       "3      Mrs           Jacques Heath (Lily May Peel)  None\n",
       "4       Mr                           William Henry  None\n",
       "..     ...                                     ...   ...\n",
       "886    Rev                                  Juozas  None\n",
       "887   Miss                          Margaret Edith  None\n",
       "888   Miss                Catherine Helen \"Carrie\"  None\n",
       "889     Mr                             Karl Howell  None\n",
       "890     Mr                                 Patrick  None\n",
       "\n",
       "[891 rows x 3 columns]"
      ]
     },
     "execution_count": 31,
     "metadata": {},
     "output_type": "execute_result"
    }
   ],
   "source": [
    "train_data['Name'].str.split(pat=\",\", expand=True)[1].str.split(pat=\".\", expand=True)"
   ]
  },
  {
   "cell_type": "code",
   "execution_count": 32,
   "id": "629728e6",
   "metadata": {
    "execution": {
     "iopub.execute_input": "2024-07-06T14:54:42.768311Z",
     "iopub.status.busy": "2024-07-06T14:54:42.767851Z",
     "iopub.status.idle": "2024-07-06T14:54:42.783736Z",
     "shell.execute_reply": "2024-07-06T14:54:42.782724Z"
    },
    "papermill": {
     "duration": 0.059585,
     "end_time": "2024-07-06T14:54:42.786269",
     "exception": false,
     "start_time": "2024-07-06T14:54:42.726684",
     "status": "completed"
    },
    "tags": []
   },
   "outputs": [
    {
     "data": {
      "text/plain": [
       "0         Mr\n",
       "1        Mrs\n",
       "2       Miss\n",
       "3        Mrs\n",
       "4         Mr\n",
       "       ...  \n",
       "886      Rev\n",
       "887     Miss\n",
       "888     Miss\n",
       "889       Mr\n",
       "890       Mr\n",
       "Name: 0, Length: 891, dtype: object"
      ]
     },
     "execution_count": 32,
     "metadata": {},
     "output_type": "execute_result"
    }
   ],
   "source": [
    "train_data['Name'].str.split(pat=\",\", expand=True)[1].str.split(pat=\".\", expand=True)[0]"
   ]
  },
  {
   "cell_type": "code",
   "execution_count": 33,
   "id": "1eb15a8d",
   "metadata": {
    "execution": {
     "iopub.execute_input": "2024-07-06T14:54:42.861999Z",
     "iopub.status.busy": "2024-07-06T14:54:42.861583Z",
     "iopub.status.idle": "2024-07-06T14:54:42.875125Z",
     "shell.execute_reply": "2024-07-06T14:54:42.874123Z"
    },
    "papermill": {
     "duration": 0.049612,
     "end_time": "2024-07-06T14:54:42.877413",
     "exception": false,
     "start_time": "2024-07-06T14:54:42.827801",
     "status": "completed"
    },
    "tags": []
   },
   "outputs": [],
   "source": [
    "train_data['title'] = train_data['Name'].str.split(pat=\",\", expand=True)[1].str.split(pat=\".\", expand=True)[0].apply(lambda x: x.strip())\n",
    "test_data['title'] = test_data['Name'].str.split(pat=\",\", expand=True)[1].str.split(pat=\".\", expand=True)[0].apply(lambda x: x.strip())"
   ]
  },
  {
   "cell_type": "code",
   "execution_count": 34,
   "id": "aceec476",
   "metadata": {
    "execution": {
     "iopub.execute_input": "2024-07-06T14:54:42.944783Z",
     "iopub.status.busy": "2024-07-06T14:54:42.943831Z",
     "iopub.status.idle": "2024-07-06T14:54:42.956239Z",
     "shell.execute_reply": "2024-07-06T14:54:42.955288Z"
    },
    "papermill": {
     "duration": 0.048467,
     "end_time": "2024-07-06T14:54:42.958323",
     "exception": false,
     "start_time": "2024-07-06T14:54:42.909856",
     "status": "completed"
    },
    "tags": []
   },
   "outputs": [
    {
     "data": {
      "text/html": [
       "<div>\n",
       "<style scoped>\n",
       "    .dataframe tbody tr th:only-of-type {\n",
       "        vertical-align: middle;\n",
       "    }\n",
       "\n",
       "    .dataframe tbody tr th {\n",
       "        vertical-align: top;\n",
       "    }\n",
       "\n",
       "    .dataframe thead th {\n",
       "        text-align: right;\n",
       "    }\n",
       "</style>\n",
       "<table border=\"1\" class=\"dataframe\">\n",
       "  <thead>\n",
       "    <tr style=\"text-align: right;\">\n",
       "      <th></th>\n",
       "      <th>title</th>\n",
       "      <th>Survived</th>\n",
       "    </tr>\n",
       "  </thead>\n",
       "  <tbody>\n",
       "    <tr>\n",
       "      <th>0</th>\n",
       "      <td>Capt</td>\n",
       "      <td>0.000000</td>\n",
       "    </tr>\n",
       "    <tr>\n",
       "      <th>1</th>\n",
       "      <td>Col</td>\n",
       "      <td>0.500000</td>\n",
       "    </tr>\n",
       "    <tr>\n",
       "      <th>2</th>\n",
       "      <td>Don</td>\n",
       "      <td>0.000000</td>\n",
       "    </tr>\n",
       "    <tr>\n",
       "      <th>3</th>\n",
       "      <td>Dr</td>\n",
       "      <td>0.428571</td>\n",
       "    </tr>\n",
       "    <tr>\n",
       "      <th>4</th>\n",
       "      <td>Jonkheer</td>\n",
       "      <td>0.000000</td>\n",
       "    </tr>\n",
       "    <tr>\n",
       "      <th>5</th>\n",
       "      <td>Lady</td>\n",
       "      <td>1.000000</td>\n",
       "    </tr>\n",
       "    <tr>\n",
       "      <th>6</th>\n",
       "      <td>Major</td>\n",
       "      <td>0.500000</td>\n",
       "    </tr>\n",
       "    <tr>\n",
       "      <th>7</th>\n",
       "      <td>Master</td>\n",
       "      <td>0.575000</td>\n",
       "    </tr>\n",
       "    <tr>\n",
       "      <th>8</th>\n",
       "      <td>Miss</td>\n",
       "      <td>0.697802</td>\n",
       "    </tr>\n",
       "    <tr>\n",
       "      <th>9</th>\n",
       "      <td>Mlle</td>\n",
       "      <td>1.000000</td>\n",
       "    </tr>\n",
       "    <tr>\n",
       "      <th>10</th>\n",
       "      <td>Mme</td>\n",
       "      <td>1.000000</td>\n",
       "    </tr>\n",
       "    <tr>\n",
       "      <th>11</th>\n",
       "      <td>Mr</td>\n",
       "      <td>0.156673</td>\n",
       "    </tr>\n",
       "    <tr>\n",
       "      <th>12</th>\n",
       "      <td>Mrs</td>\n",
       "      <td>0.792000</td>\n",
       "    </tr>\n",
       "    <tr>\n",
       "      <th>13</th>\n",
       "      <td>Ms</td>\n",
       "      <td>1.000000</td>\n",
       "    </tr>\n",
       "    <tr>\n",
       "      <th>14</th>\n",
       "      <td>Rev</td>\n",
       "      <td>0.000000</td>\n",
       "    </tr>\n",
       "    <tr>\n",
       "      <th>15</th>\n",
       "      <td>Sir</td>\n",
       "      <td>1.000000</td>\n",
       "    </tr>\n",
       "    <tr>\n",
       "      <th>16</th>\n",
       "      <td>the Countess</td>\n",
       "      <td>1.000000</td>\n",
       "    </tr>\n",
       "  </tbody>\n",
       "</table>\n",
       "</div>"
      ],
      "text/plain": [
       "           title  Survived\n",
       "0           Capt  0.000000\n",
       "1            Col  0.500000\n",
       "2            Don  0.000000\n",
       "3             Dr  0.428571\n",
       "4       Jonkheer  0.000000\n",
       "5           Lady  1.000000\n",
       "6          Major  0.500000\n",
       "7         Master  0.575000\n",
       "8           Miss  0.697802\n",
       "9           Mlle  1.000000\n",
       "10           Mme  1.000000\n",
       "11            Mr  0.156673\n",
       "12           Mrs  0.792000\n",
       "13            Ms  1.000000\n",
       "14           Rev  0.000000\n",
       "15           Sir  1.000000\n",
       "16  the Countess  1.000000"
      ]
     },
     "execution_count": 34,
     "metadata": {},
     "output_type": "execute_result"
    }
   ],
   "source": [
    "train_data.groupby(['title'], as_index=False)['Survived'].mean()"
   ]
  },
  {
   "cell_type": "code",
   "execution_count": 35,
   "id": "33962fad",
   "metadata": {
    "execution": {
     "iopub.execute_input": "2024-07-06T14:54:43.026294Z",
     "iopub.status.busy": "2024-07-06T14:54:43.025397Z",
     "iopub.status.idle": "2024-07-06T14:54:43.038193Z",
     "shell.execute_reply": "2024-07-06T14:54:43.037154Z"
    },
    "papermill": {
     "duration": 0.049475,
     "end_time": "2024-07-06T14:54:43.040552",
     "exception": false,
     "start_time": "2024-07-06T14:54:42.991077",
     "status": "completed"
    },
    "tags": []
   },
   "outputs": [],
   "source": [
    "train_data['title'] = train_data['title'].replace({\n",
    "     'Capt': 'Military',\n",
    "    'Col': 'Military',\n",
    "    'Major': 'Military',\n",
    "    'Jonkheer': 'Noble',\n",
    "    'the Countess': 'Noble',\n",
    "    'Don': 'Noble',\n",
    "    'Lady': 'Noble',\n",
    "    'Sir': 'Noble',\n",
    "    'Mlle': 'Noble',\n",
    "    'Ms': 'Noble',\n",
    "    'Mme': 'Noble'    \n",
    "})\n",
    "\n",
    "test_data['title'] = test_data['title'].replace({\n",
    "    'Capt': 'Military',\n",
    "    'Col': 'Military',\n",
    "    'Major': 'Military',\n",
    "    'Jonkheer': 'Noble',\n",
    "    'the Countess': 'Noble',\n",
    "    'Don': 'Noble',\n",
    "    'Lady': 'Noble',\n",
    "    'Sir': 'Noble',\n",
    "    'Mlle': 'Noble',\n",
    "    'Ms': 'Noble',\n",
    "    'Mme': 'Noble'    \n",
    "})\n"
   ]
  },
  {
   "cell_type": "code",
   "execution_count": 36,
   "id": "8edfff33",
   "metadata": {
    "execution": {
     "iopub.execute_input": "2024-07-06T14:54:43.119014Z",
     "iopub.status.busy": "2024-07-06T14:54:43.118334Z",
     "iopub.status.idle": "2024-07-06T14:54:43.131587Z",
     "shell.execute_reply": "2024-07-06T14:54:43.130632Z"
    },
    "papermill": {
     "duration": 0.058918,
     "end_time": "2024-07-06T14:54:43.134404",
     "exception": false,
     "start_time": "2024-07-06T14:54:43.075486",
     "status": "completed"
    },
    "tags": []
   },
   "outputs": [
    {
     "data": {
      "text/html": [
       "<div>\n",
       "<style scoped>\n",
       "    .dataframe tbody tr th:only-of-type {\n",
       "        vertical-align: middle;\n",
       "    }\n",
       "\n",
       "    .dataframe tbody tr th {\n",
       "        vertical-align: top;\n",
       "    }\n",
       "\n",
       "    .dataframe thead th {\n",
       "        text-align: right;\n",
       "    }\n",
       "</style>\n",
       "<table border=\"1\" class=\"dataframe\">\n",
       "  <thead>\n",
       "    <tr style=\"text-align: right;\">\n",
       "      <th></th>\n",
       "      <th>title</th>\n",
       "      <th>count</th>\n",
       "      <th>mean</th>\n",
       "    </tr>\n",
       "  </thead>\n",
       "  <tbody>\n",
       "    <tr>\n",
       "      <th>0</th>\n",
       "      <td>Dr</td>\n",
       "      <td>7</td>\n",
       "      <td>0.428571</td>\n",
       "    </tr>\n",
       "    <tr>\n",
       "      <th>1</th>\n",
       "      <td>Master</td>\n",
       "      <td>40</td>\n",
       "      <td>0.575000</td>\n",
       "    </tr>\n",
       "    <tr>\n",
       "      <th>2</th>\n",
       "      <td>Military</td>\n",
       "      <td>5</td>\n",
       "      <td>0.400000</td>\n",
       "    </tr>\n",
       "    <tr>\n",
       "      <th>3</th>\n",
       "      <td>Miss</td>\n",
       "      <td>182</td>\n",
       "      <td>0.697802</td>\n",
       "    </tr>\n",
       "    <tr>\n",
       "      <th>4</th>\n",
       "      <td>Mr</td>\n",
       "      <td>517</td>\n",
       "      <td>0.156673</td>\n",
       "    </tr>\n",
       "    <tr>\n",
       "      <th>5</th>\n",
       "      <td>Mrs</td>\n",
       "      <td>125</td>\n",
       "      <td>0.792000</td>\n",
       "    </tr>\n",
       "    <tr>\n",
       "      <th>6</th>\n",
       "      <td>Noble</td>\n",
       "      <td>9</td>\n",
       "      <td>0.777778</td>\n",
       "    </tr>\n",
       "    <tr>\n",
       "      <th>7</th>\n",
       "      <td>Rev</td>\n",
       "      <td>6</td>\n",
       "      <td>0.000000</td>\n",
       "    </tr>\n",
       "  </tbody>\n",
       "</table>\n",
       "</div>"
      ],
      "text/plain": [
       "      title  count      mean\n",
       "0        Dr      7  0.428571\n",
       "1    Master     40  0.575000\n",
       "2  Military      5  0.400000\n",
       "3      Miss    182  0.697802\n",
       "4        Mr    517  0.156673\n",
       "5       Mrs    125  0.792000\n",
       "6     Noble      9  0.777778\n",
       "7       Rev      6  0.000000"
      ]
     },
     "execution_count": 36,
     "metadata": {},
     "output_type": "execute_result"
    }
   ],
   "source": [
    "#some data cleaning (title)\n",
    "train_data.groupby(['title'], as_index=False)['Survived'].agg(['count', 'mean'])"
   ]
  },
  {
   "cell_type": "code",
   "execution_count": 37,
   "id": "b2e3d58a",
   "metadata": {
    "execution": {
     "iopub.execute_input": "2024-07-06T14:54:43.208324Z",
     "iopub.status.busy": "2024-07-06T14:54:43.207348Z",
     "iopub.status.idle": "2024-07-06T14:54:43.215015Z",
     "shell.execute_reply": "2024-07-06T14:54:43.213938Z"
    },
    "papermill": {
     "duration": 0.044262,
     "end_time": "2024-07-06T14:54:43.217369",
     "exception": false,
     "start_time": "2024-07-06T14:54:43.173107",
     "status": "completed"
    },
    "tags": []
   },
   "outputs": [],
   "source": [
    "train_data['Name_Length'] = train_data['Name'].apply(lambda x: len(x))\n",
    "test_data['Name_Length'] = test_data['Name'].apply(lambda x: len(x))"
   ]
  },
  {
   "cell_type": "code",
   "execution_count": 38,
   "id": "9a7008a2",
   "metadata": {
    "execution": {
     "iopub.execute_input": "2024-07-06T14:54:43.284783Z",
     "iopub.status.busy": "2024-07-06T14:54:43.284375Z",
     "iopub.status.idle": "2024-07-06T14:54:43.678000Z",
     "shell.execute_reply": "2024-07-06T14:54:43.676972Z"
    },
    "papermill": {
     "duration": 0.430112,
     "end_time": "2024-07-06T14:54:43.680390",
     "exception": false,
     "start_time": "2024-07-06T14:54:43.250278",
     "status": "completed"
    },
    "tags": []
   },
   "outputs": [
    {
     "name": "stderr",
     "output_type": "stream",
     "text": [
      "/opt/conda/lib/python3.10/site-packages/seaborn/_oldcore.py:1119: FutureWarning: use_inf_as_na option is deprecated and will be removed in a future version. Convert inf values to NaN before operating instead.\n",
      "  with pd.option_context('mode.use_inf_as_na', True):\n",
      "/opt/conda/lib/python3.10/site-packages/seaborn/_oldcore.py:1119: FutureWarning: use_inf_as_na option is deprecated and will be removed in a future version. Convert inf values to NaN before operating instead.\n",
      "  with pd.option_context('mode.use_inf_as_na', True):\n"
     ]
    },
    {
     "data": {
      "image/png": "[encoded data removed]",
      "text/plain": [
       "<Figure size 640x480 with 1 Axes>"
      ]
     },
     "metadata": {},
     "output_type": "display_data"
    }
   ],
   "source": [
    "g = sns.kdeplot(train_data['Name_Length'][(train_data['Survived']==0) & (train_data['Name_Length'].notnull())], color='Red', fill=True)\n",
    "g = sns.kdeplot(train_data['Name_Length'][(train_data['Survived']==1) & (train_data['Name_Length'].notnull())],ax=g, color='Blue', fill=True)\n",
    "g.set_xlabel('Name_Length')\n",
    "g.set_ylabel('Frequency')\n",
    "g = g.legend(['Not_survived', 'Survived'])"
   ]
  },
  {
   "cell_type": "code",
   "execution_count": 39,
   "id": "3e63212e",
   "metadata": {
    "execution": {
     "iopub.execute_input": "2024-07-06T14:54:43.748509Z",
     "iopub.status.busy": "2024-07-06T14:54:43.748146Z",
     "iopub.status.idle": "2024-07-06T14:54:43.760636Z",
     "shell.execute_reply": "2024-07-06T14:54:43.759667Z"
    },
    "papermill": {
     "duration": 0.049143,
     "end_time": "2024-07-06T14:54:43.762816",
     "exception": false,
     "start_time": "2024-07-06T14:54:43.713673",
     "status": "completed"
    },
    "tags": []
   },
   "outputs": [],
   "source": [
    "train_data['Name_LengthGB'] = pd.qcut(train_data['Name_Length'], 8)\n",
    "test_data['Name_LengthGB'] = pd.qcut(test_data['Name_Length'], 8)"
   ]
  },
  {
   "cell_type": "code",
   "execution_count": 40,
   "id": "85a9f8c2",
   "metadata": {
    "execution": {
     "iopub.execute_input": "2024-07-06T14:54:43.831652Z",
     "iopub.status.busy": "2024-07-06T14:54:43.831281Z",
     "iopub.status.idle": "2024-07-06T14:54:43.845692Z",
     "shell.execute_reply": "2024-07-06T14:54:43.844724Z"
    },
    "papermill": {
     "duration": 0.051665,
     "end_time": "2024-07-06T14:54:43.847853",
     "exception": false,
     "start_time": "2024-07-06T14:54:43.796188",
     "status": "completed"
    },
    "tags": []
   },
   "outputs": [
    {
     "name": "stderr",
     "output_type": "stream",
     "text": [
      "/tmp/ipykernel_18/3090358564.py:1: FutureWarning: The default of observed=False is deprecated and will be changed to True in a future version of pandas. Pass observed=False to retain current behavior or observed=True to adopt the future default and silence this warning.\n",
      "  train_data.groupby(['Name_LengthGB'], as_index=False)['Survived'].mean()\n"
     ]
    },
    {
     "data": {
      "text/html": [
       "<div>\n",
       "<style scoped>\n",
       "    .dataframe tbody tr th:only-of-type {\n",
       "        vertical-align: middle;\n",
       "    }\n",
       "\n",
       "    .dataframe tbody tr th {\n",
       "        vertical-align: top;\n",
       "    }\n",
       "\n",
       "    .dataframe thead th {\n",
       "        text-align: right;\n",
       "    }\n",
       "</style>\n",
       "<table border=\"1\" class=\"dataframe\">\n",
       "  <thead>\n",
       "    <tr style=\"text-align: right;\">\n",
       "      <th></th>\n",
       "      <th>Name_LengthGB</th>\n",
       "      <th>Survived</th>\n",
       "    </tr>\n",
       "  </thead>\n",
       "  <tbody>\n",
       "    <tr>\n",
       "      <th>0</th>\n",
       "      <td>(11.999, 18.0]</td>\n",
       "      <td>0.214286</td>\n",
       "    </tr>\n",
       "    <tr>\n",
       "      <th>1</th>\n",
       "      <td>(18.0, 20.0]</td>\n",
       "      <td>0.252427</td>\n",
       "    </tr>\n",
       "    <tr>\n",
       "      <th>2</th>\n",
       "      <td>(20.0, 23.0]</td>\n",
       "      <td>0.307692</td>\n",
       "    </tr>\n",
       "    <tr>\n",
       "      <th>3</th>\n",
       "      <td>(23.0, 25.0]</td>\n",
       "      <td>0.346939</td>\n",
       "    </tr>\n",
       "    <tr>\n",
       "      <th>4</th>\n",
       "      <td>(25.0, 27.25]</td>\n",
       "      <td>0.292929</td>\n",
       "    </tr>\n",
       "    <tr>\n",
       "      <th>5</th>\n",
       "      <td>(27.25, 30.0]</td>\n",
       "      <td>0.428571</td>\n",
       "    </tr>\n",
       "    <tr>\n",
       "      <th>6</th>\n",
       "      <td>(30.0, 38.0]</td>\n",
       "      <td>0.517241</td>\n",
       "    </tr>\n",
       "    <tr>\n",
       "      <th>7</th>\n",
       "      <td>(38.0, 82.0]</td>\n",
       "      <td>0.745283</td>\n",
       "    </tr>\n",
       "  </tbody>\n",
       "</table>\n",
       "</div>"
      ],
      "text/plain": [
       "    Name_LengthGB  Survived\n",
       "0  (11.999, 18.0]  0.214286\n",
       "1    (18.0, 20.0]  0.252427\n",
       "2    (20.0, 23.0]  0.307692\n",
       "3    (23.0, 25.0]  0.346939\n",
       "4   (25.0, 27.25]  0.292929\n",
       "5   (27.25, 30.0]  0.428571\n",
       "6    (30.0, 38.0]  0.517241\n",
       "7    (38.0, 82.0]  0.745283"
      ]
     },
     "execution_count": 40,
     "metadata": {},
     "output_type": "execute_result"
    }
   ],
   "source": [
    "train_data.groupby(['Name_LengthGB'], as_index=False)['Survived'].mean()"
   ]
  },
  {
   "cell_type": "code",
   "execution_count": 41,
   "id": "9168dd55",
   "metadata": {
    "execution": {
     "iopub.execute_input": "2024-07-06T14:54:43.916528Z",
     "iopub.status.busy": "2024-07-06T14:54:43.916149Z",
     "iopub.status.idle": "2024-07-06T14:54:43.948146Z",
     "shell.execute_reply": "2024-07-06T14:54:43.947093Z"
    },
    "papermill": {
     "duration": 0.069062,
     "end_time": "2024-07-06T14:54:43.950283",
     "exception": false,
     "start_time": "2024-07-06T14:54:43.881221",
     "status": "completed"
    },
    "tags": []
   },
   "outputs": [
    {
     "data": {
      "text/plain": [
       "Series([], Name: Name_Size, dtype: float64)"
      ]
     },
     "execution_count": 41,
     "metadata": {},
     "output_type": "execute_result"
    }
   ],
   "source": [
    "train_data.loc[train_data['Name_Length']<= 18, 'Name_Size']= 0\n",
    "train_data.loc[(train_data['Name_Length']> 18) & (train_data['Name_Length']<= 20), 'Name_Size']= 1\n",
    "train_data.loc[(train_data['Name_Length']> 20) & (train_data['Name_Length']<= 23), 'Name_Size']= 2\n",
    "train_data.loc[(train_data['Name_Length']> 23) & (train_data['Name_Length']<= 25), 'Name_Size']= 3\n",
    "train_data.loc[(train_data['Name_Length']> 25) & (train_data['Name_Length']<= 27.25), 'Name_Size']= 4\n",
    "train_data.loc[(train_data['Name_Length']> 27.25) & (train_data['Name_Length']<= 30), 'Name_Size']= 5\n",
    "train_data.loc[(train_data['Name_Length']> 30) & (train_data['Name_Length']<= 38), 'Name_Size']= 6\n",
    "train_data.loc[(train_data['Name_Length']> 38) & (train_data['Name_Length']<= 82), 'Name_Size']= 7\n",
    "train_data.loc[train_data['Name_Length']> 82, 'Name_Size']\n",
    "\n",
    "test_data.loc[test_data['Name_Length']<= 18, 'Name_Size']= 0\n",
    "test_data.loc[(test_data['Name_Length']> 18) & (test_data['Name_Length']<= 20), 'Name_Size']= 1\n",
    "test_data.loc[(test_data['Name_Length']> 20) & (test_data['Name_Length']<= 23), 'Name_Size']= 2\n",
    "test_data.loc[(test_data['Name_Length']> 23) & (test_data['Name_Length']<= 25), 'Name_Size']= 3\n",
    "test_data.loc[(test_data['Name_Length']> 25) & (test_data['Name_Length']<= 27.25), 'Name_Size']= 4\n",
    "test_data.loc[(test_data['Name_Length']> 27.25) & (test_data['Name_Length']<= 30), 'Name_Size']= 5\n",
    "test_data.loc[(test_data['Name_Length']> 30) & (test_data['Name_Length']<= 38), 'Name_Size']= 6\n",
    "test_data.loc[(test_data['Name_Length']> 38) & (test_data['Name_Length']<= 82), 'Name_Size']= 7\n",
    "test_data.loc[test_data['Name_Length']> 82, 'Name_Size']\n",
    "\n"
   ]
  },
  {
   "cell_type": "code",
   "execution_count": 42,
   "id": "3c5c0f11",
   "metadata": {
    "execution": {
     "iopub.execute_input": "2024-07-06T14:54:44.018437Z",
     "iopub.status.busy": "2024-07-06T14:54:44.018042Z",
     "iopub.status.idle": "2024-07-06T14:54:44.040916Z",
     "shell.execute_reply": "2024-07-06T14:54:44.039976Z"
    },
    "papermill": {
     "duration": 0.060121,
     "end_time": "2024-07-06T14:54:44.043595",
     "exception": false,
     "start_time": "2024-07-06T14:54:43.983474",
     "status": "completed"
    },
    "tags": []
   },
   "outputs": [
    {
     "data": {
      "text/html": [
       "<div>\n",
       "<style scoped>\n",
       "    .dataframe tbody tr th:only-of-type {\n",
       "        vertical-align: middle;\n",
       "    }\n",
       "\n",
       "    .dataframe tbody tr th {\n",
       "        vertical-align: top;\n",
       "    }\n",
       "\n",
       "    .dataframe thead th {\n",
       "        text-align: right;\n",
       "    }\n",
       "</style>\n",
       "<table border=\"1\" class=\"dataframe\">\n",
       "  <thead>\n",
       "    <tr style=\"text-align: right;\">\n",
       "      <th></th>\n",
       "      <th>PassengerId</th>\n",
       "      <th>Survived</th>\n",
       "      <th>Pclass</th>\n",
       "      <th>Name</th>\n",
       "      <th>Sex</th>\n",
       "      <th>Age</th>\n",
       "      <th>SibSp</th>\n",
       "      <th>Parch</th>\n",
       "      <th>Ticket</th>\n",
       "      <th>Fare</th>\n",
       "      <th>Cabin</th>\n",
       "      <th>Embarked</th>\n",
       "      <th>family_size</th>\n",
       "      <th>family_size_grouped</th>\n",
       "      <th>age_cut</th>\n",
       "      <th>fare_cut</th>\n",
       "      <th>title</th>\n",
       "      <th>Name_Length</th>\n",
       "      <th>Name_LengthGB</th>\n",
       "      <th>Name_Size</th>\n",
       "    </tr>\n",
       "  </thead>\n",
       "  <tbody>\n",
       "    <tr>\n",
       "      <th>0</th>\n",
       "      <td>1</td>\n",
       "      <td>0</td>\n",
       "      <td>3</td>\n",
       "      <td>Braund, Mr. Owen Harris</td>\n",
       "      <td>male</td>\n",
       "      <td>2.0</td>\n",
       "      <td>1</td>\n",
       "      <td>0</td>\n",
       "      <td>A/5 21171</td>\n",
       "      <td>0.0</td>\n",
       "      <td>NaN</td>\n",
       "      <td>S</td>\n",
       "      <td>2</td>\n",
       "      <td>small</td>\n",
       "      <td>(20.125, 24.0]</td>\n",
       "      <td>(-0.001, 7.775]</td>\n",
       "      <td>Mr</td>\n",
       "      <td>23</td>\n",
       "      <td>(20.0, 23.0]</td>\n",
       "      <td>2.0</td>\n",
       "    </tr>\n",
       "    <tr>\n",
       "      <th>1</th>\n",
       "      <td>2</td>\n",
       "      <td>1</td>\n",
       "      <td>1</td>\n",
       "      <td>Cumings, Mrs. John Bradley (Florence Briggs Th...</td>\n",
       "      <td>female</td>\n",
       "      <td>5.0</td>\n",
       "      <td>1</td>\n",
       "      <td>0</td>\n",
       "      <td>PC 17599</td>\n",
       "      <td>5.0</td>\n",
       "      <td>C85</td>\n",
       "      <td>C</td>\n",
       "      <td>2</td>\n",
       "      <td>small</td>\n",
       "      <td>(32.312, 38.0]</td>\n",
       "      <td>(52.369, 512.329]</td>\n",
       "      <td>Mrs</td>\n",
       "      <td>51</td>\n",
       "      <td>(38.0, 82.0]</td>\n",
       "      <td>7.0</td>\n",
       "    </tr>\n",
       "    <tr>\n",
       "      <th>2</th>\n",
       "      <td>3</td>\n",
       "      <td>1</td>\n",
       "      <td>3</td>\n",
       "      <td>Heikkinen, Miss. Laina</td>\n",
       "      <td>female</td>\n",
       "      <td>3.0</td>\n",
       "      <td>0</td>\n",
       "      <td>0</td>\n",
       "      <td>STON/O2. 3101282</td>\n",
       "      <td>1.0</td>\n",
       "      <td>NaN</td>\n",
       "      <td>S</td>\n",
       "      <td>1</td>\n",
       "      <td>alone</td>\n",
       "      <td>(24.0, 28.0]</td>\n",
       "      <td>(7.775, 8.662]</td>\n",
       "      <td>Miss</td>\n",
       "      <td>22</td>\n",
       "      <td>(20.0, 23.0]</td>\n",
       "      <td>2.0</td>\n",
       "    </tr>\n",
       "    <tr>\n",
       "      <th>3</th>\n",
       "      <td>4</td>\n",
       "      <td>1</td>\n",
       "      <td>1</td>\n",
       "      <td>Futrelle, Mrs. Jacques Heath (Lily May Peel)</td>\n",
       "      <td>female</td>\n",
       "      <td>5.0</td>\n",
       "      <td>1</td>\n",
       "      <td>0</td>\n",
       "      <td>113803</td>\n",
       "      <td>5.0</td>\n",
       "      <td>C123</td>\n",
       "      <td>S</td>\n",
       "      <td>2</td>\n",
       "      <td>small</td>\n",
       "      <td>(32.312, 38.0]</td>\n",
       "      <td>(52.369, 512.329]</td>\n",
       "      <td>Mrs</td>\n",
       "      <td>44</td>\n",
       "      <td>(38.0, 82.0]</td>\n",
       "      <td>7.0</td>\n",
       "    </tr>\n",
       "    <tr>\n",
       "      <th>4</th>\n",
       "      <td>5</td>\n",
       "      <td>0</td>\n",
       "      <td>3</td>\n",
       "      <td>Allen, Mr. William Henry</td>\n",
       "      <td>male</td>\n",
       "      <td>5.0</td>\n",
       "      <td>0</td>\n",
       "      <td>0</td>\n",
       "      <td>373450</td>\n",
       "      <td>1.0</td>\n",
       "      <td>NaN</td>\n",
       "      <td>S</td>\n",
       "      <td>1</td>\n",
       "      <td>alone</td>\n",
       "      <td>(32.312, 38.0]</td>\n",
       "      <td>(7.775, 8.662]</td>\n",
       "      <td>Mr</td>\n",
       "      <td>24</td>\n",
       "      <td>(23.0, 25.0]</td>\n",
       "      <td>3.0</td>\n",
       "    </tr>\n",
       "  </tbody>\n",
       "</table>\n",
       "</div>"
      ],
      "text/plain": [
       "   PassengerId  Survived  Pclass  \\\n",
       "0            1         0       3   \n",
       "1            2         1       1   \n",
       "2            3         1       3   \n",
       "3            4         1       1   \n",
       "4            5         0       3   \n",
       "\n",
       "                                                Name     Sex  Age  SibSp  \\\n",
       "0                            Braund, Mr. Owen Harris    male  2.0      1   \n",
       "1  Cumings, Mrs. John Bradley (Florence Briggs Th...  female  5.0      1   \n",
       "2                             Heikkinen, Miss. Laina  female  3.0      0   \n",
       "3       Futrelle, Mrs. Jacques Heath (Lily May Peel)  female  5.0      1   \n",
       "4                           Allen, Mr. William Henry    male  5.0      0   \n",
       "\n",
       "   Parch            Ticket  Fare Cabin Embarked  family_size  \\\n",
       "0      0         A/5 21171   0.0   NaN        S            2   \n",
       "1      0          PC 17599   5.0   C85        C            2   \n",
       "2      0  STON/O2. 3101282   1.0   NaN        S            1   \n",
       "3      0            113803   5.0  C123        S            2   \n",
       "4      0            373450   1.0   NaN        S            1   \n",
       "\n",
       "  family_size_grouped         age_cut           fare_cut title  Name_Length  \\\n",
       "0               small  (20.125, 24.0]    (-0.001, 7.775]    Mr           23   \n",
       "1               small  (32.312, 38.0]  (52.369, 512.329]   Mrs           51   \n",
       "2               alone    (24.0, 28.0]     (7.775, 8.662]  Miss           22   \n",
       "3               small  (32.312, 38.0]  (52.369, 512.329]   Mrs           44   \n",
       "4               alone  (32.312, 38.0]     (7.775, 8.662]    Mr           24   \n",
       "\n",
       "  Name_LengthGB  Name_Size  \n",
       "0  (20.0, 23.0]        2.0  \n",
       "1  (38.0, 82.0]        7.0  \n",
       "2  (20.0, 23.0]        2.0  \n",
       "3  (38.0, 82.0]        7.0  \n",
       "4  (23.0, 25.0]        3.0  "
      ]
     },
     "execution_count": 42,
     "metadata": {},
     "output_type": "execute_result"
    }
   ],
   "source": [
    "train_data.head()"
   ]
  },
  {
   "cell_type": "code",
   "execution_count": 43,
   "id": "dc4e5cb2",
   "metadata": {
    "execution": {
     "iopub.execute_input": "2024-07-06T14:54:44.114663Z",
     "iopub.status.busy": "2024-07-06T14:54:44.114269Z",
     "iopub.status.idle": "2024-07-06T14:54:44.122569Z",
     "shell.execute_reply": "2024-07-06T14:54:44.121521Z"
    },
    "papermill": {
     "duration": 0.04647,
     "end_time": "2024-07-06T14:54:44.124760",
     "exception": false,
     "start_time": "2024-07-06T14:54:44.078290",
     "status": "completed"
    },
    "tags": []
   },
   "outputs": [
    {
     "data": {
      "text/plain": [
       "0             A/5 21171\n",
       "1              PC 17599\n",
       "2      STON/O2. 3101282\n",
       "3                113803\n",
       "4                373450\n",
       "             ...       \n",
       "886              211536\n",
       "887              112053\n",
       "888          W./C. 6607\n",
       "889              111369\n",
       "890              370376\n",
       "Name: Ticket, Length: 891, dtype: object"
      ]
     },
     "execution_count": 43,
     "metadata": {},
     "output_type": "execute_result"
    }
   ],
   "source": [
    "train_data['Ticket']"
   ]
  },
  {
   "cell_type": "code",
   "execution_count": 44,
   "id": "fca810ce",
   "metadata": {
    "execution": {
     "iopub.execute_input": "2024-07-06T14:54:44.194547Z",
     "iopub.status.busy": "2024-07-06T14:54:44.194146Z",
     "iopub.status.idle": "2024-07-06T14:54:44.549384Z",
     "shell.execute_reply": "2024-07-06T14:54:44.548264Z"
    },
    "papermill": {
     "duration": 0.393186,
     "end_time": "2024-07-06T14:54:44.551833",
     "exception": false,
     "start_time": "2024-07-06T14:54:44.158647",
     "status": "completed"
    },
    "tags": []
   },
   "outputs": [],
   "source": [
    "# splitting the ticket's number to be more understandable\n",
    "train_data['ticket_number'] = train_data['Ticket'].apply(lambda x: pd.Series({'Ticket': x.split()[-1]}))\n",
    "test_data['ticket_number'] = test_data['Ticket'].apply(lambda x: pd.Series({'Ticket': x.split()[-1]}))"
   ]
  },
  {
   "cell_type": "code",
   "execution_count": 45,
   "id": "ea73a4a8",
   "metadata": {
    "execution": {
     "iopub.execute_input": "2024-07-06T14:54:44.623598Z",
     "iopub.status.busy": "2024-07-06T14:54:44.622881Z",
     "iopub.status.idle": "2024-07-06T14:54:44.639772Z",
     "shell.execute_reply": "2024-07-06T14:54:44.638803Z"
    },
    "papermill": {
     "duration": 0.055574,
     "end_time": "2024-07-06T14:54:44.642279",
     "exception": false,
     "start_time": "2024-07-06T14:54:44.586705",
     "status": "completed"
    },
    "tags": []
   },
   "outputs": [
    {
     "data": {
      "text/html": [
       "<div>\n",
       "<style scoped>\n",
       "    .dataframe tbody tr th:only-of-type {\n",
       "        vertical-align: middle;\n",
       "    }\n",
       "\n",
       "    .dataframe tbody tr th {\n",
       "        vertical-align: top;\n",
       "    }\n",
       "\n",
       "    .dataframe thead th {\n",
       "        text-align: right;\n",
       "    }\n",
       "</style>\n",
       "<table border=\"1\" class=\"dataframe\">\n",
       "  <thead>\n",
       "    <tr style=\"text-align: right;\">\n",
       "      <th></th>\n",
       "      <th>ticket_number</th>\n",
       "      <th>count</th>\n",
       "      <th>mean</th>\n",
       "    </tr>\n",
       "  </thead>\n",
       "  <tbody>\n",
       "    <tr>\n",
       "      <th>464</th>\n",
       "      <td>347082</td>\n",
       "      <td>7</td>\n",
       "      <td>0.000000</td>\n",
       "    </tr>\n",
       "    <tr>\n",
       "      <th>196</th>\n",
       "      <td>2343</td>\n",
       "      <td>7</td>\n",
       "      <td>0.000000</td>\n",
       "    </tr>\n",
       "    <tr>\n",
       "      <th>94</th>\n",
       "      <td>1601</td>\n",
       "      <td>7</td>\n",
       "      <td>0.714286</td>\n",
       "    </tr>\n",
       "    <tr>\n",
       "      <th>168</th>\n",
       "      <td>2144</td>\n",
       "      <td>6</td>\n",
       "      <td>0.000000</td>\n",
       "    </tr>\n",
       "    <tr>\n",
       "      <th>468</th>\n",
       "      <td>347088</td>\n",
       "      <td>6</td>\n",
       "      <td>0.000000</td>\n",
       "    </tr>\n",
       "    <tr>\n",
       "      <th>...</th>\n",
       "      <td>...</td>\n",
       "      <td>...</td>\n",
       "      <td>...</td>\n",
       "    </tr>\n",
       "    <tr>\n",
       "      <th>271</th>\n",
       "      <td>2662</td>\n",
       "      <td>1</td>\n",
       "      <td>0.000000</td>\n",
       "    </tr>\n",
       "    <tr>\n",
       "      <th>272</th>\n",
       "      <td>2663</td>\n",
       "      <td>1</td>\n",
       "      <td>1.000000</td>\n",
       "    </tr>\n",
       "    <tr>\n",
       "      <th>273</th>\n",
       "      <td>2664</td>\n",
       "      <td>1</td>\n",
       "      <td>0.000000</td>\n",
       "    </tr>\n",
       "    <tr>\n",
       "      <th>276</th>\n",
       "      <td>2667</td>\n",
       "      <td>1</td>\n",
       "      <td>1.000000</td>\n",
       "    </tr>\n",
       "    <tr>\n",
       "      <th>339</th>\n",
       "      <td>3101274</td>\n",
       "      <td>1</td>\n",
       "      <td>0.000000</td>\n",
       "    </tr>\n",
       "  </tbody>\n",
       "</table>\n",
       "<p>679 rows × 3 columns</p>\n",
       "</div>"
      ],
      "text/plain": [
       "    ticket_number  count      mean\n",
       "464        347082      7  0.000000\n",
       "196          2343      7  0.000000\n",
       "94           1601      7  0.714286\n",
       "168          2144      6  0.000000\n",
       "468        347088      6  0.000000\n",
       "..            ...    ...       ...\n",
       "271          2662      1  0.000000\n",
       "272          2663      1  1.000000\n",
       "273          2664      1  0.000000\n",
       "276          2667      1  1.000000\n",
       "339       3101274      1  0.000000\n",
       "\n",
       "[679 rows x 3 columns]"
      ]
     },
     "execution_count": 45,
     "metadata": {},
     "output_type": "execute_result"
    }
   ],
   "source": [
    "train_data.groupby(['ticket_number'], as_index=False)['Survived'].agg(['count', 'mean']).sort_values('count', ascending=False)"
   ]
  },
  {
   "cell_type": "code",
   "execution_count": 46,
   "id": "0f5ab30b",
   "metadata": {
    "execution": {
     "iopub.execute_input": "2024-07-06T14:54:44.712653Z",
     "iopub.status.busy": "2024-07-06T14:54:44.711958Z",
     "iopub.status.idle": "2024-07-06T14:54:44.721538Z",
     "shell.execute_reply": "2024-07-06T14:54:44.720584Z"
    },
    "papermill": {
     "duration": 0.04713,
     "end_time": "2024-07-06T14:54:44.723642",
     "exception": false,
     "start_time": "2024-07-06T14:54:44.676512",
     "status": "completed"
    },
    "tags": []
   },
   "outputs": [
    {
     "data": {
      "text/plain": [
       "0      1\n",
       "1      1\n",
       "2      1\n",
       "3      2\n",
       "4      1\n",
       "      ..\n",
       "886    1\n",
       "887    1\n",
       "888    2\n",
       "889    1\n",
       "890    1\n",
       "Name: ticket_number, Length: 891, dtype: int64"
      ]
     },
     "execution_count": 46,
     "metadata": {},
     "output_type": "execute_result"
    }
   ],
   "source": [
    "train_data.groupby('ticket_number')['ticket_number'].transform('count')"
   ]
  },
  {
   "cell_type": "code",
   "execution_count": 47,
   "id": "18dab7ef",
   "metadata": {
    "execution": {
     "iopub.execute_input": "2024-07-06T14:54:44.795297Z",
     "iopub.status.busy": "2024-07-06T14:54:44.794326Z",
     "iopub.status.idle": "2024-07-06T14:54:44.802721Z",
     "shell.execute_reply": "2024-07-06T14:54:44.801906Z"
    },
    "papermill": {
     "duration": 0.046483,
     "end_time": "2024-07-06T14:54:44.804847",
     "exception": false,
     "start_time": "2024-07-06T14:54:44.758364",
     "status": "completed"
    },
    "tags": []
   },
   "outputs": [],
   "source": [
    "train_data['ticket_number_count']=train_data.groupby('ticket_number')['ticket_number'].transform('count')\n",
    "test_data['ticket_number_count']=test_data.groupby('ticket_number')['ticket_number'].transform('count')"
   ]
  },
  {
   "cell_type": "code",
   "execution_count": 48,
   "id": "a5016f97",
   "metadata": {
    "execution": {
     "iopub.execute_input": "2024-07-06T14:54:44.876988Z",
     "iopub.status.busy": "2024-07-06T14:54:44.876593Z",
     "iopub.status.idle": "2024-07-06T14:54:44.890091Z",
     "shell.execute_reply": "2024-07-06T14:54:44.888994Z"
    },
    "papermill": {
     "duration": 0.052236,
     "end_time": "2024-07-06T14:54:44.892269",
     "exception": false,
     "start_time": "2024-07-06T14:54:44.840033",
     "status": "completed"
    },
    "tags": []
   },
   "outputs": [
    {
     "data": {
      "text/html": [
       "<div>\n",
       "<style scoped>\n",
       "    .dataframe tbody tr th:only-of-type {\n",
       "        vertical-align: middle;\n",
       "    }\n",
       "\n",
       "    .dataframe tbody tr th {\n",
       "        vertical-align: top;\n",
       "    }\n",
       "\n",
       "    .dataframe thead th {\n",
       "        text-align: right;\n",
       "    }\n",
       "</style>\n",
       "<table border=\"1\" class=\"dataframe\">\n",
       "  <thead>\n",
       "    <tr style=\"text-align: right;\">\n",
       "      <th></th>\n",
       "      <th>ticket_number_count</th>\n",
       "      <th>count</th>\n",
       "      <th>mean</th>\n",
       "    </tr>\n",
       "  </thead>\n",
       "  <tbody>\n",
       "    <tr>\n",
       "      <th>0</th>\n",
       "      <td>1</td>\n",
       "      <td>544</td>\n",
       "      <td>0.295956</td>\n",
       "    </tr>\n",
       "    <tr>\n",
       "      <th>1</th>\n",
       "      <td>2</td>\n",
       "      <td>188</td>\n",
       "      <td>0.569149</td>\n",
       "    </tr>\n",
       "    <tr>\n",
       "      <th>2</th>\n",
       "      <td>3</td>\n",
       "      <td>66</td>\n",
       "      <td>0.712121</td>\n",
       "    </tr>\n",
       "    <tr>\n",
       "      <th>3</th>\n",
       "      <td>4</td>\n",
       "      <td>44</td>\n",
       "      <td>0.500000</td>\n",
       "    </tr>\n",
       "    <tr>\n",
       "      <th>6</th>\n",
       "      <td>7</td>\n",
       "      <td>21</td>\n",
       "      <td>0.238095</td>\n",
       "    </tr>\n",
       "    <tr>\n",
       "      <th>5</th>\n",
       "      <td>6</td>\n",
       "      <td>18</td>\n",
       "      <td>0.000000</td>\n",
       "    </tr>\n",
       "    <tr>\n",
       "      <th>4</th>\n",
       "      <td>5</td>\n",
       "      <td>10</td>\n",
       "      <td>0.000000</td>\n",
       "    </tr>\n",
       "  </tbody>\n",
       "</table>\n",
       "</div>"
      ],
      "text/plain": [
       "   ticket_number_count  count      mean\n",
       "0                    1    544  0.295956\n",
       "1                    2    188  0.569149\n",
       "2                    3     66  0.712121\n",
       "3                    4     44  0.500000\n",
       "6                    7     21  0.238095\n",
       "5                    6     18  0.000000\n",
       "4                    5     10  0.000000"
      ]
     },
     "execution_count": 48,
     "metadata": {},
     "output_type": "execute_result"
    }
   ],
   "source": [
    "train_data.groupby(['ticket_number_count'], as_index=False)['Survived'].agg(['count', 'mean']).sort_values('count', ascending=False)"
   ]
  },
  {
   "cell_type": "code",
   "execution_count": 49,
   "id": "89de8e0e",
   "metadata": {
    "execution": {
     "iopub.execute_input": "2024-07-06T14:54:44.963419Z",
     "iopub.status.busy": "2024-07-06T14:54:44.962396Z",
     "iopub.status.idle": "2024-07-06T14:54:44.971068Z",
     "shell.execute_reply": "2024-07-06T14:54:44.970061Z"
    },
    "papermill": {
     "duration": 0.046531,
     "end_time": "2024-07-06T14:54:44.973208",
     "exception": false,
     "start_time": "2024-07-06T14:54:44.926677",
     "status": "completed"
    },
    "tags": []
   },
   "outputs": [
    {
     "data": {
      "text/plain": [
       "0             A/5 21171\n",
       "1              PC 17599\n",
       "2      STON/O2. 3101282\n",
       "3                113803\n",
       "4                373450\n",
       "             ...       \n",
       "886              211536\n",
       "887              112053\n",
       "888          W./C. 6607\n",
       "889              111369\n",
       "890              370376\n",
       "Name: Ticket, Length: 891, dtype: object"
      ]
     },
     "execution_count": 49,
     "metadata": {},
     "output_type": "execute_result"
    }
   ],
   "source": [
    "# analyse the first part of the ticket number \n",
    "train_data['Ticket']"
   ]
  },
  {
   "cell_type": "code",
   "execution_count": 50,
   "id": "255809dc",
   "metadata": {
    "execution": {
     "iopub.execute_input": "2024-07-06T14:54:45.044590Z",
     "iopub.status.busy": "2024-07-06T14:54:45.043761Z",
     "iopub.status.idle": "2024-07-06T14:54:45.056921Z",
     "shell.execute_reply": "2024-07-06T14:54:45.055914Z"
    },
    "papermill": {
     "duration": 0.051432,
     "end_time": "2024-07-06T14:54:45.059319",
     "exception": false,
     "start_time": "2024-07-06T14:54:45.007887",
     "status": "completed"
    },
    "tags": []
   },
   "outputs": [
    {
     "data": {
      "text/html": [
       "<div>\n",
       "<style scoped>\n",
       "    .dataframe tbody tr th:only-of-type {\n",
       "        vertical-align: middle;\n",
       "    }\n",
       "\n",
       "    .dataframe tbody tr th {\n",
       "        vertical-align: top;\n",
       "    }\n",
       "\n",
       "    .dataframe thead th {\n",
       "        text-align: right;\n",
       "    }\n",
       "</style>\n",
       "<table border=\"1\" class=\"dataframe\">\n",
       "  <thead>\n",
       "    <tr style=\"text-align: right;\">\n",
       "      <th></th>\n",
       "      <th>0</th>\n",
       "      <th>1</th>\n",
       "      <th>2</th>\n",
       "    </tr>\n",
       "  </thead>\n",
       "  <tbody>\n",
       "    <tr>\n",
       "      <th>0</th>\n",
       "      <td>A/5</td>\n",
       "      <td>21171</td>\n",
       "      <td>None</td>\n",
       "    </tr>\n",
       "    <tr>\n",
       "      <th>1</th>\n",
       "      <td>PC</td>\n",
       "      <td>17599</td>\n",
       "      <td>None</td>\n",
       "    </tr>\n",
       "    <tr>\n",
       "      <th>2</th>\n",
       "      <td>STON/O2.</td>\n",
       "      <td>3101282</td>\n",
       "      <td>None</td>\n",
       "    </tr>\n",
       "    <tr>\n",
       "      <th>3</th>\n",
       "      <td>113803</td>\n",
       "      <td>None</td>\n",
       "      <td>None</td>\n",
       "    </tr>\n",
       "    <tr>\n",
       "      <th>4</th>\n",
       "      <td>373450</td>\n",
       "      <td>None</td>\n",
       "      <td>None</td>\n",
       "    </tr>\n",
       "    <tr>\n",
       "      <th>...</th>\n",
       "      <td>...</td>\n",
       "      <td>...</td>\n",
       "      <td>...</td>\n",
       "    </tr>\n",
       "    <tr>\n",
       "      <th>886</th>\n",
       "      <td>211536</td>\n",
       "      <td>None</td>\n",
       "      <td>None</td>\n",
       "    </tr>\n",
       "    <tr>\n",
       "      <th>887</th>\n",
       "      <td>112053</td>\n",
       "      <td>None</td>\n",
       "      <td>None</td>\n",
       "    </tr>\n",
       "    <tr>\n",
       "      <th>888</th>\n",
       "      <td>W./C.</td>\n",
       "      <td>6607</td>\n",
       "      <td>None</td>\n",
       "    </tr>\n",
       "    <tr>\n",
       "      <th>889</th>\n",
       "      <td>111369</td>\n",
       "      <td>None</td>\n",
       "      <td>None</td>\n",
       "    </tr>\n",
       "    <tr>\n",
       "      <th>890</th>\n",
       "      <td>370376</td>\n",
       "      <td>None</td>\n",
       "      <td>None</td>\n",
       "    </tr>\n",
       "  </tbody>\n",
       "</table>\n",
       "<p>891 rows × 3 columns</p>\n",
       "</div>"
      ],
      "text/plain": [
       "            0        1     2\n",
       "0         A/5    21171  None\n",
       "1          PC    17599  None\n",
       "2    STON/O2.  3101282  None\n",
       "3      113803     None  None\n",
       "4      373450     None  None\n",
       "..        ...      ...   ...\n",
       "886    211536     None  None\n",
       "887    112053     None  None\n",
       "888     W./C.     6607  None\n",
       "889    111369     None  None\n",
       "890    370376     None  None\n",
       "\n",
       "[891 rows x 3 columns]"
      ]
     },
     "execution_count": 50,
     "metadata": {},
     "output_type": "execute_result"
    }
   ],
   "source": [
    "train_data['Ticket'].str.split(pat=\" \", expand=True)"
   ]
  },
  {
   "cell_type": "code",
   "execution_count": 51,
   "id": "d77f7c59",
   "metadata": {
    "execution": {
     "iopub.execute_input": "2024-07-06T14:54:45.130896Z",
     "iopub.status.busy": "2024-07-06T14:54:45.130506Z",
     "iopub.status.idle": "2024-07-06T14:54:45.144466Z",
     "shell.execute_reply": "2024-07-06T14:54:45.143410Z"
    },
    "papermill": {
     "duration": 0.052417,
     "end_time": "2024-07-06T14:54:45.146707",
     "exception": false,
     "start_time": "2024-07-06T14:54:45.094290",
     "status": "completed"
    },
    "tags": []
   },
   "outputs": [],
   "source": [
    "train_data['ticket_location'] = np.where(train_data['Ticket'].str.split(pat=\" \", expand=True)[1].notna(), train_data['Ticket'].str.split(pat=\" \", expand=True)[0].apply(lambda x: x.strip()), 'Blank')\n",
    "test_data['ticket_location'] = np.where(test_data['Ticket'].str.split(pat=\" \", expand=True)[1].notna(), test_data['Ticket'].str.split(pat=\" \", expand=True)[0].apply(lambda x: x.strip()), 'Blank')"
   ]
  },
  {
   "cell_type": "code",
   "execution_count": 52,
   "id": "c33ad1c7",
   "metadata": {
    "execution": {
     "iopub.execute_input": "2024-07-06T14:54:45.219029Z",
     "iopub.status.busy": "2024-07-06T14:54:45.218331Z",
     "iopub.status.idle": "2024-07-06T14:54:45.227074Z",
     "shell.execute_reply": "2024-07-06T14:54:45.226079Z"
    },
    "papermill": {
     "duration": 0.047659,
     "end_time": "2024-07-06T14:54:45.229330",
     "exception": false,
     "start_time": "2024-07-06T14:54:45.181671",
     "status": "completed"
    },
    "tags": []
   },
   "outputs": [
    {
     "data": {
      "text/plain": [
       "ticket_location\n",
       "Blank         665\n",
       "PC             60\n",
       "C.A.           27\n",
       "STON/O         12\n",
       "A/5            10\n",
       "W./C.           9\n",
       "CA.             8\n",
       "SOTON/O.Q.      8\n",
       "SOTON/OQ        7\n",
       "A/5.            7\n",
       "CA              6\n",
       "STON/O2.        6\n",
       "C               5\n",
       "F.C.C.          5\n",
       "S.O.C.          5\n",
       "SC/PARIS        5\n",
       "SC/Paris        4\n",
       "S.O./P.P.       3\n",
       "PP              3\n",
       "A/4.            3\n",
       "A/4             3\n",
       "SC/AH           3\n",
       "A./5.           2\n",
       "SOTON/O2        2\n",
       "A.5.            2\n",
       "WE/P            2\n",
       "S.C./PARIS      2\n",
       "P/PP            2\n",
       "F.C.            1\n",
       "SC              1\n",
       "S.W./PP         1\n",
       "A/S             1\n",
       "Fa              1\n",
       "SCO/W           1\n",
       "SW/PP           1\n",
       "W/C             1\n",
       "S.C./A.4.       1\n",
       "S.O.P.          1\n",
       "A4.             1\n",
       "W.E.P.          1\n",
       "SO/C            1\n",
       "S.P.            1\n",
       "C.A./SOTON      1\n",
       "Name: count, dtype: int64"
      ]
     },
     "execution_count": 52,
     "metadata": {},
     "output_type": "execute_result"
    }
   ],
   "source": [
    "train_data['ticket_location'].value_counts()"
   ]
  },
  {
   "cell_type": "code",
   "execution_count": 53,
   "id": "6d6ba6eb",
   "metadata": {
    "execution": {
     "iopub.execute_input": "2024-07-06T14:54:45.301555Z",
     "iopub.status.busy": "2024-07-06T14:54:45.300730Z",
     "iopub.status.idle": "2024-07-06T14:54:45.312776Z",
     "shell.execute_reply": "2024-07-06T14:54:45.311720Z"
    },
    "papermill": {
     "duration": 0.050662,
     "end_time": "2024-07-06T14:54:45.315073",
     "exception": false,
     "start_time": "2024-07-06T14:54:45.264411",
     "status": "completed"
    },
    "tags": []
   },
   "outputs": [],
   "source": [
    "train_data['ticket_location'] = train_data['ticket_location'].replace({\n",
    "    'SOTON/O.Q.':'SOTON/OQ',\n",
    "    'C.A.':'CA',\n",
    "    'CA.':'CA',\n",
    "    'SC/PARIS':'SC/Paris',\n",
    "    'S.C./PARIS':'SC/Paris',\n",
    "    'A/4.':'A/4',\n",
    "    'A/5.':'A/5',\n",
    "    'A.5.':'A/5',\n",
    "    'A./5.':'A/5',\n",
    "    'W./C.':'W/C',    \n",
    "})\n",
    "\n",
    "test_data['ticket_location'] = test_data['ticket_location'].replace({\n",
    "    'SOTON/O.Q.':'SOTON/OQ',\n",
    "    'C.A.':'CA',\n",
    "    'CA.':'CA',\n",
    "    'SC/PARIS':'SC/Paris',\n",
    "    'S.C./PARIS':'SC/Paris',\n",
    "    'A/4.':'A/4',\n",
    "    'A/5.':'A/5',\n",
    "    'A.5.':'A/5',\n",
    "    'A./5.':'A/5',\n",
    "    'W./C.':'W/C',    \n",
    "})"
   ]
  },
  {
   "cell_type": "code",
   "execution_count": 54,
   "id": "12b4b251",
   "metadata": {
    "execution": {
     "iopub.execute_input": "2024-07-06T14:54:45.388123Z",
     "iopub.status.busy": "2024-07-06T14:54:45.387717Z",
     "iopub.status.idle": "2024-07-06T14:54:45.402712Z",
     "shell.execute_reply": "2024-07-06T14:54:45.401790Z"
    },
    "papermill": {
     "duration": 0.053792,
     "end_time": "2024-07-06T14:54:45.404735",
     "exception": false,
     "start_time": "2024-07-06T14:54:45.350943",
     "status": "completed"
    },
    "tags": []
   },
   "outputs": [
    {
     "data": {
      "text/html": [
       "<div>\n",
       "<style scoped>\n",
       "    .dataframe tbody tr th:only-of-type {\n",
       "        vertical-align: middle;\n",
       "    }\n",
       "\n",
       "    .dataframe tbody tr th {\n",
       "        vertical-align: top;\n",
       "    }\n",
       "\n",
       "    .dataframe thead th {\n",
       "        text-align: right;\n",
       "    }\n",
       "</style>\n",
       "<table border=\"1\" class=\"dataframe\">\n",
       "  <thead>\n",
       "    <tr style=\"text-align: right;\">\n",
       "      <th></th>\n",
       "      <th>ticket_location</th>\n",
       "      <th>count</th>\n",
       "      <th>mean</th>\n",
       "    </tr>\n",
       "  </thead>\n",
       "  <tbody>\n",
       "    <tr>\n",
       "      <th>0</th>\n",
       "      <td>A/4</td>\n",
       "      <td>6</td>\n",
       "      <td>0.000000</td>\n",
       "    </tr>\n",
       "    <tr>\n",
       "      <th>1</th>\n",
       "      <td>A/5</td>\n",
       "      <td>21</td>\n",
       "      <td>0.095238</td>\n",
       "    </tr>\n",
       "    <tr>\n",
       "      <th>2</th>\n",
       "      <td>A/S</td>\n",
       "      <td>1</td>\n",
       "      <td>0.000000</td>\n",
       "    </tr>\n",
       "    <tr>\n",
       "      <th>3</th>\n",
       "      <td>A4.</td>\n",
       "      <td>1</td>\n",
       "      <td>0.000000</td>\n",
       "    </tr>\n",
       "    <tr>\n",
       "      <th>4</th>\n",
       "      <td>Blank</td>\n",
       "      <td>665</td>\n",
       "      <td>0.383459</td>\n",
       "    </tr>\n",
       "    <tr>\n",
       "      <th>5</th>\n",
       "      <td>C</td>\n",
       "      <td>5</td>\n",
       "      <td>0.400000</td>\n",
       "    </tr>\n",
       "    <tr>\n",
       "      <th>6</th>\n",
       "      <td>C.A./SOTON</td>\n",
       "      <td>1</td>\n",
       "      <td>0.000000</td>\n",
       "    </tr>\n",
       "    <tr>\n",
       "      <th>7</th>\n",
       "      <td>CA</td>\n",
       "      <td>41</td>\n",
       "      <td>0.341463</td>\n",
       "    </tr>\n",
       "    <tr>\n",
       "      <th>8</th>\n",
       "      <td>F.C.</td>\n",
       "      <td>1</td>\n",
       "      <td>0.000000</td>\n",
       "    </tr>\n",
       "    <tr>\n",
       "      <th>9</th>\n",
       "      <td>F.C.C.</td>\n",
       "      <td>5</td>\n",
       "      <td>0.800000</td>\n",
       "    </tr>\n",
       "    <tr>\n",
       "      <th>10</th>\n",
       "      <td>Fa</td>\n",
       "      <td>1</td>\n",
       "      <td>0.000000</td>\n",
       "    </tr>\n",
       "    <tr>\n",
       "      <th>11</th>\n",
       "      <td>P/PP</td>\n",
       "      <td>2</td>\n",
       "      <td>0.500000</td>\n",
       "    </tr>\n",
       "    <tr>\n",
       "      <th>12</th>\n",
       "      <td>PC</td>\n",
       "      <td>60</td>\n",
       "      <td>0.650000</td>\n",
       "    </tr>\n",
       "    <tr>\n",
       "      <th>13</th>\n",
       "      <td>PP</td>\n",
       "      <td>3</td>\n",
       "      <td>0.666667</td>\n",
       "    </tr>\n",
       "    <tr>\n",
       "      <th>14</th>\n",
       "      <td>S.C./A.4.</td>\n",
       "      <td>1</td>\n",
       "      <td>0.000000</td>\n",
       "    </tr>\n",
       "    <tr>\n",
       "      <th>15</th>\n",
       "      <td>S.O./P.P.</td>\n",
       "      <td>3</td>\n",
       "      <td>0.000000</td>\n",
       "    </tr>\n",
       "    <tr>\n",
       "      <th>16</th>\n",
       "      <td>S.O.C.</td>\n",
       "      <td>5</td>\n",
       "      <td>0.000000</td>\n",
       "    </tr>\n",
       "    <tr>\n",
       "      <th>17</th>\n",
       "      <td>S.O.P.</td>\n",
       "      <td>1</td>\n",
       "      <td>0.000000</td>\n",
       "    </tr>\n",
       "    <tr>\n",
       "      <th>18</th>\n",
       "      <td>S.P.</td>\n",
       "      <td>1</td>\n",
       "      <td>0.000000</td>\n",
       "    </tr>\n",
       "    <tr>\n",
       "      <th>19</th>\n",
       "      <td>S.W./PP</td>\n",
       "      <td>1</td>\n",
       "      <td>1.000000</td>\n",
       "    </tr>\n",
       "    <tr>\n",
       "      <th>20</th>\n",
       "      <td>SC</td>\n",
       "      <td>1</td>\n",
       "      <td>1.000000</td>\n",
       "    </tr>\n",
       "    <tr>\n",
       "      <th>21</th>\n",
       "      <td>SC/AH</td>\n",
       "      <td>3</td>\n",
       "      <td>0.666667</td>\n",
       "    </tr>\n",
       "    <tr>\n",
       "      <th>22</th>\n",
       "      <td>SC/Paris</td>\n",
       "      <td>11</td>\n",
       "      <td>0.454545</td>\n",
       "    </tr>\n",
       "    <tr>\n",
       "      <th>23</th>\n",
       "      <td>SCO/W</td>\n",
       "      <td>1</td>\n",
       "      <td>0.000000</td>\n",
       "    </tr>\n",
       "    <tr>\n",
       "      <th>24</th>\n",
       "      <td>SO/C</td>\n",
       "      <td>1</td>\n",
       "      <td>1.000000</td>\n",
       "    </tr>\n",
       "    <tr>\n",
       "      <th>25</th>\n",
       "      <td>SOTON/O2</td>\n",
       "      <td>2</td>\n",
       "      <td>0.000000</td>\n",
       "    </tr>\n",
       "    <tr>\n",
       "      <th>26</th>\n",
       "      <td>SOTON/OQ</td>\n",
       "      <td>15</td>\n",
       "      <td>0.133333</td>\n",
       "    </tr>\n",
       "    <tr>\n",
       "      <th>27</th>\n",
       "      <td>STON/O</td>\n",
       "      <td>12</td>\n",
       "      <td>0.416667</td>\n",
       "    </tr>\n",
       "    <tr>\n",
       "      <th>28</th>\n",
       "      <td>STON/O2.</td>\n",
       "      <td>6</td>\n",
       "      <td>0.500000</td>\n",
       "    </tr>\n",
       "    <tr>\n",
       "      <th>29</th>\n",
       "      <td>SW/PP</td>\n",
       "      <td>1</td>\n",
       "      <td>1.000000</td>\n",
       "    </tr>\n",
       "    <tr>\n",
       "      <th>30</th>\n",
       "      <td>W.E.P.</td>\n",
       "      <td>1</td>\n",
       "      <td>0.000000</td>\n",
       "    </tr>\n",
       "    <tr>\n",
       "      <th>31</th>\n",
       "      <td>W/C</td>\n",
       "      <td>10</td>\n",
       "      <td>0.100000</td>\n",
       "    </tr>\n",
       "    <tr>\n",
       "      <th>32</th>\n",
       "      <td>WE/P</td>\n",
       "      <td>2</td>\n",
       "      <td>0.500000</td>\n",
       "    </tr>\n",
       "  </tbody>\n",
       "</table>\n",
       "</div>"
      ],
      "text/plain": [
       "   ticket_location  count      mean\n",
       "0              A/4      6  0.000000\n",
       "1              A/5     21  0.095238\n",
       "2              A/S      1  0.000000\n",
       "3              A4.      1  0.000000\n",
       "4            Blank    665  0.383459\n",
       "5                C      5  0.400000\n",
       "6       C.A./SOTON      1  0.000000\n",
       "7               CA     41  0.341463\n",
       "8             F.C.      1  0.000000\n",
       "9           F.C.C.      5  0.800000\n",
       "10              Fa      1  0.000000\n",
       "11            P/PP      2  0.500000\n",
       "12              PC     60  0.650000\n",
       "13              PP      3  0.666667\n",
       "14       S.C./A.4.      1  0.000000\n",
       "15       S.O./P.P.      3  0.000000\n",
       "16          S.O.C.      5  0.000000\n",
       "17          S.O.P.      1  0.000000\n",
       "18            S.P.      1  0.000000\n",
       "19         S.W./PP      1  1.000000\n",
       "20              SC      1  1.000000\n",
       "21           SC/AH      3  0.666667\n",
       "22        SC/Paris     11  0.454545\n",
       "23           SCO/W      1  0.000000\n",
       "24            SO/C      1  1.000000\n",
       "25        SOTON/O2      2  0.000000\n",
       "26        SOTON/OQ     15  0.133333\n",
       "27          STON/O     12  0.416667\n",
       "28        STON/O2.      6  0.500000\n",
       "29           SW/PP      1  1.000000\n",
       "30          W.E.P.      1  0.000000\n",
       "31             W/C     10  0.100000\n",
       "32            WE/P      2  0.500000"
      ]
     },
     "execution_count": 54,
     "metadata": {},
     "output_type": "execute_result"
    }
   ],
   "source": [
    "train_data.groupby(['ticket_location'], as_index=False)['Survived'].agg(['count', 'mean'])"
   ]
  },
  {
   "cell_type": "code",
   "execution_count": 55,
   "id": "116799c0",
   "metadata": {
    "execution": {
     "iopub.execute_input": "2024-07-06T14:54:45.478188Z",
     "iopub.status.busy": "2024-07-06T14:54:45.477814Z",
     "iopub.status.idle": "2024-07-06T14:54:45.487482Z",
     "shell.execute_reply": "2024-07-06T14:54:45.486410Z"
    },
    "papermill": {
     "duration": 0.049765,
     "end_time": "2024-07-06T14:54:45.489636",
     "exception": false,
     "start_time": "2024-07-06T14:54:45.439871",
     "status": "completed"
    },
    "tags": []
   },
   "outputs": [],
   "source": [
    "train_data['Cabin'] = train_data['Cabin'].fillna('U')\n",
    "train_data['Cabin'] = pd.Series([i[0] if not pd.isnull(i) else 'x' for i in train_data['Cabin']])\n",
    "\n",
    "test_data['Cabin'] = test_data['Cabin'].fillna('U')\n",
    "test_data['Cabin'] = pd.Series([i[0] if not pd.isnull(i) else 'x' for i in test_data['Cabin']])"
   ]
  },
  {
   "cell_type": "code",
   "execution_count": 56,
   "id": "22c6f1b9",
   "metadata": {
    "execution": {
     "iopub.execute_input": "2024-07-06T14:54:45.562964Z",
     "iopub.status.busy": "2024-07-06T14:54:45.562035Z",
     "iopub.status.idle": "2024-07-06T14:54:45.575374Z",
     "shell.execute_reply": "2024-07-06T14:54:45.574345Z"
    },
    "papermill": {
     "duration": 0.052373,
     "end_time": "2024-07-06T14:54:45.577580",
     "exception": false,
     "start_time": "2024-07-06T14:54:45.525207",
     "status": "completed"
    },
    "tags": []
   },
   "outputs": [
    {
     "data": {
      "text/html": [
       "<div>\n",
       "<style scoped>\n",
       "    .dataframe tbody tr th:only-of-type {\n",
       "        vertical-align: middle;\n",
       "    }\n",
       "\n",
       "    .dataframe tbody tr th {\n",
       "        vertical-align: top;\n",
       "    }\n",
       "\n",
       "    .dataframe thead th {\n",
       "        text-align: right;\n",
       "    }\n",
       "</style>\n",
       "<table border=\"1\" class=\"dataframe\">\n",
       "  <thead>\n",
       "    <tr style=\"text-align: right;\">\n",
       "      <th></th>\n",
       "      <th>Cabin</th>\n",
       "      <th>count</th>\n",
       "      <th>mean</th>\n",
       "    </tr>\n",
       "  </thead>\n",
       "  <tbody>\n",
       "    <tr>\n",
       "      <th>0</th>\n",
       "      <td>A</td>\n",
       "      <td>15</td>\n",
       "      <td>0.466667</td>\n",
       "    </tr>\n",
       "    <tr>\n",
       "      <th>1</th>\n",
       "      <td>B</td>\n",
       "      <td>47</td>\n",
       "      <td>0.744681</td>\n",
       "    </tr>\n",
       "    <tr>\n",
       "      <th>2</th>\n",
       "      <td>C</td>\n",
       "      <td>59</td>\n",
       "      <td>0.593220</td>\n",
       "    </tr>\n",
       "    <tr>\n",
       "      <th>3</th>\n",
       "      <td>D</td>\n",
       "      <td>33</td>\n",
       "      <td>0.757576</td>\n",
       "    </tr>\n",
       "    <tr>\n",
       "      <th>4</th>\n",
       "      <td>E</td>\n",
       "      <td>32</td>\n",
       "      <td>0.750000</td>\n",
       "    </tr>\n",
       "    <tr>\n",
       "      <th>5</th>\n",
       "      <td>F</td>\n",
       "      <td>13</td>\n",
       "      <td>0.615385</td>\n",
       "    </tr>\n",
       "    <tr>\n",
       "      <th>6</th>\n",
       "      <td>G</td>\n",
       "      <td>4</td>\n",
       "      <td>0.500000</td>\n",
       "    </tr>\n",
       "    <tr>\n",
       "      <th>7</th>\n",
       "      <td>T</td>\n",
       "      <td>1</td>\n",
       "      <td>0.000000</td>\n",
       "    </tr>\n",
       "    <tr>\n",
       "      <th>8</th>\n",
       "      <td>U</td>\n",
       "      <td>687</td>\n",
       "      <td>0.299854</td>\n",
       "    </tr>\n",
       "  </tbody>\n",
       "</table>\n",
       "</div>"
      ],
      "text/plain": [
       "  Cabin  count      mean\n",
       "0     A     15  0.466667\n",
       "1     B     47  0.744681\n",
       "2     C     59  0.593220\n",
       "3     D     33  0.757576\n",
       "4     E     32  0.750000\n",
       "5     F     13  0.615385\n",
       "6     G      4  0.500000\n",
       "7     T      1  0.000000\n",
       "8     U    687  0.299854"
      ]
     },
     "execution_count": 56,
     "metadata": {},
     "output_type": "execute_result"
    }
   ],
   "source": [
    "train_data.groupby(['Cabin'], as_index=False)['Survived'].agg(['count', 'mean'])"
   ]
  },
  {
   "cell_type": "code",
   "execution_count": 57,
   "id": "2d396dcf",
   "metadata": {
    "execution": {
     "iopub.execute_input": "2024-07-06T14:54:45.651719Z",
     "iopub.status.busy": "2024-07-06T14:54:45.650844Z",
     "iopub.status.idle": "2024-07-06T14:54:45.658118Z",
     "shell.execute_reply": "2024-07-06T14:54:45.657143Z"
    },
    "papermill": {
     "duration": 0.04667,
     "end_time": "2024-07-06T14:54:45.660218",
     "exception": false,
     "start_time": "2024-07-06T14:54:45.613548",
     "status": "completed"
    },
    "tags": []
   },
   "outputs": [],
   "source": [
    "train_data['Cabin_Assigned'] = train_data['Cabin'].apply(lambda x: 0 if x in ['U'] else 1)\n",
    "test_data['Cabin_Assigned'] = test_data['Cabin'].apply(lambda x: 0 if x in ['U'] else 1)"
   ]
  },
  {
   "cell_type": "code",
   "execution_count": 58,
   "id": "b15acdbd",
   "metadata": {
    "execution": {
     "iopub.execute_input": "2024-07-06T14:54:45.733712Z",
     "iopub.status.busy": "2024-07-06T14:54:45.732551Z",
     "iopub.status.idle": "2024-07-06T14:54:45.744869Z",
     "shell.execute_reply": "2024-07-06T14:54:45.743936Z"
    },
    "papermill": {
     "duration": 0.051165,
     "end_time": "2024-07-06T14:54:45.746970",
     "exception": false,
     "start_time": "2024-07-06T14:54:45.695805",
     "status": "completed"
    },
    "tags": []
   },
   "outputs": [
    {
     "data": {
      "text/html": [
       "<div>\n",
       "<style scoped>\n",
       "    .dataframe tbody tr th:only-of-type {\n",
       "        vertical-align: middle;\n",
       "    }\n",
       "\n",
       "    .dataframe tbody tr th {\n",
       "        vertical-align: top;\n",
       "    }\n",
       "\n",
       "    .dataframe thead th {\n",
       "        text-align: right;\n",
       "    }\n",
       "</style>\n",
       "<table border=\"1\" class=\"dataframe\">\n",
       "  <thead>\n",
       "    <tr style=\"text-align: right;\">\n",
       "      <th></th>\n",
       "      <th>Cabin_Assigned</th>\n",
       "      <th>count</th>\n",
       "      <th>mean</th>\n",
       "    </tr>\n",
       "  </thead>\n",
       "  <tbody>\n",
       "    <tr>\n",
       "      <th>0</th>\n",
       "      <td>0</td>\n",
       "      <td>687</td>\n",
       "      <td>0.299854</td>\n",
       "    </tr>\n",
       "    <tr>\n",
       "      <th>1</th>\n",
       "      <td>1</td>\n",
       "      <td>204</td>\n",
       "      <td>0.666667</td>\n",
       "    </tr>\n",
       "  </tbody>\n",
       "</table>\n",
       "</div>"
      ],
      "text/plain": [
       "   Cabin_Assigned  count      mean\n",
       "0               0    687  0.299854\n",
       "1               1    204  0.666667"
      ]
     },
     "execution_count": 58,
     "metadata": {},
     "output_type": "execute_result"
    }
   ],
   "source": [
    "train_data.groupby(['Cabin_Assigned'], as_index=False)['Survived'].agg(['count', 'mean'])"
   ]
  },
  {
   "cell_type": "code",
   "execution_count": 59,
   "id": "54f94ef6",
   "metadata": {
    "execution": {
     "iopub.execute_input": "2024-07-06T14:54:45.819993Z",
     "iopub.status.busy": "2024-07-06T14:54:45.819273Z",
     "iopub.status.idle": "2024-07-06T14:54:45.845625Z",
     "shell.execute_reply": "2024-07-06T14:54:45.844555Z"
    },
    "papermill": {
     "duration": 0.065264,
     "end_time": "2024-07-06T14:54:45.847916",
     "exception": false,
     "start_time": "2024-07-06T14:54:45.782652",
     "status": "completed"
    },
    "tags": []
   },
   "outputs": [
    {
     "data": {
      "text/html": [
       "<div>\n",
       "<style scoped>\n",
       "    .dataframe tbody tr th:only-of-type {\n",
       "        vertical-align: middle;\n",
       "    }\n",
       "\n",
       "    .dataframe tbody tr th {\n",
       "        vertical-align: top;\n",
       "    }\n",
       "\n",
       "    .dataframe thead th {\n",
       "        text-align: right;\n",
       "    }\n",
       "</style>\n",
       "<table border=\"1\" class=\"dataframe\">\n",
       "  <thead>\n",
       "    <tr style=\"text-align: right;\">\n",
       "      <th></th>\n",
       "      <th>PassengerId</th>\n",
       "      <th>Survived</th>\n",
       "      <th>Pclass</th>\n",
       "      <th>Name</th>\n",
       "      <th>Sex</th>\n",
       "      <th>Age</th>\n",
       "      <th>SibSp</th>\n",
       "      <th>Parch</th>\n",
       "      <th>Ticket</th>\n",
       "      <th>Fare</th>\n",
       "      <th>...</th>\n",
       "      <th>age_cut</th>\n",
       "      <th>fare_cut</th>\n",
       "      <th>title</th>\n",
       "      <th>Name_Length</th>\n",
       "      <th>Name_LengthGB</th>\n",
       "      <th>Name_Size</th>\n",
       "      <th>ticket_number</th>\n",
       "      <th>ticket_number_count</th>\n",
       "      <th>ticket_location</th>\n",
       "      <th>Cabin_Assigned</th>\n",
       "    </tr>\n",
       "  </thead>\n",
       "  <tbody>\n",
       "    <tr>\n",
       "      <th>0</th>\n",
       "      <td>1</td>\n",
       "      <td>0</td>\n",
       "      <td>3</td>\n",
       "      <td>Braund, Mr. Owen Harris</td>\n",
       "      <td>male</td>\n",
       "      <td>2.0</td>\n",
       "      <td>1</td>\n",
       "      <td>0</td>\n",
       "      <td>A/5 21171</td>\n",
       "      <td>0.0</td>\n",
       "      <td>...</td>\n",
       "      <td>(20.125, 24.0]</td>\n",
       "      <td>(-0.001, 7.775]</td>\n",
       "      <td>Mr</td>\n",
       "      <td>23</td>\n",
       "      <td>(20.0, 23.0]</td>\n",
       "      <td>2.0</td>\n",
       "      <td>21171</td>\n",
       "      <td>1</td>\n",
       "      <td>A/5</td>\n",
       "      <td>0</td>\n",
       "    </tr>\n",
       "    <tr>\n",
       "      <th>1</th>\n",
       "      <td>2</td>\n",
       "      <td>1</td>\n",
       "      <td>1</td>\n",
       "      <td>Cumings, Mrs. John Bradley (Florence Briggs Th...</td>\n",
       "      <td>female</td>\n",
       "      <td>5.0</td>\n",
       "      <td>1</td>\n",
       "      <td>0</td>\n",
       "      <td>PC 17599</td>\n",
       "      <td>5.0</td>\n",
       "      <td>...</td>\n",
       "      <td>(32.312, 38.0]</td>\n",
       "      <td>(52.369, 512.329]</td>\n",
       "      <td>Mrs</td>\n",
       "      <td>51</td>\n",
       "      <td>(38.0, 82.0]</td>\n",
       "      <td>7.0</td>\n",
       "      <td>17599</td>\n",
       "      <td>1</td>\n",
       "      <td>PC</td>\n",
       "      <td>1</td>\n",
       "    </tr>\n",
       "    <tr>\n",
       "      <th>2</th>\n",
       "      <td>3</td>\n",
       "      <td>1</td>\n",
       "      <td>3</td>\n",
       "      <td>Heikkinen, Miss. Laina</td>\n",
       "      <td>female</td>\n",
       "      <td>3.0</td>\n",
       "      <td>0</td>\n",
       "      <td>0</td>\n",
       "      <td>STON/O2. 3101282</td>\n",
       "      <td>1.0</td>\n",
       "      <td>...</td>\n",
       "      <td>(24.0, 28.0]</td>\n",
       "      <td>(7.775, 8.662]</td>\n",
       "      <td>Miss</td>\n",
       "      <td>22</td>\n",
       "      <td>(20.0, 23.0]</td>\n",
       "      <td>2.0</td>\n",
       "      <td>3101282</td>\n",
       "      <td>1</td>\n",
       "      <td>STON/O2.</td>\n",
       "      <td>0</td>\n",
       "    </tr>\n",
       "    <tr>\n",
       "      <th>3</th>\n",
       "      <td>4</td>\n",
       "      <td>1</td>\n",
       "      <td>1</td>\n",
       "      <td>Futrelle, Mrs. Jacques Heath (Lily May Peel)</td>\n",
       "      <td>female</td>\n",
       "      <td>5.0</td>\n",
       "      <td>1</td>\n",
       "      <td>0</td>\n",
       "      <td>113803</td>\n",
       "      <td>5.0</td>\n",
       "      <td>...</td>\n",
       "      <td>(32.312, 38.0]</td>\n",
       "      <td>(52.369, 512.329]</td>\n",
       "      <td>Mrs</td>\n",
       "      <td>44</td>\n",
       "      <td>(38.0, 82.0]</td>\n",
       "      <td>7.0</td>\n",
       "      <td>113803</td>\n",
       "      <td>2</td>\n",
       "      <td>Blank</td>\n",
       "      <td>1</td>\n",
       "    </tr>\n",
       "    <tr>\n",
       "      <th>4</th>\n",
       "      <td>5</td>\n",
       "      <td>0</td>\n",
       "      <td>3</td>\n",
       "      <td>Allen, Mr. William Henry</td>\n",
       "      <td>male</td>\n",
       "      <td>5.0</td>\n",
       "      <td>0</td>\n",
       "      <td>0</td>\n",
       "      <td>373450</td>\n",
       "      <td>1.0</td>\n",
       "      <td>...</td>\n",
       "      <td>(32.312, 38.0]</td>\n",
       "      <td>(7.775, 8.662]</td>\n",
       "      <td>Mr</td>\n",
       "      <td>24</td>\n",
       "      <td>(23.0, 25.0]</td>\n",
       "      <td>3.0</td>\n",
       "      <td>373450</td>\n",
       "      <td>1</td>\n",
       "      <td>Blank</td>\n",
       "      <td>0</td>\n",
       "    </tr>\n",
       "  </tbody>\n",
       "</table>\n",
       "<p>5 rows × 24 columns</p>\n",
       "</div>"
      ],
      "text/plain": [
       "   PassengerId  Survived  Pclass  \\\n",
       "0            1         0       3   \n",
       "1            2         1       1   \n",
       "2            3         1       3   \n",
       "3            4         1       1   \n",
       "4            5         0       3   \n",
       "\n",
       "                                                Name     Sex  Age  SibSp  \\\n",
       "0                            Braund, Mr. Owen Harris    male  2.0      1   \n",
       "1  Cumings, Mrs. John Bradley (Florence Briggs Th...  female  5.0      1   \n",
       "2                             Heikkinen, Miss. Laina  female  3.0      0   \n",
       "3       Futrelle, Mrs. Jacques Heath (Lily May Peel)  female  5.0      1   \n",
       "4                           Allen, Mr. William Henry    male  5.0      0   \n",
       "\n",
       "   Parch            Ticket  Fare  ...         age_cut           fare_cut  \\\n",
       "0      0         A/5 21171   0.0  ...  (20.125, 24.0]    (-0.001, 7.775]   \n",
       "1      0          PC 17599   5.0  ...  (32.312, 38.0]  (52.369, 512.329]   \n",
       "2      0  STON/O2. 3101282   1.0  ...    (24.0, 28.0]     (7.775, 8.662]   \n",
       "3      0            113803   5.0  ...  (32.312, 38.0]  (52.369, 512.329]   \n",
       "4      0            373450   1.0  ...  (32.312, 38.0]     (7.775, 8.662]   \n",
       "\n",
       "   title Name_Length Name_LengthGB Name_Size ticket_number  \\\n",
       "0     Mr          23  (20.0, 23.0]       2.0         21171   \n",
       "1    Mrs          51  (38.0, 82.0]       7.0         17599   \n",
       "2   Miss          22  (20.0, 23.0]       2.0       3101282   \n",
       "3    Mrs          44  (38.0, 82.0]       7.0        113803   \n",
       "4     Mr          24  (23.0, 25.0]       3.0        373450   \n",
       "\n",
       "   ticket_number_count ticket_location  Cabin_Assigned  \n",
       "0                    1             A/5               0  \n",
       "1                    1              PC               1  \n",
       "2                    1        STON/O2.               0  \n",
       "3                    2           Blank               1  \n",
       "4                    1           Blank               0  \n",
       "\n",
       "[5 rows x 24 columns]"
      ]
     },
     "execution_count": 59,
     "metadata": {},
     "output_type": "execute_result"
    }
   ],
   "source": [
    "train_data.head()"
   ]
  },
  {
   "cell_type": "code",
   "execution_count": 60,
   "id": "cb017cc2",
   "metadata": {
    "execution": {
     "iopub.execute_input": "2024-07-06T14:54:45.922098Z",
     "iopub.status.busy": "2024-07-06T14:54:45.921686Z",
     "iopub.status.idle": "2024-07-06T14:54:45.927900Z",
     "shell.execute_reply": "2024-07-06T14:54:45.926993Z"
    },
    "papermill": {
     "duration": 0.045655,
     "end_time": "2024-07-06T14:54:45.930093",
     "exception": false,
     "start_time": "2024-07-06T14:54:45.884438",
     "status": "completed"
    },
    "tags": []
   },
   "outputs": [
    {
     "data": {
      "text/plain": [
       "(891, 24)"
      ]
     },
     "execution_count": 60,
     "metadata": {},
     "output_type": "execute_result"
    }
   ],
   "source": [
    "train_data.shape"
   ]
  },
  {
   "cell_type": "code",
   "execution_count": 61,
   "id": "c86b3b0a",
   "metadata": {
    "execution": {
     "iopub.execute_input": "2024-07-06T14:54:46.004826Z",
     "iopub.status.busy": "2024-07-06T14:54:46.003616Z",
     "iopub.status.idle": "2024-07-06T14:54:46.010378Z",
     "shell.execute_reply": "2024-07-06T14:54:46.009476Z"
    },
    "papermill": {
     "duration": 0.046316,
     "end_time": "2024-07-06T14:54:46.012576",
     "exception": false,
     "start_time": "2024-07-06T14:54:45.966260",
     "status": "completed"
    },
    "tags": []
   },
   "outputs": [
    {
     "data": {
      "text/plain": [
       "(418, 23)"
      ]
     },
     "execution_count": 61,
     "metadata": {},
     "output_type": "execute_result"
    }
   ],
   "source": [
    "test_data.shape"
   ]
  },
  {
   "cell_type": "code",
   "execution_count": 62,
   "id": "a6c5fe6a",
   "metadata": {
    "execution": {
     "iopub.execute_input": "2024-07-06T14:54:46.091518Z",
     "iopub.status.busy": "2024-07-06T14:54:46.091132Z",
     "iopub.status.idle": "2024-07-06T14:54:46.108216Z",
     "shell.execute_reply": "2024-07-06T14:54:46.107178Z"
    },
    "papermill": {
     "duration": 0.061006,
     "end_time": "2024-07-06T14:54:46.110409",
     "exception": false,
     "start_time": "2024-07-06T14:54:46.049403",
     "status": "completed"
    },
    "tags": []
   },
   "outputs": [
    {
     "name": "stdout",
     "output_type": "stream",
     "text": [
      "<class 'pandas.core.frame.DataFrame'>\n",
      "RangeIndex: 891 entries, 0 to 890\n",
      "Data columns (total 24 columns):\n",
      " #   Column               Non-Null Count  Dtype   \n",
      "---  ------               --------------  -----   \n",
      " 0   PassengerId          891 non-null    int64   \n",
      " 1   Survived             891 non-null    int64   \n",
      " 2   Pclass               891 non-null    int64   \n",
      " 3   Name                 891 non-null    object  \n",
      " 4   Sex                  891 non-null    object  \n",
      " 5   Age                  714 non-null    float64 \n",
      " 6   SibSp                891 non-null    int64   \n",
      " 7   Parch                891 non-null    int64   \n",
      " 8   Ticket               891 non-null    object  \n",
      " 9   Fare                 891 non-null    float64 \n",
      " 10  Cabin                891 non-null    object  \n",
      " 11  Embarked             889 non-null    object  \n",
      " 12  family_size          891 non-null    int64   \n",
      " 13  family_size_grouped  891 non-null    object  \n",
      " 14  age_cut              714 non-null    category\n",
      " 15  fare_cut             891 non-null    category\n",
      " 16  title                891 non-null    object  \n",
      " 17  Name_Length          891 non-null    int64   \n",
      " 18  Name_LengthGB        891 non-null    category\n",
      " 19  Name_Size            891 non-null    float64 \n",
      " 20  ticket_number        891 non-null    object  \n",
      " 21  ticket_number_count  891 non-null    int64   \n",
      " 22  ticket_location      891 non-null    object  \n",
      " 23  Cabin_Assigned       891 non-null    int64   \n",
      "dtypes: category(3), float64(3), int64(9), object(9)\n",
      "memory usage: 150.0+ KB\n"
     ]
    }
   ],
   "source": [
    "train_data.info()"
   ]
  },
  {
   "cell_type": "code",
   "execution_count": 63,
   "id": "7195161c",
   "metadata": {
    "execution": {
     "iopub.execute_input": "2024-07-06T14:54:46.184805Z",
     "iopub.status.busy": "2024-07-06T14:54:46.184057Z",
     "iopub.status.idle": "2024-07-06T14:54:46.190691Z",
     "shell.execute_reply": "2024-07-06T14:54:46.189702Z"
    },
    "papermill": {
     "duration": 0.046451,
     "end_time": "2024-07-06T14:54:46.192965",
     "exception": false,
     "start_time": "2024-07-06T14:54:46.146514",
     "status": "completed"
    },
    "tags": []
   },
   "outputs": [
    {
     "data": {
      "text/plain": [
       "Index(['PassengerId', 'Survived', 'Pclass', 'Name', 'Sex', 'Age', 'SibSp',\n",
       "       'Parch', 'Ticket', 'Fare', 'Cabin', 'Embarked', 'family_size',\n",
       "       'family_size_grouped', 'age_cut', 'fare_cut', 'title', 'Name_Length',\n",
       "       'Name_LengthGB', 'Name_Size', 'ticket_number', 'ticket_number_count',\n",
       "       'ticket_location', 'Cabin_Assigned'],\n",
       "      dtype='object')"
      ]
     },
     "execution_count": 63,
     "metadata": {},
     "output_type": "execute_result"
    }
   ],
   "source": [
    "train_data.columns"
   ]
  },
  {
   "cell_type": "code",
   "execution_count": 64,
   "id": "791900aa",
   "metadata": {
    "execution": {
     "iopub.execute_input": "2024-07-06T14:54:46.269174Z",
     "iopub.status.busy": "2024-07-06T14:54:46.268795Z",
     "iopub.status.idle": "2024-07-06T14:54:46.285948Z",
     "shell.execute_reply": "2024-07-06T14:54:46.284872Z"
    },
    "papermill": {
     "duration": 0.057111,
     "end_time": "2024-07-06T14:54:46.288155",
     "exception": false,
     "start_time": "2024-07-06T14:54:46.231044",
     "status": "completed"
    },
    "tags": []
   },
   "outputs": [
    {
     "name": "stdout",
     "output_type": "stream",
     "text": [
      "<class 'pandas.core.frame.DataFrame'>\n",
      "RangeIndex: 418 entries, 0 to 417\n",
      "Data columns (total 23 columns):\n",
      " #   Column               Non-Null Count  Dtype   \n",
      "---  ------               --------------  -----   \n",
      " 0   PassengerId          418 non-null    int64   \n",
      " 1   Pclass               418 non-null    int64   \n",
      " 2   Name                 418 non-null    object  \n",
      " 3   Sex                  418 non-null    object  \n",
      " 4   Age                  332 non-null    float64 \n",
      " 5   SibSp                418 non-null    int64   \n",
      " 6   Parch                418 non-null    int64   \n",
      " 7   Ticket               418 non-null    object  \n",
      " 8   Fare                 417 non-null    float64 \n",
      " 9   Cabin                418 non-null    object  \n",
      " 10  Embarked             418 non-null    object  \n",
      " 11  family_size          418 non-null    int64   \n",
      " 12  family_size_grouped  418 non-null    object  \n",
      " 13  age_cut              332 non-null    category\n",
      " 14  fare_cut             417 non-null    category\n",
      " 15  title                418 non-null    object  \n",
      " 16  Name_Length          418 non-null    int64   \n",
      " 17  Name_LengthGB        418 non-null    category\n",
      " 18  Name_Size            418 non-null    float64 \n",
      " 19  ticket_number        418 non-null    object  \n",
      " 20  ticket_number_count  418 non-null    int64   \n",
      " 21  ticket_location      418 non-null    object  \n",
      " 22  Cabin_Assigned       418 non-null    int64   \n",
      "dtypes: category(3), float64(3), int64(8), object(9)\n",
      "memory usage: 67.8+ KB\n"
     ]
    }
   ],
   "source": [
    "test_data.info()"
   ]
  },
  {
   "cell_type": "code",
   "execution_count": 65,
   "id": "34ac278c",
   "metadata": {
    "execution": {
     "iopub.execute_input": "2024-07-06T14:54:46.363520Z",
     "iopub.status.busy": "2024-07-06T14:54:46.363144Z",
     "iopub.status.idle": "2024-07-06T14:54:46.371637Z",
     "shell.execute_reply": "2024-07-06T14:54:46.370688Z"
    },
    "papermill": {
     "duration": 0.048717,
     "end_time": "2024-07-06T14:54:46.373843",
     "exception": false,
     "start_time": "2024-07-06T14:54:46.325126",
     "status": "completed"
    },
    "tags": []
   },
   "outputs": [
    {
     "name": "stderr",
     "output_type": "stream",
     "text": [
      "/tmp/ipykernel_18/1569666994.py:1: FutureWarning: A value is trying to be set on a copy of a DataFrame or Series through chained assignment using an inplace method.\n",
      "The behavior will change in pandas 3.0. This inplace method will never work because the intermediate object on which we are setting values always behaves as a copy.\n",
      "\n",
      "For example, when doing 'df[col].method(value, inplace=True)', try using 'df.method({col: value}, inplace=True)' or df[col] = df[col].method(value) instead, to perform the operation inplace on the original object.\n",
      "\n",
      "\n",
      "  train_data['Age'].fillna(train_data['Age'].mean(), inplace=True)\n",
      "/tmp/ipykernel_18/1569666994.py:2: FutureWarning: A value is trying to be set on a copy of a DataFrame or Series through chained assignment using an inplace method.\n",
      "The behavior will change in pandas 3.0. This inplace method will never work because the intermediate object on which we are setting values always behaves as a copy.\n",
      "\n",
      "For example, when doing 'df[col].method(value, inplace=True)', try using 'df.method({col: value}, inplace=True)' or df[col] = df[col].method(value) instead, to perform the operation inplace on the original object.\n",
      "\n",
      "\n",
      "  test_data['Age'].fillna(test_data['Age'].mean(), inplace=True)\n",
      "/tmp/ipykernel_18/1569666994.py:5: FutureWarning: A value is trying to be set on a copy of a DataFrame or Series through chained assignment using an inplace method.\n",
      "The behavior will change in pandas 3.0. This inplace method will never work because the intermediate object on which we are setting values always behaves as a copy.\n",
      "\n",
      "For example, when doing 'df[col].method(value, inplace=True)', try using 'df.method({col: value}, inplace=True)' or df[col] = df[col].method(value) instead, to perform the operation inplace on the original object.\n",
      "\n",
      "\n",
      "  test_data['Fare'].fillna(test_data['Fare'].mean(), inplace=True)\n"
     ]
    }
   ],
   "source": [
    "train_data['Age'].fillna(train_data['Age'].mean(), inplace=True)\n",
    "test_data['Age'].fillna(test_data['Age'].mean(), inplace=True)\n",
    "\n",
    "\n",
    "test_data['Fare'].fillna(test_data['Fare'].mean(), inplace=True)\n"
   ]
  },
  {
   "cell_type": "code",
   "execution_count": 66,
   "id": "1398e0a9",
   "metadata": {
    "execution": {
     "iopub.execute_input": "2024-07-06T14:54:46.449098Z",
     "iopub.status.busy": "2024-07-06T14:54:46.448696Z",
     "iopub.status.idle": "2024-07-06T14:54:46.453663Z",
     "shell.execute_reply": "2024-07-06T14:54:46.452674Z"
    },
    "papermill": {
     "duration": 0.045385,
     "end_time": "2024-07-06T14:54:46.456039",
     "exception": false,
     "start_time": "2024-07-06T14:54:46.410654",
     "status": "completed"
    },
    "tags": []
   },
   "outputs": [],
   "source": [
    "ohe = OneHotEncoder(sparse_output=False)\n",
    "ode = OrdinalEncoder\n",
    "SI = SimpleImputer(strategy='most_frequent')"
   ]
  },
  {
   "cell_type": "code",
   "execution_count": 67,
   "id": "1d96bcf4",
   "metadata": {
    "execution": {
     "iopub.execute_input": "2024-07-06T14:54:46.533946Z",
     "iopub.status.busy": "2024-07-06T14:54:46.533544Z",
     "iopub.status.idle": "2024-07-06T14:54:46.538405Z",
     "shell.execute_reply": "2024-07-06T14:54:46.537270Z"
    },
    "papermill": {
     "duration": 0.045381,
     "end_time": "2024-07-06T14:54:46.540656",
     "exception": false,
     "start_time": "2024-07-06T14:54:46.495275",
     "status": "completed"
    },
    "tags": []
   },
   "outputs": [],
   "source": [
    "ode_cols = ['family_size_grouped']\n",
    "ohe_cols = ['Sex', 'Embarked']"
   ]
  },
  {
   "cell_type": "code",
   "execution_count": 68,
   "id": "80957786",
   "metadata": {
    "execution": {
     "iopub.execute_input": "2024-07-06T14:54:46.616632Z",
     "iopub.status.busy": "2024-07-06T14:54:46.616229Z",
     "iopub.status.idle": "2024-07-06T14:54:47.414238Z",
     "shell.execute_reply": "2024-07-06T14:54:47.413038Z"
    },
    "papermill": {
     "duration": 0.83961,
     "end_time": "2024-07-06T14:54:47.417230",
     "exception": false,
     "start_time": "2024-07-06T14:54:46.577620",
     "status": "completed"
    },
    "tags": []
   },
   "outputs": [
    {
     "data": {
      "text/plain": [
       "<Axes: >"
      ]
     },
     "execution_count": 68,
     "metadata": {},
     "output_type": "execute_result"
    },
    {
     "data": {
      "image/png": "[encoded data removed]",
      "text/plain": [
       "<Figure size 800x600 with 2 Axes>"
      ]
     },
     "metadata": {},
     "output_type": "display_data"
    }
   ],
   "source": [
    "correlation_matrix = train_data.corr(numeric_only=True)\n",
    "\n",
    "# Create a heatmap using Seaborn\n",
    "plt.figure(figsize=(8, 6))  # Adjust the figure size as needed\n",
    "sns.heatmap(correlation_matrix, annot=True, cmap='coolwarm', fmt=\".2f\")"
   ]
  },
  {
   "cell_type": "code",
   "execution_count": 69,
   "id": "a0caba4f",
   "metadata": {
    "execution": {
     "iopub.execute_input": "2024-07-06T14:54:47.498862Z",
     "iopub.status.busy": "2024-07-06T14:54:47.498091Z",
     "iopub.status.idle": "2024-07-06T14:54:47.506660Z",
     "shell.execute_reply": "2024-07-06T14:54:47.505684Z"
    },
    "papermill": {
     "duration": 0.052515,
     "end_time": "2024-07-06T14:54:47.508890",
     "exception": false,
     "start_time": "2024-07-06T14:54:47.456375",
     "status": "completed"
    },
    "tags": []
   },
   "outputs": [],
   "source": [
    "#new\n",
    "X = train_data.drop(['Survived', 'SibSp', 'Parch'], axis=1)\n",
    "y = train_data['Survived']\n",
    "X_test = test_data.drop(['age_cut', 'fare_cut', 'SibSp', 'Parch'], axis=1)"
   ]
  },
  {
   "cell_type": "code",
   "execution_count": 70,
   "id": "22ef0e98",
   "metadata": {
    "execution": {
     "iopub.execute_input": "2024-07-06T14:54:47.589158Z",
     "iopub.status.busy": "2024-07-06T14:54:47.588731Z",
     "iopub.status.idle": "2024-07-06T14:54:47.601947Z",
     "shell.execute_reply": "2024-07-06T14:54:47.600920Z"
    },
    "papermill": {
     "duration": 0.056576,
     "end_time": "2024-07-06T14:54:47.604411",
     "exception": false,
     "start_time": "2024-07-06T14:54:47.547835",
     "status": "completed"
    },
    "tags": []
   },
   "outputs": [],
   "source": [
    "X_train, X_valid, y_train, y_valid = train_test_split(X, y, test_size=0.2, stratify = y, random_state=21)\n"
   ]
  },
  {
   "cell_type": "code",
   "execution_count": 71,
   "id": "f10b4050",
   "metadata": {
    "execution": {
     "iopub.execute_input": "2024-07-06T14:54:47.684804Z",
     "iopub.status.busy": "2024-07-06T14:54:47.684010Z",
     "iopub.status.idle": "2024-07-06T14:54:47.689122Z",
     "shell.execute_reply": "2024-07-06T14:54:47.688119Z"
    },
    "papermill": {
     "duration": 0.047663,
     "end_time": "2024-07-06T14:54:47.691317",
     "exception": false,
     "start_time": "2024-07-06T14:54:47.643654",
     "status": "completed"
    },
    "tags": []
   },
   "outputs": [],
   "source": [
    "ordinal_pipeline = Pipeline(steps=[\n",
    "    ('impute', SimpleImputer(strategy='most_frequent')),\n",
    "    ('ord', OrdinalEncoder(handle_unknown='use_encoded_value', unknown_value=-1))\n",
    "])"
   ]
  },
  {
   "cell_type": "code",
   "execution_count": 72,
   "id": "1927d080",
   "metadata": {
    "execution": {
     "iopub.execute_input": "2024-07-06T14:54:47.771986Z",
     "iopub.status.busy": "2024-07-06T14:54:47.771485Z",
     "iopub.status.idle": "2024-07-06T14:54:47.776538Z",
     "shell.execute_reply": "2024-07-06T14:54:47.775522Z"
    },
    "papermill": {
     "duration": 0.04786,
     "end_time": "2024-07-06T14:54:47.778700",
     "exception": false,
     "start_time": "2024-07-06T14:54:47.730840",
     "status": "completed"
    },
    "tags": []
   },
   "outputs": [],
   "source": [
    "ohe_pipeline = Pipeline(steps=[\n",
    "    ('impute', SimpleImputer(strategy='most_frequent')),\n",
    "    ('one-hot', OneHotEncoder(handle_unknown = 'ignore', sparse_output=False))\n",
    "])"
   ]
  },
  {
   "cell_type": "code",
   "execution_count": 73,
   "id": "b4f435fa",
   "metadata": {
    "execution": {
     "iopub.execute_input": "2024-07-06T14:54:47.858422Z",
     "iopub.status.busy": "2024-07-06T14:54:47.858048Z",
     "iopub.status.idle": "2024-07-06T14:54:47.863582Z",
     "shell.execute_reply": "2024-07-06T14:54:47.862492Z"
    },
    "papermill": {
     "duration": 0.047925,
     "end_time": "2024-07-06T14:54:47.865778",
     "exception": false,
     "start_time": "2024-07-06T14:54:47.817853",
     "status": "completed"
    },
    "tags": []
   },
   "outputs": [],
   "source": [
    "col_trans = ColumnTransformer(transformers=[\n",
    "    ('impute', SI, ['Age']),\n",
    "    ('ord_pipeline', ordinal_pipeline, ode_cols),\n",
    "    ('ohe_pipeline', ohe_pipeline, ohe_cols),\n",
    "   # ('passthrough', 'passthrough', ['Pclass', 'TicketNumberCounts', 'Cabin_Assigned', 'Name_Size', 'Age', 'Fare'])\n",
    "     ('passthrough', 'passthrough', ['Pclass', 'Cabin_Assigned', 'Name_Size', 'Age', 'Fare', 'ticket_number_count'])\n",
    "    ],\n",
    "    remainder='drop',\n",
    "    n_jobs=-1)"
   ]
  },
  {
   "cell_type": "code",
   "execution_count": 74,
   "id": "54c86ad5",
   "metadata": {
    "execution": {
     "iopub.execute_input": "2024-07-06T14:54:47.945929Z",
     "iopub.status.busy": "2024-07-06T14:54:47.945266Z",
     "iopub.status.idle": "2024-07-06T14:54:47.949977Z",
     "shell.execute_reply": "2024-07-06T14:54:47.948995Z"
    },
    "papermill": {
     "duration": 0.0471,
     "end_time": "2024-07-06T14:54:47.952133",
     "exception": false,
     "start_time": "2024-07-06T14:54:47.905033",
     "status": "completed"
    },
    "tags": []
   },
   "outputs": [],
   "source": [
    "rfc = RandomForestClassifier()"
   ]
  },
  {
   "cell_type": "code",
   "execution_count": 75,
   "id": "fe938ac0",
   "metadata": {
    "execution": {
     "iopub.execute_input": "2024-07-06T14:54:48.031883Z",
     "iopub.status.busy": "2024-07-06T14:54:48.031214Z",
     "iopub.status.idle": "2024-07-06T14:54:48.036955Z",
     "shell.execute_reply": "2024-07-06T14:54:48.035779Z"
    },
    "papermill": {
     "duration": 0.04817,
     "end_time": "2024-07-06T14:54:48.039113",
     "exception": false,
     "start_time": "2024-07-06T14:54:47.990943",
     "status": "completed"
    },
    "tags": []
   },
   "outputs": [],
   "source": [
    "param_grid = {\n",
    "    'n_estimators': [150, 200, 300, 500],\n",
    "    'min_samples_split': [5, 10, 15],\n",
    "    'max_depth': [10, 13, 15, 17, 20],\n",
    "    'min_samples_leaf': [2, 4, 5, 6],\n",
    "    'criterion': ['gini', 'entropy'],\n",
    "}"
   ]
  },
  {
   "cell_type": "code",
   "execution_count": 76,
   "id": "43a9a0be",
   "metadata": {
    "execution": {
     "iopub.execute_input": "2024-07-06T14:54:48.119979Z",
     "iopub.status.busy": "2024-07-06T14:54:48.119498Z",
     "iopub.status.idle": "2024-07-06T14:54:48.124454Z",
     "shell.execute_reply": "2024-07-06T14:54:48.123452Z"
    },
    "papermill": {
     "duration": 0.048179,
     "end_time": "2024-07-06T14:54:48.126498",
     "exception": false,
     "start_time": "2024-07-06T14:54:48.078319",
     "status": "completed"
    },
    "tags": []
   },
   "outputs": [],
   "source": [
    "CV_rfc = GridSearchCV(estimator=rfc, param_grid=param_grid, cv=StratifiedKFold(n_splits=5))"
   ]
  },
  {
   "cell_type": "code",
   "execution_count": 77,
   "id": "8ff74523",
   "metadata": {
    "execution": {
     "iopub.execute_input": "2024-07-06T14:54:48.206791Z",
     "iopub.status.busy": "2024-07-06T14:54:48.206093Z",
     "iopub.status.idle": "2024-07-06T15:16:20.231271Z",
     "shell.execute_reply": "2024-07-06T15:16:20.230054Z"
    },
    "papermill": {
     "duration": 1292.107883,
     "end_time": "2024-07-06T15:16:20.273426",
     "exception": false,
     "start_time": "2024-07-06T14:54:48.165543",
     "status": "completed"
    },
    "tags": []
   },
   "outputs": [
    {
     "data": {
      "text/html": [
       "<style>#sk-container-id-1 {color: black;background-color: white;}#sk-container-id-1 pre{padding: 0;}#sk-container-id-1 div.sk-toggleable {background-color: white;}#sk-container-id-1 label.sk-toggleable__label {cursor: pointer;display: block;width: 100%;margin-bottom: 0;padding: 0.3em;box-sizing: border-box;text-align: center;}#sk-container-id-1 label.sk-toggleable__label-arrow:before {content: \"▸\";float: left;margin-right: 0.25em;color: #696969;}#sk-container-id-1 label.sk-toggleable__label-arrow:hover:before {color: black;}#sk-container-id-1 div.sk-estimator:hover label.sk-toggleable__label-arrow:before {color: black;}#sk-container-id-1 div.sk-toggleable__content {max-height: 0;max-width: 0;overflow: hidden;text-align: left;background-color: #f0f8ff;}#sk-container-id-1 div.sk-toggleable__content pre {margin: 0.2em;color: black;border-radius: 0.25em;background-color: #f0f8ff;}#sk-container-id-1 input.sk-toggleable__control:checked~div.sk-toggleable__content {max-height: 200px;max-width: 100%;overflow: auto;}#sk-container-id-1 input.sk-toggleable__control:checked~label.sk-toggleable__label-arrow:before {content: \"▾\";}#sk-container-id-1 div.sk-estimator input.sk-toggleable__control:checked~label.sk-toggleable__label {background-color: #d4ebff;}#sk-container-id-1 div.sk-label input.sk-toggleable__control:checked~label.sk-toggleable__label {background-color: #d4ebff;}#sk-container-id-1 input.sk-hidden--visually {border: 0;clip: rect(1px 1px 1px 1px);clip: rect(1px, 1px, 1px, 1px);height: 1px;margin: -1px;overflow: hidden;padding: 0;position: absolute;width: 1px;}#sk-container-id-1 div.sk-estimator {font-family: monospace;background-color: #f0f8ff;border: 1px dotted black;border-radius: 0.25em;box-sizing: border-box;margin-bottom: 0.5em;}#sk-container-id-1 div.sk-estimator:hover {background-color: #d4ebff;}#sk-container-id-1 div.sk-parallel-item::after {content: \"\";width: 100%;border-bottom: 1px solid gray;flex-grow: 1;}#sk-container-id-1 div.sk-label:hover label.sk-toggleable__label {background-color: #d4ebff;}#sk-container-id-1 div.sk-serial::before {content: \"\";position: absolute;border-left: 1px solid gray;box-sizing: border-box;top: 0;bottom: 0;left: 50%;z-index: 0;}#sk-container-id-1 div.sk-serial {display: flex;flex-direction: column;align-items: center;background-color: white;padding-right: 0.2em;padding-left: 0.2em;position: relative;}#sk-container-id-1 div.sk-item {position: relative;z-index: 1;}#sk-container-id-1 div.sk-parallel {display: flex;align-items: stretch;justify-content: center;background-color: white;position: relative;}#sk-container-id-1 div.sk-item::before, #sk-container-id-1 div.sk-parallel-item::before {content: \"\";position: absolute;border-left: 1px solid gray;box-sizing: border-box;top: 0;bottom: 0;left: 50%;z-index: -1;}#sk-container-id-1 div.sk-parallel-item {display: flex;flex-direction: column;z-index: 1;position: relative;background-color: white;}#sk-container-id-1 div.sk-parallel-item:first-child::after {align-self: flex-end;width: 50%;}#sk-container-id-1 div.sk-parallel-item:last-child::after {align-self: flex-start;width: 50%;}#sk-container-id-1 div.sk-parallel-item:only-child::after {width: 0;}#sk-container-id-1 div.sk-dashed-wrapped {border: 1px dashed gray;margin: 0 0.4em 0.5em 0.4em;box-sizing: border-box;padding-bottom: 0.4em;background-color: white;}#sk-container-id-1 div.sk-label label {font-family: monospace;font-weight: bold;display: inline-block;line-height: 1.2em;}#sk-container-id-1 div.sk-label-container {text-align: center;}#sk-container-id-1 div.sk-container {/* jupyter's `normalize.less` sets `[hidden] { display: none; }` but bootstrap.min.css set `[hidden] { display: none !important; }` so we also need the `!important` here to be able to override the default hidden behavior on the sphinx rendered scikit-learn.org. See: https://github.com/scikit-learn/scikit-learn/issues/21755 */display: inline-block !important;position: relative;}#sk-container-id-1 div.sk-text-repr-fallback {display: none;}</style><div id=\"sk-container-id-1\" class=\"sk-top-container\"><div class=\"sk-text-repr-fallback\"><pre>Pipeline(steps=[(&#x27;columntransformer&#x27;,\n",
       "                 ColumnTransformer(n_jobs=-1,\n",
       "                                   transformers=[(&#x27;impute&#x27;,\n",
       "                                                  SimpleImputer(strategy=&#x27;most_frequent&#x27;),\n",
       "                                                  [&#x27;Age&#x27;]),\n",
       "                                                 (&#x27;ord_pipeline&#x27;,\n",
       "                                                  Pipeline(steps=[(&#x27;impute&#x27;,\n",
       "                                                                   SimpleImputer(strategy=&#x27;most_frequent&#x27;)),\n",
       "                                                                  (&#x27;ord&#x27;,\n",
       "                                                                   OrdinalEncoder(handle_unknown=&#x27;use_encoded_value&#x27;,\n",
       "                                                                                  unknown_value=-1))]),\n",
       "                                                  [&#x27;family_size_grouped&#x27;]),\n",
       "                                                 (&#x27;ohe_pipeline&#x27;,\n",
       "                                                  Pipeline(s...\n",
       "                                                  [&#x27;Pclass&#x27;, &#x27;Cabin_Assigned&#x27;,\n",
       "                                                   &#x27;Name_Size&#x27;, &#x27;Age&#x27;, &#x27;Fare&#x27;,\n",
       "                                                   &#x27;ticket_number_count&#x27;])])),\n",
       "                (&#x27;gridsearchcv&#x27;,\n",
       "                 GridSearchCV(cv=StratifiedKFold(n_splits=5, random_state=None, shuffle=False),\n",
       "                              estimator=RandomForestClassifier(),\n",
       "                              param_grid={&#x27;criterion&#x27;: [&#x27;gini&#x27;, &#x27;entropy&#x27;],\n",
       "                                          &#x27;max_depth&#x27;: [10, 13, 15, 17, 20],\n",
       "                                          &#x27;min_samples_leaf&#x27;: [2, 4, 5, 6],\n",
       "                                          &#x27;min_samples_split&#x27;: [5, 10, 15],\n",
       "                                          &#x27;n_estimators&#x27;: [150, 200, 300,\n",
       "                                                           500]}))])</pre><b>In a Jupyter environment, please rerun this cell to show the HTML representation or trust the notebook. <br />On GitHub, the HTML representation is unable to render, please try loading this page with nbviewer.org.</b></div><div class=\"sk-container\" hidden><div class=\"sk-item sk-dashed-wrapped\"><div class=\"sk-label-container\"><div class=\"sk-label sk-toggleable\"><input class=\"sk-toggleable__control sk-hidden--visually\" id=\"sk-estimator-id-1\" type=\"checkbox\" ><label for=\"sk-estimator-id-1\" class=\"sk-toggleable__label sk-toggleable__label-arrow\">Pipeline</label><div class=\"sk-toggleable__content\"><pre>Pipeline(steps=[(&#x27;columntransformer&#x27;,\n",
       "                 ColumnTransformer(n_jobs=-1,\n",
       "                                   transformers=[(&#x27;impute&#x27;,\n",
       "                                                  SimpleImputer(strategy=&#x27;most_frequent&#x27;),\n",
       "                                                  [&#x27;Age&#x27;]),\n",
       "                                                 (&#x27;ord_pipeline&#x27;,\n",
       "                                                  Pipeline(steps=[(&#x27;impute&#x27;,\n",
       "                                                                   SimpleImputer(strategy=&#x27;most_frequent&#x27;)),\n",
       "                                                                  (&#x27;ord&#x27;,\n",
       "                                                                   OrdinalEncoder(handle_unknown=&#x27;use_encoded_value&#x27;,\n",
       "                                                                                  unknown_value=-1))]),\n",
       "                                                  [&#x27;family_size_grouped&#x27;]),\n",
       "                                                 (&#x27;ohe_pipeline&#x27;,\n",
       "                                                  Pipeline(s...\n",
       "                                                  [&#x27;Pclass&#x27;, &#x27;Cabin_Assigned&#x27;,\n",
       "                                                   &#x27;Name_Size&#x27;, &#x27;Age&#x27;, &#x27;Fare&#x27;,\n",
       "                                                   &#x27;ticket_number_count&#x27;])])),\n",
       "                (&#x27;gridsearchcv&#x27;,\n",
       "                 GridSearchCV(cv=StratifiedKFold(n_splits=5, random_state=None, shuffle=False),\n",
       "                              estimator=RandomForestClassifier(),\n",
       "                              param_grid={&#x27;criterion&#x27;: [&#x27;gini&#x27;, &#x27;entropy&#x27;],\n",
       "                                          &#x27;max_depth&#x27;: [10, 13, 15, 17, 20],\n",
       "                                          &#x27;min_samples_leaf&#x27;: [2, 4, 5, 6],\n",
       "                                          &#x27;min_samples_split&#x27;: [5, 10, 15],\n",
       "                                          &#x27;n_estimators&#x27;: [150, 200, 300,\n",
       "                                                           500]}))])</pre></div></div></div><div class=\"sk-serial\"><div class=\"sk-item sk-dashed-wrapped\"><div class=\"sk-label-container\"><div class=\"sk-label sk-toggleable\"><input class=\"sk-toggleable__control sk-hidden--visually\" id=\"sk-estimator-id-2\" type=\"checkbox\" ><label for=\"sk-estimator-id-2\" class=\"sk-toggleable__label sk-toggleable__label-arrow\">columntransformer: ColumnTransformer</label><div class=\"sk-toggleable__content\"><pre>ColumnTransformer(n_jobs=-1,\n",
       "                  transformers=[(&#x27;impute&#x27;,\n",
       "                                 SimpleImputer(strategy=&#x27;most_frequent&#x27;),\n",
       "                                 [&#x27;Age&#x27;]),\n",
       "                                (&#x27;ord_pipeline&#x27;,\n",
       "                                 Pipeline(steps=[(&#x27;impute&#x27;,\n",
       "                                                  SimpleImputer(strategy=&#x27;most_frequent&#x27;)),\n",
       "                                                 (&#x27;ord&#x27;,\n",
       "                                                  OrdinalEncoder(handle_unknown=&#x27;use_encoded_value&#x27;,\n",
       "                                                                 unknown_value=-1))]),\n",
       "                                 [&#x27;family_size_grouped&#x27;]),\n",
       "                                (&#x27;ohe_pipeline&#x27;,\n",
       "                                 Pipeline(steps=[(&#x27;impute&#x27;,\n",
       "                                                  SimpleImputer(strategy=&#x27;most_frequent&#x27;)),\n",
       "                                                 (&#x27;one-hot&#x27;,\n",
       "                                                  OneHotEncoder(handle_unknown=&#x27;ignore&#x27;,\n",
       "                                                                sparse_output=False))]),\n",
       "                                 [&#x27;Sex&#x27;, &#x27;Embarked&#x27;]),\n",
       "                                (&#x27;passthrough&#x27;, &#x27;passthrough&#x27;,\n",
       "                                 [&#x27;Pclass&#x27;, &#x27;Cabin_Assigned&#x27;, &#x27;Name_Size&#x27;,\n",
       "                                  &#x27;Age&#x27;, &#x27;Fare&#x27;, &#x27;ticket_number_count&#x27;])])</pre></div></div></div><div class=\"sk-parallel\"><div class=\"sk-parallel-item\"><div class=\"sk-item\"><div class=\"sk-label-container\"><div class=\"sk-label sk-toggleable\"><input class=\"sk-toggleable__control sk-hidden--visually\" id=\"sk-estimator-id-3\" type=\"checkbox\" ><label for=\"sk-estimator-id-3\" class=\"sk-toggleable__label sk-toggleable__label-arrow\">impute</label><div class=\"sk-toggleable__content\"><pre>[&#x27;Age&#x27;]</pre></div></div></div><div class=\"sk-serial\"><div class=\"sk-item\"><div class=\"sk-estimator sk-toggleable\"><input class=\"sk-toggleable__control sk-hidden--visually\" id=\"sk-estimator-id-4\" type=\"checkbox\" ><label for=\"sk-estimator-id-4\" class=\"sk-toggleable__label sk-toggleable__label-arrow\">SimpleImputer</label><div class=\"sk-toggleable__content\"><pre>SimpleImputer(strategy=&#x27;most_frequent&#x27;)</pre></div></div></div></div></div></div><div class=\"sk-parallel-item\"><div class=\"sk-item\"><div class=\"sk-label-container\"><div class=\"sk-label sk-toggleable\"><input class=\"sk-toggleable__control sk-hidden--visually\" id=\"sk-estimator-id-5\" type=\"checkbox\" ><label for=\"sk-estimator-id-5\" class=\"sk-toggleable__label sk-toggleable__label-arrow\">ord_pipeline</label><div class=\"sk-toggleable__content\"><pre>[&#x27;family_size_grouped&#x27;]</pre></div></div></div><div class=\"sk-serial\"><div class=\"sk-item\"><div class=\"sk-serial\"><div class=\"sk-item\"><div class=\"sk-estimator sk-toggleable\"><input class=\"sk-toggleable__control sk-hidden--visually\" id=\"sk-estimator-id-6\" type=\"checkbox\" ><label for=\"sk-estimator-id-6\" class=\"sk-toggleable__label sk-toggleable__label-arrow\">SimpleImputer</label><div class=\"sk-toggleable__content\"><pre>SimpleImputer(strategy=&#x27;most_frequent&#x27;)</pre></div></div></div><div class=\"sk-item\"><div class=\"sk-estimator sk-toggleable\"><input class=\"sk-toggleable__control sk-hidden--visually\" id=\"sk-estimator-id-7\" type=\"checkbox\" ><label for=\"sk-estimator-id-7\" class=\"sk-toggleable__label sk-toggleable__label-arrow\">OrdinalEncoder</label><div class=\"sk-toggleable__content\"><pre>OrdinalEncoder(handle_unknown=&#x27;use_encoded_value&#x27;, unknown_value=-1)</pre></div></div></div></div></div></div></div></div><div class=\"sk-parallel-item\"><div class=\"sk-item\"><div class=\"sk-label-container\"><div class=\"sk-label sk-toggleable\"><input class=\"sk-toggleable__control sk-hidden--visually\" id=\"sk-estimator-id-8\" type=\"checkbox\" ><label for=\"sk-estimator-id-8\" class=\"sk-toggleable__label sk-toggleable__label-arrow\">ohe_pipeline</label><div class=\"sk-toggleable__content\"><pre>[&#x27;Sex&#x27;, &#x27;Embarked&#x27;]</pre></div></div></div><div class=\"sk-serial\"><div class=\"sk-item\"><div class=\"sk-serial\"><div class=\"sk-item\"><div class=\"sk-estimator sk-toggleable\"><input class=\"sk-toggleable__control sk-hidden--visually\" id=\"sk-estimator-id-9\" type=\"checkbox\" ><label for=\"sk-estimator-id-9\" class=\"sk-toggleable__label sk-toggleable__label-arrow\">SimpleImputer</label><div class=\"sk-toggleable__content\"><pre>SimpleImputer(strategy=&#x27;most_frequent&#x27;)</pre></div></div></div><div class=\"sk-item\"><div class=\"sk-estimator sk-toggleable\"><input class=\"sk-toggleable__control sk-hidden--visually\" id=\"sk-estimator-id-10\" type=\"checkbox\" ><label for=\"sk-estimator-id-10\" class=\"sk-toggleable__label sk-toggleable__label-arrow\">OneHotEncoder</label><div class=\"sk-toggleable__content\"><pre>OneHotEncoder(handle_unknown=&#x27;ignore&#x27;, sparse_output=False)</pre></div></div></div></div></div></div></div></div><div class=\"sk-parallel-item\"><div class=\"sk-item\"><div class=\"sk-label-container\"><div class=\"sk-label sk-toggleable\"><input class=\"sk-toggleable__control sk-hidden--visually\" id=\"sk-estimator-id-11\" type=\"checkbox\" ><label for=\"sk-estimator-id-11\" class=\"sk-toggleable__label sk-toggleable__label-arrow\">passthrough</label><div class=\"sk-toggleable__content\"><pre>[&#x27;Pclass&#x27;, &#x27;Cabin_Assigned&#x27;, &#x27;Name_Size&#x27;, &#x27;Age&#x27;, &#x27;Fare&#x27;, &#x27;ticket_number_count&#x27;]</pre></div></div></div><div class=\"sk-serial\"><div class=\"sk-item\"><div class=\"sk-estimator sk-toggleable\"><input class=\"sk-toggleable__control sk-hidden--visually\" id=\"sk-estimator-id-12\" type=\"checkbox\" ><label for=\"sk-estimator-id-12\" class=\"sk-toggleable__label sk-toggleable__label-arrow\">passthrough</label><div class=\"sk-toggleable__content\"><pre>passthrough</pre></div></div></div></div></div></div></div></div><div class=\"sk-item sk-dashed-wrapped\"><div class=\"sk-label-container\"><div class=\"sk-label sk-toggleable\"><input class=\"sk-toggleable__control sk-hidden--visually\" id=\"sk-estimator-id-13\" type=\"checkbox\" ><label for=\"sk-estimator-id-13\" class=\"sk-toggleable__label sk-toggleable__label-arrow\">gridsearchcv: GridSearchCV</label><div class=\"sk-toggleable__content\"><pre>GridSearchCV(cv=StratifiedKFold(n_splits=5, random_state=None, shuffle=False),\n",
       "             estimator=RandomForestClassifier(),\n",
       "             param_grid={&#x27;criterion&#x27;: [&#x27;gini&#x27;, &#x27;entropy&#x27;],\n",
       "                         &#x27;max_depth&#x27;: [10, 13, 15, 17, 20],\n",
       "                         &#x27;min_samples_leaf&#x27;: [2, 4, 5, 6],\n",
       "                         &#x27;min_samples_split&#x27;: [5, 10, 15],\n",
       "                         &#x27;n_estimators&#x27;: [150, 200, 300, 500]})</pre></div></div></div><div class=\"sk-parallel\"><div class=\"sk-parallel-item\"><div class=\"sk-item\"><div class=\"sk-label-container\"><div class=\"sk-label sk-toggleable\"><input class=\"sk-toggleable__control sk-hidden--visually\" id=\"sk-estimator-id-14\" type=\"checkbox\" ><label for=\"sk-estimator-id-14\" class=\"sk-toggleable__label sk-toggleable__label-arrow\">estimator: RandomForestClassifier</label><div class=\"sk-toggleable__content\"><pre>RandomForestClassifier()</pre></div></div></div><div class=\"sk-serial\"><div class=\"sk-item\"><div class=\"sk-estimator sk-toggleable\"><input class=\"sk-toggleable__control sk-hidden--visually\" id=\"sk-estimator-id-15\" type=\"checkbox\" ><label for=\"sk-estimator-id-15\" class=\"sk-toggleable__label sk-toggleable__label-arrow\">RandomForestClassifier</label><div class=\"sk-toggleable__content\"><pre>RandomForestClassifier()</pre></div></div></div></div></div></div></div></div></div></div></div></div>"
      ],
      "text/plain": [
       "Pipeline(steps=[('columntransformer',\n",
       "                 ColumnTransformer(n_jobs=-1,\n",
       "                                   transformers=[('impute',\n",
       "                                                  SimpleImputer(strategy='most_frequent'),\n",
       "                                                  ['Age']),\n",
       "                                                 ('ord_pipeline',\n",
       "                                                  Pipeline(steps=[('impute',\n",
       "                                                                   SimpleImputer(strategy='most_frequent')),\n",
       "                                                                  ('ord',\n",
       "                                                                   OrdinalEncoder(handle_unknown='use_encoded_value',\n",
       "                                                                                  unknown_value=-1))]),\n",
       "                                                  ['family_size_grouped']),\n",
       "                                                 ('ohe_pipeline',\n",
       "                                                  Pipeline(s...\n",
       "                                                  ['Pclass', 'Cabin_Assigned',\n",
       "                                                   'Name_Size', 'Age', 'Fare',\n",
       "                                                   'ticket_number_count'])])),\n",
       "                ('gridsearchcv',\n",
       "                 GridSearchCV(cv=StratifiedKFold(n_splits=5, random_state=None, shuffle=False),\n",
       "                              estimator=RandomForestClassifier(),\n",
       "                              param_grid={'criterion': ['gini', 'entropy'],\n",
       "                                          'max_depth': [10, 13, 15, 17, 20],\n",
       "                                          'min_samples_leaf': [2, 4, 5, 6],\n",
       "                                          'min_samples_split': [5, 10, 15],\n",
       "                                          'n_estimators': [150, 200, 300,\n",
       "                                                           500]}))])"
      ]
     },
     "execution_count": 77,
     "metadata": {},
     "output_type": "execute_result"
    }
   ],
   "source": [
    "pipefinalrfc = make_pipeline(col_trans, CV_rfc)\n",
    "pipefinalrfc.fit(X_train, y_train)"
   ]
  },
  {
   "cell_type": "code",
   "execution_count": 78,
   "id": "74086d7b",
   "metadata": {
    "execution": {
     "iopub.execute_input": "2024-07-06T15:16:20.356648Z",
     "iopub.status.busy": "2024-07-06T15:16:20.355574Z",
     "iopub.status.idle": "2024-07-06T15:16:20.362020Z",
     "shell.execute_reply": "2024-07-06T15:16:20.360806Z"
    },
    "papermill": {
     "duration": 0.050201,
     "end_time": "2024-07-06T15:16:20.364105",
     "exception": false,
     "start_time": "2024-07-06T15:16:20.313904",
     "status": "completed"
    },
    "tags": []
   },
   "outputs": [
    {
     "name": "stdout",
     "output_type": "stream",
     "text": [
      "{'criterion': 'entropy', 'max_depth': 13, 'min_samples_leaf': 2, 'min_samples_split': 10, 'n_estimators': 200}\n",
      "0.8258642765685019\n"
     ]
    }
   ],
   "source": [
    "print(CV_rfc.best_params_)\n",
    "print(CV_rfc.best_score_)"
   ]
  },
  {
   "cell_type": "code",
   "execution_count": 79,
   "id": "b08ccd25",
   "metadata": {
    "execution": {
     "iopub.execute_input": "2024-07-06T15:16:20.448002Z",
     "iopub.status.busy": "2024-07-06T15:16:20.447602Z",
     "iopub.status.idle": "2024-07-06T15:16:20.452825Z",
     "shell.execute_reply": "2024-07-06T15:16:20.451810Z"
    },
    "papermill": {
     "duration": 0.050573,
     "end_time": "2024-07-06T15:16:20.454987",
     "exception": false,
     "start_time": "2024-07-06T15:16:20.404414",
     "status": "completed"
    },
    "tags": []
   },
   "outputs": [],
   "source": [
    "param_grid = {\n",
    "    'min_samples_split': [5, 10, 15],\n",
    "    'max_depth': [10, 20, 30],\n",
    "    'min_samples_leaf': [1, 2, 4],\n",
    "    'criterion': ['gini', 'entropy'],\n",
    "}"
   ]
  },
  {
   "cell_type": "code",
   "execution_count": 80,
   "id": "32ca23a2",
   "metadata": {
    "execution": {
     "iopub.execute_input": "2024-07-06T15:16:20.538286Z",
     "iopub.status.busy": "2024-07-06T15:16:20.537806Z",
     "iopub.status.idle": "2024-07-06T15:16:20.543175Z",
     "shell.execute_reply": "2024-07-06T15:16:20.541820Z"
    },
    "papermill": {
     "duration": 0.04993,
     "end_time": "2024-07-06T15:16:20.545399",
     "exception": false,
     "start_time": "2024-07-06T15:16:20.495469",
     "status": "completed"
    },
    "tags": []
   },
   "outputs": [],
   "source": [
    "dtc = DecisionTreeClassifier()\n"
   ]
  },
  {
   "cell_type": "code",
   "execution_count": 81,
   "id": "70c52bf5",
   "metadata": {
    "execution": {
     "iopub.execute_input": "2024-07-06T15:16:20.629730Z",
     "iopub.status.busy": "2024-07-06T15:16:20.629339Z",
     "iopub.status.idle": "2024-07-06T15:16:20.634836Z",
     "shell.execute_reply": "2024-07-06T15:16:20.633454Z"
    },
    "papermill": {
     "duration": 0.050756,
     "end_time": "2024-07-06T15:16:20.637005",
     "exception": false,
     "start_time": "2024-07-06T15:16:20.586249",
     "status": "completed"
    },
    "tags": []
   },
   "outputs": [],
   "source": [
    "CV_dtc = GridSearchCV(estimator=dtc, param_grid=param_grid, cv=StratifiedKFold(n_splits=5))"
   ]
  },
  {
   "cell_type": "code",
   "execution_count": 82,
   "id": "1b37db9c",
   "metadata": {
    "execution": {
     "iopub.execute_input": "2024-07-06T15:16:20.719180Z",
     "iopub.status.busy": "2024-07-06T15:16:20.718422Z",
     "iopub.status.idle": "2024-07-06T15:16:23.552052Z",
     "shell.execute_reply": "2024-07-06T15:16:23.550861Z"
    },
    "papermill": {
     "duration": 2.877751,
     "end_time": "2024-07-06T15:16:23.554719",
     "exception": false,
     "start_time": "2024-07-06T15:16:20.676968",
     "status": "completed"
    },
    "tags": []
   },
   "outputs": [
    {
     "data": {
      "text/html": [
       "<style>#sk-container-id-2 {color: black;background-color: white;}#sk-container-id-2 pre{padding: 0;}#sk-container-id-2 div.sk-toggleable {background-color: white;}#sk-container-id-2 label.sk-toggleable__label {cursor: pointer;display: block;width: 100%;margin-bottom: 0;padding: 0.3em;box-sizing: border-box;text-align: center;}#sk-container-id-2 label.sk-toggleable__label-arrow:before {content: \"▸\";float: left;margin-right: 0.25em;color: #696969;}#sk-container-id-2 label.sk-toggleable__label-arrow:hover:before {color: black;}#sk-container-id-2 div.sk-estimator:hover label.sk-toggleable__label-arrow:before {color: black;}#sk-container-id-2 div.sk-toggleable__content {max-height: 0;max-width: 0;overflow: hidden;text-align: left;background-color: #f0f8ff;}#sk-container-id-2 div.sk-toggleable__content pre {margin: 0.2em;color: black;border-radius: 0.25em;background-color: #f0f8ff;}#sk-container-id-2 input.sk-toggleable__control:checked~div.sk-toggleable__content {max-height: 200px;max-width: 100%;overflow: auto;}#sk-container-id-2 input.sk-toggleable__control:checked~label.sk-toggleable__label-arrow:before {content: \"▾\";}#sk-container-id-2 div.sk-estimator input.sk-toggleable__control:checked~label.sk-toggleable__label {background-color: #d4ebff;}#sk-container-id-2 div.sk-label input.sk-toggleable__control:checked~label.sk-toggleable__label {background-color: #d4ebff;}#sk-container-id-2 input.sk-hidden--visually {border: 0;clip: rect(1px 1px 1px 1px);clip: rect(1px, 1px, 1px, 1px);height: 1px;margin: -1px;overflow: hidden;padding: 0;position: absolute;width: 1px;}#sk-container-id-2 div.sk-estimator {font-family: monospace;background-color: #f0f8ff;border: 1px dotted black;border-radius: 0.25em;box-sizing: border-box;margin-bottom: 0.5em;}#sk-container-id-2 div.sk-estimator:hover {background-color: #d4ebff;}#sk-container-id-2 div.sk-parallel-item::after {content: \"\";width: 100%;border-bottom: 1px solid gray;flex-grow: 1;}#sk-container-id-2 div.sk-label:hover label.sk-toggleable__label {background-color: #d4ebff;}#sk-container-id-2 div.sk-serial::before {content: \"\";position: absolute;border-left: 1px solid gray;box-sizing: border-box;top: 0;bottom: 0;left: 50%;z-index: 0;}#sk-container-id-2 div.sk-serial {display: flex;flex-direction: column;align-items: center;background-color: white;padding-right: 0.2em;padding-left: 0.2em;position: relative;}#sk-container-id-2 div.sk-item {position: relative;z-index: 1;}#sk-container-id-2 div.sk-parallel {display: flex;align-items: stretch;justify-content: center;background-color: white;position: relative;}#sk-container-id-2 div.sk-item::before, #sk-container-id-2 div.sk-parallel-item::before {content: \"\";position: absolute;border-left: 1px solid gray;box-sizing: border-box;top: 0;bottom: 0;left: 50%;z-index: -1;}#sk-container-id-2 div.sk-parallel-item {display: flex;flex-direction: column;z-index: 1;position: relative;background-color: white;}#sk-container-id-2 div.sk-parallel-item:first-child::after {align-self: flex-end;width: 50%;}#sk-container-id-2 div.sk-parallel-item:last-child::after {align-self: flex-start;width: 50%;}#sk-container-id-2 div.sk-parallel-item:only-child::after {width: 0;}#sk-container-id-2 div.sk-dashed-wrapped {border: 1px dashed gray;margin: 0 0.4em 0.5em 0.4em;box-sizing: border-box;padding-bottom: 0.4em;background-color: white;}#sk-container-id-2 div.sk-label label {font-family: monospace;font-weight: bold;display: inline-block;line-height: 1.2em;}#sk-container-id-2 div.sk-label-container {text-align: center;}#sk-container-id-2 div.sk-container {/* jupyter's `normalize.less` sets `[hidden] { display: none; }` but bootstrap.min.css set `[hidden] { display: none !important; }` so we also need the `!important` here to be able to override the default hidden behavior on the sphinx rendered scikit-learn.org. See: https://github.com/scikit-learn/scikit-learn/issues/21755 */display: inline-block !important;position: relative;}#sk-container-id-2 div.sk-text-repr-fallback {display: none;}</style><div id=\"sk-container-id-2\" class=\"sk-top-container\"><div class=\"sk-text-repr-fallback\"><pre>Pipeline(steps=[(&#x27;columntransformer&#x27;,\n",
       "                 ColumnTransformer(n_jobs=-1,\n",
       "                                   transformers=[(&#x27;impute&#x27;,\n",
       "                                                  SimpleImputer(strategy=&#x27;most_frequent&#x27;),\n",
       "                                                  [&#x27;Age&#x27;]),\n",
       "                                                 (&#x27;ord_pipeline&#x27;,\n",
       "                                                  Pipeline(steps=[(&#x27;impute&#x27;,\n",
       "                                                                   SimpleImputer(strategy=&#x27;most_frequent&#x27;)),\n",
       "                                                                  (&#x27;ord&#x27;,\n",
       "                                                                   OrdinalEncoder(handle_unknown=&#x27;use_encoded_value&#x27;,\n",
       "                                                                                  unknown_value=-1))]),\n",
       "                                                  [&#x27;family_size_grouped&#x27;]),\n",
       "                                                 (&#x27;ohe_pipeline&#x27;,\n",
       "                                                  Pipeline(s...\n",
       "                                                 (&#x27;passthrough&#x27;, &#x27;passthrough&#x27;,\n",
       "                                                  [&#x27;Pclass&#x27;, &#x27;Cabin_Assigned&#x27;,\n",
       "                                                   &#x27;Name_Size&#x27;, &#x27;Age&#x27;, &#x27;Fare&#x27;,\n",
       "                                                   &#x27;ticket_number_count&#x27;])])),\n",
       "                (&#x27;gridsearchcv&#x27;,\n",
       "                 GridSearchCV(cv=StratifiedKFold(n_splits=5, random_state=None, shuffle=False),\n",
       "                              estimator=DecisionTreeClassifier(),\n",
       "                              param_grid={&#x27;criterion&#x27;: [&#x27;gini&#x27;, &#x27;entropy&#x27;],\n",
       "                                          &#x27;max_depth&#x27;: [10, 20, 30],\n",
       "                                          &#x27;min_samples_leaf&#x27;: [1, 2, 4],\n",
       "                                          &#x27;min_samples_split&#x27;: [5, 10, 15]}))])</pre><b>In a Jupyter environment, please rerun this cell to show the HTML representation or trust the notebook. <br />On GitHub, the HTML representation is unable to render, please try loading this page with nbviewer.org.</b></div><div class=\"sk-container\" hidden><div class=\"sk-item sk-dashed-wrapped\"><div class=\"sk-label-container\"><div class=\"sk-label sk-toggleable\"><input class=\"sk-toggleable__control sk-hidden--visually\" id=\"sk-estimator-id-16\" type=\"checkbox\" ><label for=\"sk-estimator-id-16\" class=\"sk-toggleable__label sk-toggleable__label-arrow\">Pipeline</label><div class=\"sk-toggleable__content\"><pre>Pipeline(steps=[(&#x27;columntransformer&#x27;,\n",
       "                 ColumnTransformer(n_jobs=-1,\n",
       "                                   transformers=[(&#x27;impute&#x27;,\n",
       "                                                  SimpleImputer(strategy=&#x27;most_frequent&#x27;),\n",
       "                                                  [&#x27;Age&#x27;]),\n",
       "                                                 (&#x27;ord_pipeline&#x27;,\n",
       "                                                  Pipeline(steps=[(&#x27;impute&#x27;,\n",
       "                                                                   SimpleImputer(strategy=&#x27;most_frequent&#x27;)),\n",
       "                                                                  (&#x27;ord&#x27;,\n",
       "                                                                   OrdinalEncoder(handle_unknown=&#x27;use_encoded_value&#x27;,\n",
       "                                                                                  unknown_value=-1))]),\n",
       "                                                  [&#x27;family_size_grouped&#x27;]),\n",
       "                                                 (&#x27;ohe_pipeline&#x27;,\n",
       "                                                  Pipeline(s...\n",
       "                                                 (&#x27;passthrough&#x27;, &#x27;passthrough&#x27;,\n",
       "                                                  [&#x27;Pclass&#x27;, &#x27;Cabin_Assigned&#x27;,\n",
       "                                                   &#x27;Name_Size&#x27;, &#x27;Age&#x27;, &#x27;Fare&#x27;,\n",
       "                                                   &#x27;ticket_number_count&#x27;])])),\n",
       "                (&#x27;gridsearchcv&#x27;,\n",
       "                 GridSearchCV(cv=StratifiedKFold(n_splits=5, random_state=None, shuffle=False),\n",
       "                              estimator=DecisionTreeClassifier(),\n",
       "                              param_grid={&#x27;criterion&#x27;: [&#x27;gini&#x27;, &#x27;entropy&#x27;],\n",
       "                                          &#x27;max_depth&#x27;: [10, 20, 30],\n",
       "                                          &#x27;min_samples_leaf&#x27;: [1, 2, 4],\n",
       "                                          &#x27;min_samples_split&#x27;: [5, 10, 15]}))])</pre></div></div></div><div class=\"sk-serial\"><div class=\"sk-item sk-dashed-wrapped\"><div class=\"sk-label-container\"><div class=\"sk-label sk-toggleable\"><input class=\"sk-toggleable__control sk-hidden--visually\" id=\"sk-estimator-id-17\" type=\"checkbox\" ><label for=\"sk-estimator-id-17\" class=\"sk-toggleable__label sk-toggleable__label-arrow\">columntransformer: ColumnTransformer</label><div class=\"sk-toggleable__content\"><pre>ColumnTransformer(n_jobs=-1,\n",
       "                  transformers=[(&#x27;impute&#x27;,\n",
       "                                 SimpleImputer(strategy=&#x27;most_frequent&#x27;),\n",
       "                                 [&#x27;Age&#x27;]),\n",
       "                                (&#x27;ord_pipeline&#x27;,\n",
       "                                 Pipeline(steps=[(&#x27;impute&#x27;,\n",
       "                                                  SimpleImputer(strategy=&#x27;most_frequent&#x27;)),\n",
       "                                                 (&#x27;ord&#x27;,\n",
       "                                                  OrdinalEncoder(handle_unknown=&#x27;use_encoded_value&#x27;,\n",
       "                                                                 unknown_value=-1))]),\n",
       "                                 [&#x27;family_size_grouped&#x27;]),\n",
       "                                (&#x27;ohe_pipeline&#x27;,\n",
       "                                 Pipeline(steps=[(&#x27;impute&#x27;,\n",
       "                                                  SimpleImputer(strategy=&#x27;most_frequent&#x27;)),\n",
       "                                                 (&#x27;one-hot&#x27;,\n",
       "                                                  OneHotEncoder(handle_unknown=&#x27;ignore&#x27;,\n",
       "                                                                sparse_output=False))]),\n",
       "                                 [&#x27;Sex&#x27;, &#x27;Embarked&#x27;]),\n",
       "                                (&#x27;passthrough&#x27;, &#x27;passthrough&#x27;,\n",
       "                                 [&#x27;Pclass&#x27;, &#x27;Cabin_Assigned&#x27;, &#x27;Name_Size&#x27;,\n",
       "                                  &#x27;Age&#x27;, &#x27;Fare&#x27;, &#x27;ticket_number_count&#x27;])])</pre></div></div></div><div class=\"sk-parallel\"><div class=\"sk-parallel-item\"><div class=\"sk-item\"><div class=\"sk-label-container\"><div class=\"sk-label sk-toggleable\"><input class=\"sk-toggleable__control sk-hidden--visually\" id=\"sk-estimator-id-18\" type=\"checkbox\" ><label for=\"sk-estimator-id-18\" class=\"sk-toggleable__label sk-toggleable__label-arrow\">impute</label><div class=\"sk-toggleable__content\"><pre>[&#x27;Age&#x27;]</pre></div></div></div><div class=\"sk-serial\"><div class=\"sk-item\"><div class=\"sk-estimator sk-toggleable\"><input class=\"sk-toggleable__control sk-hidden--visually\" id=\"sk-estimator-id-19\" type=\"checkbox\" ><label for=\"sk-estimator-id-19\" class=\"sk-toggleable__label sk-toggleable__label-arrow\">SimpleImputer</label><div class=\"sk-toggleable__content\"><pre>SimpleImputer(strategy=&#x27;most_frequent&#x27;)</pre></div></div></div></div></div></div><div class=\"sk-parallel-item\"><div class=\"sk-item\"><div class=\"sk-label-container\"><div class=\"sk-label sk-toggleable\"><input class=\"sk-toggleable__control sk-hidden--visually\" id=\"sk-estimator-id-20\" type=\"checkbox\" ><label for=\"sk-estimator-id-20\" class=\"sk-toggleable__label sk-toggleable__label-arrow\">ord_pipeline</label><div class=\"sk-toggleable__content\"><pre>[&#x27;family_size_grouped&#x27;]</pre></div></div></div><div class=\"sk-serial\"><div class=\"sk-item\"><div class=\"sk-serial\"><div class=\"sk-item\"><div class=\"sk-estimator sk-toggleable\"><input class=\"sk-toggleable__control sk-hidden--visually\" id=\"sk-estimator-id-21\" type=\"checkbox\" ><label for=\"sk-estimator-id-21\" class=\"sk-toggleable__label sk-toggleable__label-arrow\">SimpleImputer</label><div class=\"sk-toggleable__content\"><pre>SimpleImputer(strategy=&#x27;most_frequent&#x27;)</pre></div></div></div><div class=\"sk-item\"><div class=\"sk-estimator sk-toggleable\"><input class=\"sk-toggleable__control sk-hidden--visually\" id=\"sk-estimator-id-22\" type=\"checkbox\" ><label for=\"sk-estimator-id-22\" class=\"sk-toggleable__label sk-toggleable__label-arrow\">OrdinalEncoder</label><div class=\"sk-toggleable__content\"><pre>OrdinalEncoder(handle_unknown=&#x27;use_encoded_value&#x27;, unknown_value=-1)</pre></div></div></div></div></div></div></div></div><div class=\"sk-parallel-item\"><div class=\"sk-item\"><div class=\"sk-label-container\"><div class=\"sk-label sk-toggleable\"><input class=\"sk-toggleable__control sk-hidden--visually\" id=\"sk-estimator-id-23\" type=\"checkbox\" ><label for=\"sk-estimator-id-23\" class=\"sk-toggleable__label sk-toggleable__label-arrow\">ohe_pipeline</label><div class=\"sk-toggleable__content\"><pre>[&#x27;Sex&#x27;, &#x27;Embarked&#x27;]</pre></div></div></div><div class=\"sk-serial\"><div class=\"sk-item\"><div class=\"sk-serial\"><div class=\"sk-item\"><div class=\"sk-estimator sk-toggleable\"><input class=\"sk-toggleable__control sk-hidden--visually\" id=\"sk-estimator-id-24\" type=\"checkbox\" ><label for=\"sk-estimator-id-24\" class=\"sk-toggleable__label sk-toggleable__label-arrow\">SimpleImputer</label><div class=\"sk-toggleable__content\"><pre>SimpleImputer(strategy=&#x27;most_frequent&#x27;)</pre></div></div></div><div class=\"sk-item\"><div class=\"sk-estimator sk-toggleable\"><input class=\"sk-toggleable__control sk-hidden--visually\" id=\"sk-estimator-id-25\" type=\"checkbox\" ><label for=\"sk-estimator-id-25\" class=\"sk-toggleable__label sk-toggleable__label-arrow\">OneHotEncoder</label><div class=\"sk-toggleable__content\"><pre>OneHotEncoder(handle_unknown=&#x27;ignore&#x27;, sparse_output=False)</pre></div></div></div></div></div></div></div></div><div class=\"sk-parallel-item\"><div class=\"sk-item\"><div class=\"sk-label-container\"><div class=\"sk-label sk-toggleable\"><input class=\"sk-toggleable__control sk-hidden--visually\" id=\"sk-estimator-id-26\" type=\"checkbox\" ><label for=\"sk-estimator-id-26\" class=\"sk-toggleable__label sk-toggleable__label-arrow\">passthrough</label><div class=\"sk-toggleable__content\"><pre>[&#x27;Pclass&#x27;, &#x27;Cabin_Assigned&#x27;, &#x27;Name_Size&#x27;, &#x27;Age&#x27;, &#x27;Fare&#x27;, &#x27;ticket_number_count&#x27;]</pre></div></div></div><div class=\"sk-serial\"><div class=\"sk-item\"><div class=\"sk-estimator sk-toggleable\"><input class=\"sk-toggleable__control sk-hidden--visually\" id=\"sk-estimator-id-27\" type=\"checkbox\" ><label for=\"sk-estimator-id-27\" class=\"sk-toggleable__label sk-toggleable__label-arrow\">passthrough</label><div class=\"sk-toggleable__content\"><pre>passthrough</pre></div></div></div></div></div></div></div></div><div class=\"sk-item sk-dashed-wrapped\"><div class=\"sk-label-container\"><div class=\"sk-label sk-toggleable\"><input class=\"sk-toggleable__control sk-hidden--visually\" id=\"sk-estimator-id-28\" type=\"checkbox\" ><label for=\"sk-estimator-id-28\" class=\"sk-toggleable__label sk-toggleable__label-arrow\">gridsearchcv: GridSearchCV</label><div class=\"sk-toggleable__content\"><pre>GridSearchCV(cv=StratifiedKFold(n_splits=5, random_state=None, shuffle=False),\n",
       "             estimator=DecisionTreeClassifier(),\n",
       "             param_grid={&#x27;criterion&#x27;: [&#x27;gini&#x27;, &#x27;entropy&#x27;],\n",
       "                         &#x27;max_depth&#x27;: [10, 20, 30],\n",
       "                         &#x27;min_samples_leaf&#x27;: [1, 2, 4],\n",
       "                         &#x27;min_samples_split&#x27;: [5, 10, 15]})</pre></div></div></div><div class=\"sk-parallel\"><div class=\"sk-parallel-item\"><div class=\"sk-item\"><div class=\"sk-label-container\"><div class=\"sk-label sk-toggleable\"><input class=\"sk-toggleable__control sk-hidden--visually\" id=\"sk-estimator-id-29\" type=\"checkbox\" ><label for=\"sk-estimator-id-29\" class=\"sk-toggleable__label sk-toggleable__label-arrow\">estimator: DecisionTreeClassifier</label><div class=\"sk-toggleable__content\"><pre>DecisionTreeClassifier()</pre></div></div></div><div class=\"sk-serial\"><div class=\"sk-item\"><div class=\"sk-estimator sk-toggleable\"><input class=\"sk-toggleable__control sk-hidden--visually\" id=\"sk-estimator-id-30\" type=\"checkbox\" ><label for=\"sk-estimator-id-30\" class=\"sk-toggleable__label sk-toggleable__label-arrow\">DecisionTreeClassifier</label><div class=\"sk-toggleable__content\"><pre>DecisionTreeClassifier()</pre></div></div></div></div></div></div></div></div></div></div></div></div>"
      ],
      "text/plain": [
       "Pipeline(steps=[('columntransformer',\n",
       "                 ColumnTransformer(n_jobs=-1,\n",
       "                                   transformers=[('impute',\n",
       "                                                  SimpleImputer(strategy='most_frequent'),\n",
       "                                                  ['Age']),\n",
       "                                                 ('ord_pipeline',\n",
       "                                                  Pipeline(steps=[('impute',\n",
       "                                                                   SimpleImputer(strategy='most_frequent')),\n",
       "                                                                  ('ord',\n",
       "                                                                   OrdinalEncoder(handle_unknown='use_encoded_value',\n",
       "                                                                                  unknown_value=-1))]),\n",
       "                                                  ['family_size_grouped']),\n",
       "                                                 ('ohe_pipeline',\n",
       "                                                  Pipeline(s...\n",
       "                                                 ('passthrough', 'passthrough',\n",
       "                                                  ['Pclass', 'Cabin_Assigned',\n",
       "                                                   'Name_Size', 'Age', 'Fare',\n",
       "                                                   'ticket_number_count'])])),\n",
       "                ('gridsearchcv',\n",
       "                 GridSearchCV(cv=StratifiedKFold(n_splits=5, random_state=None, shuffle=False),\n",
       "                              estimator=DecisionTreeClassifier(),\n",
       "                              param_grid={'criterion': ['gini', 'entropy'],\n",
       "                                          'max_depth': [10, 20, 30],\n",
       "                                          'min_samples_leaf': [1, 2, 4],\n",
       "                                          'min_samples_split': [5, 10, 15]}))])"
      ]
     },
     "execution_count": 82,
     "metadata": {},
     "output_type": "execute_result"
    }
   ],
   "source": [
    "pipefinaldtc = make_pipeline(col_trans, CV_dtc)\n",
    "pipefinaldtc.fit(X_train, y_train)"
   ]
  },
  {
   "cell_type": "code",
   "execution_count": 83,
   "id": "42bac6fc",
   "metadata": {
    "execution": {
     "iopub.execute_input": "2024-07-06T15:16:23.639718Z",
     "iopub.status.busy": "2024-07-06T15:16:23.638898Z",
     "iopub.status.idle": "2024-07-06T15:16:23.644599Z",
     "shell.execute_reply": "2024-07-06T15:16:23.643616Z"
    },
    "papermill": {
     "duration": 0.051216,
     "end_time": "2024-07-06T15:16:23.647175",
     "exception": false,
     "start_time": "2024-07-06T15:16:23.595959",
     "status": "completed"
    },
    "tags": []
   },
   "outputs": [
    {
     "name": "stdout",
     "output_type": "stream",
     "text": [
      "{'criterion': 'gini', 'max_depth': 10, 'min_samples_leaf': 4, 'min_samples_split': 15}\n",
      "0.8159854230276766\n"
     ]
    }
   ],
   "source": [
    "print(CV_dtc.best_params_)\n",
    "print(CV_dtc.best_score_)"
   ]
  },
  {
   "cell_type": "code",
   "execution_count": 84,
   "id": "00bbe828",
   "metadata": {
    "execution": {
     "iopub.execute_input": "2024-07-06T15:16:23.731187Z",
     "iopub.status.busy": "2024-07-06T15:16:23.730797Z",
     "iopub.status.idle": "2024-07-06T15:16:23.736045Z",
     "shell.execute_reply": "2024-07-06T15:16:23.734775Z"
    },
    "papermill": {
     "duration": 0.049811,
     "end_time": "2024-07-06T15:16:23.738581",
     "exception": false,
     "start_time": "2024-07-06T15:16:23.688770",
     "status": "completed"
    },
    "tags": []
   },
   "outputs": [],
   "source": [
    "knn = KNeighborsClassifier()"
   ]
  },
  {
   "cell_type": "code",
   "execution_count": 85,
   "id": "ae78e24d",
   "metadata": {
    "execution": {
     "iopub.execute_input": "2024-07-06T15:16:23.825189Z",
     "iopub.status.busy": "2024-07-06T15:16:23.824335Z",
     "iopub.status.idle": "2024-07-06T15:16:23.829809Z",
     "shell.execute_reply": "2024-07-06T15:16:23.828792Z"
    },
    "papermill": {
     "duration": 0.051702,
     "end_time": "2024-07-06T15:16:23.831988",
     "exception": false,
     "start_time": "2024-07-06T15:16:23.780286",
     "status": "completed"
    },
    "tags": []
   },
   "outputs": [],
   "source": [
    "param_grid = {\n",
    "    'n_neighbors': [3, 5, 7, 9, 11],\n",
    "    'weights': ['uniform', 'distance'],\n",
    "    'algorithm': ['auto', 'ball_tree', 'kd_tree', 'brute'],\n",
    "    'p': [1,2],\n",
    "}"
   ]
  },
  {
   "cell_type": "code",
   "execution_count": 86,
   "id": "ae3e8974",
   "metadata": {
    "execution": {
     "iopub.execute_input": "2024-07-06T15:16:23.981611Z",
     "iopub.status.busy": "2024-07-06T15:16:23.981210Z",
     "iopub.status.idle": "2024-07-06T15:16:23.986431Z",
     "shell.execute_reply": "2024-07-06T15:16:23.985369Z"
    },
    "papermill": {
     "duration": 0.049292,
     "end_time": "2024-07-06T15:16:23.988582",
     "exception": false,
     "start_time": "2024-07-06T15:16:23.939290",
     "status": "completed"
    },
    "tags": []
   },
   "outputs": [],
   "source": [
    "CV_knn = GridSearchCV(estimator=knn, param_grid=param_grid, cv=StratifiedKFold(n_splits=5))"
   ]
  },
  {
   "cell_type": "code",
   "execution_count": 87,
   "id": "ddb43761",
   "metadata": {
    "execution": {
     "iopub.execute_input": "2024-07-06T15:16:24.072171Z",
     "iopub.status.busy": "2024-07-06T15:16:24.071726Z",
     "iopub.status.idle": "2024-07-06T15:16:27.876920Z",
     "shell.execute_reply": "2024-07-06T15:16:27.875806Z"
    },
    "papermill": {
     "duration": 3.849237,
     "end_time": "2024-07-06T15:16:27.879302",
     "exception": false,
     "start_time": "2024-07-06T15:16:24.030065",
     "status": "completed"
    },
    "tags": []
   },
   "outputs": [
    {
     "data": {
      "text/html": [
       "<style>#sk-container-id-3 {color: black;background-color: white;}#sk-container-id-3 pre{padding: 0;}#sk-container-id-3 div.sk-toggleable {background-color: white;}#sk-container-id-3 label.sk-toggleable__label {cursor: pointer;display: block;width: 100%;margin-bottom: 0;padding: 0.3em;box-sizing: border-box;text-align: center;}#sk-container-id-3 label.sk-toggleable__label-arrow:before {content: \"▸\";float: left;margin-right: 0.25em;color: #696969;}#sk-container-id-3 label.sk-toggleable__label-arrow:hover:before {color: black;}#sk-container-id-3 div.sk-estimator:hover label.sk-toggleable__label-arrow:before {color: black;}#sk-container-id-3 div.sk-toggleable__content {max-height: 0;max-width: 0;overflow: hidden;text-align: left;background-color: #f0f8ff;}#sk-container-id-3 div.sk-toggleable__content pre {margin: 0.2em;color: black;border-radius: 0.25em;background-color: #f0f8ff;}#sk-container-id-3 input.sk-toggleable__control:checked~div.sk-toggleable__content {max-height: 200px;max-width: 100%;overflow: auto;}#sk-container-id-3 input.sk-toggleable__control:checked~label.sk-toggleable__label-arrow:before {content: \"▾\";}#sk-container-id-3 div.sk-estimator input.sk-toggleable__control:checked~label.sk-toggleable__label {background-color: #d4ebff;}#sk-container-id-3 div.sk-label input.sk-toggleable__control:checked~label.sk-toggleable__label {background-color: #d4ebff;}#sk-container-id-3 input.sk-hidden--visually {border: 0;clip: rect(1px 1px 1px 1px);clip: rect(1px, 1px, 1px, 1px);height: 1px;margin: -1px;overflow: hidden;padding: 0;position: absolute;width: 1px;}#sk-container-id-3 div.sk-estimator {font-family: monospace;background-color: #f0f8ff;border: 1px dotted black;border-radius: 0.25em;box-sizing: border-box;margin-bottom: 0.5em;}#sk-container-id-3 div.sk-estimator:hover {background-color: #d4ebff;}#sk-container-id-3 div.sk-parallel-item::after {content: \"\";width: 100%;border-bottom: 1px solid gray;flex-grow: 1;}#sk-container-id-3 div.sk-label:hover label.sk-toggleable__label {background-color: #d4ebff;}#sk-container-id-3 div.sk-serial::before {content: \"\";position: absolute;border-left: 1px solid gray;box-sizing: border-box;top: 0;bottom: 0;left: 50%;z-index: 0;}#sk-container-id-3 div.sk-serial {display: flex;flex-direction: column;align-items: center;background-color: white;padding-right: 0.2em;padding-left: 0.2em;position: relative;}#sk-container-id-3 div.sk-item {position: relative;z-index: 1;}#sk-container-id-3 div.sk-parallel {display: flex;align-items: stretch;justify-content: center;background-color: white;position: relative;}#sk-container-id-3 div.sk-item::before, #sk-container-id-3 div.sk-parallel-item::before {content: \"\";position: absolute;border-left: 1px solid gray;box-sizing: border-box;top: 0;bottom: 0;left: 50%;z-index: -1;}#sk-container-id-3 div.sk-parallel-item {display: flex;flex-direction: column;z-index: 1;position: relative;background-color: white;}#sk-container-id-3 div.sk-parallel-item:first-child::after {align-self: flex-end;width: 50%;}#sk-container-id-3 div.sk-parallel-item:last-child::after {align-self: flex-start;width: 50%;}#sk-container-id-3 div.sk-parallel-item:only-child::after {width: 0;}#sk-container-id-3 div.sk-dashed-wrapped {border: 1px dashed gray;margin: 0 0.4em 0.5em 0.4em;box-sizing: border-box;padding-bottom: 0.4em;background-color: white;}#sk-container-id-3 div.sk-label label {font-family: monospace;font-weight: bold;display: inline-block;line-height: 1.2em;}#sk-container-id-3 div.sk-label-container {text-align: center;}#sk-container-id-3 div.sk-container {/* jupyter's `normalize.less` sets `[hidden] { display: none; }` but bootstrap.min.css set `[hidden] { display: none !important; }` so we also need the `!important` here to be able to override the default hidden behavior on the sphinx rendered scikit-learn.org. See: https://github.com/scikit-learn/scikit-learn/issues/21755 */display: inline-block !important;position: relative;}#sk-container-id-3 div.sk-text-repr-fallback {display: none;}</style><div id=\"sk-container-id-3\" class=\"sk-top-container\"><div class=\"sk-text-repr-fallback\"><pre>Pipeline(steps=[(&#x27;columntransformer&#x27;,\n",
       "                 ColumnTransformer(n_jobs=-1,\n",
       "                                   transformers=[(&#x27;impute&#x27;,\n",
       "                                                  SimpleImputer(strategy=&#x27;most_frequent&#x27;),\n",
       "                                                  [&#x27;Age&#x27;]),\n",
       "                                                 (&#x27;ord_pipeline&#x27;,\n",
       "                                                  Pipeline(steps=[(&#x27;impute&#x27;,\n",
       "                                                                   SimpleImputer(strategy=&#x27;most_frequent&#x27;)),\n",
       "                                                                  (&#x27;ord&#x27;,\n",
       "                                                                   OrdinalEncoder(handle_unknown=&#x27;use_encoded_value&#x27;,\n",
       "                                                                                  unknown_value=-1))]),\n",
       "                                                  [&#x27;family_size_grouped&#x27;]),\n",
       "                                                 (&#x27;ohe_pipeline&#x27;,\n",
       "                                                  Pipeline(s...\n",
       "                                                 (&#x27;passthrough&#x27;, &#x27;passthrough&#x27;,\n",
       "                                                  [&#x27;Pclass&#x27;, &#x27;Cabin_Assigned&#x27;,\n",
       "                                                   &#x27;Name_Size&#x27;, &#x27;Age&#x27;, &#x27;Fare&#x27;,\n",
       "                                                   &#x27;ticket_number_count&#x27;])])),\n",
       "                (&#x27;gridsearchcv&#x27;,\n",
       "                 GridSearchCV(cv=StratifiedKFold(n_splits=5, random_state=None, shuffle=False),\n",
       "                              estimator=KNeighborsClassifier(),\n",
       "                              param_grid={&#x27;algorithm&#x27;: [&#x27;auto&#x27;, &#x27;ball_tree&#x27;,\n",
       "                                                        &#x27;kd_tree&#x27;, &#x27;brute&#x27;],\n",
       "                                          &#x27;n_neighbors&#x27;: [3, 5, 7, 9, 11],\n",
       "                                          &#x27;p&#x27;: [1, 2],\n",
       "                                          &#x27;weights&#x27;: [&#x27;uniform&#x27;,\n",
       "                                                      &#x27;distance&#x27;]}))])</pre><b>In a Jupyter environment, please rerun this cell to show the HTML representation or trust the notebook. <br />On GitHub, the HTML representation is unable to render, please try loading this page with nbviewer.org.</b></div><div class=\"sk-container\" hidden><div class=\"sk-item sk-dashed-wrapped\"><div class=\"sk-label-container\"><div class=\"sk-label sk-toggleable\"><input class=\"sk-toggleable__control sk-hidden--visually\" id=\"sk-estimator-id-31\" type=\"checkbox\" ><label for=\"sk-estimator-id-31\" class=\"sk-toggleable__label sk-toggleable__label-arrow\">Pipeline</label><div class=\"sk-toggleable__content\"><pre>Pipeline(steps=[(&#x27;columntransformer&#x27;,\n",
       "                 ColumnTransformer(n_jobs=-1,\n",
       "                                   transformers=[(&#x27;impute&#x27;,\n",
       "                                                  SimpleImputer(strategy=&#x27;most_frequent&#x27;),\n",
       "                                                  [&#x27;Age&#x27;]),\n",
       "                                                 (&#x27;ord_pipeline&#x27;,\n",
       "                                                  Pipeline(steps=[(&#x27;impute&#x27;,\n",
       "                                                                   SimpleImputer(strategy=&#x27;most_frequent&#x27;)),\n",
       "                                                                  (&#x27;ord&#x27;,\n",
       "                                                                   OrdinalEncoder(handle_unknown=&#x27;use_encoded_value&#x27;,\n",
       "                                                                                  unknown_value=-1))]),\n",
       "                                                  [&#x27;family_size_grouped&#x27;]),\n",
       "                                                 (&#x27;ohe_pipeline&#x27;,\n",
       "                                                  Pipeline(s...\n",
       "                                                 (&#x27;passthrough&#x27;, &#x27;passthrough&#x27;,\n",
       "                                                  [&#x27;Pclass&#x27;, &#x27;Cabin_Assigned&#x27;,\n",
       "                                                   &#x27;Name_Size&#x27;, &#x27;Age&#x27;, &#x27;Fare&#x27;,\n",
       "                                                   &#x27;ticket_number_count&#x27;])])),\n",
       "                (&#x27;gridsearchcv&#x27;,\n",
       "                 GridSearchCV(cv=StratifiedKFold(n_splits=5, random_state=None, shuffle=False),\n",
       "                              estimator=KNeighborsClassifier(),\n",
       "                              param_grid={&#x27;algorithm&#x27;: [&#x27;auto&#x27;, &#x27;ball_tree&#x27;,\n",
       "                                                        &#x27;kd_tree&#x27;, &#x27;brute&#x27;],\n",
       "                                          &#x27;n_neighbors&#x27;: [3, 5, 7, 9, 11],\n",
       "                                          &#x27;p&#x27;: [1, 2],\n",
       "                                          &#x27;weights&#x27;: [&#x27;uniform&#x27;,\n",
       "                                                      &#x27;distance&#x27;]}))])</pre></div></div></div><div class=\"sk-serial\"><div class=\"sk-item sk-dashed-wrapped\"><div class=\"sk-label-container\"><div class=\"sk-label sk-toggleable\"><input class=\"sk-toggleable__control sk-hidden--visually\" id=\"sk-estimator-id-32\" type=\"checkbox\" ><label for=\"sk-estimator-id-32\" class=\"sk-toggleable__label sk-toggleable__label-arrow\">columntransformer: ColumnTransformer</label><div class=\"sk-toggleable__content\"><pre>ColumnTransformer(n_jobs=-1,\n",
       "                  transformers=[(&#x27;impute&#x27;,\n",
       "                                 SimpleImputer(strategy=&#x27;most_frequent&#x27;),\n",
       "                                 [&#x27;Age&#x27;]),\n",
       "                                (&#x27;ord_pipeline&#x27;,\n",
       "                                 Pipeline(steps=[(&#x27;impute&#x27;,\n",
       "                                                  SimpleImputer(strategy=&#x27;most_frequent&#x27;)),\n",
       "                                                 (&#x27;ord&#x27;,\n",
       "                                                  OrdinalEncoder(handle_unknown=&#x27;use_encoded_value&#x27;,\n",
       "                                                                 unknown_value=-1))]),\n",
       "                                 [&#x27;family_size_grouped&#x27;]),\n",
       "                                (&#x27;ohe_pipeline&#x27;,\n",
       "                                 Pipeline(steps=[(&#x27;impute&#x27;,\n",
       "                                                  SimpleImputer(strategy=&#x27;most_frequent&#x27;)),\n",
       "                                                 (&#x27;one-hot&#x27;,\n",
       "                                                  OneHotEncoder(handle_unknown=&#x27;ignore&#x27;,\n",
       "                                                                sparse_output=False))]),\n",
       "                                 [&#x27;Sex&#x27;, &#x27;Embarked&#x27;]),\n",
       "                                (&#x27;passthrough&#x27;, &#x27;passthrough&#x27;,\n",
       "                                 [&#x27;Pclass&#x27;, &#x27;Cabin_Assigned&#x27;, &#x27;Name_Size&#x27;,\n",
       "                                  &#x27;Age&#x27;, &#x27;Fare&#x27;, &#x27;ticket_number_count&#x27;])])</pre></div></div></div><div class=\"sk-parallel\"><div class=\"sk-parallel-item\"><div class=\"sk-item\"><div class=\"sk-label-container\"><div class=\"sk-label sk-toggleable\"><input class=\"sk-toggleable__control sk-hidden--visually\" id=\"sk-estimator-id-33\" type=\"checkbox\" ><label for=\"sk-estimator-id-33\" class=\"sk-toggleable__label sk-toggleable__label-arrow\">impute</label><div class=\"sk-toggleable__content\"><pre>[&#x27;Age&#x27;]</pre></div></div></div><div class=\"sk-serial\"><div class=\"sk-item\"><div class=\"sk-estimator sk-toggleable\"><input class=\"sk-toggleable__control sk-hidden--visually\" id=\"sk-estimator-id-34\" type=\"checkbox\" ><label for=\"sk-estimator-id-34\" class=\"sk-toggleable__label sk-toggleable__label-arrow\">SimpleImputer</label><div class=\"sk-toggleable__content\"><pre>SimpleImputer(strategy=&#x27;most_frequent&#x27;)</pre></div></div></div></div></div></div><div class=\"sk-parallel-item\"><div class=\"sk-item\"><div class=\"sk-label-container\"><div class=\"sk-label sk-toggleable\"><input class=\"sk-toggleable__control sk-hidden--visually\" id=\"sk-estimator-id-35\" type=\"checkbox\" ><label for=\"sk-estimator-id-35\" class=\"sk-toggleable__label sk-toggleable__label-arrow\">ord_pipeline</label><div class=\"sk-toggleable__content\"><pre>[&#x27;family_size_grouped&#x27;]</pre></div></div></div><div class=\"sk-serial\"><div class=\"sk-item\"><div class=\"sk-serial\"><div class=\"sk-item\"><div class=\"sk-estimator sk-toggleable\"><input class=\"sk-toggleable__control sk-hidden--visually\" id=\"sk-estimator-id-36\" type=\"checkbox\" ><label for=\"sk-estimator-id-36\" class=\"sk-toggleable__label sk-toggleable__label-arrow\">SimpleImputer</label><div class=\"sk-toggleable__content\"><pre>SimpleImputer(strategy=&#x27;most_frequent&#x27;)</pre></div></div></div><div class=\"sk-item\"><div class=\"sk-estimator sk-toggleable\"><input class=\"sk-toggleable__control sk-hidden--visually\" id=\"sk-estimator-id-37\" type=\"checkbox\" ><label for=\"sk-estimator-id-37\" class=\"sk-toggleable__label sk-toggleable__label-arrow\">OrdinalEncoder</label><div class=\"sk-toggleable__content\"><pre>OrdinalEncoder(handle_unknown=&#x27;use_encoded_value&#x27;, unknown_value=-1)</pre></div></div></div></div></div></div></div></div><div class=\"sk-parallel-item\"><div class=\"sk-item\"><div class=\"sk-label-container\"><div class=\"sk-label sk-toggleable\"><input class=\"sk-toggleable__control sk-hidden--visually\" id=\"sk-estimator-id-38\" type=\"checkbox\" ><label for=\"sk-estimator-id-38\" class=\"sk-toggleable__label sk-toggleable__label-arrow\">ohe_pipeline</label><div class=\"sk-toggleable__content\"><pre>[&#x27;Sex&#x27;, &#x27;Embarked&#x27;]</pre></div></div></div><div class=\"sk-serial\"><div class=\"sk-item\"><div class=\"sk-serial\"><div class=\"sk-item\"><div class=\"sk-estimator sk-toggleable\"><input class=\"sk-toggleable__control sk-hidden--visually\" id=\"sk-estimator-id-39\" type=\"checkbox\" ><label for=\"sk-estimator-id-39\" class=\"sk-toggleable__label sk-toggleable__label-arrow\">SimpleImputer</label><div class=\"sk-toggleable__content\"><pre>SimpleImputer(strategy=&#x27;most_frequent&#x27;)</pre></div></div></div><div class=\"sk-item\"><div class=\"sk-estimator sk-toggleable\"><input class=\"sk-toggleable__control sk-hidden--visually\" id=\"sk-estimator-id-40\" type=\"checkbox\" ><label for=\"sk-estimator-id-40\" class=\"sk-toggleable__label sk-toggleable__label-arrow\">OneHotEncoder</label><div class=\"sk-toggleable__content\"><pre>OneHotEncoder(handle_unknown=&#x27;ignore&#x27;, sparse_output=False)</pre></div></div></div></div></div></div></div></div><div class=\"sk-parallel-item\"><div class=\"sk-item\"><div class=\"sk-label-container\"><div class=\"sk-label sk-toggleable\"><input class=\"sk-toggleable__control sk-hidden--visually\" id=\"sk-estimator-id-41\" type=\"checkbox\" ><label for=\"sk-estimator-id-41\" class=\"sk-toggleable__label sk-toggleable__label-arrow\">passthrough</label><div class=\"sk-toggleable__content\"><pre>[&#x27;Pclass&#x27;, &#x27;Cabin_Assigned&#x27;, &#x27;Name_Size&#x27;, &#x27;Age&#x27;, &#x27;Fare&#x27;, &#x27;ticket_number_count&#x27;]</pre></div></div></div><div class=\"sk-serial\"><div class=\"sk-item\"><div class=\"sk-estimator sk-toggleable\"><input class=\"sk-toggleable__control sk-hidden--visually\" id=\"sk-estimator-id-42\" type=\"checkbox\" ><label for=\"sk-estimator-id-42\" class=\"sk-toggleable__label sk-toggleable__label-arrow\">passthrough</label><div class=\"sk-toggleable__content\"><pre>passthrough</pre></div></div></div></div></div></div></div></div><div class=\"sk-item sk-dashed-wrapped\"><div class=\"sk-label-container\"><div class=\"sk-label sk-toggleable\"><input class=\"sk-toggleable__control sk-hidden--visually\" id=\"sk-estimator-id-43\" type=\"checkbox\" ><label for=\"sk-estimator-id-43\" class=\"sk-toggleable__label sk-toggleable__label-arrow\">gridsearchcv: GridSearchCV</label><div class=\"sk-toggleable__content\"><pre>GridSearchCV(cv=StratifiedKFold(n_splits=5, random_state=None, shuffle=False),\n",
       "             estimator=KNeighborsClassifier(),\n",
       "             param_grid={&#x27;algorithm&#x27;: [&#x27;auto&#x27;, &#x27;ball_tree&#x27;, &#x27;kd_tree&#x27;, &#x27;brute&#x27;],\n",
       "                         &#x27;n_neighbors&#x27;: [3, 5, 7, 9, 11], &#x27;p&#x27;: [1, 2],\n",
       "                         &#x27;weights&#x27;: [&#x27;uniform&#x27;, &#x27;distance&#x27;]})</pre></div></div></div><div class=\"sk-parallel\"><div class=\"sk-parallel-item\"><div class=\"sk-item\"><div class=\"sk-label-container\"><div class=\"sk-label sk-toggleable\"><input class=\"sk-toggleable__control sk-hidden--visually\" id=\"sk-estimator-id-44\" type=\"checkbox\" ><label for=\"sk-estimator-id-44\" class=\"sk-toggleable__label sk-toggleable__label-arrow\">estimator: KNeighborsClassifier</label><div class=\"sk-toggleable__content\"><pre>KNeighborsClassifier()</pre></div></div></div><div class=\"sk-serial\"><div class=\"sk-item\"><div class=\"sk-estimator sk-toggleable\"><input class=\"sk-toggleable__control sk-hidden--visually\" id=\"sk-estimator-id-45\" type=\"checkbox\" ><label for=\"sk-estimator-id-45\" class=\"sk-toggleable__label sk-toggleable__label-arrow\">KNeighborsClassifier</label><div class=\"sk-toggleable__content\"><pre>KNeighborsClassifier()</pre></div></div></div></div></div></div></div></div></div></div></div></div>"
      ],
      "text/plain": [
       "Pipeline(steps=[('columntransformer',\n",
       "                 ColumnTransformer(n_jobs=-1,\n",
       "                                   transformers=[('impute',\n",
       "                                                  SimpleImputer(strategy='most_frequent'),\n",
       "                                                  ['Age']),\n",
       "                                                 ('ord_pipeline',\n",
       "                                                  Pipeline(steps=[('impute',\n",
       "                                                                   SimpleImputer(strategy='most_frequent')),\n",
       "                                                                  ('ord',\n",
       "                                                                   OrdinalEncoder(handle_unknown='use_encoded_value',\n",
       "                                                                                  unknown_value=-1))]),\n",
       "                                                  ['family_size_grouped']),\n",
       "                                                 ('ohe_pipeline',\n",
       "                                                  Pipeline(s...\n",
       "                                                 ('passthrough', 'passthrough',\n",
       "                                                  ['Pclass', 'Cabin_Assigned',\n",
       "                                                   'Name_Size', 'Age', 'Fare',\n",
       "                                                   'ticket_number_count'])])),\n",
       "                ('gridsearchcv',\n",
       "                 GridSearchCV(cv=StratifiedKFold(n_splits=5, random_state=None, shuffle=False),\n",
       "                              estimator=KNeighborsClassifier(),\n",
       "                              param_grid={'algorithm': ['auto', 'ball_tree',\n",
       "                                                        'kd_tree', 'brute'],\n",
       "                                          'n_neighbors': [3, 5, 7, 9, 11],\n",
       "                                          'p': [1, 2],\n",
       "                                          'weights': ['uniform',\n",
       "                                                      'distance']}))])"
      ]
     },
     "execution_count": 87,
     "metadata": {},
     "output_type": "execute_result"
    }
   ],
   "source": [
    "pipefinalknn = make_pipeline(col_trans, CV_knn)\n",
    "pipefinalknn.fit(X_train, y_train)"
   ]
  },
  {
   "cell_type": "code",
   "execution_count": 88,
   "id": "a61a2681",
   "metadata": {
    "execution": {
     "iopub.execute_input": "2024-07-06T15:16:27.963316Z",
     "iopub.status.busy": "2024-07-06T15:16:27.962885Z",
     "iopub.status.idle": "2024-07-06T15:16:27.968627Z",
     "shell.execute_reply": "2024-07-06T15:16:27.967488Z"
    },
    "papermill": {
     "duration": 0.050085,
     "end_time": "2024-07-06T15:16:27.970696",
     "exception": false,
     "start_time": "2024-07-06T15:16:27.920611",
     "status": "completed"
    },
    "tags": []
   },
   "outputs": [
    {
     "name": "stdout",
     "output_type": "stream",
     "text": [
      "{'algorithm': 'brute', 'n_neighbors': 11, 'p': 1, 'weights': 'uniform'}\n",
      "0.8033881611346401\n"
     ]
    }
   ],
   "source": [
    "print(CV_knn.best_params_)\n",
    "print(CV_knn.best_score_)"
   ]
  },
  {
   "cell_type": "code",
   "execution_count": 89,
   "id": "00b4a62e",
   "metadata": {
    "execution": {
     "iopub.execute_input": "2024-07-06T15:16:28.054560Z",
     "iopub.status.busy": "2024-07-06T15:16:28.054171Z",
     "iopub.status.idle": "2024-07-06T15:16:28.059108Z",
     "shell.execute_reply": "2024-07-06T15:16:28.058117Z"
    },
    "papermill": {
     "duration": 0.049321,
     "end_time": "2024-07-06T15:16:28.061209",
     "exception": false,
     "start_time": "2024-07-06T15:16:28.011888",
     "status": "completed"
    },
    "tags": []
   },
   "outputs": [],
   "source": [
    "svc = SVC(probability=True)"
   ]
  },
  {
   "cell_type": "code",
   "execution_count": 90,
   "id": "0f716c1c",
   "metadata": {
    "execution": {
     "iopub.execute_input": "2024-07-06T15:16:28.145616Z",
     "iopub.status.busy": "2024-07-06T15:16:28.145243Z",
     "iopub.status.idle": "2024-07-06T15:16:28.150532Z",
     "shell.execute_reply": "2024-07-06T15:16:28.149503Z"
    },
    "papermill": {
     "duration": 0.049721,
     "end_time": "2024-07-06T15:16:28.152545",
     "exception": false,
     "start_time": "2024-07-06T15:16:28.102824",
     "status": "completed"
    },
    "tags": []
   },
   "outputs": [],
   "source": [
    "param_grid = {\n",
    "    'C': [100,10, 1.0, 0.1, 0.001, 0.001],\n",
    "    'kernel':['linear', 'poly', 'rbf', 'sigmoid'],\n",
    "}"
   ]
  },
  {
   "cell_type": "code",
   "execution_count": 91,
   "id": "c6a4b9b7",
   "metadata": {
    "execution": {
     "iopub.execute_input": "2024-07-06T15:16:28.236757Z",
     "iopub.status.busy": "2024-07-06T15:16:28.235772Z",
     "iopub.status.idle": "2024-07-06T15:16:28.240816Z",
     "shell.execute_reply": "2024-07-06T15:16:28.239820Z"
    },
    "papermill": {
     "duration": 0.049452,
     "end_time": "2024-07-06T15:16:28.242938",
     "exception": false,
     "start_time": "2024-07-06T15:16:28.193486",
     "status": "completed"
    },
    "tags": []
   },
   "outputs": [],
   "source": [
    "CV_svc = GridSearchCV(estimator=svc, param_grid=param_grid, cv=StratifiedKFold(n_splits=5))"
   ]
  },
  {
   "cell_type": "code",
   "execution_count": 92,
   "id": "48d245d2",
   "metadata": {
    "execution": {
     "iopub.execute_input": "2024-07-06T15:16:28.327896Z",
     "iopub.status.busy": "2024-07-06T15:16:28.327472Z",
     "iopub.status.idle": "2024-07-06T15:23:08.575654Z",
     "shell.execute_reply": "2024-07-06T15:23:08.574625Z"
    },
    "papermill": {
     "duration": 400.335474,
     "end_time": "2024-07-06T15:23:08.619478",
     "exception": false,
     "start_time": "2024-07-06T15:16:28.284004",
     "status": "completed"
    },
    "tags": []
   },
   "outputs": [
    {
     "data": {
      "text/html": [
       "<style>#sk-container-id-4 {color: black;background-color: white;}#sk-container-id-4 pre{padding: 0;}#sk-container-id-4 div.sk-toggleable {background-color: white;}#sk-container-id-4 label.sk-toggleable__label {cursor: pointer;display: block;width: 100%;margin-bottom: 0;padding: 0.3em;box-sizing: border-box;text-align: center;}#sk-container-id-4 label.sk-toggleable__label-arrow:before {content: \"▸\";float: left;margin-right: 0.25em;color: #696969;}#sk-container-id-4 label.sk-toggleable__label-arrow:hover:before {color: black;}#sk-container-id-4 div.sk-estimator:hover label.sk-toggleable__label-arrow:before {color: black;}#sk-container-id-4 div.sk-toggleable__content {max-height: 0;max-width: 0;overflow: hidden;text-align: left;background-color: #f0f8ff;}#sk-container-id-4 div.sk-toggleable__content pre {margin: 0.2em;color: black;border-radius: 0.25em;background-color: #f0f8ff;}#sk-container-id-4 input.sk-toggleable__control:checked~div.sk-toggleable__content {max-height: 200px;max-width: 100%;overflow: auto;}#sk-container-id-4 input.sk-toggleable__control:checked~label.sk-toggleable__label-arrow:before {content: \"▾\";}#sk-container-id-4 div.sk-estimator input.sk-toggleable__control:checked~label.sk-toggleable__label {background-color: #d4ebff;}#sk-container-id-4 div.sk-label input.sk-toggleable__control:checked~label.sk-toggleable__label {background-color: #d4ebff;}#sk-container-id-4 input.sk-hidden--visually {border: 0;clip: rect(1px 1px 1px 1px);clip: rect(1px, 1px, 1px, 1px);height: 1px;margin: -1px;overflow: hidden;padding: 0;position: absolute;width: 1px;}#sk-container-id-4 div.sk-estimator {font-family: monospace;background-color: #f0f8ff;border: 1px dotted black;border-radius: 0.25em;box-sizing: border-box;margin-bottom: 0.5em;}#sk-container-id-4 div.sk-estimator:hover {background-color: #d4ebff;}#sk-container-id-4 div.sk-parallel-item::after {content: \"\";width: 100%;border-bottom: 1px solid gray;flex-grow: 1;}#sk-container-id-4 div.sk-label:hover label.sk-toggleable__label {background-color: #d4ebff;}#sk-container-id-4 div.sk-serial::before {content: \"\";position: absolute;border-left: 1px solid gray;box-sizing: border-box;top: 0;bottom: 0;left: 50%;z-index: 0;}#sk-container-id-4 div.sk-serial {display: flex;flex-direction: column;align-items: center;background-color: white;padding-right: 0.2em;padding-left: 0.2em;position: relative;}#sk-container-id-4 div.sk-item {position: relative;z-index: 1;}#sk-container-id-4 div.sk-parallel {display: flex;align-items: stretch;justify-content: center;background-color: white;position: relative;}#sk-container-id-4 div.sk-item::before, #sk-container-id-4 div.sk-parallel-item::before {content: \"\";position: absolute;border-left: 1px solid gray;box-sizing: border-box;top: 0;bottom: 0;left: 50%;z-index: -1;}#sk-container-id-4 div.sk-parallel-item {display: flex;flex-direction: column;z-index: 1;position: relative;background-color: white;}#sk-container-id-4 div.sk-parallel-item:first-child::after {align-self: flex-end;width: 50%;}#sk-container-id-4 div.sk-parallel-item:last-child::after {align-self: flex-start;width: 50%;}#sk-container-id-4 div.sk-parallel-item:only-child::after {width: 0;}#sk-container-id-4 div.sk-dashed-wrapped {border: 1px dashed gray;margin: 0 0.4em 0.5em 0.4em;box-sizing: border-box;padding-bottom: 0.4em;background-color: white;}#sk-container-id-4 div.sk-label label {font-family: monospace;font-weight: bold;display: inline-block;line-height: 1.2em;}#sk-container-id-4 div.sk-label-container {text-align: center;}#sk-container-id-4 div.sk-container {/* jupyter's `normalize.less` sets `[hidden] { display: none; }` but bootstrap.min.css set `[hidden] { display: none !important; }` so we also need the `!important` here to be able to override the default hidden behavior on the sphinx rendered scikit-learn.org. See: https://github.com/scikit-learn/scikit-learn/issues/21755 */display: inline-block !important;position: relative;}#sk-container-id-4 div.sk-text-repr-fallback {display: none;}</style><div id=\"sk-container-id-4\" class=\"sk-top-container\"><div class=\"sk-text-repr-fallback\"><pre>Pipeline(steps=[(&#x27;columntransformer&#x27;,\n",
       "                 ColumnTransformer(n_jobs=-1,\n",
       "                                   transformers=[(&#x27;impute&#x27;,\n",
       "                                                  SimpleImputer(strategy=&#x27;most_frequent&#x27;),\n",
       "                                                  [&#x27;Age&#x27;]),\n",
       "                                                 (&#x27;ord_pipeline&#x27;,\n",
       "                                                  Pipeline(steps=[(&#x27;impute&#x27;,\n",
       "                                                                   SimpleImputer(strategy=&#x27;most_frequent&#x27;)),\n",
       "                                                                  (&#x27;ord&#x27;,\n",
       "                                                                   OrdinalEncoder(handle_unknown=&#x27;use_encoded_value&#x27;,\n",
       "                                                                                  unknown_value=-1))]),\n",
       "                                                  [&#x27;family_size_grouped&#x27;]),\n",
       "                                                 (&#x27;ohe_pipeline&#x27;,\n",
       "                                                  Pipeline(s...\n",
       "                                                                                 sparse_output=False))]),\n",
       "                                                  [&#x27;Sex&#x27;, &#x27;Embarked&#x27;]),\n",
       "                                                 (&#x27;passthrough&#x27;, &#x27;passthrough&#x27;,\n",
       "                                                  [&#x27;Pclass&#x27;, &#x27;Cabin_Assigned&#x27;,\n",
       "                                                   &#x27;Name_Size&#x27;, &#x27;Age&#x27;, &#x27;Fare&#x27;,\n",
       "                                                   &#x27;ticket_number_count&#x27;])])),\n",
       "                (&#x27;gridsearchcv&#x27;,\n",
       "                 GridSearchCV(cv=StratifiedKFold(n_splits=5, random_state=None, shuffle=False),\n",
       "                              estimator=SVC(probability=True),\n",
       "                              param_grid={&#x27;C&#x27;: [100, 10, 1.0, 0.1, 0.001,\n",
       "                                                0.001],\n",
       "                                          &#x27;kernel&#x27;: [&#x27;linear&#x27;, &#x27;poly&#x27;, &#x27;rbf&#x27;,\n",
       "                                                     &#x27;sigmoid&#x27;]}))])</pre><b>In a Jupyter environment, please rerun this cell to show the HTML representation or trust the notebook. <br />On GitHub, the HTML representation is unable to render, please try loading this page with nbviewer.org.</b></div><div class=\"sk-container\" hidden><div class=\"sk-item sk-dashed-wrapped\"><div class=\"sk-label-container\"><div class=\"sk-label sk-toggleable\"><input class=\"sk-toggleable__control sk-hidden--visually\" id=\"sk-estimator-id-46\" type=\"checkbox\" ><label for=\"sk-estimator-id-46\" class=\"sk-toggleable__label sk-toggleable__label-arrow\">Pipeline</label><div class=\"sk-toggleable__content\"><pre>Pipeline(steps=[(&#x27;columntransformer&#x27;,\n",
       "                 ColumnTransformer(n_jobs=-1,\n",
       "                                   transformers=[(&#x27;impute&#x27;,\n",
       "                                                  SimpleImputer(strategy=&#x27;most_frequent&#x27;),\n",
       "                                                  [&#x27;Age&#x27;]),\n",
       "                                                 (&#x27;ord_pipeline&#x27;,\n",
       "                                                  Pipeline(steps=[(&#x27;impute&#x27;,\n",
       "                                                                   SimpleImputer(strategy=&#x27;most_frequent&#x27;)),\n",
       "                                                                  (&#x27;ord&#x27;,\n",
       "                                                                   OrdinalEncoder(handle_unknown=&#x27;use_encoded_value&#x27;,\n",
       "                                                                                  unknown_value=-1))]),\n",
       "                                                  [&#x27;family_size_grouped&#x27;]),\n",
       "                                                 (&#x27;ohe_pipeline&#x27;,\n",
       "                                                  Pipeline(s...\n",
       "                                                                                 sparse_output=False))]),\n",
       "                                                  [&#x27;Sex&#x27;, &#x27;Embarked&#x27;]),\n",
       "                                                 (&#x27;passthrough&#x27;, &#x27;passthrough&#x27;,\n",
       "                                                  [&#x27;Pclass&#x27;, &#x27;Cabin_Assigned&#x27;,\n",
       "                                                   &#x27;Name_Size&#x27;, &#x27;Age&#x27;, &#x27;Fare&#x27;,\n",
       "                                                   &#x27;ticket_number_count&#x27;])])),\n",
       "                (&#x27;gridsearchcv&#x27;,\n",
       "                 GridSearchCV(cv=StratifiedKFold(n_splits=5, random_state=None, shuffle=False),\n",
       "                              estimator=SVC(probability=True),\n",
       "                              param_grid={&#x27;C&#x27;: [100, 10, 1.0, 0.1, 0.001,\n",
       "                                                0.001],\n",
       "                                          &#x27;kernel&#x27;: [&#x27;linear&#x27;, &#x27;poly&#x27;, &#x27;rbf&#x27;,\n",
       "                                                     &#x27;sigmoid&#x27;]}))])</pre></div></div></div><div class=\"sk-serial\"><div class=\"sk-item sk-dashed-wrapped\"><div class=\"sk-label-container\"><div class=\"sk-label sk-toggleable\"><input class=\"sk-toggleable__control sk-hidden--visually\" id=\"sk-estimator-id-47\" type=\"checkbox\" ><label for=\"sk-estimator-id-47\" class=\"sk-toggleable__label sk-toggleable__label-arrow\">columntransformer: ColumnTransformer</label><div class=\"sk-toggleable__content\"><pre>ColumnTransformer(n_jobs=-1,\n",
       "                  transformers=[(&#x27;impute&#x27;,\n",
       "                                 SimpleImputer(strategy=&#x27;most_frequent&#x27;),\n",
       "                                 [&#x27;Age&#x27;]),\n",
       "                                (&#x27;ord_pipeline&#x27;,\n",
       "                                 Pipeline(steps=[(&#x27;impute&#x27;,\n",
       "                                                  SimpleImputer(strategy=&#x27;most_frequent&#x27;)),\n",
       "                                                 (&#x27;ord&#x27;,\n",
       "                                                  OrdinalEncoder(handle_unknown=&#x27;use_encoded_value&#x27;,\n",
       "                                                                 unknown_value=-1))]),\n",
       "                                 [&#x27;family_size_grouped&#x27;]),\n",
       "                                (&#x27;ohe_pipeline&#x27;,\n",
       "                                 Pipeline(steps=[(&#x27;impute&#x27;,\n",
       "                                                  SimpleImputer(strategy=&#x27;most_frequent&#x27;)),\n",
       "                                                 (&#x27;one-hot&#x27;,\n",
       "                                                  OneHotEncoder(handle_unknown=&#x27;ignore&#x27;,\n",
       "                                                                sparse_output=False))]),\n",
       "                                 [&#x27;Sex&#x27;, &#x27;Embarked&#x27;]),\n",
       "                                (&#x27;passthrough&#x27;, &#x27;passthrough&#x27;,\n",
       "                                 [&#x27;Pclass&#x27;, &#x27;Cabin_Assigned&#x27;, &#x27;Name_Size&#x27;,\n",
       "                                  &#x27;Age&#x27;, &#x27;Fare&#x27;, &#x27;ticket_number_count&#x27;])])</pre></div></div></div><div class=\"sk-parallel\"><div class=\"sk-parallel-item\"><div class=\"sk-item\"><div class=\"sk-label-container\"><div class=\"sk-label sk-toggleable\"><input class=\"sk-toggleable__control sk-hidden--visually\" id=\"sk-estimator-id-48\" type=\"checkbox\" ><label for=\"sk-estimator-id-48\" class=\"sk-toggleable__label sk-toggleable__label-arrow\">impute</label><div class=\"sk-toggleable__content\"><pre>[&#x27;Age&#x27;]</pre></div></div></div><div class=\"sk-serial\"><div class=\"sk-item\"><div class=\"sk-estimator sk-toggleable\"><input class=\"sk-toggleable__control sk-hidden--visually\" id=\"sk-estimator-id-49\" type=\"checkbox\" ><label for=\"sk-estimator-id-49\" class=\"sk-toggleable__label sk-toggleable__label-arrow\">SimpleImputer</label><div class=\"sk-toggleable__content\"><pre>SimpleImputer(strategy=&#x27;most_frequent&#x27;)</pre></div></div></div></div></div></div><div class=\"sk-parallel-item\"><div class=\"sk-item\"><div class=\"sk-label-container\"><div class=\"sk-label sk-toggleable\"><input class=\"sk-toggleable__control sk-hidden--visually\" id=\"sk-estimator-id-50\" type=\"checkbox\" ><label for=\"sk-estimator-id-50\" class=\"sk-toggleable__label sk-toggleable__label-arrow\">ord_pipeline</label><div class=\"sk-toggleable__content\"><pre>[&#x27;family_size_grouped&#x27;]</pre></div></div></div><div class=\"sk-serial\"><div class=\"sk-item\"><div class=\"sk-serial\"><div class=\"sk-item\"><div class=\"sk-estimator sk-toggleable\"><input class=\"sk-toggleable__control sk-hidden--visually\" id=\"sk-estimator-id-51\" type=\"checkbox\" ><label for=\"sk-estimator-id-51\" class=\"sk-toggleable__label sk-toggleable__label-arrow\">SimpleImputer</label><div class=\"sk-toggleable__content\"><pre>SimpleImputer(strategy=&#x27;most_frequent&#x27;)</pre></div></div></div><div class=\"sk-item\"><div class=\"sk-estimator sk-toggleable\"><input class=\"sk-toggleable__control sk-hidden--visually\" id=\"sk-estimator-id-52\" type=\"checkbox\" ><label for=\"sk-estimator-id-52\" class=\"sk-toggleable__label sk-toggleable__label-arrow\">OrdinalEncoder</label><div class=\"sk-toggleable__content\"><pre>OrdinalEncoder(handle_unknown=&#x27;use_encoded_value&#x27;, unknown_value=-1)</pre></div></div></div></div></div></div></div></div><div class=\"sk-parallel-item\"><div class=\"sk-item\"><div class=\"sk-label-container\"><div class=\"sk-label sk-toggleable\"><input class=\"sk-toggleable__control sk-hidden--visually\" id=\"sk-estimator-id-53\" type=\"checkbox\" ><label for=\"sk-estimator-id-53\" class=\"sk-toggleable__label sk-toggleable__label-arrow\">ohe_pipeline</label><div class=\"sk-toggleable__content\"><pre>[&#x27;Sex&#x27;, &#x27;Embarked&#x27;]</pre></div></div></div><div class=\"sk-serial\"><div class=\"sk-item\"><div class=\"sk-serial\"><div class=\"sk-item\"><div class=\"sk-estimator sk-toggleable\"><input class=\"sk-toggleable__control sk-hidden--visually\" id=\"sk-estimator-id-54\" type=\"checkbox\" ><label for=\"sk-estimator-id-54\" class=\"sk-toggleable__label sk-toggleable__label-arrow\">SimpleImputer</label><div class=\"sk-toggleable__content\"><pre>SimpleImputer(strategy=&#x27;most_frequent&#x27;)</pre></div></div></div><div class=\"sk-item\"><div class=\"sk-estimator sk-toggleable\"><input class=\"sk-toggleable__control sk-hidden--visually\" id=\"sk-estimator-id-55\" type=\"checkbox\" ><label for=\"sk-estimator-id-55\" class=\"sk-toggleable__label sk-toggleable__label-arrow\">OneHotEncoder</label><div class=\"sk-toggleable__content\"><pre>OneHotEncoder(handle_unknown=&#x27;ignore&#x27;, sparse_output=False)</pre></div></div></div></div></div></div></div></div><div class=\"sk-parallel-item\"><div class=\"sk-item\"><div class=\"sk-label-container\"><div class=\"sk-label sk-toggleable\"><input class=\"sk-toggleable__control sk-hidden--visually\" id=\"sk-estimator-id-56\" type=\"checkbox\" ><label for=\"sk-estimator-id-56\" class=\"sk-toggleable__label sk-toggleable__label-arrow\">passthrough</label><div class=\"sk-toggleable__content\"><pre>[&#x27;Pclass&#x27;, &#x27;Cabin_Assigned&#x27;, &#x27;Name_Size&#x27;, &#x27;Age&#x27;, &#x27;Fare&#x27;, &#x27;ticket_number_count&#x27;]</pre></div></div></div><div class=\"sk-serial\"><div class=\"sk-item\"><div class=\"sk-estimator sk-toggleable\"><input class=\"sk-toggleable__control sk-hidden--visually\" id=\"sk-estimator-id-57\" type=\"checkbox\" ><label for=\"sk-estimator-id-57\" class=\"sk-toggleable__label sk-toggleable__label-arrow\">passthrough</label><div class=\"sk-toggleable__content\"><pre>passthrough</pre></div></div></div></div></div></div></div></div><div class=\"sk-item sk-dashed-wrapped\"><div class=\"sk-label-container\"><div class=\"sk-label sk-toggleable\"><input class=\"sk-toggleable__control sk-hidden--visually\" id=\"sk-estimator-id-58\" type=\"checkbox\" ><label for=\"sk-estimator-id-58\" class=\"sk-toggleable__label sk-toggleable__label-arrow\">gridsearchcv: GridSearchCV</label><div class=\"sk-toggleable__content\"><pre>GridSearchCV(cv=StratifiedKFold(n_splits=5, random_state=None, shuffle=False),\n",
       "             estimator=SVC(probability=True),\n",
       "             param_grid={&#x27;C&#x27;: [100, 10, 1.0, 0.1, 0.001, 0.001],\n",
       "                         &#x27;kernel&#x27;: [&#x27;linear&#x27;, &#x27;poly&#x27;, &#x27;rbf&#x27;, &#x27;sigmoid&#x27;]})</pre></div></div></div><div class=\"sk-parallel\"><div class=\"sk-parallel-item\"><div class=\"sk-item\"><div class=\"sk-label-container\"><div class=\"sk-label sk-toggleable\"><input class=\"sk-toggleable__control sk-hidden--visually\" id=\"sk-estimator-id-59\" type=\"checkbox\" ><label for=\"sk-estimator-id-59\" class=\"sk-toggleable__label sk-toggleable__label-arrow\">estimator: SVC</label><div class=\"sk-toggleable__content\"><pre>SVC(probability=True)</pre></div></div></div><div class=\"sk-serial\"><div class=\"sk-item\"><div class=\"sk-estimator sk-toggleable\"><input class=\"sk-toggleable__control sk-hidden--visually\" id=\"sk-estimator-id-60\" type=\"checkbox\" ><label for=\"sk-estimator-id-60\" class=\"sk-toggleable__label sk-toggleable__label-arrow\">SVC</label><div class=\"sk-toggleable__content\"><pre>SVC(probability=True)</pre></div></div></div></div></div></div></div></div></div></div></div></div>"
      ],
      "text/plain": [
       "Pipeline(steps=[('columntransformer',\n",
       "                 ColumnTransformer(n_jobs=-1,\n",
       "                                   transformers=[('impute',\n",
       "                                                  SimpleImputer(strategy='most_frequent'),\n",
       "                                                  ['Age']),\n",
       "                                                 ('ord_pipeline',\n",
       "                                                  Pipeline(steps=[('impute',\n",
       "                                                                   SimpleImputer(strategy='most_frequent')),\n",
       "                                                                  ('ord',\n",
       "                                                                   OrdinalEncoder(handle_unknown='use_encoded_value',\n",
       "                                                                                  unknown_value=-1))]),\n",
       "                                                  ['family_size_grouped']),\n",
       "                                                 ('ohe_pipeline',\n",
       "                                                  Pipeline(s...\n",
       "                                                                                 sparse_output=False))]),\n",
       "                                                  ['Sex', 'Embarked']),\n",
       "                                                 ('passthrough', 'passthrough',\n",
       "                                                  ['Pclass', 'Cabin_Assigned',\n",
       "                                                   'Name_Size', 'Age', 'Fare',\n",
       "                                                   'ticket_number_count'])])),\n",
       "                ('gridsearchcv',\n",
       "                 GridSearchCV(cv=StratifiedKFold(n_splits=5, random_state=None, shuffle=False),\n",
       "                              estimator=SVC(probability=True),\n",
       "                              param_grid={'C': [100, 10, 1.0, 0.1, 0.001,\n",
       "                                                0.001],\n",
       "                                          'kernel': ['linear', 'poly', 'rbf',\n",
       "                                                     'sigmoid']}))])"
      ]
     },
     "execution_count": 92,
     "metadata": {},
     "output_type": "execute_result"
    }
   ],
   "source": [
    "pipefinalsvc = make_pipeline(col_trans, CV_svc)\n",
    "pipefinalsvc.fit(X_train, y_train)"
   ]
  },
  {
   "cell_type": "code",
   "execution_count": 93,
   "id": "4e304648",
   "metadata": {
    "execution": {
     "iopub.execute_input": "2024-07-06T15:23:08.703020Z",
     "iopub.status.busy": "2024-07-06T15:23:08.702309Z",
     "iopub.status.idle": "2024-07-06T15:23:08.707676Z",
     "shell.execute_reply": "2024-07-06T15:23:08.706545Z"
    },
    "papermill": {
     "duration": 0.049814,
     "end_time": "2024-07-06T15:23:08.709959",
     "exception": false,
     "start_time": "2024-07-06T15:23:08.660145",
     "status": "completed"
    },
    "tags": []
   },
   "outputs": [
    {
     "name": "stdout",
     "output_type": "stream",
     "text": [
      "{'C': 10, 'kernel': 'rbf'}\n",
      "0.7991529597163399\n"
     ]
    }
   ],
   "source": [
    "print(CV_svc.best_params_)\n",
    "print(CV_svc.best_score_)"
   ]
  },
  {
   "cell_type": "code",
   "execution_count": 94,
   "id": "7f10deac",
   "metadata": {
    "execution": {
     "iopub.execute_input": "2024-07-06T15:23:08.793268Z",
     "iopub.status.busy": "2024-07-06T15:23:08.792892Z",
     "iopub.status.idle": "2024-07-06T15:23:08.797670Z",
     "shell.execute_reply": "2024-07-06T15:23:08.796663Z"
    },
    "papermill": {
     "duration": 0.049007,
     "end_time": "2024-07-06T15:23:08.799899",
     "exception": false,
     "start_time": "2024-07-06T15:23:08.750892",
     "status": "completed"
    },
    "tags": []
   },
   "outputs": [],
   "source": [
    "lr = LogisticRegression()"
   ]
  },
  {
   "cell_type": "code",
   "execution_count": 95,
   "id": "b6a17dab",
   "metadata": {
    "execution": {
     "iopub.execute_input": "2024-07-06T15:23:08.885005Z",
     "iopub.status.busy": "2024-07-06T15:23:08.884238Z",
     "iopub.status.idle": "2024-07-06T15:23:08.888990Z",
     "shell.execute_reply": "2024-07-06T15:23:08.887994Z"
    },
    "papermill": {
     "duration": 0.049333,
     "end_time": "2024-07-06T15:23:08.891096",
     "exception": false,
     "start_time": "2024-07-06T15:23:08.841763",
     "status": "completed"
    },
    "tags": []
   },
   "outputs": [],
   "source": [
    "param_grid = {\n",
    "    'C': [100,10, 1.0, 0.1, 0.001, 0.001],\n",
    "}"
   ]
  },
  {
   "cell_type": "code",
   "execution_count": 96,
   "id": "a0035f7e",
   "metadata": {
    "execution": {
     "iopub.execute_input": "2024-07-06T15:23:08.976905Z",
     "iopub.status.busy": "2024-07-06T15:23:08.976055Z",
     "iopub.status.idle": "2024-07-06T15:23:08.981150Z",
     "shell.execute_reply": "2024-07-06T15:23:08.980126Z"
    },
    "papermill": {
     "duration": 0.049808,
     "end_time": "2024-07-06T15:23:08.983240",
     "exception": false,
     "start_time": "2024-07-06T15:23:08.933432",
     "status": "completed"
    },
    "tags": []
   },
   "outputs": [],
   "source": [
    "CV_lr = GridSearchCV(estimator=lr, param_grid=param_grid, cv=StratifiedKFold(n_splits=5))"
   ]
  },
  {
   "cell_type": "code",
   "execution_count": 97,
   "id": "780f6e2c",
   "metadata": {
    "execution": {
     "iopub.execute_input": "2024-07-06T15:23:09.068843Z",
     "iopub.status.busy": "2024-07-06T15:23:09.068136Z",
     "iopub.status.idle": "2024-07-06T15:23:11.272557Z",
     "shell.execute_reply": "2024-07-06T15:23:11.271393Z"
    },
    "papermill": {
     "duration": 2.249612,
     "end_time": "2024-07-06T15:23:11.274942",
     "exception": false,
     "start_time": "2024-07-06T15:23:09.025330",
     "status": "completed"
    },
    "tags": []
   },
   "outputs": [
    {
     "name": "stderr",
     "output_type": "stream",
     "text": [
      "/opt/conda/lib/python3.10/site-packages/sklearn/linear_model/_logistic.py:458: ConvergenceWarning: lbfgs failed to converge (status=1):\n",
      "STOP: TOTAL NO. of ITERATIONS REACHED LIMIT.\n",
      "\n",
      "Increase the number of iterations (max_iter) or scale the data as shown in:\n",
      "    https://scikit-learn.org/stable/modules/preprocessing.html\n",
      "Please also refer to the documentation for alternative solver options:\n",
      "    https://scikit-learn.org/stable/modules/linear_model.html#logistic-regression\n",
      "  n_iter_i = _check_optimize_result(\n",
      "/opt/conda/lib/python3.10/site-packages/sklearn/linear_model/_logistic.py:458: ConvergenceWarning: lbfgs failed to converge (status=1):\n",
      "STOP: TOTAL NO. of ITERATIONS REACHED LIMIT.\n",
      "\n",
      "Increase the number of iterations (max_iter) or scale the data as shown in:\n",
      "    https://scikit-learn.org/stable/modules/preprocessing.html\n",
      "Please also refer to the documentation for alternative solver options:\n",
      "    https://scikit-learn.org/stable/modules/linear_model.html#logistic-regression\n",
      "  n_iter_i = _check_optimize_result(\n",
      "/opt/conda/lib/python3.10/site-packages/sklearn/linear_model/_logistic.py:458: ConvergenceWarning: lbfgs failed to converge (status=1):\n",
      "STOP: TOTAL NO. of ITERATIONS REACHED LIMIT.\n",
      "\n",
      "Increase the number of iterations (max_iter) or scale the data as shown in:\n",
      "    https://scikit-learn.org/stable/modules/preprocessing.html\n",
      "Please also refer to the documentation for alternative solver options:\n",
      "    https://scikit-learn.org/stable/modules/linear_model.html#logistic-regression\n",
      "  n_iter_i = _check_optimize_result(\n",
      "/opt/conda/lib/python3.10/site-packages/sklearn/linear_model/_logistic.py:458: ConvergenceWarning: lbfgs failed to converge (status=1):\n",
      "STOP: TOTAL NO. of ITERATIONS REACHED LIMIT.\n",
      "\n",
      "Increase the number of iterations (max_iter) or scale the data as shown in:\n",
      "    https://scikit-learn.org/stable/modules/preprocessing.html\n",
      "Please also refer to the documentation for alternative solver options:\n",
      "    https://scikit-learn.org/stable/modules/linear_model.html#logistic-regression\n",
      "  n_iter_i = _check_optimize_result(\n",
      "/opt/conda/lib/python3.10/site-packages/sklearn/linear_model/_logistic.py:458: ConvergenceWarning: lbfgs failed to converge (status=1):\n",
      "STOP: TOTAL NO. of ITERATIONS REACHED LIMIT.\n",
      "\n",
      "Increase the number of iterations (max_iter) or scale the data as shown in:\n",
      "    https://scikit-learn.org/stable/modules/preprocessing.html\n",
      "Please also refer to the documentation for alternative solver options:\n",
      "    https://scikit-learn.org/stable/modules/linear_model.html#logistic-regression\n",
      "  n_iter_i = _check_optimize_result(\n",
      "/opt/conda/lib/python3.10/site-packages/sklearn/linear_model/_logistic.py:458: ConvergenceWarning: lbfgs failed to converge (status=1):\n",
      "STOP: TOTAL NO. of ITERATIONS REACHED LIMIT.\n",
      "\n",
      "Increase the number of iterations (max_iter) or scale the data as shown in:\n",
      "    https://scikit-learn.org/stable/modules/preprocessing.html\n",
      "Please also refer to the documentation for alternative solver options:\n",
      "    https://scikit-learn.org/stable/modules/linear_model.html#logistic-regression\n",
      "  n_iter_i = _check_optimize_result(\n",
      "/opt/conda/lib/python3.10/site-packages/sklearn/linear_model/_logistic.py:458: ConvergenceWarning: lbfgs failed to converge (status=1):\n",
      "STOP: TOTAL NO. of ITERATIONS REACHED LIMIT.\n",
      "\n",
      "Increase the number of iterations (max_iter) or scale the data as shown in:\n",
      "    https://scikit-learn.org/stable/modules/preprocessing.html\n",
      "Please also refer to the documentation for alternative solver options:\n",
      "    https://scikit-learn.org/stable/modules/linear_model.html#logistic-regression\n",
      "  n_iter_i = _check_optimize_result(\n"
     ]
    },
    {
     "data": {
      "text/html": [
       "<style>#sk-container-id-5 {color: black;background-color: white;}#sk-container-id-5 pre{padding: 0;}#sk-container-id-5 div.sk-toggleable {background-color: white;}#sk-container-id-5 label.sk-toggleable__label {cursor: pointer;display: block;width: 100%;margin-bottom: 0;padding: 0.3em;box-sizing: border-box;text-align: center;}#sk-container-id-5 label.sk-toggleable__label-arrow:before {content: \"▸\";float: left;margin-right: 0.25em;color: #696969;}#sk-container-id-5 label.sk-toggleable__label-arrow:hover:before {color: black;}#sk-container-id-5 div.sk-estimator:hover label.sk-toggleable__label-arrow:before {color: black;}#sk-container-id-5 div.sk-toggleable__content {max-height: 0;max-width: 0;overflow: hidden;text-align: left;background-color: #f0f8ff;}#sk-container-id-5 div.sk-toggleable__content pre {margin: 0.2em;color: black;border-radius: 0.25em;background-color: #f0f8ff;}#sk-container-id-5 input.sk-toggleable__control:checked~div.sk-toggleable__content {max-height: 200px;max-width: 100%;overflow: auto;}#sk-container-id-5 input.sk-toggleable__control:checked~label.sk-toggleable__label-arrow:before {content: \"▾\";}#sk-container-id-5 div.sk-estimator input.sk-toggleable__control:checked~label.sk-toggleable__label {background-color: #d4ebff;}#sk-container-id-5 div.sk-label input.sk-toggleable__control:checked~label.sk-toggleable__label {background-color: #d4ebff;}#sk-container-id-5 input.sk-hidden--visually {border: 0;clip: rect(1px 1px 1px 1px);clip: rect(1px, 1px, 1px, 1px);height: 1px;margin: -1px;overflow: hidden;padding: 0;position: absolute;width: 1px;}#sk-container-id-5 div.sk-estimator {font-family: monospace;background-color: #f0f8ff;border: 1px dotted black;border-radius: 0.25em;box-sizing: border-box;margin-bottom: 0.5em;}#sk-container-id-5 div.sk-estimator:hover {background-color: #d4ebff;}#sk-container-id-5 div.sk-parallel-item::after {content: \"\";width: 100%;border-bottom: 1px solid gray;flex-grow: 1;}#sk-container-id-5 div.sk-label:hover label.sk-toggleable__label {background-color: #d4ebff;}#sk-container-id-5 div.sk-serial::before {content: \"\";position: absolute;border-left: 1px solid gray;box-sizing: border-box;top: 0;bottom: 0;left: 50%;z-index: 0;}#sk-container-id-5 div.sk-serial {display: flex;flex-direction: column;align-items: center;background-color: white;padding-right: 0.2em;padding-left: 0.2em;position: relative;}#sk-container-id-5 div.sk-item {position: relative;z-index: 1;}#sk-container-id-5 div.sk-parallel {display: flex;align-items: stretch;justify-content: center;background-color: white;position: relative;}#sk-container-id-5 div.sk-item::before, #sk-container-id-5 div.sk-parallel-item::before {content: \"\";position: absolute;border-left: 1px solid gray;box-sizing: border-box;top: 0;bottom: 0;left: 50%;z-index: -1;}#sk-container-id-5 div.sk-parallel-item {display: flex;flex-direction: column;z-index: 1;position: relative;background-color: white;}#sk-container-id-5 div.sk-parallel-item:first-child::after {align-self: flex-end;width: 50%;}#sk-container-id-5 div.sk-parallel-item:last-child::after {align-self: flex-start;width: 50%;}#sk-container-id-5 div.sk-parallel-item:only-child::after {width: 0;}#sk-container-id-5 div.sk-dashed-wrapped {border: 1px dashed gray;margin: 0 0.4em 0.5em 0.4em;box-sizing: border-box;padding-bottom: 0.4em;background-color: white;}#sk-container-id-5 div.sk-label label {font-family: monospace;font-weight: bold;display: inline-block;line-height: 1.2em;}#sk-container-id-5 div.sk-label-container {text-align: center;}#sk-container-id-5 div.sk-container {/* jupyter's `normalize.less` sets `[hidden] { display: none; }` but bootstrap.min.css set `[hidden] { display: none !important; }` so we also need the `!important` here to be able to override the default hidden behavior on the sphinx rendered scikit-learn.org. See: https://github.com/scikit-learn/scikit-learn/issues/21755 */display: inline-block !important;position: relative;}#sk-container-id-5 div.sk-text-repr-fallback {display: none;}</style><div id=\"sk-container-id-5\" class=\"sk-top-container\"><div class=\"sk-text-repr-fallback\"><pre>Pipeline(steps=[(&#x27;columntransformer&#x27;,\n",
       "                 ColumnTransformer(n_jobs=-1,\n",
       "                                   transformers=[(&#x27;impute&#x27;,\n",
       "                                                  SimpleImputer(strategy=&#x27;most_frequent&#x27;),\n",
       "                                                  [&#x27;Age&#x27;]),\n",
       "                                                 (&#x27;ord_pipeline&#x27;,\n",
       "                                                  Pipeline(steps=[(&#x27;impute&#x27;,\n",
       "                                                                   SimpleImputer(strategy=&#x27;most_frequent&#x27;)),\n",
       "                                                                  (&#x27;ord&#x27;,\n",
       "                                                                   OrdinalEncoder(handle_unknown=&#x27;use_encoded_value&#x27;,\n",
       "                                                                                  unknown_value=-1))]),\n",
       "                                                  [&#x27;family_size_grouped&#x27;]),\n",
       "                                                 (&#x27;ohe_pipeline&#x27;,\n",
       "                                                  Pipeline(s...\n",
       "                                                                   OneHotEncoder(handle_unknown=&#x27;ignore&#x27;,\n",
       "                                                                                 sparse_output=False))]),\n",
       "                                                  [&#x27;Sex&#x27;, &#x27;Embarked&#x27;]),\n",
       "                                                 (&#x27;passthrough&#x27;, &#x27;passthrough&#x27;,\n",
       "                                                  [&#x27;Pclass&#x27;, &#x27;Cabin_Assigned&#x27;,\n",
       "                                                   &#x27;Name_Size&#x27;, &#x27;Age&#x27;, &#x27;Fare&#x27;,\n",
       "                                                   &#x27;ticket_number_count&#x27;])])),\n",
       "                (&#x27;gridsearchcv&#x27;,\n",
       "                 GridSearchCV(cv=StratifiedKFold(n_splits=5, random_state=None, shuffle=False),\n",
       "                              estimator=LogisticRegression(),\n",
       "                              param_grid={&#x27;C&#x27;: [100, 10, 1.0, 0.1, 0.001,\n",
       "                                                0.001]}))])</pre><b>In a Jupyter environment, please rerun this cell to show the HTML representation or trust the notebook. <br />On GitHub, the HTML representation is unable to render, please try loading this page with nbviewer.org.</b></div><div class=\"sk-container\" hidden><div class=\"sk-item sk-dashed-wrapped\"><div class=\"sk-label-container\"><div class=\"sk-label sk-toggleable\"><input class=\"sk-toggleable__control sk-hidden--visually\" id=\"sk-estimator-id-61\" type=\"checkbox\" ><label for=\"sk-estimator-id-61\" class=\"sk-toggleable__label sk-toggleable__label-arrow\">Pipeline</label><div class=\"sk-toggleable__content\"><pre>Pipeline(steps=[(&#x27;columntransformer&#x27;,\n",
       "                 ColumnTransformer(n_jobs=-1,\n",
       "                                   transformers=[(&#x27;impute&#x27;,\n",
       "                                                  SimpleImputer(strategy=&#x27;most_frequent&#x27;),\n",
       "                                                  [&#x27;Age&#x27;]),\n",
       "                                                 (&#x27;ord_pipeline&#x27;,\n",
       "                                                  Pipeline(steps=[(&#x27;impute&#x27;,\n",
       "                                                                   SimpleImputer(strategy=&#x27;most_frequent&#x27;)),\n",
       "                                                                  (&#x27;ord&#x27;,\n",
       "                                                                   OrdinalEncoder(handle_unknown=&#x27;use_encoded_value&#x27;,\n",
       "                                                                                  unknown_value=-1))]),\n",
       "                                                  [&#x27;family_size_grouped&#x27;]),\n",
       "                                                 (&#x27;ohe_pipeline&#x27;,\n",
       "                                                  Pipeline(s...\n",
       "                                                                   OneHotEncoder(handle_unknown=&#x27;ignore&#x27;,\n",
       "                                                                                 sparse_output=False))]),\n",
       "                                                  [&#x27;Sex&#x27;, &#x27;Embarked&#x27;]),\n",
       "                                                 (&#x27;passthrough&#x27;, &#x27;passthrough&#x27;,\n",
       "                                                  [&#x27;Pclass&#x27;, &#x27;Cabin_Assigned&#x27;,\n",
       "                                                   &#x27;Name_Size&#x27;, &#x27;Age&#x27;, &#x27;Fare&#x27;,\n",
       "                                                   &#x27;ticket_number_count&#x27;])])),\n",
       "                (&#x27;gridsearchcv&#x27;,\n",
       "                 GridSearchCV(cv=StratifiedKFold(n_splits=5, random_state=None, shuffle=False),\n",
       "                              estimator=LogisticRegression(),\n",
       "                              param_grid={&#x27;C&#x27;: [100, 10, 1.0, 0.1, 0.001,\n",
       "                                                0.001]}))])</pre></div></div></div><div class=\"sk-serial\"><div class=\"sk-item sk-dashed-wrapped\"><div class=\"sk-label-container\"><div class=\"sk-label sk-toggleable\"><input class=\"sk-toggleable__control sk-hidden--visually\" id=\"sk-estimator-id-62\" type=\"checkbox\" ><label for=\"sk-estimator-id-62\" class=\"sk-toggleable__label sk-toggleable__label-arrow\">columntransformer: ColumnTransformer</label><div class=\"sk-toggleable__content\"><pre>ColumnTransformer(n_jobs=-1,\n",
       "                  transformers=[(&#x27;impute&#x27;,\n",
       "                                 SimpleImputer(strategy=&#x27;most_frequent&#x27;),\n",
       "                                 [&#x27;Age&#x27;]),\n",
       "                                (&#x27;ord_pipeline&#x27;,\n",
       "                                 Pipeline(steps=[(&#x27;impute&#x27;,\n",
       "                                                  SimpleImputer(strategy=&#x27;most_frequent&#x27;)),\n",
       "                                                 (&#x27;ord&#x27;,\n",
       "                                                  OrdinalEncoder(handle_unknown=&#x27;use_encoded_value&#x27;,\n",
       "                                                                 unknown_value=-1))]),\n",
       "                                 [&#x27;family_size_grouped&#x27;]),\n",
       "                                (&#x27;ohe_pipeline&#x27;,\n",
       "                                 Pipeline(steps=[(&#x27;impute&#x27;,\n",
       "                                                  SimpleImputer(strategy=&#x27;most_frequent&#x27;)),\n",
       "                                                 (&#x27;one-hot&#x27;,\n",
       "                                                  OneHotEncoder(handle_unknown=&#x27;ignore&#x27;,\n",
       "                                                                sparse_output=False))]),\n",
       "                                 [&#x27;Sex&#x27;, &#x27;Embarked&#x27;]),\n",
       "                                (&#x27;passthrough&#x27;, &#x27;passthrough&#x27;,\n",
       "                                 [&#x27;Pclass&#x27;, &#x27;Cabin_Assigned&#x27;, &#x27;Name_Size&#x27;,\n",
       "                                  &#x27;Age&#x27;, &#x27;Fare&#x27;, &#x27;ticket_number_count&#x27;])])</pre></div></div></div><div class=\"sk-parallel\"><div class=\"sk-parallel-item\"><div class=\"sk-item\"><div class=\"sk-label-container\"><div class=\"sk-label sk-toggleable\"><input class=\"sk-toggleable__control sk-hidden--visually\" id=\"sk-estimator-id-63\" type=\"checkbox\" ><label for=\"sk-estimator-id-63\" class=\"sk-toggleable__label sk-toggleable__label-arrow\">impute</label><div class=\"sk-toggleable__content\"><pre>[&#x27;Age&#x27;]</pre></div></div></div><div class=\"sk-serial\"><div class=\"sk-item\"><div class=\"sk-estimator sk-toggleable\"><input class=\"sk-toggleable__control sk-hidden--visually\" id=\"sk-estimator-id-64\" type=\"checkbox\" ><label for=\"sk-estimator-id-64\" class=\"sk-toggleable__label sk-toggleable__label-arrow\">SimpleImputer</label><div class=\"sk-toggleable__content\"><pre>SimpleImputer(strategy=&#x27;most_frequent&#x27;)</pre></div></div></div></div></div></div><div class=\"sk-parallel-item\"><div class=\"sk-item\"><div class=\"sk-label-container\"><div class=\"sk-label sk-toggleable\"><input class=\"sk-toggleable__control sk-hidden--visually\" id=\"sk-estimator-id-65\" type=\"checkbox\" ><label for=\"sk-estimator-id-65\" class=\"sk-toggleable__label sk-toggleable__label-arrow\">ord_pipeline</label><div class=\"sk-toggleable__content\"><pre>[&#x27;family_size_grouped&#x27;]</pre></div></div></div><div class=\"sk-serial\"><div class=\"sk-item\"><div class=\"sk-serial\"><div class=\"sk-item\"><div class=\"sk-estimator sk-toggleable\"><input class=\"sk-toggleable__control sk-hidden--visually\" id=\"sk-estimator-id-66\" type=\"checkbox\" ><label for=\"sk-estimator-id-66\" class=\"sk-toggleable__label sk-toggleable__label-arrow\">SimpleImputer</label><div class=\"sk-toggleable__content\"><pre>SimpleImputer(strategy=&#x27;most_frequent&#x27;)</pre></div></div></div><div class=\"sk-item\"><div class=\"sk-estimator sk-toggleable\"><input class=\"sk-toggleable__control sk-hidden--visually\" id=\"sk-estimator-id-67\" type=\"checkbox\" ><label for=\"sk-estimator-id-67\" class=\"sk-toggleable__label sk-toggleable__label-arrow\">OrdinalEncoder</label><div class=\"sk-toggleable__content\"><pre>OrdinalEncoder(handle_unknown=&#x27;use_encoded_value&#x27;, unknown_value=-1)</pre></div></div></div></div></div></div></div></div><div class=\"sk-parallel-item\"><div class=\"sk-item\"><div class=\"sk-label-container\"><div class=\"sk-label sk-toggleable\"><input class=\"sk-toggleable__control sk-hidden--visually\" id=\"sk-estimator-id-68\" type=\"checkbox\" ><label for=\"sk-estimator-id-68\" class=\"sk-toggleable__label sk-toggleable__label-arrow\">ohe_pipeline</label><div class=\"sk-toggleable__content\"><pre>[&#x27;Sex&#x27;, &#x27;Embarked&#x27;]</pre></div></div></div><div class=\"sk-serial\"><div class=\"sk-item\"><div class=\"sk-serial\"><div class=\"sk-item\"><div class=\"sk-estimator sk-toggleable\"><input class=\"sk-toggleable__control sk-hidden--visually\" id=\"sk-estimator-id-69\" type=\"checkbox\" ><label for=\"sk-estimator-id-69\" class=\"sk-toggleable__label sk-toggleable__label-arrow\">SimpleImputer</label><div class=\"sk-toggleable__content\"><pre>SimpleImputer(strategy=&#x27;most_frequent&#x27;)</pre></div></div></div><div class=\"sk-item\"><div class=\"sk-estimator sk-toggleable\"><input class=\"sk-toggleable__control sk-hidden--visually\" id=\"sk-estimator-id-70\" type=\"checkbox\" ><label for=\"sk-estimator-id-70\" class=\"sk-toggleable__label sk-toggleable__label-arrow\">OneHotEncoder</label><div class=\"sk-toggleable__content\"><pre>OneHotEncoder(handle_unknown=&#x27;ignore&#x27;, sparse_output=False)</pre></div></div></div></div></div></div></div></div><div class=\"sk-parallel-item\"><div class=\"sk-item\"><div class=\"sk-label-container\"><div class=\"sk-label sk-toggleable\"><input class=\"sk-toggleable__control sk-hidden--visually\" id=\"sk-estimator-id-71\" type=\"checkbox\" ><label for=\"sk-estimator-id-71\" class=\"sk-toggleable__label sk-toggleable__label-arrow\">passthrough</label><div class=\"sk-toggleable__content\"><pre>[&#x27;Pclass&#x27;, &#x27;Cabin_Assigned&#x27;, &#x27;Name_Size&#x27;, &#x27;Age&#x27;, &#x27;Fare&#x27;, &#x27;ticket_number_count&#x27;]</pre></div></div></div><div class=\"sk-serial\"><div class=\"sk-item\"><div class=\"sk-estimator sk-toggleable\"><input class=\"sk-toggleable__control sk-hidden--visually\" id=\"sk-estimator-id-72\" type=\"checkbox\" ><label for=\"sk-estimator-id-72\" class=\"sk-toggleable__label sk-toggleable__label-arrow\">passthrough</label><div class=\"sk-toggleable__content\"><pre>passthrough</pre></div></div></div></div></div></div></div></div><div class=\"sk-item sk-dashed-wrapped\"><div class=\"sk-label-container\"><div class=\"sk-label sk-toggleable\"><input class=\"sk-toggleable__control sk-hidden--visually\" id=\"sk-estimator-id-73\" type=\"checkbox\" ><label for=\"sk-estimator-id-73\" class=\"sk-toggleable__label sk-toggleable__label-arrow\">gridsearchcv: GridSearchCV</label><div class=\"sk-toggleable__content\"><pre>GridSearchCV(cv=StratifiedKFold(n_splits=5, random_state=None, shuffle=False),\n",
       "             estimator=LogisticRegression(),\n",
       "             param_grid={&#x27;C&#x27;: [100, 10, 1.0, 0.1, 0.001, 0.001]})</pre></div></div></div><div class=\"sk-parallel\"><div class=\"sk-parallel-item\"><div class=\"sk-item\"><div class=\"sk-label-container\"><div class=\"sk-label sk-toggleable\"><input class=\"sk-toggleable__control sk-hidden--visually\" id=\"sk-estimator-id-74\" type=\"checkbox\" ><label for=\"sk-estimator-id-74\" class=\"sk-toggleable__label sk-toggleable__label-arrow\">estimator: LogisticRegression</label><div class=\"sk-toggleable__content\"><pre>LogisticRegression()</pre></div></div></div><div class=\"sk-serial\"><div class=\"sk-item\"><div class=\"sk-estimator sk-toggleable\"><input class=\"sk-toggleable__control sk-hidden--visually\" id=\"sk-estimator-id-75\" type=\"checkbox\" ><label for=\"sk-estimator-id-75\" class=\"sk-toggleable__label sk-toggleable__label-arrow\">LogisticRegression</label><div class=\"sk-toggleable__content\"><pre>LogisticRegression()</pre></div></div></div></div></div></div></div></div></div></div></div></div>"
      ],
      "text/plain": [
       "Pipeline(steps=[('columntransformer',\n",
       "                 ColumnTransformer(n_jobs=-1,\n",
       "                                   transformers=[('impute',\n",
       "                                                  SimpleImputer(strategy='most_frequent'),\n",
       "                                                  ['Age']),\n",
       "                                                 ('ord_pipeline',\n",
       "                                                  Pipeline(steps=[('impute',\n",
       "                                                                   SimpleImputer(strategy='most_frequent')),\n",
       "                                                                  ('ord',\n",
       "                                                                   OrdinalEncoder(handle_unknown='use_encoded_value',\n",
       "                                                                                  unknown_value=-1))]),\n",
       "                                                  ['family_size_grouped']),\n",
       "                                                 ('ohe_pipeline',\n",
       "                                                  Pipeline(s...\n",
       "                                                                   OneHotEncoder(handle_unknown='ignore',\n",
       "                                                                                 sparse_output=False))]),\n",
       "                                                  ['Sex', 'Embarked']),\n",
       "                                                 ('passthrough', 'passthrough',\n",
       "                                                  ['Pclass', 'Cabin_Assigned',\n",
       "                                                   'Name_Size', 'Age', 'Fare',\n",
       "                                                   'ticket_number_count'])])),\n",
       "                ('gridsearchcv',\n",
       "                 GridSearchCV(cv=StratifiedKFold(n_splits=5, random_state=None, shuffle=False),\n",
       "                              estimator=LogisticRegression(),\n",
       "                              param_grid={'C': [100, 10, 1.0, 0.1, 0.001,\n",
       "                                                0.001]}))])"
      ]
     },
     "execution_count": 97,
     "metadata": {},
     "output_type": "execute_result"
    }
   ],
   "source": [
    "pipefinallr= make_pipeline(col_trans, CV_lr)\n",
    "pipefinallr.fit(X_train, y_train)"
   ]
  },
  {
   "cell_type": "code",
   "execution_count": 98,
   "id": "b05a58e1",
   "metadata": {
    "execution": {
     "iopub.execute_input": "2024-07-06T15:23:11.362126Z",
     "iopub.status.busy": "2024-07-06T15:23:11.361254Z",
     "iopub.status.idle": "2024-07-06T15:23:11.366845Z",
     "shell.execute_reply": "2024-07-06T15:23:11.365824Z"
    },
    "papermill": {
     "duration": 0.051522,
     "end_time": "2024-07-06T15:23:11.369220",
     "exception": false,
     "start_time": "2024-07-06T15:23:11.317698",
     "status": "completed"
    },
    "tags": []
   },
   "outputs": [
    {
     "name": "stdout",
     "output_type": "stream",
     "text": [
      "{'C': 0.1}\n",
      "0.8048163104501134\n"
     ]
    }
   ],
   "source": [
    "print(CV_lr.best_params_)\n",
    "print(CV_lr.best_score_)"
   ]
  },
  {
   "cell_type": "code",
   "execution_count": 99,
   "id": "f0cbdd2f",
   "metadata": {
    "execution": {
     "iopub.execute_input": "2024-07-06T15:23:11.455459Z",
     "iopub.status.busy": "2024-07-06T15:23:11.454774Z",
     "iopub.status.idle": "2024-07-06T15:23:11.459574Z",
     "shell.execute_reply": "2024-07-06T15:23:11.458414Z"
    },
    "papermill": {
     "duration": 0.050677,
     "end_time": "2024-07-06T15:23:11.461952",
     "exception": false,
     "start_time": "2024-07-06T15:23:11.411275",
     "status": "completed"
    },
    "tags": []
   },
   "outputs": [],
   "source": [
    "gnb = GaussianNB()"
   ]
  },
  {
   "cell_type": "code",
   "execution_count": 100,
   "id": "0c385b8a",
   "metadata": {
    "execution": {
     "iopub.execute_input": "2024-07-06T15:23:11.549653Z",
     "iopub.status.busy": "2024-07-06T15:23:11.549253Z",
     "iopub.status.idle": "2024-07-06T15:23:11.553966Z",
     "shell.execute_reply": "2024-07-06T15:23:11.552985Z"
    },
    "papermill": {
     "duration": 0.05108,
     "end_time": "2024-07-06T15:23:11.556086",
     "exception": false,
     "start_time": "2024-07-06T15:23:11.505006",
     "status": "completed"
    },
    "tags": []
   },
   "outputs": [],
   "source": [
    "param_grid = {\n",
    "    'var_smoothing': [0.00000001, 0.000000001, 0.00000001],\n",
    "}"
   ]
  },
  {
   "cell_type": "code",
   "execution_count": 101,
   "id": "d5c2a362",
   "metadata": {
    "execution": {
     "iopub.execute_input": "2024-07-06T15:23:11.643531Z",
     "iopub.status.busy": "2024-07-06T15:23:11.642603Z",
     "iopub.status.idle": "2024-07-06T15:23:11.648097Z",
     "shell.execute_reply": "2024-07-06T15:23:11.646764Z"
    },
    "papermill": {
     "duration": 0.051734,
     "end_time": "2024-07-06T15:23:11.650435",
     "exception": false,
     "start_time": "2024-07-06T15:23:11.598701",
     "status": "completed"
    },
    "tags": []
   },
   "outputs": [],
   "source": [
    "CV_gnb = GridSearchCV(estimator=gnb, param_grid=param_grid, cv=StratifiedKFold(n_splits=5))"
   ]
  },
  {
   "cell_type": "code",
   "execution_count": 102,
   "id": "2fe8ceab",
   "metadata": {
    "execution": {
     "iopub.execute_input": "2024-07-06T15:23:11.736988Z",
     "iopub.status.busy": "2024-07-06T15:23:11.736592Z",
     "iopub.status.idle": "2024-07-06T15:23:11.961163Z",
     "shell.execute_reply": "2024-07-06T15:23:11.959993Z"
    },
    "papermill": {
     "duration": 0.270179,
     "end_time": "2024-07-06T15:23:11.963488",
     "exception": false,
     "start_time": "2024-07-06T15:23:11.693309",
     "status": "completed"
    },
    "tags": []
   },
   "outputs": [
    {
     "data": {
      "text/html": [
       "<style>#sk-container-id-6 {color: black;background-color: white;}#sk-container-id-6 pre{padding: 0;}#sk-container-id-6 div.sk-toggleable {background-color: white;}#sk-container-id-6 label.sk-toggleable__label {cursor: pointer;display: block;width: 100%;margin-bottom: 0;padding: 0.3em;box-sizing: border-box;text-align: center;}#sk-container-id-6 label.sk-toggleable__label-arrow:before {content: \"▸\";float: left;margin-right: 0.25em;color: #696969;}#sk-container-id-6 label.sk-toggleable__label-arrow:hover:before {color: black;}#sk-container-id-6 div.sk-estimator:hover label.sk-toggleable__label-arrow:before {color: black;}#sk-container-id-6 div.sk-toggleable__content {max-height: 0;max-width: 0;overflow: hidden;text-align: left;background-color: #f0f8ff;}#sk-container-id-6 div.sk-toggleable__content pre {margin: 0.2em;color: black;border-radius: 0.25em;background-color: #f0f8ff;}#sk-container-id-6 input.sk-toggleable__control:checked~div.sk-toggleable__content {max-height: 200px;max-width: 100%;overflow: auto;}#sk-container-id-6 input.sk-toggleable__control:checked~label.sk-toggleable__label-arrow:before {content: \"▾\";}#sk-container-id-6 div.sk-estimator input.sk-toggleable__control:checked~label.sk-toggleable__label {background-color: #d4ebff;}#sk-container-id-6 div.sk-label input.sk-toggleable__control:checked~label.sk-toggleable__label {background-color: #d4ebff;}#sk-container-id-6 input.sk-hidden--visually {border: 0;clip: rect(1px 1px 1px 1px);clip: rect(1px, 1px, 1px, 1px);height: 1px;margin: -1px;overflow: hidden;padding: 0;position: absolute;width: 1px;}#sk-container-id-6 div.sk-estimator {font-family: monospace;background-color: #f0f8ff;border: 1px dotted black;border-radius: 0.25em;box-sizing: border-box;margin-bottom: 0.5em;}#sk-container-id-6 div.sk-estimator:hover {background-color: #d4ebff;}#sk-container-id-6 div.sk-parallel-item::after {content: \"\";width: 100%;border-bottom: 1px solid gray;flex-grow: 1;}#sk-container-id-6 div.sk-label:hover label.sk-toggleable__label {background-color: #d4ebff;}#sk-container-id-6 div.sk-serial::before {content: \"\";position: absolute;border-left: 1px solid gray;box-sizing: border-box;top: 0;bottom: 0;left: 50%;z-index: 0;}#sk-container-id-6 div.sk-serial {display: flex;flex-direction: column;align-items: center;background-color: white;padding-right: 0.2em;padding-left: 0.2em;position: relative;}#sk-container-id-6 div.sk-item {position: relative;z-index: 1;}#sk-container-id-6 div.sk-parallel {display: flex;align-items: stretch;justify-content: center;background-color: white;position: relative;}#sk-container-id-6 div.sk-item::before, #sk-container-id-6 div.sk-parallel-item::before {content: \"\";position: absolute;border-left: 1px solid gray;box-sizing: border-box;top: 0;bottom: 0;left: 50%;z-index: -1;}#sk-container-id-6 div.sk-parallel-item {display: flex;flex-direction: column;z-index: 1;position: relative;background-color: white;}#sk-container-id-6 div.sk-parallel-item:first-child::after {align-self: flex-end;width: 50%;}#sk-container-id-6 div.sk-parallel-item:last-child::after {align-self: flex-start;width: 50%;}#sk-container-id-6 div.sk-parallel-item:only-child::after {width: 0;}#sk-container-id-6 div.sk-dashed-wrapped {border: 1px dashed gray;margin: 0 0.4em 0.5em 0.4em;box-sizing: border-box;padding-bottom: 0.4em;background-color: white;}#sk-container-id-6 div.sk-label label {font-family: monospace;font-weight: bold;display: inline-block;line-height: 1.2em;}#sk-container-id-6 div.sk-label-container {text-align: center;}#sk-container-id-6 div.sk-container {/* jupyter's `normalize.less` sets `[hidden] { display: none; }` but bootstrap.min.css set `[hidden] { display: none !important; }` so we also need the `!important` here to be able to override the default hidden behavior on the sphinx rendered scikit-learn.org. See: https://github.com/scikit-learn/scikit-learn/issues/21755 */display: inline-block !important;position: relative;}#sk-container-id-6 div.sk-text-repr-fallback {display: none;}</style><div id=\"sk-container-id-6\" class=\"sk-top-container\"><div class=\"sk-text-repr-fallback\"><pre>Pipeline(steps=[(&#x27;columntransformer&#x27;,\n",
       "                 ColumnTransformer(n_jobs=-1,\n",
       "                                   transformers=[(&#x27;impute&#x27;,\n",
       "                                                  SimpleImputer(strategy=&#x27;most_frequent&#x27;),\n",
       "                                                  [&#x27;Age&#x27;]),\n",
       "                                                 (&#x27;ord_pipeline&#x27;,\n",
       "                                                  Pipeline(steps=[(&#x27;impute&#x27;,\n",
       "                                                                   SimpleImputer(strategy=&#x27;most_frequent&#x27;)),\n",
       "                                                                  (&#x27;ord&#x27;,\n",
       "                                                                   OrdinalEncoder(handle_unknown=&#x27;use_encoded_value&#x27;,\n",
       "                                                                                  unknown_value=-1))]),\n",
       "                                                  [&#x27;family_size_grouped&#x27;]),\n",
       "                                                 (&#x27;ohe_pipeline&#x27;,\n",
       "                                                  Pipeline(s...\n",
       "                                                                   OneHotEncoder(handle_unknown=&#x27;ignore&#x27;,\n",
       "                                                                                 sparse_output=False))]),\n",
       "                                                  [&#x27;Sex&#x27;, &#x27;Embarked&#x27;]),\n",
       "                                                 (&#x27;passthrough&#x27;, &#x27;passthrough&#x27;,\n",
       "                                                  [&#x27;Pclass&#x27;, &#x27;Cabin_Assigned&#x27;,\n",
       "                                                   &#x27;Name_Size&#x27;, &#x27;Age&#x27;, &#x27;Fare&#x27;,\n",
       "                                                   &#x27;ticket_number_count&#x27;])])),\n",
       "                (&#x27;gridsearchcv&#x27;,\n",
       "                 GridSearchCV(cv=StratifiedKFold(n_splits=5, random_state=None, shuffle=False),\n",
       "                              estimator=GaussianNB(),\n",
       "                              param_grid={&#x27;var_smoothing&#x27;: [1e-08, 1e-09,\n",
       "                                                            1e-08]}))])</pre><b>In a Jupyter environment, please rerun this cell to show the HTML representation or trust the notebook. <br />On GitHub, the HTML representation is unable to render, please try loading this page with nbviewer.org.</b></div><div class=\"sk-container\" hidden><div class=\"sk-item sk-dashed-wrapped\"><div class=\"sk-label-container\"><div class=\"sk-label sk-toggleable\"><input class=\"sk-toggleable__control sk-hidden--visually\" id=\"sk-estimator-id-76\" type=\"checkbox\" ><label for=\"sk-estimator-id-76\" class=\"sk-toggleable__label sk-toggleable__label-arrow\">Pipeline</label><div class=\"sk-toggleable__content\"><pre>Pipeline(steps=[(&#x27;columntransformer&#x27;,\n",
       "                 ColumnTransformer(n_jobs=-1,\n",
       "                                   transformers=[(&#x27;impute&#x27;,\n",
       "                                                  SimpleImputer(strategy=&#x27;most_frequent&#x27;),\n",
       "                                                  [&#x27;Age&#x27;]),\n",
       "                                                 (&#x27;ord_pipeline&#x27;,\n",
       "                                                  Pipeline(steps=[(&#x27;impute&#x27;,\n",
       "                                                                   SimpleImputer(strategy=&#x27;most_frequent&#x27;)),\n",
       "                                                                  (&#x27;ord&#x27;,\n",
       "                                                                   OrdinalEncoder(handle_unknown=&#x27;use_encoded_value&#x27;,\n",
       "                                                                                  unknown_value=-1))]),\n",
       "                                                  [&#x27;family_size_grouped&#x27;]),\n",
       "                                                 (&#x27;ohe_pipeline&#x27;,\n",
       "                                                  Pipeline(s...\n",
       "                                                                   OneHotEncoder(handle_unknown=&#x27;ignore&#x27;,\n",
       "                                                                                 sparse_output=False))]),\n",
       "                                                  [&#x27;Sex&#x27;, &#x27;Embarked&#x27;]),\n",
       "                                                 (&#x27;passthrough&#x27;, &#x27;passthrough&#x27;,\n",
       "                                                  [&#x27;Pclass&#x27;, &#x27;Cabin_Assigned&#x27;,\n",
       "                                                   &#x27;Name_Size&#x27;, &#x27;Age&#x27;, &#x27;Fare&#x27;,\n",
       "                                                   &#x27;ticket_number_count&#x27;])])),\n",
       "                (&#x27;gridsearchcv&#x27;,\n",
       "                 GridSearchCV(cv=StratifiedKFold(n_splits=5, random_state=None, shuffle=False),\n",
       "                              estimator=GaussianNB(),\n",
       "                              param_grid={&#x27;var_smoothing&#x27;: [1e-08, 1e-09,\n",
       "                                                            1e-08]}))])</pre></div></div></div><div class=\"sk-serial\"><div class=\"sk-item sk-dashed-wrapped\"><div class=\"sk-label-container\"><div class=\"sk-label sk-toggleable\"><input class=\"sk-toggleable__control sk-hidden--visually\" id=\"sk-estimator-id-77\" type=\"checkbox\" ><label for=\"sk-estimator-id-77\" class=\"sk-toggleable__label sk-toggleable__label-arrow\">columntransformer: ColumnTransformer</label><div class=\"sk-toggleable__content\"><pre>ColumnTransformer(n_jobs=-1,\n",
       "                  transformers=[(&#x27;impute&#x27;,\n",
       "                                 SimpleImputer(strategy=&#x27;most_frequent&#x27;),\n",
       "                                 [&#x27;Age&#x27;]),\n",
       "                                (&#x27;ord_pipeline&#x27;,\n",
       "                                 Pipeline(steps=[(&#x27;impute&#x27;,\n",
       "                                                  SimpleImputer(strategy=&#x27;most_frequent&#x27;)),\n",
       "                                                 (&#x27;ord&#x27;,\n",
       "                                                  OrdinalEncoder(handle_unknown=&#x27;use_encoded_value&#x27;,\n",
       "                                                                 unknown_value=-1))]),\n",
       "                                 [&#x27;family_size_grouped&#x27;]),\n",
       "                                (&#x27;ohe_pipeline&#x27;,\n",
       "                                 Pipeline(steps=[(&#x27;impute&#x27;,\n",
       "                                                  SimpleImputer(strategy=&#x27;most_frequent&#x27;)),\n",
       "                                                 (&#x27;one-hot&#x27;,\n",
       "                                                  OneHotEncoder(handle_unknown=&#x27;ignore&#x27;,\n",
       "                                                                sparse_output=False))]),\n",
       "                                 [&#x27;Sex&#x27;, &#x27;Embarked&#x27;]),\n",
       "                                (&#x27;passthrough&#x27;, &#x27;passthrough&#x27;,\n",
       "                                 [&#x27;Pclass&#x27;, &#x27;Cabin_Assigned&#x27;, &#x27;Name_Size&#x27;,\n",
       "                                  &#x27;Age&#x27;, &#x27;Fare&#x27;, &#x27;ticket_number_count&#x27;])])</pre></div></div></div><div class=\"sk-parallel\"><div class=\"sk-parallel-item\"><div class=\"sk-item\"><div class=\"sk-label-container\"><div class=\"sk-label sk-toggleable\"><input class=\"sk-toggleable__control sk-hidden--visually\" id=\"sk-estimator-id-78\" type=\"checkbox\" ><label for=\"sk-estimator-id-78\" class=\"sk-toggleable__label sk-toggleable__label-arrow\">impute</label><div class=\"sk-toggleable__content\"><pre>[&#x27;Age&#x27;]</pre></div></div></div><div class=\"sk-serial\"><div class=\"sk-item\"><div class=\"sk-estimator sk-toggleable\"><input class=\"sk-toggleable__control sk-hidden--visually\" id=\"sk-estimator-id-79\" type=\"checkbox\" ><label for=\"sk-estimator-id-79\" class=\"sk-toggleable__label sk-toggleable__label-arrow\">SimpleImputer</label><div class=\"sk-toggleable__content\"><pre>SimpleImputer(strategy=&#x27;most_frequent&#x27;)</pre></div></div></div></div></div></div><div class=\"sk-parallel-item\"><div class=\"sk-item\"><div class=\"sk-label-container\"><div class=\"sk-label sk-toggleable\"><input class=\"sk-toggleable__control sk-hidden--visually\" id=\"sk-estimator-id-80\" type=\"checkbox\" ><label for=\"sk-estimator-id-80\" class=\"sk-toggleable__label sk-toggleable__label-arrow\">ord_pipeline</label><div class=\"sk-toggleable__content\"><pre>[&#x27;family_size_grouped&#x27;]</pre></div></div></div><div class=\"sk-serial\"><div class=\"sk-item\"><div class=\"sk-serial\"><div class=\"sk-item\"><div class=\"sk-estimator sk-toggleable\"><input class=\"sk-toggleable__control sk-hidden--visually\" id=\"sk-estimator-id-81\" type=\"checkbox\" ><label for=\"sk-estimator-id-81\" class=\"sk-toggleable__label sk-toggleable__label-arrow\">SimpleImputer</label><div class=\"sk-toggleable__content\"><pre>SimpleImputer(strategy=&#x27;most_frequent&#x27;)</pre></div></div></div><div class=\"sk-item\"><div class=\"sk-estimator sk-toggleable\"><input class=\"sk-toggleable__control sk-hidden--visually\" id=\"sk-estimator-id-82\" type=\"checkbox\" ><label for=\"sk-estimator-id-82\" class=\"sk-toggleable__label sk-toggleable__label-arrow\">OrdinalEncoder</label><div class=\"sk-toggleable__content\"><pre>OrdinalEncoder(handle_unknown=&#x27;use_encoded_value&#x27;, unknown_value=-1)</pre></div></div></div></div></div></div></div></div><div class=\"sk-parallel-item\"><div class=\"sk-item\"><div class=\"sk-label-container\"><div class=\"sk-label sk-toggleable\"><input class=\"sk-toggleable__control sk-hidden--visually\" id=\"sk-estimator-id-83\" type=\"checkbox\" ><label for=\"sk-estimator-id-83\" class=\"sk-toggleable__label sk-toggleable__label-arrow\">ohe_pipeline</label><div class=\"sk-toggleable__content\"><pre>[&#x27;Sex&#x27;, &#x27;Embarked&#x27;]</pre></div></div></div><div class=\"sk-serial\"><div class=\"sk-item\"><div class=\"sk-serial\"><div class=\"sk-item\"><div class=\"sk-estimator sk-toggleable\"><input class=\"sk-toggleable__control sk-hidden--visually\" id=\"sk-estimator-id-84\" type=\"checkbox\" ><label for=\"sk-estimator-id-84\" class=\"sk-toggleable__label sk-toggleable__label-arrow\">SimpleImputer</label><div class=\"sk-toggleable__content\"><pre>SimpleImputer(strategy=&#x27;most_frequent&#x27;)</pre></div></div></div><div class=\"sk-item\"><div class=\"sk-estimator sk-toggleable\"><input class=\"sk-toggleable__control sk-hidden--visually\" id=\"sk-estimator-id-85\" type=\"checkbox\" ><label for=\"sk-estimator-id-85\" class=\"sk-toggleable__label sk-toggleable__label-arrow\">OneHotEncoder</label><div class=\"sk-toggleable__content\"><pre>OneHotEncoder(handle_unknown=&#x27;ignore&#x27;, sparse_output=False)</pre></div></div></div></div></div></div></div></div><div class=\"sk-parallel-item\"><div class=\"sk-item\"><div class=\"sk-label-container\"><div class=\"sk-label sk-toggleable\"><input class=\"sk-toggleable__control sk-hidden--visually\" id=\"sk-estimator-id-86\" type=\"checkbox\" ><label for=\"sk-estimator-id-86\" class=\"sk-toggleable__label sk-toggleable__label-arrow\">passthrough</label><div class=\"sk-toggleable__content\"><pre>[&#x27;Pclass&#x27;, &#x27;Cabin_Assigned&#x27;, &#x27;Name_Size&#x27;, &#x27;Age&#x27;, &#x27;Fare&#x27;, &#x27;ticket_number_count&#x27;]</pre></div></div></div><div class=\"sk-serial\"><div class=\"sk-item\"><div class=\"sk-estimator sk-toggleable\"><input class=\"sk-toggleable__control sk-hidden--visually\" id=\"sk-estimator-id-87\" type=\"checkbox\" ><label for=\"sk-estimator-id-87\" class=\"sk-toggleable__label sk-toggleable__label-arrow\">passthrough</label><div class=\"sk-toggleable__content\"><pre>passthrough</pre></div></div></div></div></div></div></div></div><div class=\"sk-item sk-dashed-wrapped\"><div class=\"sk-label-container\"><div class=\"sk-label sk-toggleable\"><input class=\"sk-toggleable__control sk-hidden--visually\" id=\"sk-estimator-id-88\" type=\"checkbox\" ><label for=\"sk-estimator-id-88\" class=\"sk-toggleable__label sk-toggleable__label-arrow\">gridsearchcv: GridSearchCV</label><div class=\"sk-toggleable__content\"><pre>GridSearchCV(cv=StratifiedKFold(n_splits=5, random_state=None, shuffle=False),\n",
       "             estimator=GaussianNB(),\n",
       "             param_grid={&#x27;var_smoothing&#x27;: [1e-08, 1e-09, 1e-08]})</pre></div></div></div><div class=\"sk-parallel\"><div class=\"sk-parallel-item\"><div class=\"sk-item\"><div class=\"sk-label-container\"><div class=\"sk-label sk-toggleable\"><input class=\"sk-toggleable__control sk-hidden--visually\" id=\"sk-estimator-id-89\" type=\"checkbox\" ><label for=\"sk-estimator-id-89\" class=\"sk-toggleable__label sk-toggleable__label-arrow\">estimator: GaussianNB</label><div class=\"sk-toggleable__content\"><pre>GaussianNB()</pre></div></div></div><div class=\"sk-serial\"><div class=\"sk-item\"><div class=\"sk-estimator sk-toggleable\"><input class=\"sk-toggleable__control sk-hidden--visually\" id=\"sk-estimator-id-90\" type=\"checkbox\" ><label for=\"sk-estimator-id-90\" class=\"sk-toggleable__label sk-toggleable__label-arrow\">GaussianNB</label><div class=\"sk-toggleable__content\"><pre>GaussianNB()</pre></div></div></div></div></div></div></div></div></div></div></div></div>"
      ],
      "text/plain": [
       "Pipeline(steps=[('columntransformer',\n",
       "                 ColumnTransformer(n_jobs=-1,\n",
       "                                   transformers=[('impute',\n",
       "                                                  SimpleImputer(strategy='most_frequent'),\n",
       "                                                  ['Age']),\n",
       "                                                 ('ord_pipeline',\n",
       "                                                  Pipeline(steps=[('impute',\n",
       "                                                                   SimpleImputer(strategy='most_frequent')),\n",
       "                                                                  ('ord',\n",
       "                                                                   OrdinalEncoder(handle_unknown='use_encoded_value',\n",
       "                                                                                  unknown_value=-1))]),\n",
       "                                                  ['family_size_grouped']),\n",
       "                                                 ('ohe_pipeline',\n",
       "                                                  Pipeline(s...\n",
       "                                                                   OneHotEncoder(handle_unknown='ignore',\n",
       "                                                                                 sparse_output=False))]),\n",
       "                                                  ['Sex', 'Embarked']),\n",
       "                                                 ('passthrough', 'passthrough',\n",
       "                                                  ['Pclass', 'Cabin_Assigned',\n",
       "                                                   'Name_Size', 'Age', 'Fare',\n",
       "                                                   'ticket_number_count'])])),\n",
       "                ('gridsearchcv',\n",
       "                 GridSearchCV(cv=StratifiedKFold(n_splits=5, random_state=None, shuffle=False),\n",
       "                              estimator=GaussianNB(),\n",
       "                              param_grid={'var_smoothing': [1e-08, 1e-09,\n",
       "                                                            1e-08]}))])"
      ]
     },
     "execution_count": 102,
     "metadata": {},
     "output_type": "execute_result"
    }
   ],
   "source": [
    "pipefinalgnb= make_pipeline(col_trans, CV_gnb)\n",
    "pipefinalgnb.fit(X_train, y_train)"
   ]
  },
  {
   "cell_type": "code",
   "execution_count": 103,
   "id": "2a8ac578",
   "metadata": {
    "execution": {
     "iopub.execute_input": "2024-07-06T15:23:12.050228Z",
     "iopub.status.busy": "2024-07-06T15:23:12.049764Z",
     "iopub.status.idle": "2024-07-06T15:23:12.055170Z",
     "shell.execute_reply": "2024-07-06T15:23:12.054129Z"
    },
    "papermill": {
     "duration": 0.051079,
     "end_time": "2024-07-06T15:23:12.057293",
     "exception": false,
     "start_time": "2024-07-06T15:23:12.006214",
     "status": "completed"
    },
    "tags": []
   },
   "outputs": [
    {
     "name": "stdout",
     "output_type": "stream",
     "text": [
      "{'var_smoothing': 1e-09}\n",
      "0.7795035949965528\n"
     ]
    }
   ],
   "source": [
    "print(CV_gnb.best_params_)\n",
    "print(CV_gnb.best_score_)"
   ]
  },
  {
   "cell_type": "code",
   "execution_count": 104,
   "id": "30fed850",
   "metadata": {
    "execution": {
     "iopub.execute_input": "2024-07-06T15:23:12.146892Z",
     "iopub.status.busy": "2024-07-06T15:23:12.145841Z",
     "iopub.status.idle": "2024-07-06T15:23:12.151136Z",
     "shell.execute_reply": "2024-07-06T15:23:12.149974Z"
    },
    "papermill": {
     "duration": 0.052867,
     "end_time": "2024-07-06T15:23:12.153368",
     "exception": false,
     "start_time": "2024-07-06T15:23:12.100501",
     "status": "completed"
    },
    "tags": []
   },
   "outputs": [],
   "source": [
    "xg = XGBClassifier()"
   ]
  },
  {
   "cell_type": "code",
   "execution_count": 105,
   "id": "e6085d9a",
   "metadata": {
    "execution": {
     "iopub.execute_input": "2024-07-06T15:23:12.240699Z",
     "iopub.status.busy": "2024-07-06T15:23:12.240322Z",
     "iopub.status.idle": "2024-07-06T15:23:12.245376Z",
     "shell.execute_reply": "2024-07-06T15:23:12.244314Z"
    },
    "papermill": {
     "duration": 0.051375,
     "end_time": "2024-07-06T15:23:12.247723",
     "exception": false,
     "start_time": "2024-07-06T15:23:12.196348",
     "status": "completed"
    },
    "tags": []
   },
   "outputs": [],
   "source": [
    "param_grid = {\n",
    "     'booster': ['gbtree', 'gblinear','dart'],\n",
    "}"
   ]
  },
  {
   "cell_type": "code",
   "execution_count": 106,
   "id": "e18e4c23",
   "metadata": {
    "execution": {
     "iopub.execute_input": "2024-07-06T15:23:12.335263Z",
     "iopub.status.busy": "2024-07-06T15:23:12.334880Z",
     "iopub.status.idle": "2024-07-06T15:23:12.340204Z",
     "shell.execute_reply": "2024-07-06T15:23:12.339153Z"
    },
    "papermill": {
     "duration": 0.051747,
     "end_time": "2024-07-06T15:23:12.342408",
     "exception": false,
     "start_time": "2024-07-06T15:23:12.290661",
     "status": "completed"
    },
    "tags": []
   },
   "outputs": [],
   "source": [
    "CV_xg = GridSearchCV(estimator=xg, param_grid=param_grid, cv=StratifiedKFold(n_splits=5))"
   ]
  },
  {
   "cell_type": "code",
   "execution_count": 107,
   "id": "9e949941",
   "metadata": {
    "execution": {
     "iopub.execute_input": "2024-07-06T15:23:12.435741Z",
     "iopub.status.busy": "2024-07-06T15:23:12.434926Z",
     "iopub.status.idle": "2024-07-06T15:23:16.185345Z",
     "shell.execute_reply": "2024-07-06T15:23:16.184239Z"
    },
    "papermill": {
     "duration": 3.802891,
     "end_time": "2024-07-06T15:23:16.187978",
     "exception": false,
     "start_time": "2024-07-06T15:23:12.385087",
     "status": "completed"
    },
    "tags": []
   },
   "outputs": [
    {
     "data": {
      "text/html": [
       "<style>#sk-container-id-7 {color: black;background-color: white;}#sk-container-id-7 pre{padding: 0;}#sk-container-id-7 div.sk-toggleable {background-color: white;}#sk-container-id-7 label.sk-toggleable__label {cursor: pointer;display: block;width: 100%;margin-bottom: 0;padding: 0.3em;box-sizing: border-box;text-align: center;}#sk-container-id-7 label.sk-toggleable__label-arrow:before {content: \"▸\";float: left;margin-right: 0.25em;color: #696969;}#sk-container-id-7 label.sk-toggleable__label-arrow:hover:before {color: black;}#sk-container-id-7 div.sk-estimator:hover label.sk-toggleable__label-arrow:before {color: black;}#sk-container-id-7 div.sk-toggleable__content {max-height: 0;max-width: 0;overflow: hidden;text-align: left;background-color: #f0f8ff;}#sk-container-id-7 div.sk-toggleable__content pre {margin: 0.2em;color: black;border-radius: 0.25em;background-color: #f0f8ff;}#sk-container-id-7 input.sk-toggleable__control:checked~div.sk-toggleable__content {max-height: 200px;max-width: 100%;overflow: auto;}#sk-container-id-7 input.sk-toggleable__control:checked~label.sk-toggleable__label-arrow:before {content: \"▾\";}#sk-container-id-7 div.sk-estimator input.sk-toggleable__control:checked~label.sk-toggleable__label {background-color: #d4ebff;}#sk-container-id-7 div.sk-label input.sk-toggleable__control:checked~label.sk-toggleable__label {background-color: #d4ebff;}#sk-container-id-7 input.sk-hidden--visually {border: 0;clip: rect(1px 1px 1px 1px);clip: rect(1px, 1px, 1px, 1px);height: 1px;margin: -1px;overflow: hidden;padding: 0;position: absolute;width: 1px;}#sk-container-id-7 div.sk-estimator {font-family: monospace;background-color: #f0f8ff;border: 1px dotted black;border-radius: 0.25em;box-sizing: border-box;margin-bottom: 0.5em;}#sk-container-id-7 div.sk-estimator:hover {background-color: #d4ebff;}#sk-container-id-7 div.sk-parallel-item::after {content: \"\";width: 100%;border-bottom: 1px solid gray;flex-grow: 1;}#sk-container-id-7 div.sk-label:hover label.sk-toggleable__label {background-color: #d4ebff;}#sk-container-id-7 div.sk-serial::before {content: \"\";position: absolute;border-left: 1px solid gray;box-sizing: border-box;top: 0;bottom: 0;left: 50%;z-index: 0;}#sk-container-id-7 div.sk-serial {display: flex;flex-direction: column;align-items: center;background-color: white;padding-right: 0.2em;padding-left: 0.2em;position: relative;}#sk-container-id-7 div.sk-item {position: relative;z-index: 1;}#sk-container-id-7 div.sk-parallel {display: flex;align-items: stretch;justify-content: center;background-color: white;position: relative;}#sk-container-id-7 div.sk-item::before, #sk-container-id-7 div.sk-parallel-item::before {content: \"\";position: absolute;border-left: 1px solid gray;box-sizing: border-box;top: 0;bottom: 0;left: 50%;z-index: -1;}#sk-container-id-7 div.sk-parallel-item {display: flex;flex-direction: column;z-index: 1;position: relative;background-color: white;}#sk-container-id-7 div.sk-parallel-item:first-child::after {align-self: flex-end;width: 50%;}#sk-container-id-7 div.sk-parallel-item:last-child::after {align-self: flex-start;width: 50%;}#sk-container-id-7 div.sk-parallel-item:only-child::after {width: 0;}#sk-container-id-7 div.sk-dashed-wrapped {border: 1px dashed gray;margin: 0 0.4em 0.5em 0.4em;box-sizing: border-box;padding-bottom: 0.4em;background-color: white;}#sk-container-id-7 div.sk-label label {font-family: monospace;font-weight: bold;display: inline-block;line-height: 1.2em;}#sk-container-id-7 div.sk-label-container {text-align: center;}#sk-container-id-7 div.sk-container {/* jupyter's `normalize.less` sets `[hidden] { display: none; }` but bootstrap.min.css set `[hidden] { display: none !important; }` so we also need the `!important` here to be able to override the default hidden behavior on the sphinx rendered scikit-learn.org. See: https://github.com/scikit-learn/scikit-learn/issues/21755 */display: inline-block !important;position: relative;}#sk-container-id-7 div.sk-text-repr-fallback {display: none;}</style><div id=\"sk-container-id-7\" class=\"sk-top-container\"><div class=\"sk-text-repr-fallback\"><pre>Pipeline(steps=[(&#x27;columntransformer&#x27;,\n",
       "                 ColumnTransformer(n_jobs=-1,\n",
       "                                   transformers=[(&#x27;impute&#x27;,\n",
       "                                                  SimpleImputer(strategy=&#x27;most_frequent&#x27;),\n",
       "                                                  [&#x27;Age&#x27;]),\n",
       "                                                 (&#x27;ord_pipeline&#x27;,\n",
       "                                                  Pipeline(steps=[(&#x27;impute&#x27;,\n",
       "                                                                   SimpleImputer(strategy=&#x27;most_frequent&#x27;)),\n",
       "                                                                  (&#x27;ord&#x27;,\n",
       "                                                                   OrdinalEncoder(handle_unknown=&#x27;use_encoded_value&#x27;,\n",
       "                                                                                  unknown_value=-1))]),\n",
       "                                                  [&#x27;family_size_grouped&#x27;]),\n",
       "                                                 (&#x27;ohe_pipeline&#x27;,\n",
       "                                                  Pipeline(s...\n",
       "                                                      interaction_constraints=None,\n",
       "                                                      learning_rate=None,\n",
       "                                                      max_bin=None,\n",
       "                                                      max_cat_threshold=None,\n",
       "                                                      max_cat_to_onehot=None,\n",
       "                                                      max_delta_step=None,\n",
       "                                                      max_depth=None,\n",
       "                                                      max_leaves=None,\n",
       "                                                      min_child_weight=None,\n",
       "                                                      missing=nan,\n",
       "                                                      monotone_constraints=None,\n",
       "                                                      multi_strategy=None,\n",
       "                                                      n_estimators=None,\n",
       "                                                      n_jobs=None,\n",
       "                                                      num_parallel_tree=None,\n",
       "                                                      random_state=None, ...),\n",
       "                              param_grid={&#x27;booster&#x27;: [&#x27;gbtree&#x27;, &#x27;gblinear&#x27;,\n",
       "                                                      &#x27;dart&#x27;]}))])</pre><b>In a Jupyter environment, please rerun this cell to show the HTML representation or trust the notebook. <br />On GitHub, the HTML representation is unable to render, please try loading this page with nbviewer.org.</b></div><div class=\"sk-container\" hidden><div class=\"sk-item sk-dashed-wrapped\"><div class=\"sk-label-container\"><div class=\"sk-label sk-toggleable\"><input class=\"sk-toggleable__control sk-hidden--visually\" id=\"sk-estimator-id-91\" type=\"checkbox\" ><label for=\"sk-estimator-id-91\" class=\"sk-toggleable__label sk-toggleable__label-arrow\">Pipeline</label><div class=\"sk-toggleable__content\"><pre>Pipeline(steps=[(&#x27;columntransformer&#x27;,\n",
       "                 ColumnTransformer(n_jobs=-1,\n",
       "                                   transformers=[(&#x27;impute&#x27;,\n",
       "                                                  SimpleImputer(strategy=&#x27;most_frequent&#x27;),\n",
       "                                                  [&#x27;Age&#x27;]),\n",
       "                                                 (&#x27;ord_pipeline&#x27;,\n",
       "                                                  Pipeline(steps=[(&#x27;impute&#x27;,\n",
       "                                                                   SimpleImputer(strategy=&#x27;most_frequent&#x27;)),\n",
       "                                                                  (&#x27;ord&#x27;,\n",
       "                                                                   OrdinalEncoder(handle_unknown=&#x27;use_encoded_value&#x27;,\n",
       "                                                                                  unknown_value=-1))]),\n",
       "                                                  [&#x27;family_size_grouped&#x27;]),\n",
       "                                                 (&#x27;ohe_pipeline&#x27;,\n",
       "                                                  Pipeline(s...\n",
       "                                                      interaction_constraints=None,\n",
       "                                                      learning_rate=None,\n",
       "                                                      max_bin=None,\n",
       "                                                      max_cat_threshold=None,\n",
       "                                                      max_cat_to_onehot=None,\n",
       "                                                      max_delta_step=None,\n",
       "                                                      max_depth=None,\n",
       "                                                      max_leaves=None,\n",
       "                                                      min_child_weight=None,\n",
       "                                                      missing=nan,\n",
       "                                                      monotone_constraints=None,\n",
       "                                                      multi_strategy=None,\n",
       "                                                      n_estimators=None,\n",
       "                                                      n_jobs=None,\n",
       "                                                      num_parallel_tree=None,\n",
       "                                                      random_state=None, ...),\n",
       "                              param_grid={&#x27;booster&#x27;: [&#x27;gbtree&#x27;, &#x27;gblinear&#x27;,\n",
       "                                                      &#x27;dart&#x27;]}))])</pre></div></div></div><div class=\"sk-serial\"><div class=\"sk-item sk-dashed-wrapped\"><div class=\"sk-label-container\"><div class=\"sk-label sk-toggleable\"><input class=\"sk-toggleable__control sk-hidden--visually\" id=\"sk-estimator-id-92\" type=\"checkbox\" ><label for=\"sk-estimator-id-92\" class=\"sk-toggleable__label sk-toggleable__label-arrow\">columntransformer: ColumnTransformer</label><div class=\"sk-toggleable__content\"><pre>ColumnTransformer(n_jobs=-1,\n",
       "                  transformers=[(&#x27;impute&#x27;,\n",
       "                                 SimpleImputer(strategy=&#x27;most_frequent&#x27;),\n",
       "                                 [&#x27;Age&#x27;]),\n",
       "                                (&#x27;ord_pipeline&#x27;,\n",
       "                                 Pipeline(steps=[(&#x27;impute&#x27;,\n",
       "                                                  SimpleImputer(strategy=&#x27;most_frequent&#x27;)),\n",
       "                                                 (&#x27;ord&#x27;,\n",
       "                                                  OrdinalEncoder(handle_unknown=&#x27;use_encoded_value&#x27;,\n",
       "                                                                 unknown_value=-1))]),\n",
       "                                 [&#x27;family_size_grouped&#x27;]),\n",
       "                                (&#x27;ohe_pipeline&#x27;,\n",
       "                                 Pipeline(steps=[(&#x27;impute&#x27;,\n",
       "                                                  SimpleImputer(strategy=&#x27;most_frequent&#x27;)),\n",
       "                                                 (&#x27;one-hot&#x27;,\n",
       "                                                  OneHotEncoder(handle_unknown=&#x27;ignore&#x27;,\n",
       "                                                                sparse_output=False))]),\n",
       "                                 [&#x27;Sex&#x27;, &#x27;Embarked&#x27;]),\n",
       "                                (&#x27;passthrough&#x27;, &#x27;passthrough&#x27;,\n",
       "                                 [&#x27;Pclass&#x27;, &#x27;Cabin_Assigned&#x27;, &#x27;Name_Size&#x27;,\n",
       "                                  &#x27;Age&#x27;, &#x27;Fare&#x27;, &#x27;ticket_number_count&#x27;])])</pre></div></div></div><div class=\"sk-parallel\"><div class=\"sk-parallel-item\"><div class=\"sk-item\"><div class=\"sk-label-container\"><div class=\"sk-label sk-toggleable\"><input class=\"sk-toggleable__control sk-hidden--visually\" id=\"sk-estimator-id-93\" type=\"checkbox\" ><label for=\"sk-estimator-id-93\" class=\"sk-toggleable__label sk-toggleable__label-arrow\">impute</label><div class=\"sk-toggleable__content\"><pre>[&#x27;Age&#x27;]</pre></div></div></div><div class=\"sk-serial\"><div class=\"sk-item\"><div class=\"sk-estimator sk-toggleable\"><input class=\"sk-toggleable__control sk-hidden--visually\" id=\"sk-estimator-id-94\" type=\"checkbox\" ><label for=\"sk-estimator-id-94\" class=\"sk-toggleable__label sk-toggleable__label-arrow\">SimpleImputer</label><div class=\"sk-toggleable__content\"><pre>SimpleImputer(strategy=&#x27;most_frequent&#x27;)</pre></div></div></div></div></div></div><div class=\"sk-parallel-item\"><div class=\"sk-item\"><div class=\"sk-label-container\"><div class=\"sk-label sk-toggleable\"><input class=\"sk-toggleable__control sk-hidden--visually\" id=\"sk-estimator-id-95\" type=\"checkbox\" ><label for=\"sk-estimator-id-95\" class=\"sk-toggleable__label sk-toggleable__label-arrow\">ord_pipeline</label><div class=\"sk-toggleable__content\"><pre>[&#x27;family_size_grouped&#x27;]</pre></div></div></div><div class=\"sk-serial\"><div class=\"sk-item\"><div class=\"sk-serial\"><div class=\"sk-item\"><div class=\"sk-estimator sk-toggleable\"><input class=\"sk-toggleable__control sk-hidden--visually\" id=\"sk-estimator-id-96\" type=\"checkbox\" ><label for=\"sk-estimator-id-96\" class=\"sk-toggleable__label sk-toggleable__label-arrow\">SimpleImputer</label><div class=\"sk-toggleable__content\"><pre>SimpleImputer(strategy=&#x27;most_frequent&#x27;)</pre></div></div></div><div class=\"sk-item\"><div class=\"sk-estimator sk-toggleable\"><input class=\"sk-toggleable__control sk-hidden--visually\" id=\"sk-estimator-id-97\" type=\"checkbox\" ><label for=\"sk-estimator-id-97\" class=\"sk-toggleable__label sk-toggleable__label-arrow\">OrdinalEncoder</label><div class=\"sk-toggleable__content\"><pre>OrdinalEncoder(handle_unknown=&#x27;use_encoded_value&#x27;, unknown_value=-1)</pre></div></div></div></div></div></div></div></div><div class=\"sk-parallel-item\"><div class=\"sk-item\"><div class=\"sk-label-container\"><div class=\"sk-label sk-toggleable\"><input class=\"sk-toggleable__control sk-hidden--visually\" id=\"sk-estimator-id-98\" type=\"checkbox\" ><label for=\"sk-estimator-id-98\" class=\"sk-toggleable__label sk-toggleable__label-arrow\">ohe_pipeline</label><div class=\"sk-toggleable__content\"><pre>[&#x27;Sex&#x27;, &#x27;Embarked&#x27;]</pre></div></div></div><div class=\"sk-serial\"><div class=\"sk-item\"><div class=\"sk-serial\"><div class=\"sk-item\"><div class=\"sk-estimator sk-toggleable\"><input class=\"sk-toggleable__control sk-hidden--visually\" id=\"sk-estimator-id-99\" type=\"checkbox\" ><label for=\"sk-estimator-id-99\" class=\"sk-toggleable__label sk-toggleable__label-arrow\">SimpleImputer</label><div class=\"sk-toggleable__content\"><pre>SimpleImputer(strategy=&#x27;most_frequent&#x27;)</pre></div></div></div><div class=\"sk-item\"><div class=\"sk-estimator sk-toggleable\"><input class=\"sk-toggleable__control sk-hidden--visually\" id=\"sk-estimator-id-100\" type=\"checkbox\" ><label for=\"sk-estimator-id-100\" class=\"sk-toggleable__label sk-toggleable__label-arrow\">OneHotEncoder</label><div class=\"sk-toggleable__content\"><pre>OneHotEncoder(handle_unknown=&#x27;ignore&#x27;, sparse_output=False)</pre></div></div></div></div></div></div></div></div><div class=\"sk-parallel-item\"><div class=\"sk-item\"><div class=\"sk-label-container\"><div class=\"sk-label sk-toggleable\"><input class=\"sk-toggleable__control sk-hidden--visually\" id=\"sk-estimator-id-101\" type=\"checkbox\" ><label for=\"sk-estimator-id-101\" class=\"sk-toggleable__label sk-toggleable__label-arrow\">passthrough</label><div class=\"sk-toggleable__content\"><pre>[&#x27;Pclass&#x27;, &#x27;Cabin_Assigned&#x27;, &#x27;Name_Size&#x27;, &#x27;Age&#x27;, &#x27;Fare&#x27;, &#x27;ticket_number_count&#x27;]</pre></div></div></div><div class=\"sk-serial\"><div class=\"sk-item\"><div class=\"sk-estimator sk-toggleable\"><input class=\"sk-toggleable__control sk-hidden--visually\" id=\"sk-estimator-id-102\" type=\"checkbox\" ><label for=\"sk-estimator-id-102\" class=\"sk-toggleable__label sk-toggleable__label-arrow\">passthrough</label><div class=\"sk-toggleable__content\"><pre>passthrough</pre></div></div></div></div></div></div></div></div><div class=\"sk-item sk-dashed-wrapped\"><div class=\"sk-label-container\"><div class=\"sk-label sk-toggleable\"><input class=\"sk-toggleable__control sk-hidden--visually\" id=\"sk-estimator-id-103\" type=\"checkbox\" ><label for=\"sk-estimator-id-103\" class=\"sk-toggleable__label sk-toggleable__label-arrow\">gridsearchcv: GridSearchCV</label><div class=\"sk-toggleable__content\"><pre>GridSearchCV(cv=StratifiedKFold(n_splits=5, random_state=None, shuffle=False),\n",
       "             estimator=XGBClassifier(base_score=None, booster=None,\n",
       "                                     callbacks=None, colsample_bylevel=None,\n",
       "                                     colsample_bynode=None,\n",
       "                                     colsample_bytree=None, device=None,\n",
       "                                     early_stopping_rounds=None,\n",
       "                                     enable_categorical=False, eval_metric=None,\n",
       "                                     feature_types=None, gamma=None,\n",
       "                                     grow_policy=None, importance_...\n",
       "                                     interaction_constraints=None,\n",
       "                                     learning_rate=None, max_bin=None,\n",
       "                                     max_cat_threshold=None,\n",
       "                                     max_cat_to_onehot=None,\n",
       "                                     max_delta_step=None, max_depth=None,\n",
       "                                     max_leaves=None, min_child_weight=None,\n",
       "                                     missing=nan, monotone_constraints=None,\n",
       "                                     multi_strategy=None, n_estimators=None,\n",
       "                                     n_jobs=None, num_parallel_tree=None,\n",
       "                                     random_state=None, ...),\n",
       "             param_grid={&#x27;booster&#x27;: [&#x27;gbtree&#x27;, &#x27;gblinear&#x27;, &#x27;dart&#x27;]})</pre></div></div></div><div class=\"sk-parallel\"><div class=\"sk-parallel-item\"><div class=\"sk-item\"><div class=\"sk-label-container\"><div class=\"sk-label sk-toggleable\"><input class=\"sk-toggleable__control sk-hidden--visually\" id=\"sk-estimator-id-104\" type=\"checkbox\" ><label for=\"sk-estimator-id-104\" class=\"sk-toggleable__label sk-toggleable__label-arrow\">estimator: XGBClassifier</label><div class=\"sk-toggleable__content\"><pre>XGBClassifier(base_score=None, booster=None, callbacks=None,\n",
       "              colsample_bylevel=None, colsample_bynode=None,\n",
       "              colsample_bytree=None, device=None, early_stopping_rounds=None,\n",
       "              enable_categorical=False, eval_metric=None, feature_types=None,\n",
       "              gamma=None, grow_policy=None, importance_type=None,\n",
       "              interaction_constraints=None, learning_rate=None, max_bin=None,\n",
       "              max_cat_threshold=None, max_cat_to_onehot=None,\n",
       "              max_delta_step=None, max_depth=None, max_leaves=None,\n",
       "              min_child_weight=None, missing=nan, monotone_constraints=None,\n",
       "              multi_strategy=None, n_estimators=None, n_jobs=None,\n",
       "              num_parallel_tree=None, random_state=None, ...)</pre></div></div></div><div class=\"sk-serial\"><div class=\"sk-item\"><div class=\"sk-estimator sk-toggleable\"><input class=\"sk-toggleable__control sk-hidden--visually\" id=\"sk-estimator-id-105\" type=\"checkbox\" ><label for=\"sk-estimator-id-105\" class=\"sk-toggleable__label sk-toggleable__label-arrow\">XGBClassifier</label><div class=\"sk-toggleable__content\"><pre>XGBClassifier(base_score=None, booster=None, callbacks=None,\n",
       "              colsample_bylevel=None, colsample_bynode=None,\n",
       "              colsample_bytree=None, device=None, early_stopping_rounds=None,\n",
       "              enable_categorical=False, eval_metric=None, feature_types=None,\n",
       "              gamma=None, grow_policy=None, importance_type=None,\n",
       "              interaction_constraints=None, learning_rate=None, max_bin=None,\n",
       "              max_cat_threshold=None, max_cat_to_onehot=None,\n",
       "              max_delta_step=None, max_depth=None, max_leaves=None,\n",
       "              min_child_weight=None, missing=nan, monotone_constraints=None,\n",
       "              multi_strategy=None, n_estimators=None, n_jobs=None,\n",
       "              num_parallel_tree=None, random_state=None, ...)</pre></div></div></div></div></div></div></div></div></div></div></div></div>"
      ],
      "text/plain": [
       "Pipeline(steps=[('columntransformer',\n",
       "                 ColumnTransformer(n_jobs=-1,\n",
       "                                   transformers=[('impute',\n",
       "                                                  SimpleImputer(strategy='most_frequent'),\n",
       "                                                  ['Age']),\n",
       "                                                 ('ord_pipeline',\n",
       "                                                  Pipeline(steps=[('impute',\n",
       "                                                                   SimpleImputer(strategy='most_frequent')),\n",
       "                                                                  ('ord',\n",
       "                                                                   OrdinalEncoder(handle_unknown='use_encoded_value',\n",
       "                                                                                  unknown_value=-1))]),\n",
       "                                                  ['family_size_grouped']),\n",
       "                                                 ('ohe_pipeline',\n",
       "                                                  Pipeline(s...\n",
       "                                                      interaction_constraints=None,\n",
       "                                                      learning_rate=None,\n",
       "                                                      max_bin=None,\n",
       "                                                      max_cat_threshold=None,\n",
       "                                                      max_cat_to_onehot=None,\n",
       "                                                      max_delta_step=None,\n",
       "                                                      max_depth=None,\n",
       "                                                      max_leaves=None,\n",
       "                                                      min_child_weight=None,\n",
       "                                                      missing=nan,\n",
       "                                                      monotone_constraints=None,\n",
       "                                                      multi_strategy=None,\n",
       "                                                      n_estimators=None,\n",
       "                                                      n_jobs=None,\n",
       "                                                      num_parallel_tree=None,\n",
       "                                                      random_state=None, ...),\n",
       "                              param_grid={'booster': ['gbtree', 'gblinear',\n",
       "                                                      'dart']}))])"
      ]
     },
     "execution_count": 107,
     "metadata": {},
     "output_type": "execute_result"
    }
   ],
   "source": [
    "pipefinalxg= make_pipeline(col_trans, CV_xg)\n",
    "pipefinalxg.fit(X_train, y_train)"
   ]
  },
  {
   "cell_type": "code",
   "execution_count": 108,
   "id": "7bc4e906",
   "metadata": {
    "execution": {
     "iopub.execute_input": "2024-07-06T15:23:16.277421Z",
     "iopub.status.busy": "2024-07-06T15:23:16.276416Z",
     "iopub.status.idle": "2024-07-06T15:23:16.282233Z",
     "shell.execute_reply": "2024-07-06T15:23:16.281135Z"
    },
    "papermill": {
     "duration": 0.052461,
     "end_time": "2024-07-06T15:23:16.284369",
     "exception": false,
     "start_time": "2024-07-06T15:23:16.231908",
     "status": "completed"
    },
    "tags": []
   },
   "outputs": [
    {
     "name": "stdout",
     "output_type": "stream",
     "text": [
      "{'booster': 'gblinear'}\n",
      "0.8005712597261893\n"
     ]
    }
   ],
   "source": [
    "print(CV_xg.best_params_)\n",
    "print(CV_xg.best_score_)"
   ]
  },
  {
   "cell_type": "code",
   "execution_count": 109,
   "id": "a10fdf60",
   "metadata": {
    "execution": {
     "iopub.execute_input": "2024-07-06T15:23:16.372210Z",
     "iopub.status.busy": "2024-07-06T15:23:16.371835Z",
     "iopub.status.idle": "2024-07-06T15:23:16.376578Z",
     "shell.execute_reply": "2024-07-06T15:23:16.375626Z"
    },
    "papermill": {
     "duration": 0.051198,
     "end_time": "2024-07-06T15:23:16.378652",
     "exception": false,
     "start_time": "2024-07-06T15:23:16.327454",
     "status": "completed"
    },
    "tags": []
   },
   "outputs": [],
   "source": [
    "abc = AdaBoostClassifier()"
   ]
  },
  {
   "cell_type": "code",
   "execution_count": 110,
   "id": "ca963c16",
   "metadata": {
    "execution": {
     "iopub.execute_input": "2024-07-06T15:23:16.466433Z",
     "iopub.status.busy": "2024-07-06T15:23:16.466023Z",
     "iopub.status.idle": "2024-07-06T15:23:16.472010Z",
     "shell.execute_reply": "2024-07-06T15:23:16.471028Z"
    },
    "papermill": {
     "duration": 0.052519,
     "end_time": "2024-07-06T15:23:16.474214",
     "exception": false,
     "start_time": "2024-07-06T15:23:16.421695",
     "status": "completed"
    },
    "tags": []
   },
   "outputs": [],
   "source": [
    "dtc_2 = DecisionTreeClassifier(criterion = 'entropy', max_depth=10,min_samples_leaf=4, min_samples_split=10)  \n",
    "svc_2 = SVC(probability=True, C=10, kernel='rbf') \n",
    "lr_2 = LogisticRegression(C=0.1) \n",
    "lr_3 = LogisticRegression(C=0.2) \n",
    "lr_4 = LogisticRegression(C=0.05) "
   ]
  },
  {
   "cell_type": "code",
   "execution_count": 111,
   "id": "d966e2af",
   "metadata": {
    "execution": {
     "iopub.execute_input": "2024-07-06T15:23:16.562721Z",
     "iopub.status.busy": "2024-07-06T15:23:16.562317Z",
     "iopub.status.idle": "2024-07-06T15:23:16.568365Z",
     "shell.execute_reply": "2024-07-06T15:23:16.567155Z"
    },
    "papermill": {
     "duration": 0.052732,
     "end_time": "2024-07-06T15:23:16.570508",
     "exception": false,
     "start_time": "2024-07-06T15:23:16.517776",
     "status": "completed"
    },
    "tags": []
   },
   "outputs": [],
   "source": [
    "param_grid = {\n",
    "    'estimator': [dtc_2, svc_2, lr_2], \n",
    "    'n_estimators':  [5, 10, 25, 50, 100],\n",
    "    'algorithm': ['SAMME', 'SAMME.R'],\n",
    "    'learning_rate': [(0.97 + x / 100) for x in range(1, 7)]  \n",
    "}\n"
   ]
  },
  {
   "cell_type": "code",
   "execution_count": 112,
   "id": "a2936c02",
   "metadata": {
    "execution": {
     "iopub.execute_input": "2024-07-06T15:23:16.659212Z",
     "iopub.status.busy": "2024-07-06T15:23:16.658411Z",
     "iopub.status.idle": "2024-07-06T15:23:16.663403Z",
     "shell.execute_reply": "2024-07-06T15:23:16.662411Z"
    },
    "papermill": {
     "duration": 0.051566,
     "end_time": "2024-07-06T15:23:16.665457",
     "exception": false,
     "start_time": "2024-07-06T15:23:16.613891",
     "status": "completed"
    },
    "tags": []
   },
   "outputs": [],
   "source": [
    "CV_abc = GridSearchCV(estimator=abc, param_grid=param_grid, cv=StratifiedKFold(n_splits=5))"
   ]
  },
  {
   "cell_type": "code",
   "execution_count": 113,
   "id": "09883839",
   "metadata": {
    "execution": {
     "iopub.execute_input": "2024-07-06T15:23:16.753263Z",
     "iopub.status.busy": "2024-07-06T15:23:16.752877Z",
     "iopub.status.idle": "2024-07-06T15:39:56.641126Z",
     "shell.execute_reply": "2024-07-06T15:39:56.640061Z"
    },
    "papermill": {
     "duration": 999.981837,
     "end_time": "2024-07-06T15:39:56.690285",
     "exception": false,
     "start_time": "2024-07-06T15:23:16.708448",
     "status": "completed"
    },
    "tags": []
   },
   "outputs": [
    {
     "data": {
      "text/html": [
       "<style>#sk-container-id-8 {color: black;background-color: white;}#sk-container-id-8 pre{padding: 0;}#sk-container-id-8 div.sk-toggleable {background-color: white;}#sk-container-id-8 label.sk-toggleable__label {cursor: pointer;display: block;width: 100%;margin-bottom: 0;padding: 0.3em;box-sizing: border-box;text-align: center;}#sk-container-id-8 label.sk-toggleable__label-arrow:before {content: \"▸\";float: left;margin-right: 0.25em;color: #696969;}#sk-container-id-8 label.sk-toggleable__label-arrow:hover:before {color: black;}#sk-container-id-8 div.sk-estimator:hover label.sk-toggleable__label-arrow:before {color: black;}#sk-container-id-8 div.sk-toggleable__content {max-height: 0;max-width: 0;overflow: hidden;text-align: left;background-color: #f0f8ff;}#sk-container-id-8 div.sk-toggleable__content pre {margin: 0.2em;color: black;border-radius: 0.25em;background-color: #f0f8ff;}#sk-container-id-8 input.sk-toggleable__control:checked~div.sk-toggleable__content {max-height: 200px;max-width: 100%;overflow: auto;}#sk-container-id-8 input.sk-toggleable__control:checked~label.sk-toggleable__label-arrow:before {content: \"▾\";}#sk-container-id-8 div.sk-estimator input.sk-toggleable__control:checked~label.sk-toggleable__label {background-color: #d4ebff;}#sk-container-id-8 div.sk-label input.sk-toggleable__control:checked~label.sk-toggleable__label {background-color: #d4ebff;}#sk-container-id-8 input.sk-hidden--visually {border: 0;clip: rect(1px 1px 1px 1px);clip: rect(1px, 1px, 1px, 1px);height: 1px;margin: -1px;overflow: hidden;padding: 0;position: absolute;width: 1px;}#sk-container-id-8 div.sk-estimator {font-family: monospace;background-color: #f0f8ff;border: 1px dotted black;border-radius: 0.25em;box-sizing: border-box;margin-bottom: 0.5em;}#sk-container-id-8 div.sk-estimator:hover {background-color: #d4ebff;}#sk-container-id-8 div.sk-parallel-item::after {content: \"\";width: 100%;border-bottom: 1px solid gray;flex-grow: 1;}#sk-container-id-8 div.sk-label:hover label.sk-toggleable__label {background-color: #d4ebff;}#sk-container-id-8 div.sk-serial::before {content: \"\";position: absolute;border-left: 1px solid gray;box-sizing: border-box;top: 0;bottom: 0;left: 50%;z-index: 0;}#sk-container-id-8 div.sk-serial {display: flex;flex-direction: column;align-items: center;background-color: white;padding-right: 0.2em;padding-left: 0.2em;position: relative;}#sk-container-id-8 div.sk-item {position: relative;z-index: 1;}#sk-container-id-8 div.sk-parallel {display: flex;align-items: stretch;justify-content: center;background-color: white;position: relative;}#sk-container-id-8 div.sk-item::before, #sk-container-id-8 div.sk-parallel-item::before {content: \"\";position: absolute;border-left: 1px solid gray;box-sizing: border-box;top: 0;bottom: 0;left: 50%;z-index: -1;}#sk-container-id-8 div.sk-parallel-item {display: flex;flex-direction: column;z-index: 1;position: relative;background-color: white;}#sk-container-id-8 div.sk-parallel-item:first-child::after {align-self: flex-end;width: 50%;}#sk-container-id-8 div.sk-parallel-item:last-child::after {align-self: flex-start;width: 50%;}#sk-container-id-8 div.sk-parallel-item:only-child::after {width: 0;}#sk-container-id-8 div.sk-dashed-wrapped {border: 1px dashed gray;margin: 0 0.4em 0.5em 0.4em;box-sizing: border-box;padding-bottom: 0.4em;background-color: white;}#sk-container-id-8 div.sk-label label {font-family: monospace;font-weight: bold;display: inline-block;line-height: 1.2em;}#sk-container-id-8 div.sk-label-container {text-align: center;}#sk-container-id-8 div.sk-container {/* jupyter's `normalize.less` sets `[hidden] { display: none; }` but bootstrap.min.css set `[hidden] { display: none !important; }` so we also need the `!important` here to be able to override the default hidden behavior on the sphinx rendered scikit-learn.org. See: https://github.com/scikit-learn/scikit-learn/issues/21755 */display: inline-block !important;position: relative;}#sk-container-id-8 div.sk-text-repr-fallback {display: none;}</style><div id=\"sk-container-id-8\" class=\"sk-top-container\"><div class=\"sk-text-repr-fallback\"><pre>Pipeline(steps=[(&#x27;columntransformer&#x27;,\n",
       "                 ColumnTransformer(n_jobs=-1,\n",
       "                                   transformers=[(&#x27;impute&#x27;,\n",
       "                                                  SimpleImputer(strategy=&#x27;most_frequent&#x27;),\n",
       "                                                  [&#x27;Age&#x27;]),\n",
       "                                                 (&#x27;ord_pipeline&#x27;,\n",
       "                                                  Pipeline(steps=[(&#x27;impute&#x27;,\n",
       "                                                                   SimpleImputer(strategy=&#x27;most_frequent&#x27;)),\n",
       "                                                                  (&#x27;ord&#x27;,\n",
       "                                                                   OrdinalEncoder(handle_unknown=&#x27;use_encoded_value&#x27;,\n",
       "                                                                                  unknown_value=-1))]),\n",
       "                                                  [&#x27;family_size_grouped&#x27;]),\n",
       "                                                 (&#x27;ohe_pipeline&#x27;,\n",
       "                                                  Pipeline(s...\n",
       "                 GridSearchCV(cv=StratifiedKFold(n_splits=5, random_state=None, shuffle=False),\n",
       "                              estimator=AdaBoostClassifier(),\n",
       "                              param_grid={&#x27;algorithm&#x27;: [&#x27;SAMME&#x27;, &#x27;SAMME.R&#x27;],\n",
       "                                          &#x27;estimator&#x27;: [DecisionTreeClassifier(criterion=&#x27;entropy&#x27;,\n",
       "                                                                               max_depth=10,\n",
       "                                                                               min_samples_leaf=4,\n",
       "                                                                               min_samples_split=10),\n",
       "                                                        SVC(C=10,\n",
       "                                                            probability=True),\n",
       "                                                        LogisticRegression(C=0.1)],\n",
       "                                          &#x27;learning_rate&#x27;: [0.98, 0.99, 1.0,\n",
       "                                                            1.01, 1.02, 1.03],\n",
       "                                          &#x27;n_estimators&#x27;: [5, 10, 25, 50,\n",
       "                                                           100]}))])</pre><b>In a Jupyter environment, please rerun this cell to show the HTML representation or trust the notebook. <br />On GitHub, the HTML representation is unable to render, please try loading this page with nbviewer.org.</b></div><div class=\"sk-container\" hidden><div class=\"sk-item sk-dashed-wrapped\"><div class=\"sk-label-container\"><div class=\"sk-label sk-toggleable\"><input class=\"sk-toggleable__control sk-hidden--visually\" id=\"sk-estimator-id-106\" type=\"checkbox\" ><label for=\"sk-estimator-id-106\" class=\"sk-toggleable__label sk-toggleable__label-arrow\">Pipeline</label><div class=\"sk-toggleable__content\"><pre>Pipeline(steps=[(&#x27;columntransformer&#x27;,\n",
       "                 ColumnTransformer(n_jobs=-1,\n",
       "                                   transformers=[(&#x27;impute&#x27;,\n",
       "                                                  SimpleImputer(strategy=&#x27;most_frequent&#x27;),\n",
       "                                                  [&#x27;Age&#x27;]),\n",
       "                                                 (&#x27;ord_pipeline&#x27;,\n",
       "                                                  Pipeline(steps=[(&#x27;impute&#x27;,\n",
       "                                                                   SimpleImputer(strategy=&#x27;most_frequent&#x27;)),\n",
       "                                                                  (&#x27;ord&#x27;,\n",
       "                                                                   OrdinalEncoder(handle_unknown=&#x27;use_encoded_value&#x27;,\n",
       "                                                                                  unknown_value=-1))]),\n",
       "                                                  [&#x27;family_size_grouped&#x27;]),\n",
       "                                                 (&#x27;ohe_pipeline&#x27;,\n",
       "                                                  Pipeline(s...\n",
       "                 GridSearchCV(cv=StratifiedKFold(n_splits=5, random_state=None, shuffle=False),\n",
       "                              estimator=AdaBoostClassifier(),\n",
       "                              param_grid={&#x27;algorithm&#x27;: [&#x27;SAMME&#x27;, &#x27;SAMME.R&#x27;],\n",
       "                                          &#x27;estimator&#x27;: [DecisionTreeClassifier(criterion=&#x27;entropy&#x27;,\n",
       "                                                                               max_depth=10,\n",
       "                                                                               min_samples_leaf=4,\n",
       "                                                                               min_samples_split=10),\n",
       "                                                        SVC(C=10,\n",
       "                                                            probability=True),\n",
       "                                                        LogisticRegression(C=0.1)],\n",
       "                                          &#x27;learning_rate&#x27;: [0.98, 0.99, 1.0,\n",
       "                                                            1.01, 1.02, 1.03],\n",
       "                                          &#x27;n_estimators&#x27;: [5, 10, 25, 50,\n",
       "                                                           100]}))])</pre></div></div></div><div class=\"sk-serial\"><div class=\"sk-item sk-dashed-wrapped\"><div class=\"sk-label-container\"><div class=\"sk-label sk-toggleable\"><input class=\"sk-toggleable__control sk-hidden--visually\" id=\"sk-estimator-id-107\" type=\"checkbox\" ><label for=\"sk-estimator-id-107\" class=\"sk-toggleable__label sk-toggleable__label-arrow\">columntransformer: ColumnTransformer</label><div class=\"sk-toggleable__content\"><pre>ColumnTransformer(n_jobs=-1,\n",
       "                  transformers=[(&#x27;impute&#x27;,\n",
       "                                 SimpleImputer(strategy=&#x27;most_frequent&#x27;),\n",
       "                                 [&#x27;Age&#x27;]),\n",
       "                                (&#x27;ord_pipeline&#x27;,\n",
       "                                 Pipeline(steps=[(&#x27;impute&#x27;,\n",
       "                                                  SimpleImputer(strategy=&#x27;most_frequent&#x27;)),\n",
       "                                                 (&#x27;ord&#x27;,\n",
       "                                                  OrdinalEncoder(handle_unknown=&#x27;use_encoded_value&#x27;,\n",
       "                                                                 unknown_value=-1))]),\n",
       "                                 [&#x27;family_size_grouped&#x27;]),\n",
       "                                (&#x27;ohe_pipeline&#x27;,\n",
       "                                 Pipeline(steps=[(&#x27;impute&#x27;,\n",
       "                                                  SimpleImputer(strategy=&#x27;most_frequent&#x27;)),\n",
       "                                                 (&#x27;one-hot&#x27;,\n",
       "                                                  OneHotEncoder(handle_unknown=&#x27;ignore&#x27;,\n",
       "                                                                sparse_output=False))]),\n",
       "                                 [&#x27;Sex&#x27;, &#x27;Embarked&#x27;]),\n",
       "                                (&#x27;passthrough&#x27;, &#x27;passthrough&#x27;,\n",
       "                                 [&#x27;Pclass&#x27;, &#x27;Cabin_Assigned&#x27;, &#x27;Name_Size&#x27;,\n",
       "                                  &#x27;Age&#x27;, &#x27;Fare&#x27;, &#x27;ticket_number_count&#x27;])])</pre></div></div></div><div class=\"sk-parallel\"><div class=\"sk-parallel-item\"><div class=\"sk-item\"><div class=\"sk-label-container\"><div class=\"sk-label sk-toggleable\"><input class=\"sk-toggleable__control sk-hidden--visually\" id=\"sk-estimator-id-108\" type=\"checkbox\" ><label for=\"sk-estimator-id-108\" class=\"sk-toggleable__label sk-toggleable__label-arrow\">impute</label><div class=\"sk-toggleable__content\"><pre>[&#x27;Age&#x27;]</pre></div></div></div><div class=\"sk-serial\"><div class=\"sk-item\"><div class=\"sk-estimator sk-toggleable\"><input class=\"sk-toggleable__control sk-hidden--visually\" id=\"sk-estimator-id-109\" type=\"checkbox\" ><label for=\"sk-estimator-id-109\" class=\"sk-toggleable__label sk-toggleable__label-arrow\">SimpleImputer</label><div class=\"sk-toggleable__content\"><pre>SimpleImputer(strategy=&#x27;most_frequent&#x27;)</pre></div></div></div></div></div></div><div class=\"sk-parallel-item\"><div class=\"sk-item\"><div class=\"sk-label-container\"><div class=\"sk-label sk-toggleable\"><input class=\"sk-toggleable__control sk-hidden--visually\" id=\"sk-estimator-id-110\" type=\"checkbox\" ><label for=\"sk-estimator-id-110\" class=\"sk-toggleable__label sk-toggleable__label-arrow\">ord_pipeline</label><div class=\"sk-toggleable__content\"><pre>[&#x27;family_size_grouped&#x27;]</pre></div></div></div><div class=\"sk-serial\"><div class=\"sk-item\"><div class=\"sk-serial\"><div class=\"sk-item\"><div class=\"sk-estimator sk-toggleable\"><input class=\"sk-toggleable__control sk-hidden--visually\" id=\"sk-estimator-id-111\" type=\"checkbox\" ><label for=\"sk-estimator-id-111\" class=\"sk-toggleable__label sk-toggleable__label-arrow\">SimpleImputer</label><div class=\"sk-toggleable__content\"><pre>SimpleImputer(strategy=&#x27;most_frequent&#x27;)</pre></div></div></div><div class=\"sk-item\"><div class=\"sk-estimator sk-toggleable\"><input class=\"sk-toggleable__control sk-hidden--visually\" id=\"sk-estimator-id-112\" type=\"checkbox\" ><label for=\"sk-estimator-id-112\" class=\"sk-toggleable__label sk-toggleable__label-arrow\">OrdinalEncoder</label><div class=\"sk-toggleable__content\"><pre>OrdinalEncoder(handle_unknown=&#x27;use_encoded_value&#x27;, unknown_value=-1)</pre></div></div></div></div></div></div></div></div><div class=\"sk-parallel-item\"><div class=\"sk-item\"><div class=\"sk-label-container\"><div class=\"sk-label sk-toggleable\"><input class=\"sk-toggleable__control sk-hidden--visually\" id=\"sk-estimator-id-113\" type=\"checkbox\" ><label for=\"sk-estimator-id-113\" class=\"sk-toggleable__label sk-toggleable__label-arrow\">ohe_pipeline</label><div class=\"sk-toggleable__content\"><pre>[&#x27;Sex&#x27;, &#x27;Embarked&#x27;]</pre></div></div></div><div class=\"sk-serial\"><div class=\"sk-item\"><div class=\"sk-serial\"><div class=\"sk-item\"><div class=\"sk-estimator sk-toggleable\"><input class=\"sk-toggleable__control sk-hidden--visually\" id=\"sk-estimator-id-114\" type=\"checkbox\" ><label for=\"sk-estimator-id-114\" class=\"sk-toggleable__label sk-toggleable__label-arrow\">SimpleImputer</label><div class=\"sk-toggleable__content\"><pre>SimpleImputer(strategy=&#x27;most_frequent&#x27;)</pre></div></div></div><div class=\"sk-item\"><div class=\"sk-estimator sk-toggleable\"><input class=\"sk-toggleable__control sk-hidden--visually\" id=\"sk-estimator-id-115\" type=\"checkbox\" ><label for=\"sk-estimator-id-115\" class=\"sk-toggleable__label sk-toggleable__label-arrow\">OneHotEncoder</label><div class=\"sk-toggleable__content\"><pre>OneHotEncoder(handle_unknown=&#x27;ignore&#x27;, sparse_output=False)</pre></div></div></div></div></div></div></div></div><div class=\"sk-parallel-item\"><div class=\"sk-item\"><div class=\"sk-label-container\"><div class=\"sk-label sk-toggleable\"><input class=\"sk-toggleable__control sk-hidden--visually\" id=\"sk-estimator-id-116\" type=\"checkbox\" ><label for=\"sk-estimator-id-116\" class=\"sk-toggleable__label sk-toggleable__label-arrow\">passthrough</label><div class=\"sk-toggleable__content\"><pre>[&#x27;Pclass&#x27;, &#x27;Cabin_Assigned&#x27;, &#x27;Name_Size&#x27;, &#x27;Age&#x27;, &#x27;Fare&#x27;, &#x27;ticket_number_count&#x27;]</pre></div></div></div><div class=\"sk-serial\"><div class=\"sk-item\"><div class=\"sk-estimator sk-toggleable\"><input class=\"sk-toggleable__control sk-hidden--visually\" id=\"sk-estimator-id-117\" type=\"checkbox\" ><label for=\"sk-estimator-id-117\" class=\"sk-toggleable__label sk-toggleable__label-arrow\">passthrough</label><div class=\"sk-toggleable__content\"><pre>passthrough</pre></div></div></div></div></div></div></div></div><div class=\"sk-item sk-dashed-wrapped\"><div class=\"sk-label-container\"><div class=\"sk-label sk-toggleable\"><input class=\"sk-toggleable__control sk-hidden--visually\" id=\"sk-estimator-id-118\" type=\"checkbox\" ><label for=\"sk-estimator-id-118\" class=\"sk-toggleable__label sk-toggleable__label-arrow\">gridsearchcv: GridSearchCV</label><div class=\"sk-toggleable__content\"><pre>GridSearchCV(cv=StratifiedKFold(n_splits=5, random_state=None, shuffle=False),\n",
       "             estimator=AdaBoostClassifier(),\n",
       "             param_grid={&#x27;algorithm&#x27;: [&#x27;SAMME&#x27;, &#x27;SAMME.R&#x27;],\n",
       "                         &#x27;estimator&#x27;: [DecisionTreeClassifier(criterion=&#x27;entropy&#x27;,\n",
       "                                                              max_depth=10,\n",
       "                                                              min_samples_leaf=4,\n",
       "                                                              min_samples_split=10),\n",
       "                                       SVC(C=10, probability=True),\n",
       "                                       LogisticRegression(C=0.1)],\n",
       "                         &#x27;learning_rate&#x27;: [0.98, 0.99, 1.0, 1.01, 1.02, 1.03],\n",
       "                         &#x27;n_estimators&#x27;: [5, 10, 25, 50, 100]})</pre></div></div></div><div class=\"sk-parallel\"><div class=\"sk-parallel-item\"><div class=\"sk-item\"><div class=\"sk-label-container\"><div class=\"sk-label sk-toggleable\"><input class=\"sk-toggleable__control sk-hidden--visually\" id=\"sk-estimator-id-119\" type=\"checkbox\" ><label for=\"sk-estimator-id-119\" class=\"sk-toggleable__label sk-toggleable__label-arrow\">estimator: AdaBoostClassifier</label><div class=\"sk-toggleable__content\"><pre>AdaBoostClassifier()</pre></div></div></div><div class=\"sk-serial\"><div class=\"sk-item\"><div class=\"sk-estimator sk-toggleable\"><input class=\"sk-toggleable__control sk-hidden--visually\" id=\"sk-estimator-id-120\" type=\"checkbox\" ><label for=\"sk-estimator-id-120\" class=\"sk-toggleable__label sk-toggleable__label-arrow\">AdaBoostClassifier</label><div class=\"sk-toggleable__content\"><pre>AdaBoostClassifier()</pre></div></div></div></div></div></div></div></div></div></div></div></div>"
      ],
      "text/plain": [
       "Pipeline(steps=[('columntransformer',\n",
       "                 ColumnTransformer(n_jobs=-1,\n",
       "                                   transformers=[('impute',\n",
       "                                                  SimpleImputer(strategy='most_frequent'),\n",
       "                                                  ['Age']),\n",
       "                                                 ('ord_pipeline',\n",
       "                                                  Pipeline(steps=[('impute',\n",
       "                                                                   SimpleImputer(strategy='most_frequent')),\n",
       "                                                                  ('ord',\n",
       "                                                                   OrdinalEncoder(handle_unknown='use_encoded_value',\n",
       "                                                                                  unknown_value=-1))]),\n",
       "                                                  ['family_size_grouped']),\n",
       "                                                 ('ohe_pipeline',\n",
       "                                                  Pipeline(s...\n",
       "                 GridSearchCV(cv=StratifiedKFold(n_splits=5, random_state=None, shuffle=False),\n",
       "                              estimator=AdaBoostClassifier(),\n",
       "                              param_grid={'algorithm': ['SAMME', 'SAMME.R'],\n",
       "                                          'estimator': [DecisionTreeClassifier(criterion='entropy',\n",
       "                                                                               max_depth=10,\n",
       "                                                                               min_samples_leaf=4,\n",
       "                                                                               min_samples_split=10),\n",
       "                                                        SVC(C=10,\n",
       "                                                            probability=True),\n",
       "                                                        LogisticRegression(C=0.1)],\n",
       "                                          'learning_rate': [0.98, 0.99, 1.0,\n",
       "                                                            1.01, 1.02, 1.03],\n",
       "                                          'n_estimators': [5, 10, 25, 50,\n",
       "                                                           100]}))])"
      ]
     },
     "execution_count": 113,
     "metadata": {},
     "output_type": "execute_result"
    }
   ],
   "source": [
    "pipefinalabc= make_pipeline(col_trans, CV_abc)\n",
    "pipefinalabc.fit(X_train, y_train)"
   ]
  },
  {
   "cell_type": "code",
   "execution_count": 114,
   "id": "6722380f",
   "metadata": {
    "execution": {
     "iopub.execute_input": "2024-07-06T15:39:56.781396Z",
     "iopub.status.busy": "2024-07-06T15:39:56.781000Z",
     "iopub.status.idle": "2024-07-06T15:39:56.787447Z",
     "shell.execute_reply": "2024-07-06T15:39:56.786235Z"
    },
    "papermill": {
     "duration": 0.054556,
     "end_time": "2024-07-06T15:39:56.789637",
     "exception": false,
     "start_time": "2024-07-06T15:39:56.735081",
     "status": "completed"
    },
    "tags": []
   },
   "outputs": [
    {
     "name": "stdout",
     "output_type": "stream",
     "text": [
      "{'algorithm': 'SAMME.R', 'estimator': DecisionTreeClassifier(criterion='entropy', max_depth=10, min_samples_leaf=4,\n",
      "                       min_samples_split=10), 'learning_rate': 0.99, 'n_estimators': 50}\n",
      "0.8019895597360387\n"
     ]
    }
   ],
   "source": [
    "print(CV_abc.best_params_)\n",
    "print(CV_abc.best_score_)"
   ]
  },
  {
   "cell_type": "code",
   "execution_count": 115,
   "id": "d57d6924",
   "metadata": {
    "execution": {
     "iopub.execute_input": "2024-07-06T15:39:56.880646Z",
     "iopub.status.busy": "2024-07-06T15:39:56.879306Z",
     "iopub.status.idle": "2024-07-06T15:39:56.884597Z",
     "shell.execute_reply": "2024-07-06T15:39:56.883571Z"
    },
    "papermill": {
     "duration": 0.053206,
     "end_time": "2024-07-06T15:39:56.886846",
     "exception": false,
     "start_time": "2024-07-06T15:39:56.833640",
     "status": "completed"
    },
    "tags": []
   },
   "outputs": [],
   "source": [
    "etc = ExtraTreesClassifier()"
   ]
  },
  {
   "cell_type": "code",
   "execution_count": 116,
   "id": "0f996183",
   "metadata": {
    "execution": {
     "iopub.execute_input": "2024-07-06T15:39:56.976653Z",
     "iopub.status.busy": "2024-07-06T15:39:56.975583Z",
     "iopub.status.idle": "2024-07-06T15:39:56.981111Z",
     "shell.execute_reply": "2024-07-06T15:39:56.979991Z"
    },
    "papermill": {
     "duration": 0.052474,
     "end_time": "2024-07-06T15:39:56.983240",
     "exception": false,
     "start_time": "2024-07-06T15:39:56.930766",
     "status": "completed"
    },
    "tags": []
   },
   "outputs": [],
   "source": [
    "param_grid = {\n",
    "              \"max_features\": [1, 3, 10],\n",
    "              \"min_samples_split\": [2, 3, 10],\n",
    "              \"min_samples_leaf\": [1, 3, 10],\n",
    "              \"n_estimators\" :[100,300],\n",
    "}"
   ]
  },
  {
   "cell_type": "code",
   "execution_count": 117,
   "id": "e8b5ffee",
   "metadata": {
    "execution": {
     "iopub.execute_input": "2024-07-06T15:39:57.072632Z",
     "iopub.status.busy": "2024-07-06T15:39:57.071876Z",
     "iopub.status.idle": "2024-07-06T15:39:57.077024Z",
     "shell.execute_reply": "2024-07-06T15:39:57.076025Z"
    },
    "papermill": {
     "duration": 0.052573,
     "end_time": "2024-07-06T15:39:57.079361",
     "exception": false,
     "start_time": "2024-07-06T15:39:57.026788",
     "status": "completed"
    },
    "tags": []
   },
   "outputs": [],
   "source": [
    "CV_etc = GridSearchCV(estimator=etc, param_grid=param_grid, cv=StratifiedKFold(n_splits=5))"
   ]
  },
  {
   "cell_type": "code",
   "execution_count": 118,
   "id": "b7528a49",
   "metadata": {
    "execution": {
     "iopub.execute_input": "2024-07-06T15:39:57.168717Z",
     "iopub.status.busy": "2024-07-06T15:39:57.168324Z",
     "iopub.status.idle": "2024-07-06T15:41:24.820416Z",
     "shell.execute_reply": "2024-07-06T15:41:24.819152Z"
    },
    "papermill": {
     "duration": 87.74429,
     "end_time": "2024-07-06T15:41:24.867708",
     "exception": false,
     "start_time": "2024-07-06T15:39:57.123418",
     "status": "completed"
    },
    "tags": []
   },
   "outputs": [
    {
     "data": {
      "text/html": [
       "<style>#sk-container-id-9 {color: black;background-color: white;}#sk-container-id-9 pre{padding: 0;}#sk-container-id-9 div.sk-toggleable {background-color: white;}#sk-container-id-9 label.sk-toggleable__label {cursor: pointer;display: block;width: 100%;margin-bottom: 0;padding: 0.3em;box-sizing: border-box;text-align: center;}#sk-container-id-9 label.sk-toggleable__label-arrow:before {content: \"▸\";float: left;margin-right: 0.25em;color: #696969;}#sk-container-id-9 label.sk-toggleable__label-arrow:hover:before {color: black;}#sk-container-id-9 div.sk-estimator:hover label.sk-toggleable__label-arrow:before {color: black;}#sk-container-id-9 div.sk-toggleable__content {max-height: 0;max-width: 0;overflow: hidden;text-align: left;background-color: #f0f8ff;}#sk-container-id-9 div.sk-toggleable__content pre {margin: 0.2em;color: black;border-radius: 0.25em;background-color: #f0f8ff;}#sk-container-id-9 input.sk-toggleable__control:checked~div.sk-toggleable__content {max-height: 200px;max-width: 100%;overflow: auto;}#sk-container-id-9 input.sk-toggleable__control:checked~label.sk-toggleable__label-arrow:before {content: \"▾\";}#sk-container-id-9 div.sk-estimator input.sk-toggleable__control:checked~label.sk-toggleable__label {background-color: #d4ebff;}#sk-container-id-9 div.sk-label input.sk-toggleable__control:checked~label.sk-toggleable__label {background-color: #d4ebff;}#sk-container-id-9 input.sk-hidden--visually {border: 0;clip: rect(1px 1px 1px 1px);clip: rect(1px, 1px, 1px, 1px);height: 1px;margin: -1px;overflow: hidden;padding: 0;position: absolute;width: 1px;}#sk-container-id-9 div.sk-estimator {font-family: monospace;background-color: #f0f8ff;border: 1px dotted black;border-radius: 0.25em;box-sizing: border-box;margin-bottom: 0.5em;}#sk-container-id-9 div.sk-estimator:hover {background-color: #d4ebff;}#sk-container-id-9 div.sk-parallel-item::after {content: \"\";width: 100%;border-bottom: 1px solid gray;flex-grow: 1;}#sk-container-id-9 div.sk-label:hover label.sk-toggleable__label {background-color: #d4ebff;}#sk-container-id-9 div.sk-serial::before {content: \"\";position: absolute;border-left: 1px solid gray;box-sizing: border-box;top: 0;bottom: 0;left: 50%;z-index: 0;}#sk-container-id-9 div.sk-serial {display: flex;flex-direction: column;align-items: center;background-color: white;padding-right: 0.2em;padding-left: 0.2em;position: relative;}#sk-container-id-9 div.sk-item {position: relative;z-index: 1;}#sk-container-id-9 div.sk-parallel {display: flex;align-items: stretch;justify-content: center;background-color: white;position: relative;}#sk-container-id-9 div.sk-item::before, #sk-container-id-9 div.sk-parallel-item::before {content: \"\";position: absolute;border-left: 1px solid gray;box-sizing: border-box;top: 0;bottom: 0;left: 50%;z-index: -1;}#sk-container-id-9 div.sk-parallel-item {display: flex;flex-direction: column;z-index: 1;position: relative;background-color: white;}#sk-container-id-9 div.sk-parallel-item:first-child::after {align-self: flex-end;width: 50%;}#sk-container-id-9 div.sk-parallel-item:last-child::after {align-self: flex-start;width: 50%;}#sk-container-id-9 div.sk-parallel-item:only-child::after {width: 0;}#sk-container-id-9 div.sk-dashed-wrapped {border: 1px dashed gray;margin: 0 0.4em 0.5em 0.4em;box-sizing: border-box;padding-bottom: 0.4em;background-color: white;}#sk-container-id-9 div.sk-label label {font-family: monospace;font-weight: bold;display: inline-block;line-height: 1.2em;}#sk-container-id-9 div.sk-label-container {text-align: center;}#sk-container-id-9 div.sk-container {/* jupyter's `normalize.less` sets `[hidden] { display: none; }` but bootstrap.min.css set `[hidden] { display: none !important; }` so we also need the `!important` here to be able to override the default hidden behavior on the sphinx rendered scikit-learn.org. See: https://github.com/scikit-learn/scikit-learn/issues/21755 */display: inline-block !important;position: relative;}#sk-container-id-9 div.sk-text-repr-fallback {display: none;}</style><div id=\"sk-container-id-9\" class=\"sk-top-container\"><div class=\"sk-text-repr-fallback\"><pre>Pipeline(steps=[(&#x27;columntransformer&#x27;,\n",
       "                 ColumnTransformer(n_jobs=-1,\n",
       "                                   transformers=[(&#x27;impute&#x27;,\n",
       "                                                  SimpleImputer(strategy=&#x27;most_frequent&#x27;),\n",
       "                                                  [&#x27;Age&#x27;]),\n",
       "                                                 (&#x27;ord_pipeline&#x27;,\n",
       "                                                  Pipeline(steps=[(&#x27;impute&#x27;,\n",
       "                                                                   SimpleImputer(strategy=&#x27;most_frequent&#x27;)),\n",
       "                                                                  (&#x27;ord&#x27;,\n",
       "                                                                   OrdinalEncoder(handle_unknown=&#x27;use_encoded_value&#x27;,\n",
       "                                                                                  unknown_value=-1))]),\n",
       "                                                  [&#x27;family_size_grouped&#x27;]),\n",
       "                                                 (&#x27;ohe_pipeline&#x27;,\n",
       "                                                  Pipeline(s...\n",
       "                                                 (&#x27;passthrough&#x27;, &#x27;passthrough&#x27;,\n",
       "                                                  [&#x27;Pclass&#x27;, &#x27;Cabin_Assigned&#x27;,\n",
       "                                                   &#x27;Name_Size&#x27;, &#x27;Age&#x27;, &#x27;Fare&#x27;,\n",
       "                                                   &#x27;ticket_number_count&#x27;])])),\n",
       "                (&#x27;gridsearchcv&#x27;,\n",
       "                 GridSearchCV(cv=StratifiedKFold(n_splits=5, random_state=None, shuffle=False),\n",
       "                              estimator=ExtraTreesClassifier(),\n",
       "                              param_grid={&#x27;max_features&#x27;: [1, 3, 10],\n",
       "                                          &#x27;min_samples_leaf&#x27;: [1, 3, 10],\n",
       "                                          &#x27;min_samples_split&#x27;: [2, 3, 10],\n",
       "                                          &#x27;n_estimators&#x27;: [100, 300]}))])</pre><b>In a Jupyter environment, please rerun this cell to show the HTML representation or trust the notebook. <br />On GitHub, the HTML representation is unable to render, please try loading this page with nbviewer.org.</b></div><div class=\"sk-container\" hidden><div class=\"sk-item sk-dashed-wrapped\"><div class=\"sk-label-container\"><div class=\"sk-label sk-toggleable\"><input class=\"sk-toggleable__control sk-hidden--visually\" id=\"sk-estimator-id-121\" type=\"checkbox\" ><label for=\"sk-estimator-id-121\" class=\"sk-toggleable__label sk-toggleable__label-arrow\">Pipeline</label><div class=\"sk-toggleable__content\"><pre>Pipeline(steps=[(&#x27;columntransformer&#x27;,\n",
       "                 ColumnTransformer(n_jobs=-1,\n",
       "                                   transformers=[(&#x27;impute&#x27;,\n",
       "                                                  SimpleImputer(strategy=&#x27;most_frequent&#x27;),\n",
       "                                                  [&#x27;Age&#x27;]),\n",
       "                                                 (&#x27;ord_pipeline&#x27;,\n",
       "                                                  Pipeline(steps=[(&#x27;impute&#x27;,\n",
       "                                                                   SimpleImputer(strategy=&#x27;most_frequent&#x27;)),\n",
       "                                                                  (&#x27;ord&#x27;,\n",
       "                                                                   OrdinalEncoder(handle_unknown=&#x27;use_encoded_value&#x27;,\n",
       "                                                                                  unknown_value=-1))]),\n",
       "                                                  [&#x27;family_size_grouped&#x27;]),\n",
       "                                                 (&#x27;ohe_pipeline&#x27;,\n",
       "                                                  Pipeline(s...\n",
       "                                                 (&#x27;passthrough&#x27;, &#x27;passthrough&#x27;,\n",
       "                                                  [&#x27;Pclass&#x27;, &#x27;Cabin_Assigned&#x27;,\n",
       "                                                   &#x27;Name_Size&#x27;, &#x27;Age&#x27;, &#x27;Fare&#x27;,\n",
       "                                                   &#x27;ticket_number_count&#x27;])])),\n",
       "                (&#x27;gridsearchcv&#x27;,\n",
       "                 GridSearchCV(cv=StratifiedKFold(n_splits=5, random_state=None, shuffle=False),\n",
       "                              estimator=ExtraTreesClassifier(),\n",
       "                              param_grid={&#x27;max_features&#x27;: [1, 3, 10],\n",
       "                                          &#x27;min_samples_leaf&#x27;: [1, 3, 10],\n",
       "                                          &#x27;min_samples_split&#x27;: [2, 3, 10],\n",
       "                                          &#x27;n_estimators&#x27;: [100, 300]}))])</pre></div></div></div><div class=\"sk-serial\"><div class=\"sk-item sk-dashed-wrapped\"><div class=\"sk-label-container\"><div class=\"sk-label sk-toggleable\"><input class=\"sk-toggleable__control sk-hidden--visually\" id=\"sk-estimator-id-122\" type=\"checkbox\" ><label for=\"sk-estimator-id-122\" class=\"sk-toggleable__label sk-toggleable__label-arrow\">columntransformer: ColumnTransformer</label><div class=\"sk-toggleable__content\"><pre>ColumnTransformer(n_jobs=-1,\n",
       "                  transformers=[(&#x27;impute&#x27;,\n",
       "                                 SimpleImputer(strategy=&#x27;most_frequent&#x27;),\n",
       "                                 [&#x27;Age&#x27;]),\n",
       "                                (&#x27;ord_pipeline&#x27;,\n",
       "                                 Pipeline(steps=[(&#x27;impute&#x27;,\n",
       "                                                  SimpleImputer(strategy=&#x27;most_frequent&#x27;)),\n",
       "                                                 (&#x27;ord&#x27;,\n",
       "                                                  OrdinalEncoder(handle_unknown=&#x27;use_encoded_value&#x27;,\n",
       "                                                                 unknown_value=-1))]),\n",
       "                                 [&#x27;family_size_grouped&#x27;]),\n",
       "                                (&#x27;ohe_pipeline&#x27;,\n",
       "                                 Pipeline(steps=[(&#x27;impute&#x27;,\n",
       "                                                  SimpleImputer(strategy=&#x27;most_frequent&#x27;)),\n",
       "                                                 (&#x27;one-hot&#x27;,\n",
       "                                                  OneHotEncoder(handle_unknown=&#x27;ignore&#x27;,\n",
       "                                                                sparse_output=False))]),\n",
       "                                 [&#x27;Sex&#x27;, &#x27;Embarked&#x27;]),\n",
       "                                (&#x27;passthrough&#x27;, &#x27;passthrough&#x27;,\n",
       "                                 [&#x27;Pclass&#x27;, &#x27;Cabin_Assigned&#x27;, &#x27;Name_Size&#x27;,\n",
       "                                  &#x27;Age&#x27;, &#x27;Fare&#x27;, &#x27;ticket_number_count&#x27;])])</pre></div></div></div><div class=\"sk-parallel\"><div class=\"sk-parallel-item\"><div class=\"sk-item\"><div class=\"sk-label-container\"><div class=\"sk-label sk-toggleable\"><input class=\"sk-toggleable__control sk-hidden--visually\" id=\"sk-estimator-id-123\" type=\"checkbox\" ><label for=\"sk-estimator-id-123\" class=\"sk-toggleable__label sk-toggleable__label-arrow\">impute</label><div class=\"sk-toggleable__content\"><pre>[&#x27;Age&#x27;]</pre></div></div></div><div class=\"sk-serial\"><div class=\"sk-item\"><div class=\"sk-estimator sk-toggleable\"><input class=\"sk-toggleable__control sk-hidden--visually\" id=\"sk-estimator-id-124\" type=\"checkbox\" ><label for=\"sk-estimator-id-124\" class=\"sk-toggleable__label sk-toggleable__label-arrow\">SimpleImputer</label><div class=\"sk-toggleable__content\"><pre>SimpleImputer(strategy=&#x27;most_frequent&#x27;)</pre></div></div></div></div></div></div><div class=\"sk-parallel-item\"><div class=\"sk-item\"><div class=\"sk-label-container\"><div class=\"sk-label sk-toggleable\"><input class=\"sk-toggleable__control sk-hidden--visually\" id=\"sk-estimator-id-125\" type=\"checkbox\" ><label for=\"sk-estimator-id-125\" class=\"sk-toggleable__label sk-toggleable__label-arrow\">ord_pipeline</label><div class=\"sk-toggleable__content\"><pre>[&#x27;family_size_grouped&#x27;]</pre></div></div></div><div class=\"sk-serial\"><div class=\"sk-item\"><div class=\"sk-serial\"><div class=\"sk-item\"><div class=\"sk-estimator sk-toggleable\"><input class=\"sk-toggleable__control sk-hidden--visually\" id=\"sk-estimator-id-126\" type=\"checkbox\" ><label for=\"sk-estimator-id-126\" class=\"sk-toggleable__label sk-toggleable__label-arrow\">SimpleImputer</label><div class=\"sk-toggleable__content\"><pre>SimpleImputer(strategy=&#x27;most_frequent&#x27;)</pre></div></div></div><div class=\"sk-item\"><div class=\"sk-estimator sk-toggleable\"><input class=\"sk-toggleable__control sk-hidden--visually\" id=\"sk-estimator-id-127\" type=\"checkbox\" ><label for=\"sk-estimator-id-127\" class=\"sk-toggleable__label sk-toggleable__label-arrow\">OrdinalEncoder</label><div class=\"sk-toggleable__content\"><pre>OrdinalEncoder(handle_unknown=&#x27;use_encoded_value&#x27;, unknown_value=-1)</pre></div></div></div></div></div></div></div></div><div class=\"sk-parallel-item\"><div class=\"sk-item\"><div class=\"sk-label-container\"><div class=\"sk-label sk-toggleable\"><input class=\"sk-toggleable__control sk-hidden--visually\" id=\"sk-estimator-id-128\" type=\"checkbox\" ><label for=\"sk-estimator-id-128\" class=\"sk-toggleable__label sk-toggleable__label-arrow\">ohe_pipeline</label><div class=\"sk-toggleable__content\"><pre>[&#x27;Sex&#x27;, &#x27;Embarked&#x27;]</pre></div></div></div><div class=\"sk-serial\"><div class=\"sk-item\"><div class=\"sk-serial\"><div class=\"sk-item\"><div class=\"sk-estimator sk-toggleable\"><input class=\"sk-toggleable__control sk-hidden--visually\" id=\"sk-estimator-id-129\" type=\"checkbox\" ><label for=\"sk-estimator-id-129\" class=\"sk-toggleable__label sk-toggleable__label-arrow\">SimpleImputer</label><div class=\"sk-toggleable__content\"><pre>SimpleImputer(strategy=&#x27;most_frequent&#x27;)</pre></div></div></div><div class=\"sk-item\"><div class=\"sk-estimator sk-toggleable\"><input class=\"sk-toggleable__control sk-hidden--visually\" id=\"sk-estimator-id-130\" type=\"checkbox\" ><label for=\"sk-estimator-id-130\" class=\"sk-toggleable__label sk-toggleable__label-arrow\">OneHotEncoder</label><div class=\"sk-toggleable__content\"><pre>OneHotEncoder(handle_unknown=&#x27;ignore&#x27;, sparse_output=False)</pre></div></div></div></div></div></div></div></div><div class=\"sk-parallel-item\"><div class=\"sk-item\"><div class=\"sk-label-container\"><div class=\"sk-label sk-toggleable\"><input class=\"sk-toggleable__control sk-hidden--visually\" id=\"sk-estimator-id-131\" type=\"checkbox\" ><label for=\"sk-estimator-id-131\" class=\"sk-toggleable__label sk-toggleable__label-arrow\">passthrough</label><div class=\"sk-toggleable__content\"><pre>[&#x27;Pclass&#x27;, &#x27;Cabin_Assigned&#x27;, &#x27;Name_Size&#x27;, &#x27;Age&#x27;, &#x27;Fare&#x27;, &#x27;ticket_number_count&#x27;]</pre></div></div></div><div class=\"sk-serial\"><div class=\"sk-item\"><div class=\"sk-estimator sk-toggleable\"><input class=\"sk-toggleable__control sk-hidden--visually\" id=\"sk-estimator-id-132\" type=\"checkbox\" ><label for=\"sk-estimator-id-132\" class=\"sk-toggleable__label sk-toggleable__label-arrow\">passthrough</label><div class=\"sk-toggleable__content\"><pre>passthrough</pre></div></div></div></div></div></div></div></div><div class=\"sk-item sk-dashed-wrapped\"><div class=\"sk-label-container\"><div class=\"sk-label sk-toggleable\"><input class=\"sk-toggleable__control sk-hidden--visually\" id=\"sk-estimator-id-133\" type=\"checkbox\" ><label for=\"sk-estimator-id-133\" class=\"sk-toggleable__label sk-toggleable__label-arrow\">gridsearchcv: GridSearchCV</label><div class=\"sk-toggleable__content\"><pre>GridSearchCV(cv=StratifiedKFold(n_splits=5, random_state=None, shuffle=False),\n",
       "             estimator=ExtraTreesClassifier(),\n",
       "             param_grid={&#x27;max_features&#x27;: [1, 3, 10],\n",
       "                         &#x27;min_samples_leaf&#x27;: [1, 3, 10],\n",
       "                         &#x27;min_samples_split&#x27;: [2, 3, 10],\n",
       "                         &#x27;n_estimators&#x27;: [100, 300]})</pre></div></div></div><div class=\"sk-parallel\"><div class=\"sk-parallel-item\"><div class=\"sk-item\"><div class=\"sk-label-container\"><div class=\"sk-label sk-toggleable\"><input class=\"sk-toggleable__control sk-hidden--visually\" id=\"sk-estimator-id-134\" type=\"checkbox\" ><label for=\"sk-estimator-id-134\" class=\"sk-toggleable__label sk-toggleable__label-arrow\">estimator: ExtraTreesClassifier</label><div class=\"sk-toggleable__content\"><pre>ExtraTreesClassifier()</pre></div></div></div><div class=\"sk-serial\"><div class=\"sk-item\"><div class=\"sk-estimator sk-toggleable\"><input class=\"sk-toggleable__control sk-hidden--visually\" id=\"sk-estimator-id-135\" type=\"checkbox\" ><label for=\"sk-estimator-id-135\" class=\"sk-toggleable__label sk-toggleable__label-arrow\">ExtraTreesClassifier</label><div class=\"sk-toggleable__content\"><pre>ExtraTreesClassifier()</pre></div></div></div></div></div></div></div></div></div></div></div></div>"
      ],
      "text/plain": [
       "Pipeline(steps=[('columntransformer',\n",
       "                 ColumnTransformer(n_jobs=-1,\n",
       "                                   transformers=[('impute',\n",
       "                                                  SimpleImputer(strategy='most_frequent'),\n",
       "                                                  ['Age']),\n",
       "                                                 ('ord_pipeline',\n",
       "                                                  Pipeline(steps=[('impute',\n",
       "                                                                   SimpleImputer(strategy='most_frequent')),\n",
       "                                                                  ('ord',\n",
       "                                                                   OrdinalEncoder(handle_unknown='use_encoded_value',\n",
       "                                                                                  unknown_value=-1))]),\n",
       "                                                  ['family_size_grouped']),\n",
       "                                                 ('ohe_pipeline',\n",
       "                                                  Pipeline(s...\n",
       "                                                 ('passthrough', 'passthrough',\n",
       "                                                  ['Pclass', 'Cabin_Assigned',\n",
       "                                                   'Name_Size', 'Age', 'Fare',\n",
       "                                                   'ticket_number_count'])])),\n",
       "                ('gridsearchcv',\n",
       "                 GridSearchCV(cv=StratifiedKFold(n_splits=5, random_state=None, shuffle=False),\n",
       "                              estimator=ExtraTreesClassifier(),\n",
       "                              param_grid={'max_features': [1, 3, 10],\n",
       "                                          'min_samples_leaf': [1, 3, 10],\n",
       "                                          'min_samples_split': [2, 3, 10],\n",
       "                                          'n_estimators': [100, 300]}))])"
      ]
     },
     "execution_count": 118,
     "metadata": {},
     "output_type": "execute_result"
    }
   ],
   "source": [
    "pipefinaletc= make_pipeline(col_trans, CV_etc)\n",
    "pipefinaletc.fit(X_train, y_train)"
   ]
  },
  {
   "cell_type": "code",
   "execution_count": 119,
   "id": "931926fb",
   "metadata": {
    "execution": {
     "iopub.execute_input": "2024-07-06T15:41:24.959000Z",
     "iopub.status.busy": "2024-07-06T15:41:24.958139Z",
     "iopub.status.idle": "2024-07-06T15:41:24.963577Z",
     "shell.execute_reply": "2024-07-06T15:41:24.962548Z"
    },
    "papermill": {
     "duration": 0.054535,
     "end_time": "2024-07-06T15:41:24.966702",
     "exception": false,
     "start_time": "2024-07-06T15:41:24.912167",
     "status": "completed"
    },
    "tags": []
   },
   "outputs": [
    {
     "name": "stdout",
     "output_type": "stream",
     "text": [
      "{'max_features': 1, 'min_samples_leaf': 3, 'min_samples_split': 3, 'n_estimators': 100}\n",
      "0.8160149709445484\n"
     ]
    }
   ],
   "source": [
    "print(CV_etc.best_params_)\n",
    "print(CV_etc.best_score_)"
   ]
  },
  {
   "cell_type": "code",
   "execution_count": 120,
   "id": "b500241c",
   "metadata": {
    "execution": {
     "iopub.execute_input": "2024-07-06T15:41:25.058474Z",
     "iopub.status.busy": "2024-07-06T15:41:25.058116Z",
     "iopub.status.idle": "2024-07-06T15:41:25.063078Z",
     "shell.execute_reply": "2024-07-06T15:41:25.062013Z"
    },
    "papermill": {
     "duration": 0.052757,
     "end_time": "2024-07-06T15:41:25.065321",
     "exception": false,
     "start_time": "2024-07-06T15:41:25.012564",
     "status": "completed"
    },
    "tags": []
   },
   "outputs": [],
   "source": [
    "GBC = GradientBoostingClassifier()"
   ]
  },
  {
   "cell_type": "code",
   "execution_count": 121,
   "id": "bd48a795",
   "metadata": {
    "execution": {
     "iopub.execute_input": "2024-07-06T15:41:25.157160Z",
     "iopub.status.busy": "2024-07-06T15:41:25.156250Z",
     "iopub.status.idle": "2024-07-06T15:41:25.161980Z",
     "shell.execute_reply": "2024-07-06T15:41:25.160827Z"
    },
    "papermill": {
     "duration": 0.053183,
     "end_time": "2024-07-06T15:41:25.164149",
     "exception": false,
     "start_time": "2024-07-06T15:41:25.110966",
     "status": "completed"
    },
    "tags": []
   },
   "outputs": [],
   "source": [
    "param_grid = {\n",
    "              'n_estimators' : [300, 400, 500],\n",
    "              'learning_rate': [ 0.1, 0.3, 0.6, 1.0],\n",
    "              'max_depth': [8, 10, 12],\n",
    "              'min_samples_leaf': [50, 100, 120, 150],\n",
    "              'max_features': [0.1, 0.3, 0.5] \n",
    "              }\n"
   ]
  },
  {
   "cell_type": "code",
   "execution_count": 122,
   "id": "ef98c786",
   "metadata": {
    "execution": {
     "iopub.execute_input": "2024-07-06T15:41:25.254954Z",
     "iopub.status.busy": "2024-07-06T15:41:25.254548Z",
     "iopub.status.idle": "2024-07-06T15:41:25.259653Z",
     "shell.execute_reply": "2024-07-06T15:41:25.258584Z"
    },
    "papermill": {
     "duration": 0.053021,
     "end_time": "2024-07-06T15:41:25.261920",
     "exception": false,
     "start_time": "2024-07-06T15:41:25.208899",
     "status": "completed"
    },
    "tags": []
   },
   "outputs": [],
   "source": [
    "CV_gbc = GridSearchCV(estimator=GBC, param_grid=param_grid, cv=StratifiedKFold(n_splits=5))"
   ]
  },
  {
   "cell_type": "code",
   "execution_count": 123,
   "id": "6b932ec0",
   "metadata": {
    "execution": {
     "iopub.execute_input": "2024-07-06T15:41:25.352582Z",
     "iopub.status.busy": "2024-07-06T15:41:25.352197Z",
     "iopub.status.idle": "2024-07-06T15:52:00.029222Z",
     "shell.execute_reply": "2024-07-06T15:52:00.028117Z"
    },
    "papermill": {
     "duration": 634.772244,
     "end_time": "2024-07-06T15:52:00.079143",
     "exception": false,
     "start_time": "2024-07-06T15:41:25.306899",
     "status": "completed"
    },
    "tags": []
   },
   "outputs": [
    {
     "data": {
      "text/html": [
       "<style>#sk-container-id-10 {color: black;background-color: white;}#sk-container-id-10 pre{padding: 0;}#sk-container-id-10 div.sk-toggleable {background-color: white;}#sk-container-id-10 label.sk-toggleable__label {cursor: pointer;display: block;width: 100%;margin-bottom: 0;padding: 0.3em;box-sizing: border-box;text-align: center;}#sk-container-id-10 label.sk-toggleable__label-arrow:before {content: \"▸\";float: left;margin-right: 0.25em;color: #696969;}#sk-container-id-10 label.sk-toggleable__label-arrow:hover:before {color: black;}#sk-container-id-10 div.sk-estimator:hover label.sk-toggleable__label-arrow:before {color: black;}#sk-container-id-10 div.sk-toggleable__content {max-height: 0;max-width: 0;overflow: hidden;text-align: left;background-color: #f0f8ff;}#sk-container-id-10 div.sk-toggleable__content pre {margin: 0.2em;color: black;border-radius: 0.25em;background-color: #f0f8ff;}#sk-container-id-10 input.sk-toggleable__control:checked~div.sk-toggleable__content {max-height: 200px;max-width: 100%;overflow: auto;}#sk-container-id-10 input.sk-toggleable__control:checked~label.sk-toggleable__label-arrow:before {content: \"▾\";}#sk-container-id-10 div.sk-estimator input.sk-toggleable__control:checked~label.sk-toggleable__label {background-color: #d4ebff;}#sk-container-id-10 div.sk-label input.sk-toggleable__control:checked~label.sk-toggleable__label {background-color: #d4ebff;}#sk-container-id-10 input.sk-hidden--visually {border: 0;clip: rect(1px 1px 1px 1px);clip: rect(1px, 1px, 1px, 1px);height: 1px;margin: -1px;overflow: hidden;padding: 0;position: absolute;width: 1px;}#sk-container-id-10 div.sk-estimator {font-family: monospace;background-color: #f0f8ff;border: 1px dotted black;border-radius: 0.25em;box-sizing: border-box;margin-bottom: 0.5em;}#sk-container-id-10 div.sk-estimator:hover {background-color: #d4ebff;}#sk-container-id-10 div.sk-parallel-item::after {content: \"\";width: 100%;border-bottom: 1px solid gray;flex-grow: 1;}#sk-container-id-10 div.sk-label:hover label.sk-toggleable__label {background-color: #d4ebff;}#sk-container-id-10 div.sk-serial::before {content: \"\";position: absolute;border-left: 1px solid gray;box-sizing: border-box;top: 0;bottom: 0;left: 50%;z-index: 0;}#sk-container-id-10 div.sk-serial {display: flex;flex-direction: column;align-items: center;background-color: white;padding-right: 0.2em;padding-left: 0.2em;position: relative;}#sk-container-id-10 div.sk-item {position: relative;z-index: 1;}#sk-container-id-10 div.sk-parallel {display: flex;align-items: stretch;justify-content: center;background-color: white;position: relative;}#sk-container-id-10 div.sk-item::before, #sk-container-id-10 div.sk-parallel-item::before {content: \"\";position: absolute;border-left: 1px solid gray;box-sizing: border-box;top: 0;bottom: 0;left: 50%;z-index: -1;}#sk-container-id-10 div.sk-parallel-item {display: flex;flex-direction: column;z-index: 1;position: relative;background-color: white;}#sk-container-id-10 div.sk-parallel-item:first-child::after {align-self: flex-end;width: 50%;}#sk-container-id-10 div.sk-parallel-item:last-child::after {align-self: flex-start;width: 50%;}#sk-container-id-10 div.sk-parallel-item:only-child::after {width: 0;}#sk-container-id-10 div.sk-dashed-wrapped {border: 1px dashed gray;margin: 0 0.4em 0.5em 0.4em;box-sizing: border-box;padding-bottom: 0.4em;background-color: white;}#sk-container-id-10 div.sk-label label {font-family: monospace;font-weight: bold;display: inline-block;line-height: 1.2em;}#sk-container-id-10 div.sk-label-container {text-align: center;}#sk-container-id-10 div.sk-container {/* jupyter's `normalize.less` sets `[hidden] { display: none; }` but bootstrap.min.css set `[hidden] { display: none !important; }` so we also need the `!important` here to be able to override the default hidden behavior on the sphinx rendered scikit-learn.org. See: https://github.com/scikit-learn/scikit-learn/issues/21755 */display: inline-block !important;position: relative;}#sk-container-id-10 div.sk-text-repr-fallback {display: none;}</style><div id=\"sk-container-id-10\" class=\"sk-top-container\"><div class=\"sk-text-repr-fallback\"><pre>Pipeline(steps=[(&#x27;columntransformer&#x27;,\n",
       "                 ColumnTransformer(n_jobs=-1,\n",
       "                                   transformers=[(&#x27;impute&#x27;,\n",
       "                                                  SimpleImputer(strategy=&#x27;most_frequent&#x27;),\n",
       "                                                  [&#x27;Age&#x27;]),\n",
       "                                                 (&#x27;ord_pipeline&#x27;,\n",
       "                                                  Pipeline(steps=[(&#x27;impute&#x27;,\n",
       "                                                                   SimpleImputer(strategy=&#x27;most_frequent&#x27;)),\n",
       "                                                                  (&#x27;ord&#x27;,\n",
       "                                                                   OrdinalEncoder(handle_unknown=&#x27;use_encoded_value&#x27;,\n",
       "                                                                                  unknown_value=-1))]),\n",
       "                                                  [&#x27;family_size_grouped&#x27;]),\n",
       "                                                 (&#x27;ohe_pipeline&#x27;,\n",
       "                                                  Pipeline(s...\n",
       "                                                  [&#x27;Pclass&#x27;, &#x27;Cabin_Assigned&#x27;,\n",
       "                                                   &#x27;Name_Size&#x27;, &#x27;Age&#x27;, &#x27;Fare&#x27;,\n",
       "                                                   &#x27;ticket_number_count&#x27;])])),\n",
       "                (&#x27;gridsearchcv&#x27;,\n",
       "                 GridSearchCV(cv=StratifiedKFold(n_splits=5, random_state=None, shuffle=False),\n",
       "                              estimator=GradientBoostingClassifier(),\n",
       "                              param_grid={&#x27;learning_rate&#x27;: [0.1, 0.3, 0.6, 1.0],\n",
       "                                          &#x27;max_depth&#x27;: [8, 10, 12],\n",
       "                                          &#x27;max_features&#x27;: [0.1, 0.3, 0.5],\n",
       "                                          &#x27;min_samples_leaf&#x27;: [50, 100, 120,\n",
       "                                                               150],\n",
       "                                          &#x27;n_estimators&#x27;: [300, 400, 500]}))])</pre><b>In a Jupyter environment, please rerun this cell to show the HTML representation or trust the notebook. <br />On GitHub, the HTML representation is unable to render, please try loading this page with nbviewer.org.</b></div><div class=\"sk-container\" hidden><div class=\"sk-item sk-dashed-wrapped\"><div class=\"sk-label-container\"><div class=\"sk-label sk-toggleable\"><input class=\"sk-toggleable__control sk-hidden--visually\" id=\"sk-estimator-id-136\" type=\"checkbox\" ><label for=\"sk-estimator-id-136\" class=\"sk-toggleable__label sk-toggleable__label-arrow\">Pipeline</label><div class=\"sk-toggleable__content\"><pre>Pipeline(steps=[(&#x27;columntransformer&#x27;,\n",
       "                 ColumnTransformer(n_jobs=-1,\n",
       "                                   transformers=[(&#x27;impute&#x27;,\n",
       "                                                  SimpleImputer(strategy=&#x27;most_frequent&#x27;),\n",
       "                                                  [&#x27;Age&#x27;]),\n",
       "                                                 (&#x27;ord_pipeline&#x27;,\n",
       "                                                  Pipeline(steps=[(&#x27;impute&#x27;,\n",
       "                                                                   SimpleImputer(strategy=&#x27;most_frequent&#x27;)),\n",
       "                                                                  (&#x27;ord&#x27;,\n",
       "                                                                   OrdinalEncoder(handle_unknown=&#x27;use_encoded_value&#x27;,\n",
       "                                                                                  unknown_value=-1))]),\n",
       "                                                  [&#x27;family_size_grouped&#x27;]),\n",
       "                                                 (&#x27;ohe_pipeline&#x27;,\n",
       "                                                  Pipeline(s...\n",
       "                                                  [&#x27;Pclass&#x27;, &#x27;Cabin_Assigned&#x27;,\n",
       "                                                   &#x27;Name_Size&#x27;, &#x27;Age&#x27;, &#x27;Fare&#x27;,\n",
       "                                                   &#x27;ticket_number_count&#x27;])])),\n",
       "                (&#x27;gridsearchcv&#x27;,\n",
       "                 GridSearchCV(cv=StratifiedKFold(n_splits=5, random_state=None, shuffle=False),\n",
       "                              estimator=GradientBoostingClassifier(),\n",
       "                              param_grid={&#x27;learning_rate&#x27;: [0.1, 0.3, 0.6, 1.0],\n",
       "                                          &#x27;max_depth&#x27;: [8, 10, 12],\n",
       "                                          &#x27;max_features&#x27;: [0.1, 0.3, 0.5],\n",
       "                                          &#x27;min_samples_leaf&#x27;: [50, 100, 120,\n",
       "                                                               150],\n",
       "                                          &#x27;n_estimators&#x27;: [300, 400, 500]}))])</pre></div></div></div><div class=\"sk-serial\"><div class=\"sk-item sk-dashed-wrapped\"><div class=\"sk-label-container\"><div class=\"sk-label sk-toggleable\"><input class=\"sk-toggleable__control sk-hidden--visually\" id=\"sk-estimator-id-137\" type=\"checkbox\" ><label for=\"sk-estimator-id-137\" class=\"sk-toggleable__label sk-toggleable__label-arrow\">columntransformer: ColumnTransformer</label><div class=\"sk-toggleable__content\"><pre>ColumnTransformer(n_jobs=-1,\n",
       "                  transformers=[(&#x27;impute&#x27;,\n",
       "                                 SimpleImputer(strategy=&#x27;most_frequent&#x27;),\n",
       "                                 [&#x27;Age&#x27;]),\n",
       "                                (&#x27;ord_pipeline&#x27;,\n",
       "                                 Pipeline(steps=[(&#x27;impute&#x27;,\n",
       "                                                  SimpleImputer(strategy=&#x27;most_frequent&#x27;)),\n",
       "                                                 (&#x27;ord&#x27;,\n",
       "                                                  OrdinalEncoder(handle_unknown=&#x27;use_encoded_value&#x27;,\n",
       "                                                                 unknown_value=-1))]),\n",
       "                                 [&#x27;family_size_grouped&#x27;]),\n",
       "                                (&#x27;ohe_pipeline&#x27;,\n",
       "                                 Pipeline(steps=[(&#x27;impute&#x27;,\n",
       "                                                  SimpleImputer(strategy=&#x27;most_frequent&#x27;)),\n",
       "                                                 (&#x27;one-hot&#x27;,\n",
       "                                                  OneHotEncoder(handle_unknown=&#x27;ignore&#x27;,\n",
       "                                                                sparse_output=False))]),\n",
       "                                 [&#x27;Sex&#x27;, &#x27;Embarked&#x27;]),\n",
       "                                (&#x27;passthrough&#x27;, &#x27;passthrough&#x27;,\n",
       "                                 [&#x27;Pclass&#x27;, &#x27;Cabin_Assigned&#x27;, &#x27;Name_Size&#x27;,\n",
       "                                  &#x27;Age&#x27;, &#x27;Fare&#x27;, &#x27;ticket_number_count&#x27;])])</pre></div></div></div><div class=\"sk-parallel\"><div class=\"sk-parallel-item\"><div class=\"sk-item\"><div class=\"sk-label-container\"><div class=\"sk-label sk-toggleable\"><input class=\"sk-toggleable__control sk-hidden--visually\" id=\"sk-estimator-id-138\" type=\"checkbox\" ><label for=\"sk-estimator-id-138\" class=\"sk-toggleable__label sk-toggleable__label-arrow\">impute</label><div class=\"sk-toggleable__content\"><pre>[&#x27;Age&#x27;]</pre></div></div></div><div class=\"sk-serial\"><div class=\"sk-item\"><div class=\"sk-estimator sk-toggleable\"><input class=\"sk-toggleable__control sk-hidden--visually\" id=\"sk-estimator-id-139\" type=\"checkbox\" ><label for=\"sk-estimator-id-139\" class=\"sk-toggleable__label sk-toggleable__label-arrow\">SimpleImputer</label><div class=\"sk-toggleable__content\"><pre>SimpleImputer(strategy=&#x27;most_frequent&#x27;)</pre></div></div></div></div></div></div><div class=\"sk-parallel-item\"><div class=\"sk-item\"><div class=\"sk-label-container\"><div class=\"sk-label sk-toggleable\"><input class=\"sk-toggleable__control sk-hidden--visually\" id=\"sk-estimator-id-140\" type=\"checkbox\" ><label for=\"sk-estimator-id-140\" class=\"sk-toggleable__label sk-toggleable__label-arrow\">ord_pipeline</label><div class=\"sk-toggleable__content\"><pre>[&#x27;family_size_grouped&#x27;]</pre></div></div></div><div class=\"sk-serial\"><div class=\"sk-item\"><div class=\"sk-serial\"><div class=\"sk-item\"><div class=\"sk-estimator sk-toggleable\"><input class=\"sk-toggleable__control sk-hidden--visually\" id=\"sk-estimator-id-141\" type=\"checkbox\" ><label for=\"sk-estimator-id-141\" class=\"sk-toggleable__label sk-toggleable__label-arrow\">SimpleImputer</label><div class=\"sk-toggleable__content\"><pre>SimpleImputer(strategy=&#x27;most_frequent&#x27;)</pre></div></div></div><div class=\"sk-item\"><div class=\"sk-estimator sk-toggleable\"><input class=\"sk-toggleable__control sk-hidden--visually\" id=\"sk-estimator-id-142\" type=\"checkbox\" ><label for=\"sk-estimator-id-142\" class=\"sk-toggleable__label sk-toggleable__label-arrow\">OrdinalEncoder</label><div class=\"sk-toggleable__content\"><pre>OrdinalEncoder(handle_unknown=&#x27;use_encoded_value&#x27;, unknown_value=-1)</pre></div></div></div></div></div></div></div></div><div class=\"sk-parallel-item\"><div class=\"sk-item\"><div class=\"sk-label-container\"><div class=\"sk-label sk-toggleable\"><input class=\"sk-toggleable__control sk-hidden--visually\" id=\"sk-estimator-id-143\" type=\"checkbox\" ><label for=\"sk-estimator-id-143\" class=\"sk-toggleable__label sk-toggleable__label-arrow\">ohe_pipeline</label><div class=\"sk-toggleable__content\"><pre>[&#x27;Sex&#x27;, &#x27;Embarked&#x27;]</pre></div></div></div><div class=\"sk-serial\"><div class=\"sk-item\"><div class=\"sk-serial\"><div class=\"sk-item\"><div class=\"sk-estimator sk-toggleable\"><input class=\"sk-toggleable__control sk-hidden--visually\" id=\"sk-estimator-id-144\" type=\"checkbox\" ><label for=\"sk-estimator-id-144\" class=\"sk-toggleable__label sk-toggleable__label-arrow\">SimpleImputer</label><div class=\"sk-toggleable__content\"><pre>SimpleImputer(strategy=&#x27;most_frequent&#x27;)</pre></div></div></div><div class=\"sk-item\"><div class=\"sk-estimator sk-toggleable\"><input class=\"sk-toggleable__control sk-hidden--visually\" id=\"sk-estimator-id-145\" type=\"checkbox\" ><label for=\"sk-estimator-id-145\" class=\"sk-toggleable__label sk-toggleable__label-arrow\">OneHotEncoder</label><div class=\"sk-toggleable__content\"><pre>OneHotEncoder(handle_unknown=&#x27;ignore&#x27;, sparse_output=False)</pre></div></div></div></div></div></div></div></div><div class=\"sk-parallel-item\"><div class=\"sk-item\"><div class=\"sk-label-container\"><div class=\"sk-label sk-toggleable\"><input class=\"sk-toggleable__control sk-hidden--visually\" id=\"sk-estimator-id-146\" type=\"checkbox\" ><label for=\"sk-estimator-id-146\" class=\"sk-toggleable__label sk-toggleable__label-arrow\">passthrough</label><div class=\"sk-toggleable__content\"><pre>[&#x27;Pclass&#x27;, &#x27;Cabin_Assigned&#x27;, &#x27;Name_Size&#x27;, &#x27;Age&#x27;, &#x27;Fare&#x27;, &#x27;ticket_number_count&#x27;]</pre></div></div></div><div class=\"sk-serial\"><div class=\"sk-item\"><div class=\"sk-estimator sk-toggleable\"><input class=\"sk-toggleable__control sk-hidden--visually\" id=\"sk-estimator-id-147\" type=\"checkbox\" ><label for=\"sk-estimator-id-147\" class=\"sk-toggleable__label sk-toggleable__label-arrow\">passthrough</label><div class=\"sk-toggleable__content\"><pre>passthrough</pre></div></div></div></div></div></div></div></div><div class=\"sk-item sk-dashed-wrapped\"><div class=\"sk-label-container\"><div class=\"sk-label sk-toggleable\"><input class=\"sk-toggleable__control sk-hidden--visually\" id=\"sk-estimator-id-148\" type=\"checkbox\" ><label for=\"sk-estimator-id-148\" class=\"sk-toggleable__label sk-toggleable__label-arrow\">gridsearchcv: GridSearchCV</label><div class=\"sk-toggleable__content\"><pre>GridSearchCV(cv=StratifiedKFold(n_splits=5, random_state=None, shuffle=False),\n",
       "             estimator=GradientBoostingClassifier(),\n",
       "             param_grid={&#x27;learning_rate&#x27;: [0.1, 0.3, 0.6, 1.0],\n",
       "                         &#x27;max_depth&#x27;: [8, 10, 12],\n",
       "                         &#x27;max_features&#x27;: [0.1, 0.3, 0.5],\n",
       "                         &#x27;min_samples_leaf&#x27;: [50, 100, 120, 150],\n",
       "                         &#x27;n_estimators&#x27;: [300, 400, 500]})</pre></div></div></div><div class=\"sk-parallel\"><div class=\"sk-parallel-item\"><div class=\"sk-item\"><div class=\"sk-label-container\"><div class=\"sk-label sk-toggleable\"><input class=\"sk-toggleable__control sk-hidden--visually\" id=\"sk-estimator-id-149\" type=\"checkbox\" ><label for=\"sk-estimator-id-149\" class=\"sk-toggleable__label sk-toggleable__label-arrow\">estimator: GradientBoostingClassifier</label><div class=\"sk-toggleable__content\"><pre>GradientBoostingClassifier()</pre></div></div></div><div class=\"sk-serial\"><div class=\"sk-item\"><div class=\"sk-estimator sk-toggleable\"><input class=\"sk-toggleable__control sk-hidden--visually\" id=\"sk-estimator-id-150\" type=\"checkbox\" ><label for=\"sk-estimator-id-150\" class=\"sk-toggleable__label sk-toggleable__label-arrow\">GradientBoostingClassifier</label><div class=\"sk-toggleable__content\"><pre>GradientBoostingClassifier()</pre></div></div></div></div></div></div></div></div></div></div></div></div>"
      ],
      "text/plain": [
       "Pipeline(steps=[('columntransformer',\n",
       "                 ColumnTransformer(n_jobs=-1,\n",
       "                                   transformers=[('impute',\n",
       "                                                  SimpleImputer(strategy='most_frequent'),\n",
       "                                                  ['Age']),\n",
       "                                                 ('ord_pipeline',\n",
       "                                                  Pipeline(steps=[('impute',\n",
       "                                                                   SimpleImputer(strategy='most_frequent')),\n",
       "                                                                  ('ord',\n",
       "                                                                   OrdinalEncoder(handle_unknown='use_encoded_value',\n",
       "                                                                                  unknown_value=-1))]),\n",
       "                                                  ['family_size_grouped']),\n",
       "                                                 ('ohe_pipeline',\n",
       "                                                  Pipeline(s...\n",
       "                                                  ['Pclass', 'Cabin_Assigned',\n",
       "                                                   'Name_Size', 'Age', 'Fare',\n",
       "                                                   'ticket_number_count'])])),\n",
       "                ('gridsearchcv',\n",
       "                 GridSearchCV(cv=StratifiedKFold(n_splits=5, random_state=None, shuffle=False),\n",
       "                              estimator=GradientBoostingClassifier(),\n",
       "                              param_grid={'learning_rate': [0.1, 0.3, 0.6, 1.0],\n",
       "                                          'max_depth': [8, 10, 12],\n",
       "                                          'max_features': [0.1, 0.3, 0.5],\n",
       "                                          'min_samples_leaf': [50, 100, 120,\n",
       "                                                               150],\n",
       "                                          'n_estimators': [300, 400, 500]}))])"
      ]
     },
     "execution_count": 123,
     "metadata": {},
     "output_type": "execute_result"
    }
   ],
   "source": [
    "pipefinalgbc= make_pipeline(col_trans, CV_gbc)\n",
    "pipefinalgbc.fit(X_train, y_train)"
   ]
  },
  {
   "cell_type": "code",
   "execution_count": 124,
   "id": "51a06893",
   "metadata": {
    "execution": {
     "iopub.execute_input": "2024-07-06T15:52:00.177615Z",
     "iopub.status.busy": "2024-07-06T15:52:00.177244Z",
     "iopub.status.idle": "2024-07-06T15:52:00.183013Z",
     "shell.execute_reply": "2024-07-06T15:52:00.181915Z"
    },
    "papermill": {
     "duration": 0.057247,
     "end_time": "2024-07-06T15:52:00.185205",
     "exception": false,
     "start_time": "2024-07-06T15:52:00.127958",
     "status": "completed"
    },
    "tags": []
   },
   "outputs": [
    {
     "name": "stdout",
     "output_type": "stream",
     "text": [
      "{'learning_rate': 0.3, 'max_depth': 8, 'max_features': 0.3, 'min_samples_leaf': 100, 'n_estimators': 300}\n",
      "0.8272530286614794\n"
     ]
    }
   ],
   "source": [
    "print(CV_gbc.best_params_)\n",
    "print(CV_gbc.best_score_)"
   ]
  },
  {
   "cell_type": "code",
   "execution_count": 125,
   "id": "4570b895",
   "metadata": {
    "execution": {
     "iopub.execute_input": "2024-07-06T15:52:00.279843Z",
     "iopub.status.busy": "2024-07-06T15:52:00.279443Z",
     "iopub.status.idle": "2024-07-06T15:52:00.285703Z",
     "shell.execute_reply": "2024-07-06T15:52:00.284810Z"
    },
    "papermill": {
     "duration": 0.056613,
     "end_time": "2024-07-06T15:52:00.287887",
     "exception": false,
     "start_time": "2024-07-06T15:52:00.231274",
     "status": "completed"
    },
    "tags": []
   },
   "outputs": [],
   "source": [
    "vc1 = VotingClassifier([('gbc', CV_gbc.best_estimator_),\n",
    "                        ('etc', CV_etc.best_estimator_),\n",
    "                          ('nb', CV_gnb.best_estimator_)\n",
    "                         ], voting='hard', weights=[1,2,3] )"
   ]
  },
  {
   "cell_type": "code",
   "execution_count": 126,
   "id": "e7c1c464",
   "metadata": {
    "execution": {
     "iopub.execute_input": "2024-07-06T15:52:00.383110Z",
     "iopub.status.busy": "2024-07-06T15:52:00.382384Z",
     "iopub.status.idle": "2024-07-06T15:52:00.388126Z",
     "shell.execute_reply": "2024-07-06T15:52:00.387087Z"
    },
    "papermill": {
     "duration": 0.054908,
     "end_time": "2024-07-06T15:52:00.390190",
     "exception": false,
     "start_time": "2024-07-06T15:52:00.335282",
     "status": "completed"
    },
    "tags": []
   },
   "outputs": [],
   "source": [
    "vc2 = VotingClassifier([('abc', CV_abc.best_estimator_),\n",
    "                        ('etc', CV_etc.best_estimator_),\n",
    "                          ('nb', CV_gnb.best_estimator_)\n",
    "                         ], voting='hard', weights=[1,2,3] )\n",
    "#1,2,3 is the best performing one"
   ]
  },
  {
   "cell_type": "code",
   "execution_count": 127,
   "id": "26762aec",
   "metadata": {
    "execution": {
     "iopub.execute_input": "2024-07-06T15:52:00.486580Z",
     "iopub.status.busy": "2024-07-06T15:52:00.486236Z",
     "iopub.status.idle": "2024-07-06T15:52:00.491108Z",
     "shell.execute_reply": "2024-07-06T15:52:00.490124Z"
    },
    "papermill": {
     "duration": 0.05422,
     "end_time": "2024-07-06T15:52:00.493219",
     "exception": false,
     "start_time": "2024-07-06T15:52:00.438999",
     "status": "completed"
    },
    "tags": []
   },
   "outputs": [],
   "source": [
    "pipefinalcv1 = make_pipeline(col_trans, vc1)"
   ]
  },
  {
   "cell_type": "code",
   "execution_count": 128,
   "id": "a787cfed",
   "metadata": {
    "execution": {
     "iopub.execute_input": "2024-07-06T15:52:00.586192Z",
     "iopub.status.busy": "2024-07-06T15:52:00.585802Z",
     "iopub.status.idle": "2024-07-06T15:52:00.590511Z",
     "shell.execute_reply": "2024-07-06T15:52:00.589543Z"
    },
    "papermill": {
     "duration": 0.05378,
     "end_time": "2024-07-06T15:52:00.592673",
     "exception": false,
     "start_time": "2024-07-06T15:52:00.538893",
     "status": "completed"
    },
    "tags": []
   },
   "outputs": [],
   "source": [
    "pipefinalcv2 = make_pipeline(col_trans, vc2)"
   ]
  },
  {
   "cell_type": "code",
   "execution_count": 129,
   "id": "b7a89450",
   "metadata": {
    "execution": {
     "iopub.execute_input": "2024-07-06T15:52:00.687552Z",
     "iopub.status.busy": "2024-07-06T15:52:00.687170Z",
     "iopub.status.idle": "2024-07-06T15:52:02.928230Z",
     "shell.execute_reply": "2024-07-06T15:52:02.926923Z"
    },
    "papermill": {
     "duration": 2.29233,
     "end_time": "2024-07-06T15:52:02.930952",
     "exception": false,
     "start_time": "2024-07-06T15:52:00.638622",
     "status": "completed"
    },
    "tags": []
   },
   "outputs": [
    {
     "data": {
      "text/html": [
       "<style>#sk-container-id-11 {color: black;background-color: white;}#sk-container-id-11 pre{padding: 0;}#sk-container-id-11 div.sk-toggleable {background-color: white;}#sk-container-id-11 label.sk-toggleable__label {cursor: pointer;display: block;width: 100%;margin-bottom: 0;padding: 0.3em;box-sizing: border-box;text-align: center;}#sk-container-id-11 label.sk-toggleable__label-arrow:before {content: \"▸\";float: left;margin-right: 0.25em;color: #696969;}#sk-container-id-11 label.sk-toggleable__label-arrow:hover:before {color: black;}#sk-container-id-11 div.sk-estimator:hover label.sk-toggleable__label-arrow:before {color: black;}#sk-container-id-11 div.sk-toggleable__content {max-height: 0;max-width: 0;overflow: hidden;text-align: left;background-color: #f0f8ff;}#sk-container-id-11 div.sk-toggleable__content pre {margin: 0.2em;color: black;border-radius: 0.25em;background-color: #f0f8ff;}#sk-container-id-11 input.sk-toggleable__control:checked~div.sk-toggleable__content {max-height: 200px;max-width: 100%;overflow: auto;}#sk-container-id-11 input.sk-toggleable__control:checked~label.sk-toggleable__label-arrow:before {content: \"▾\";}#sk-container-id-11 div.sk-estimator input.sk-toggleable__control:checked~label.sk-toggleable__label {background-color: #d4ebff;}#sk-container-id-11 div.sk-label input.sk-toggleable__control:checked~label.sk-toggleable__label {background-color: #d4ebff;}#sk-container-id-11 input.sk-hidden--visually {border: 0;clip: rect(1px 1px 1px 1px);clip: rect(1px, 1px, 1px, 1px);height: 1px;margin: -1px;overflow: hidden;padding: 0;position: absolute;width: 1px;}#sk-container-id-11 div.sk-estimator {font-family: monospace;background-color: #f0f8ff;border: 1px dotted black;border-radius: 0.25em;box-sizing: border-box;margin-bottom: 0.5em;}#sk-container-id-11 div.sk-estimator:hover {background-color: #d4ebff;}#sk-container-id-11 div.sk-parallel-item::after {content: \"\";width: 100%;border-bottom: 1px solid gray;flex-grow: 1;}#sk-container-id-11 div.sk-label:hover label.sk-toggleable__label {background-color: #d4ebff;}#sk-container-id-11 div.sk-serial::before {content: \"\";position: absolute;border-left: 1px solid gray;box-sizing: border-box;top: 0;bottom: 0;left: 50%;z-index: 0;}#sk-container-id-11 div.sk-serial {display: flex;flex-direction: column;align-items: center;background-color: white;padding-right: 0.2em;padding-left: 0.2em;position: relative;}#sk-container-id-11 div.sk-item {position: relative;z-index: 1;}#sk-container-id-11 div.sk-parallel {display: flex;align-items: stretch;justify-content: center;background-color: white;position: relative;}#sk-container-id-11 div.sk-item::before, #sk-container-id-11 div.sk-parallel-item::before {content: \"\";position: absolute;border-left: 1px solid gray;box-sizing: border-box;top: 0;bottom: 0;left: 50%;z-index: -1;}#sk-container-id-11 div.sk-parallel-item {display: flex;flex-direction: column;z-index: 1;position: relative;background-color: white;}#sk-container-id-11 div.sk-parallel-item:first-child::after {align-self: flex-end;width: 50%;}#sk-container-id-11 div.sk-parallel-item:last-child::after {align-self: flex-start;width: 50%;}#sk-container-id-11 div.sk-parallel-item:only-child::after {width: 0;}#sk-container-id-11 div.sk-dashed-wrapped {border: 1px dashed gray;margin: 0 0.4em 0.5em 0.4em;box-sizing: border-box;padding-bottom: 0.4em;background-color: white;}#sk-container-id-11 div.sk-label label {font-family: monospace;font-weight: bold;display: inline-block;line-height: 1.2em;}#sk-container-id-11 div.sk-label-container {text-align: center;}#sk-container-id-11 div.sk-container {/* jupyter's `normalize.less` sets `[hidden] { display: none; }` but bootstrap.min.css set `[hidden] { display: none !important; }` so we also need the `!important` here to be able to override the default hidden behavior on the sphinx rendered scikit-learn.org. See: https://github.com/scikit-learn/scikit-learn/issues/21755 */display: inline-block !important;position: relative;}#sk-container-id-11 div.sk-text-repr-fallback {display: none;}</style><div id=\"sk-container-id-11\" class=\"sk-top-container\"><div class=\"sk-text-repr-fallback\"><pre>Pipeline(steps=[(&#x27;columntransformer&#x27;,\n",
       "                 ColumnTransformer(n_jobs=-1,\n",
       "                                   transformers=[(&#x27;impute&#x27;,\n",
       "                                                  SimpleImputer(strategy=&#x27;most_frequent&#x27;),\n",
       "                                                  [&#x27;Age&#x27;]),\n",
       "                                                 (&#x27;ord_pipeline&#x27;,\n",
       "                                                  Pipeline(steps=[(&#x27;impute&#x27;,\n",
       "                                                                   SimpleImputer(strategy=&#x27;most_frequent&#x27;)),\n",
       "                                                                  (&#x27;ord&#x27;,\n",
       "                                                                   OrdinalEncoder(handle_unknown=&#x27;use_encoded_value&#x27;,\n",
       "                                                                                  unknown_value=-1))]),\n",
       "                                                  [&#x27;family_size_grouped&#x27;]),\n",
       "                                                 (&#x27;ohe_pipeline&#x27;,\n",
       "                                                  Pipeline(s...\n",
       "                                                  [&#x27;Pclass&#x27;, &#x27;Cabin_Assigned&#x27;,\n",
       "                                                   &#x27;Name_Size&#x27;, &#x27;Age&#x27;, &#x27;Fare&#x27;,\n",
       "                                                   &#x27;ticket_number_count&#x27;])])),\n",
       "                (&#x27;votingclassifier&#x27;,\n",
       "                 VotingClassifier(estimators=[(&#x27;gbc&#x27;,\n",
       "                                               GradientBoostingClassifier(learning_rate=0.3,\n",
       "                                                                          max_depth=8,\n",
       "                                                                          max_features=0.3,\n",
       "                                                                          min_samples_leaf=100,\n",
       "                                                                          n_estimators=300)),\n",
       "                                              (&#x27;etc&#x27;,\n",
       "                                               ExtraTreesClassifier(max_features=1,\n",
       "                                                                    min_samples_leaf=3,\n",
       "                                                                    min_samples_split=3)),\n",
       "                                              (&#x27;nb&#x27;, GaussianNB())],\n",
       "                                  weights=[1, 2, 3]))])</pre><b>In a Jupyter environment, please rerun this cell to show the HTML representation or trust the notebook. <br />On GitHub, the HTML representation is unable to render, please try loading this page with nbviewer.org.</b></div><div class=\"sk-container\" hidden><div class=\"sk-item sk-dashed-wrapped\"><div class=\"sk-label-container\"><div class=\"sk-label sk-toggleable\"><input class=\"sk-toggleable__control sk-hidden--visually\" id=\"sk-estimator-id-151\" type=\"checkbox\" ><label for=\"sk-estimator-id-151\" class=\"sk-toggleable__label sk-toggleable__label-arrow\">Pipeline</label><div class=\"sk-toggleable__content\"><pre>Pipeline(steps=[(&#x27;columntransformer&#x27;,\n",
       "                 ColumnTransformer(n_jobs=-1,\n",
       "                                   transformers=[(&#x27;impute&#x27;,\n",
       "                                                  SimpleImputer(strategy=&#x27;most_frequent&#x27;),\n",
       "                                                  [&#x27;Age&#x27;]),\n",
       "                                                 (&#x27;ord_pipeline&#x27;,\n",
       "                                                  Pipeline(steps=[(&#x27;impute&#x27;,\n",
       "                                                                   SimpleImputer(strategy=&#x27;most_frequent&#x27;)),\n",
       "                                                                  (&#x27;ord&#x27;,\n",
       "                                                                   OrdinalEncoder(handle_unknown=&#x27;use_encoded_value&#x27;,\n",
       "                                                                                  unknown_value=-1))]),\n",
       "                                                  [&#x27;family_size_grouped&#x27;]),\n",
       "                                                 (&#x27;ohe_pipeline&#x27;,\n",
       "                                                  Pipeline(s...\n",
       "                                                  [&#x27;Pclass&#x27;, &#x27;Cabin_Assigned&#x27;,\n",
       "                                                   &#x27;Name_Size&#x27;, &#x27;Age&#x27;, &#x27;Fare&#x27;,\n",
       "                                                   &#x27;ticket_number_count&#x27;])])),\n",
       "                (&#x27;votingclassifier&#x27;,\n",
       "                 VotingClassifier(estimators=[(&#x27;gbc&#x27;,\n",
       "                                               GradientBoostingClassifier(learning_rate=0.3,\n",
       "                                                                          max_depth=8,\n",
       "                                                                          max_features=0.3,\n",
       "                                                                          min_samples_leaf=100,\n",
       "                                                                          n_estimators=300)),\n",
       "                                              (&#x27;etc&#x27;,\n",
       "                                               ExtraTreesClassifier(max_features=1,\n",
       "                                                                    min_samples_leaf=3,\n",
       "                                                                    min_samples_split=3)),\n",
       "                                              (&#x27;nb&#x27;, GaussianNB())],\n",
       "                                  weights=[1, 2, 3]))])</pre></div></div></div><div class=\"sk-serial\"><div class=\"sk-item sk-dashed-wrapped\"><div class=\"sk-label-container\"><div class=\"sk-label sk-toggleable\"><input class=\"sk-toggleable__control sk-hidden--visually\" id=\"sk-estimator-id-152\" type=\"checkbox\" ><label for=\"sk-estimator-id-152\" class=\"sk-toggleable__label sk-toggleable__label-arrow\">columntransformer: ColumnTransformer</label><div class=\"sk-toggleable__content\"><pre>ColumnTransformer(n_jobs=-1,\n",
       "                  transformers=[(&#x27;impute&#x27;,\n",
       "                                 SimpleImputer(strategy=&#x27;most_frequent&#x27;),\n",
       "                                 [&#x27;Age&#x27;]),\n",
       "                                (&#x27;ord_pipeline&#x27;,\n",
       "                                 Pipeline(steps=[(&#x27;impute&#x27;,\n",
       "                                                  SimpleImputer(strategy=&#x27;most_frequent&#x27;)),\n",
       "                                                 (&#x27;ord&#x27;,\n",
       "                                                  OrdinalEncoder(handle_unknown=&#x27;use_encoded_value&#x27;,\n",
       "                                                                 unknown_value=-1))]),\n",
       "                                 [&#x27;family_size_grouped&#x27;]),\n",
       "                                (&#x27;ohe_pipeline&#x27;,\n",
       "                                 Pipeline(steps=[(&#x27;impute&#x27;,\n",
       "                                                  SimpleImputer(strategy=&#x27;most_frequent&#x27;)),\n",
       "                                                 (&#x27;one-hot&#x27;,\n",
       "                                                  OneHotEncoder(handle_unknown=&#x27;ignore&#x27;,\n",
       "                                                                sparse_output=False))]),\n",
       "                                 [&#x27;Sex&#x27;, &#x27;Embarked&#x27;]),\n",
       "                                (&#x27;passthrough&#x27;, &#x27;passthrough&#x27;,\n",
       "                                 [&#x27;Pclass&#x27;, &#x27;Cabin_Assigned&#x27;, &#x27;Name_Size&#x27;,\n",
       "                                  &#x27;Age&#x27;, &#x27;Fare&#x27;, &#x27;ticket_number_count&#x27;])])</pre></div></div></div><div class=\"sk-parallel\"><div class=\"sk-parallel-item\"><div class=\"sk-item\"><div class=\"sk-label-container\"><div class=\"sk-label sk-toggleable\"><input class=\"sk-toggleable__control sk-hidden--visually\" id=\"sk-estimator-id-153\" type=\"checkbox\" ><label for=\"sk-estimator-id-153\" class=\"sk-toggleable__label sk-toggleable__label-arrow\">impute</label><div class=\"sk-toggleable__content\"><pre>[&#x27;Age&#x27;]</pre></div></div></div><div class=\"sk-serial\"><div class=\"sk-item\"><div class=\"sk-estimator sk-toggleable\"><input class=\"sk-toggleable__control sk-hidden--visually\" id=\"sk-estimator-id-154\" type=\"checkbox\" ><label for=\"sk-estimator-id-154\" class=\"sk-toggleable__label sk-toggleable__label-arrow\">SimpleImputer</label><div class=\"sk-toggleable__content\"><pre>SimpleImputer(strategy=&#x27;most_frequent&#x27;)</pre></div></div></div></div></div></div><div class=\"sk-parallel-item\"><div class=\"sk-item\"><div class=\"sk-label-container\"><div class=\"sk-label sk-toggleable\"><input class=\"sk-toggleable__control sk-hidden--visually\" id=\"sk-estimator-id-155\" type=\"checkbox\" ><label for=\"sk-estimator-id-155\" class=\"sk-toggleable__label sk-toggleable__label-arrow\">ord_pipeline</label><div class=\"sk-toggleable__content\"><pre>[&#x27;family_size_grouped&#x27;]</pre></div></div></div><div class=\"sk-serial\"><div class=\"sk-item\"><div class=\"sk-serial\"><div class=\"sk-item\"><div class=\"sk-estimator sk-toggleable\"><input class=\"sk-toggleable__control sk-hidden--visually\" id=\"sk-estimator-id-156\" type=\"checkbox\" ><label for=\"sk-estimator-id-156\" class=\"sk-toggleable__label sk-toggleable__label-arrow\">SimpleImputer</label><div class=\"sk-toggleable__content\"><pre>SimpleImputer(strategy=&#x27;most_frequent&#x27;)</pre></div></div></div><div class=\"sk-item\"><div class=\"sk-estimator sk-toggleable\"><input class=\"sk-toggleable__control sk-hidden--visually\" id=\"sk-estimator-id-157\" type=\"checkbox\" ><label for=\"sk-estimator-id-157\" class=\"sk-toggleable__label sk-toggleable__label-arrow\">OrdinalEncoder</label><div class=\"sk-toggleable__content\"><pre>OrdinalEncoder(handle_unknown=&#x27;use_encoded_value&#x27;, unknown_value=-1)</pre></div></div></div></div></div></div></div></div><div class=\"sk-parallel-item\"><div class=\"sk-item\"><div class=\"sk-label-container\"><div class=\"sk-label sk-toggleable\"><input class=\"sk-toggleable__control sk-hidden--visually\" id=\"sk-estimator-id-158\" type=\"checkbox\" ><label for=\"sk-estimator-id-158\" class=\"sk-toggleable__label sk-toggleable__label-arrow\">ohe_pipeline</label><div class=\"sk-toggleable__content\"><pre>[&#x27;Sex&#x27;, &#x27;Embarked&#x27;]</pre></div></div></div><div class=\"sk-serial\"><div class=\"sk-item\"><div class=\"sk-serial\"><div class=\"sk-item\"><div class=\"sk-estimator sk-toggleable\"><input class=\"sk-toggleable__control sk-hidden--visually\" id=\"sk-estimator-id-159\" type=\"checkbox\" ><label for=\"sk-estimator-id-159\" class=\"sk-toggleable__label sk-toggleable__label-arrow\">SimpleImputer</label><div class=\"sk-toggleable__content\"><pre>SimpleImputer(strategy=&#x27;most_frequent&#x27;)</pre></div></div></div><div class=\"sk-item\"><div class=\"sk-estimator sk-toggleable\"><input class=\"sk-toggleable__control sk-hidden--visually\" id=\"sk-estimator-id-160\" type=\"checkbox\" ><label for=\"sk-estimator-id-160\" class=\"sk-toggleable__label sk-toggleable__label-arrow\">OneHotEncoder</label><div class=\"sk-toggleable__content\"><pre>OneHotEncoder(handle_unknown=&#x27;ignore&#x27;, sparse_output=False)</pre></div></div></div></div></div></div></div></div><div class=\"sk-parallel-item\"><div class=\"sk-item\"><div class=\"sk-label-container\"><div class=\"sk-label sk-toggleable\"><input class=\"sk-toggleable__control sk-hidden--visually\" id=\"sk-estimator-id-161\" type=\"checkbox\" ><label for=\"sk-estimator-id-161\" class=\"sk-toggleable__label sk-toggleable__label-arrow\">passthrough</label><div class=\"sk-toggleable__content\"><pre>[&#x27;Pclass&#x27;, &#x27;Cabin_Assigned&#x27;, &#x27;Name_Size&#x27;, &#x27;Age&#x27;, &#x27;Fare&#x27;, &#x27;ticket_number_count&#x27;]</pre></div></div></div><div class=\"sk-serial\"><div class=\"sk-item\"><div class=\"sk-estimator sk-toggleable\"><input class=\"sk-toggleable__control sk-hidden--visually\" id=\"sk-estimator-id-162\" type=\"checkbox\" ><label for=\"sk-estimator-id-162\" class=\"sk-toggleable__label sk-toggleable__label-arrow\">passthrough</label><div class=\"sk-toggleable__content\"><pre>passthrough</pre></div></div></div></div></div></div></div></div><div class=\"sk-item sk-dashed-wrapped\"><div class=\"sk-label-container\"><div class=\"sk-label sk-toggleable\"><input class=\"sk-toggleable__control sk-hidden--visually\" id=\"sk-estimator-id-163\" type=\"checkbox\" ><label for=\"sk-estimator-id-163\" class=\"sk-toggleable__label sk-toggleable__label-arrow\">votingclassifier: VotingClassifier</label><div class=\"sk-toggleable__content\"><pre>VotingClassifier(estimators=[(&#x27;gbc&#x27;,\n",
       "                              GradientBoostingClassifier(learning_rate=0.3,\n",
       "                                                         max_depth=8,\n",
       "                                                         max_features=0.3,\n",
       "                                                         min_samples_leaf=100,\n",
       "                                                         n_estimators=300)),\n",
       "                             (&#x27;etc&#x27;,\n",
       "                              ExtraTreesClassifier(max_features=1,\n",
       "                                                   min_samples_leaf=3,\n",
       "                                                   min_samples_split=3)),\n",
       "                             (&#x27;nb&#x27;, GaussianNB())],\n",
       "                 weights=[1, 2, 3])</pre></div></div></div><div class=\"sk-parallel\"><div class=\"sk-parallel-item\"><div class=\"sk-item\"><div class=\"sk-label-container\"><div class=\"sk-label sk-toggleable\"><label>gbc</label></div></div><div class=\"sk-serial\"><div class=\"sk-item\"><div class=\"sk-estimator sk-toggleable\"><input class=\"sk-toggleable__control sk-hidden--visually\" id=\"sk-estimator-id-164\" type=\"checkbox\" ><label for=\"sk-estimator-id-164\" class=\"sk-toggleable__label sk-toggleable__label-arrow\">GradientBoostingClassifier</label><div class=\"sk-toggleable__content\"><pre>GradientBoostingClassifier(learning_rate=0.3, max_depth=8, max_features=0.3,\n",
       "                           min_samples_leaf=100, n_estimators=300)</pre></div></div></div></div></div></div><div class=\"sk-parallel-item\"><div class=\"sk-item\"><div class=\"sk-label-container\"><div class=\"sk-label sk-toggleable\"><label>etc</label></div></div><div class=\"sk-serial\"><div class=\"sk-item\"><div class=\"sk-estimator sk-toggleable\"><input class=\"sk-toggleable__control sk-hidden--visually\" id=\"sk-estimator-id-165\" type=\"checkbox\" ><label for=\"sk-estimator-id-165\" class=\"sk-toggleable__label sk-toggleable__label-arrow\">ExtraTreesClassifier</label><div class=\"sk-toggleable__content\"><pre>ExtraTreesClassifier(max_features=1, min_samples_leaf=3, min_samples_split=3)</pre></div></div></div></div></div></div><div class=\"sk-parallel-item\"><div class=\"sk-item\"><div class=\"sk-label-container\"><div class=\"sk-label sk-toggleable\"><label>nb</label></div></div><div class=\"sk-serial\"><div class=\"sk-item\"><div class=\"sk-estimator sk-toggleable\"><input class=\"sk-toggleable__control sk-hidden--visually\" id=\"sk-estimator-id-166\" type=\"checkbox\" ><label for=\"sk-estimator-id-166\" class=\"sk-toggleable__label sk-toggleable__label-arrow\">GaussianNB</label><div class=\"sk-toggleable__content\"><pre>GaussianNB()</pre></div></div></div></div></div></div></div></div></div></div></div></div>"
      ],
      "text/plain": [
       "Pipeline(steps=[('columntransformer',\n",
       "                 ColumnTransformer(n_jobs=-1,\n",
       "                                   transformers=[('impute',\n",
       "                                                  SimpleImputer(strategy='most_frequent'),\n",
       "                                                  ['Age']),\n",
       "                                                 ('ord_pipeline',\n",
       "                                                  Pipeline(steps=[('impute',\n",
       "                                                                   SimpleImputer(strategy='most_frequent')),\n",
       "                                                                  ('ord',\n",
       "                                                                   OrdinalEncoder(handle_unknown='use_encoded_value',\n",
       "                                                                                  unknown_value=-1))]),\n",
       "                                                  ['family_size_grouped']),\n",
       "                                                 ('ohe_pipeline',\n",
       "                                                  Pipeline(s...\n",
       "                                                  ['Pclass', 'Cabin_Assigned',\n",
       "                                                   'Name_Size', 'Age', 'Fare',\n",
       "                                                   'ticket_number_count'])])),\n",
       "                ('votingclassifier',\n",
       "                 VotingClassifier(estimators=[('gbc',\n",
       "                                               GradientBoostingClassifier(learning_rate=0.3,\n",
       "                                                                          max_depth=8,\n",
       "                                                                          max_features=0.3,\n",
       "                                                                          min_samples_leaf=100,\n",
       "                                                                          n_estimators=300)),\n",
       "                                              ('etc',\n",
       "                                               ExtraTreesClassifier(max_features=1,\n",
       "                                                                    min_samples_leaf=3,\n",
       "                                                                    min_samples_split=3)),\n",
       "                                              ('nb', GaussianNB())],\n",
       "                                  weights=[1, 2, 3]))])"
      ]
     },
     "execution_count": 129,
     "metadata": {},
     "output_type": "execute_result"
    }
   ],
   "source": [
    "pipefinalcv1.fit(X_train, y_train)"
   ]
  },
  {
   "cell_type": "code",
   "execution_count": 130,
   "id": "48c7af92",
   "metadata": {
    "execution": {
     "iopub.execute_input": "2024-07-06T15:52:03.027410Z",
     "iopub.status.busy": "2024-07-06T15:52:03.027026Z",
     "iopub.status.idle": "2024-07-06T15:52:03.559056Z",
     "shell.execute_reply": "2024-07-06T15:52:03.557965Z"
    },
    "papermill": {
     "duration": 0.582354,
     "end_time": "2024-07-06T15:52:03.561557",
     "exception": false,
     "start_time": "2024-07-06T15:52:02.979203",
     "status": "completed"
    },
    "tags": []
   },
   "outputs": [
    {
     "data": {
      "text/html": [
       "<style>#sk-container-id-12 {color: black;background-color: white;}#sk-container-id-12 pre{padding: 0;}#sk-container-id-12 div.sk-toggleable {background-color: white;}#sk-container-id-12 label.sk-toggleable__label {cursor: pointer;display: block;width: 100%;margin-bottom: 0;padding: 0.3em;box-sizing: border-box;text-align: center;}#sk-container-id-12 label.sk-toggleable__label-arrow:before {content: \"▸\";float: left;margin-right: 0.25em;color: #696969;}#sk-container-id-12 label.sk-toggleable__label-arrow:hover:before {color: black;}#sk-container-id-12 div.sk-estimator:hover label.sk-toggleable__label-arrow:before {color: black;}#sk-container-id-12 div.sk-toggleable__content {max-height: 0;max-width: 0;overflow: hidden;text-align: left;background-color: #f0f8ff;}#sk-container-id-12 div.sk-toggleable__content pre {margin: 0.2em;color: black;border-radius: 0.25em;background-color: #f0f8ff;}#sk-container-id-12 input.sk-toggleable__control:checked~div.sk-toggleable__content {max-height: 200px;max-width: 100%;overflow: auto;}#sk-container-id-12 input.sk-toggleable__control:checked~label.sk-toggleable__label-arrow:before {content: \"▾\";}#sk-container-id-12 div.sk-estimator input.sk-toggleable__control:checked~label.sk-toggleable__label {background-color: #d4ebff;}#sk-container-id-12 div.sk-label input.sk-toggleable__control:checked~label.sk-toggleable__label {background-color: #d4ebff;}#sk-container-id-12 input.sk-hidden--visually {border: 0;clip: rect(1px 1px 1px 1px);clip: rect(1px, 1px, 1px, 1px);height: 1px;margin: -1px;overflow: hidden;padding: 0;position: absolute;width: 1px;}#sk-container-id-12 div.sk-estimator {font-family: monospace;background-color: #f0f8ff;border: 1px dotted black;border-radius: 0.25em;box-sizing: border-box;margin-bottom: 0.5em;}#sk-container-id-12 div.sk-estimator:hover {background-color: #d4ebff;}#sk-container-id-12 div.sk-parallel-item::after {content: \"\";width: 100%;border-bottom: 1px solid gray;flex-grow: 1;}#sk-container-id-12 div.sk-label:hover label.sk-toggleable__label {background-color: #d4ebff;}#sk-container-id-12 div.sk-serial::before {content: \"\";position: absolute;border-left: 1px solid gray;box-sizing: border-box;top: 0;bottom: 0;left: 50%;z-index: 0;}#sk-container-id-12 div.sk-serial {display: flex;flex-direction: column;align-items: center;background-color: white;padding-right: 0.2em;padding-left: 0.2em;position: relative;}#sk-container-id-12 div.sk-item {position: relative;z-index: 1;}#sk-container-id-12 div.sk-parallel {display: flex;align-items: stretch;justify-content: center;background-color: white;position: relative;}#sk-container-id-12 div.sk-item::before, #sk-container-id-12 div.sk-parallel-item::before {content: \"\";position: absolute;border-left: 1px solid gray;box-sizing: border-box;top: 0;bottom: 0;left: 50%;z-index: -1;}#sk-container-id-12 div.sk-parallel-item {display: flex;flex-direction: column;z-index: 1;position: relative;background-color: white;}#sk-container-id-12 div.sk-parallel-item:first-child::after {align-self: flex-end;width: 50%;}#sk-container-id-12 div.sk-parallel-item:last-child::after {align-self: flex-start;width: 50%;}#sk-container-id-12 div.sk-parallel-item:only-child::after {width: 0;}#sk-container-id-12 div.sk-dashed-wrapped {border: 1px dashed gray;margin: 0 0.4em 0.5em 0.4em;box-sizing: border-box;padding-bottom: 0.4em;background-color: white;}#sk-container-id-12 div.sk-label label {font-family: monospace;font-weight: bold;display: inline-block;line-height: 1.2em;}#sk-container-id-12 div.sk-label-container {text-align: center;}#sk-container-id-12 div.sk-container {/* jupyter's `normalize.less` sets `[hidden] { display: none; }` but bootstrap.min.css set `[hidden] { display: none !important; }` so we also need the `!important` here to be able to override the default hidden behavior on the sphinx rendered scikit-learn.org. See: https://github.com/scikit-learn/scikit-learn/issues/21755 */display: inline-block !important;position: relative;}#sk-container-id-12 div.sk-text-repr-fallback {display: none;}</style><div id=\"sk-container-id-12\" class=\"sk-top-container\"><div class=\"sk-text-repr-fallback\"><pre>Pipeline(steps=[(&#x27;columntransformer&#x27;,\n",
       "                 ColumnTransformer(n_jobs=-1,\n",
       "                                   transformers=[(&#x27;impute&#x27;,\n",
       "                                                  SimpleImputer(strategy=&#x27;most_frequent&#x27;),\n",
       "                                                  [&#x27;Age&#x27;]),\n",
       "                                                 (&#x27;ord_pipeline&#x27;,\n",
       "                                                  Pipeline(steps=[(&#x27;impute&#x27;,\n",
       "                                                                   SimpleImputer(strategy=&#x27;most_frequent&#x27;)),\n",
       "                                                                  (&#x27;ord&#x27;,\n",
       "                                                                   OrdinalEncoder(handle_unknown=&#x27;use_encoded_value&#x27;,\n",
       "                                                                                  unknown_value=-1))]),\n",
       "                                                  [&#x27;family_size_grouped&#x27;]),\n",
       "                                                 (&#x27;ohe_pipeline&#x27;,\n",
       "                                                  Pipeline(s...\n",
       "                                                   &#x27;ticket_number_count&#x27;])])),\n",
       "                (&#x27;votingclassifier&#x27;,\n",
       "                 VotingClassifier(estimators=[(&#x27;abc&#x27;,\n",
       "                                               AdaBoostClassifier(estimator=DecisionTreeClassifier(criterion=&#x27;entropy&#x27;,\n",
       "                                                                                                   max_depth=10,\n",
       "                                                                                                   min_samples_leaf=4,\n",
       "                                                                                                   min_samples_split=10),\n",
       "                                                                  learning_rate=0.99)),\n",
       "                                              (&#x27;etc&#x27;,\n",
       "                                               ExtraTreesClassifier(max_features=1,\n",
       "                                                                    min_samples_leaf=3,\n",
       "                                                                    min_samples_split=3)),\n",
       "                                              (&#x27;nb&#x27;, GaussianNB())],\n",
       "                                  weights=[1, 2, 3]))])</pre><b>In a Jupyter environment, please rerun this cell to show the HTML representation or trust the notebook. <br />On GitHub, the HTML representation is unable to render, please try loading this page with nbviewer.org.</b></div><div class=\"sk-container\" hidden><div class=\"sk-item sk-dashed-wrapped\"><div class=\"sk-label-container\"><div class=\"sk-label sk-toggleable\"><input class=\"sk-toggleable__control sk-hidden--visually\" id=\"sk-estimator-id-167\" type=\"checkbox\" ><label for=\"sk-estimator-id-167\" class=\"sk-toggleable__label sk-toggleable__label-arrow\">Pipeline</label><div class=\"sk-toggleable__content\"><pre>Pipeline(steps=[(&#x27;columntransformer&#x27;,\n",
       "                 ColumnTransformer(n_jobs=-1,\n",
       "                                   transformers=[(&#x27;impute&#x27;,\n",
       "                                                  SimpleImputer(strategy=&#x27;most_frequent&#x27;),\n",
       "                                                  [&#x27;Age&#x27;]),\n",
       "                                                 (&#x27;ord_pipeline&#x27;,\n",
       "                                                  Pipeline(steps=[(&#x27;impute&#x27;,\n",
       "                                                                   SimpleImputer(strategy=&#x27;most_frequent&#x27;)),\n",
       "                                                                  (&#x27;ord&#x27;,\n",
       "                                                                   OrdinalEncoder(handle_unknown=&#x27;use_encoded_value&#x27;,\n",
       "                                                                                  unknown_value=-1))]),\n",
       "                                                  [&#x27;family_size_grouped&#x27;]),\n",
       "                                                 (&#x27;ohe_pipeline&#x27;,\n",
       "                                                  Pipeline(s...\n",
       "                                                   &#x27;ticket_number_count&#x27;])])),\n",
       "                (&#x27;votingclassifier&#x27;,\n",
       "                 VotingClassifier(estimators=[(&#x27;abc&#x27;,\n",
       "                                               AdaBoostClassifier(estimator=DecisionTreeClassifier(criterion=&#x27;entropy&#x27;,\n",
       "                                                                                                   max_depth=10,\n",
       "                                                                                                   min_samples_leaf=4,\n",
       "                                                                                                   min_samples_split=10),\n",
       "                                                                  learning_rate=0.99)),\n",
       "                                              (&#x27;etc&#x27;,\n",
       "                                               ExtraTreesClassifier(max_features=1,\n",
       "                                                                    min_samples_leaf=3,\n",
       "                                                                    min_samples_split=3)),\n",
       "                                              (&#x27;nb&#x27;, GaussianNB())],\n",
       "                                  weights=[1, 2, 3]))])</pre></div></div></div><div class=\"sk-serial\"><div class=\"sk-item sk-dashed-wrapped\"><div class=\"sk-label-container\"><div class=\"sk-label sk-toggleable\"><input class=\"sk-toggleable__control sk-hidden--visually\" id=\"sk-estimator-id-168\" type=\"checkbox\" ><label for=\"sk-estimator-id-168\" class=\"sk-toggleable__label sk-toggleable__label-arrow\">columntransformer: ColumnTransformer</label><div class=\"sk-toggleable__content\"><pre>ColumnTransformer(n_jobs=-1,\n",
       "                  transformers=[(&#x27;impute&#x27;,\n",
       "                                 SimpleImputer(strategy=&#x27;most_frequent&#x27;),\n",
       "                                 [&#x27;Age&#x27;]),\n",
       "                                (&#x27;ord_pipeline&#x27;,\n",
       "                                 Pipeline(steps=[(&#x27;impute&#x27;,\n",
       "                                                  SimpleImputer(strategy=&#x27;most_frequent&#x27;)),\n",
       "                                                 (&#x27;ord&#x27;,\n",
       "                                                  OrdinalEncoder(handle_unknown=&#x27;use_encoded_value&#x27;,\n",
       "                                                                 unknown_value=-1))]),\n",
       "                                 [&#x27;family_size_grouped&#x27;]),\n",
       "                                (&#x27;ohe_pipeline&#x27;,\n",
       "                                 Pipeline(steps=[(&#x27;impute&#x27;,\n",
       "                                                  SimpleImputer(strategy=&#x27;most_frequent&#x27;)),\n",
       "                                                 (&#x27;one-hot&#x27;,\n",
       "                                                  OneHotEncoder(handle_unknown=&#x27;ignore&#x27;,\n",
       "                                                                sparse_output=False))]),\n",
       "                                 [&#x27;Sex&#x27;, &#x27;Embarked&#x27;]),\n",
       "                                (&#x27;passthrough&#x27;, &#x27;passthrough&#x27;,\n",
       "                                 [&#x27;Pclass&#x27;, &#x27;Cabin_Assigned&#x27;, &#x27;Name_Size&#x27;,\n",
       "                                  &#x27;Age&#x27;, &#x27;Fare&#x27;, &#x27;ticket_number_count&#x27;])])</pre></div></div></div><div class=\"sk-parallel\"><div class=\"sk-parallel-item\"><div class=\"sk-item\"><div class=\"sk-label-container\"><div class=\"sk-label sk-toggleable\"><input class=\"sk-toggleable__control sk-hidden--visually\" id=\"sk-estimator-id-169\" type=\"checkbox\" ><label for=\"sk-estimator-id-169\" class=\"sk-toggleable__label sk-toggleable__label-arrow\">impute</label><div class=\"sk-toggleable__content\"><pre>[&#x27;Age&#x27;]</pre></div></div></div><div class=\"sk-serial\"><div class=\"sk-item\"><div class=\"sk-estimator sk-toggleable\"><input class=\"sk-toggleable__control sk-hidden--visually\" id=\"sk-estimator-id-170\" type=\"checkbox\" ><label for=\"sk-estimator-id-170\" class=\"sk-toggleable__label sk-toggleable__label-arrow\">SimpleImputer</label><div class=\"sk-toggleable__content\"><pre>SimpleImputer(strategy=&#x27;most_frequent&#x27;)</pre></div></div></div></div></div></div><div class=\"sk-parallel-item\"><div class=\"sk-item\"><div class=\"sk-label-container\"><div class=\"sk-label sk-toggleable\"><input class=\"sk-toggleable__control sk-hidden--visually\" id=\"sk-estimator-id-171\" type=\"checkbox\" ><label for=\"sk-estimator-id-171\" class=\"sk-toggleable__label sk-toggleable__label-arrow\">ord_pipeline</label><div class=\"sk-toggleable__content\"><pre>[&#x27;family_size_grouped&#x27;]</pre></div></div></div><div class=\"sk-serial\"><div class=\"sk-item\"><div class=\"sk-serial\"><div class=\"sk-item\"><div class=\"sk-estimator sk-toggleable\"><input class=\"sk-toggleable__control sk-hidden--visually\" id=\"sk-estimator-id-172\" type=\"checkbox\" ><label for=\"sk-estimator-id-172\" class=\"sk-toggleable__label sk-toggleable__label-arrow\">SimpleImputer</label><div class=\"sk-toggleable__content\"><pre>SimpleImputer(strategy=&#x27;most_frequent&#x27;)</pre></div></div></div><div class=\"sk-item\"><div class=\"sk-estimator sk-toggleable\"><input class=\"sk-toggleable__control sk-hidden--visually\" id=\"sk-estimator-id-173\" type=\"checkbox\" ><label for=\"sk-estimator-id-173\" class=\"sk-toggleable__label sk-toggleable__label-arrow\">OrdinalEncoder</label><div class=\"sk-toggleable__content\"><pre>OrdinalEncoder(handle_unknown=&#x27;use_encoded_value&#x27;, unknown_value=-1)</pre></div></div></div></div></div></div></div></div><div class=\"sk-parallel-item\"><div class=\"sk-item\"><div class=\"sk-label-container\"><div class=\"sk-label sk-toggleable\"><input class=\"sk-toggleable__control sk-hidden--visually\" id=\"sk-estimator-id-174\" type=\"checkbox\" ><label for=\"sk-estimator-id-174\" class=\"sk-toggleable__label sk-toggleable__label-arrow\">ohe_pipeline</label><div class=\"sk-toggleable__content\"><pre>[&#x27;Sex&#x27;, &#x27;Embarked&#x27;]</pre></div></div></div><div class=\"sk-serial\"><div class=\"sk-item\"><div class=\"sk-serial\"><div class=\"sk-item\"><div class=\"sk-estimator sk-toggleable\"><input class=\"sk-toggleable__control sk-hidden--visually\" id=\"sk-estimator-id-175\" type=\"checkbox\" ><label for=\"sk-estimator-id-175\" class=\"sk-toggleable__label sk-toggleable__label-arrow\">SimpleImputer</label><div class=\"sk-toggleable__content\"><pre>SimpleImputer(strategy=&#x27;most_frequent&#x27;)</pre></div></div></div><div class=\"sk-item\"><div class=\"sk-estimator sk-toggleable\"><input class=\"sk-toggleable__control sk-hidden--visually\" id=\"sk-estimator-id-176\" type=\"checkbox\" ><label for=\"sk-estimator-id-176\" class=\"sk-toggleable__label sk-toggleable__label-arrow\">OneHotEncoder</label><div class=\"sk-toggleable__content\"><pre>OneHotEncoder(handle_unknown=&#x27;ignore&#x27;, sparse_output=False)</pre></div></div></div></div></div></div></div></div><div class=\"sk-parallel-item\"><div class=\"sk-item\"><div class=\"sk-label-container\"><div class=\"sk-label sk-toggleable\"><input class=\"sk-toggleable__control sk-hidden--visually\" id=\"sk-estimator-id-177\" type=\"checkbox\" ><label for=\"sk-estimator-id-177\" class=\"sk-toggleable__label sk-toggleable__label-arrow\">passthrough</label><div class=\"sk-toggleable__content\"><pre>[&#x27;Pclass&#x27;, &#x27;Cabin_Assigned&#x27;, &#x27;Name_Size&#x27;, &#x27;Age&#x27;, &#x27;Fare&#x27;, &#x27;ticket_number_count&#x27;]</pre></div></div></div><div class=\"sk-serial\"><div class=\"sk-item\"><div class=\"sk-estimator sk-toggleable\"><input class=\"sk-toggleable__control sk-hidden--visually\" id=\"sk-estimator-id-178\" type=\"checkbox\" ><label for=\"sk-estimator-id-178\" class=\"sk-toggleable__label sk-toggleable__label-arrow\">passthrough</label><div class=\"sk-toggleable__content\"><pre>passthrough</pre></div></div></div></div></div></div></div></div><div class=\"sk-item sk-dashed-wrapped\"><div class=\"sk-label-container\"><div class=\"sk-label sk-toggleable\"><input class=\"sk-toggleable__control sk-hidden--visually\" id=\"sk-estimator-id-179\" type=\"checkbox\" ><label for=\"sk-estimator-id-179\" class=\"sk-toggleable__label sk-toggleable__label-arrow\">votingclassifier: VotingClassifier</label><div class=\"sk-toggleable__content\"><pre>VotingClassifier(estimators=[(&#x27;abc&#x27;,\n",
       "                              AdaBoostClassifier(estimator=DecisionTreeClassifier(criterion=&#x27;entropy&#x27;,\n",
       "                                                                                  max_depth=10,\n",
       "                                                                                  min_samples_leaf=4,\n",
       "                                                                                  min_samples_split=10),\n",
       "                                                 learning_rate=0.99)),\n",
       "                             (&#x27;etc&#x27;,\n",
       "                              ExtraTreesClassifier(max_features=1,\n",
       "                                                   min_samples_leaf=3,\n",
       "                                                   min_samples_split=3)),\n",
       "                             (&#x27;nb&#x27;, GaussianNB())],\n",
       "                 weights=[1, 2, 3])</pre></div></div></div><div class=\"sk-parallel\"><div class=\"sk-parallel-item\"><div class=\"sk-item\"><div class=\"sk-label-container\"><div class=\"sk-label sk-toggleable\"><label>abc</label></div></div><div class=\"sk-serial\"><div class=\"sk-item sk-dashed-wrapped\"><div class=\"sk-parallel\"><div class=\"sk-parallel-item\"><div class=\"sk-item\"><div class=\"sk-label-container\"><div class=\"sk-label sk-toggleable\"><input class=\"sk-toggleable__control sk-hidden--visually\" id=\"sk-estimator-id-180\" type=\"checkbox\" ><label for=\"sk-estimator-id-180\" class=\"sk-toggleable__label sk-toggleable__label-arrow\">estimator: DecisionTreeClassifier</label><div class=\"sk-toggleable__content\"><pre>DecisionTreeClassifier(criterion=&#x27;entropy&#x27;, max_depth=10, min_samples_leaf=4,\n",
       "                       min_samples_split=10)</pre></div></div></div><div class=\"sk-serial\"><div class=\"sk-item\"><div class=\"sk-estimator sk-toggleable\"><input class=\"sk-toggleable__control sk-hidden--visually\" id=\"sk-estimator-id-181\" type=\"checkbox\" ><label for=\"sk-estimator-id-181\" class=\"sk-toggleable__label sk-toggleable__label-arrow\">DecisionTreeClassifier</label><div class=\"sk-toggleable__content\"><pre>DecisionTreeClassifier(criterion=&#x27;entropy&#x27;, max_depth=10, min_samples_leaf=4,\n",
       "                       min_samples_split=10)</pre></div></div></div></div></div></div></div></div></div></div></div><div class=\"sk-parallel-item\"><div class=\"sk-item\"><div class=\"sk-label-container\"><div class=\"sk-label sk-toggleable\"><label>etc</label></div></div><div class=\"sk-serial\"><div class=\"sk-item\"><div class=\"sk-estimator sk-toggleable\"><input class=\"sk-toggleable__control sk-hidden--visually\" id=\"sk-estimator-id-182\" type=\"checkbox\" ><label for=\"sk-estimator-id-182\" class=\"sk-toggleable__label sk-toggleable__label-arrow\">ExtraTreesClassifier</label><div class=\"sk-toggleable__content\"><pre>ExtraTreesClassifier(max_features=1, min_samples_leaf=3, min_samples_split=3)</pre></div></div></div></div></div></div><div class=\"sk-parallel-item\"><div class=\"sk-item\"><div class=\"sk-label-container\"><div class=\"sk-label sk-toggleable\"><label>nb</label></div></div><div class=\"sk-serial\"><div class=\"sk-item\"><div class=\"sk-estimator sk-toggleable\"><input class=\"sk-toggleable__control sk-hidden--visually\" id=\"sk-estimator-id-183\" type=\"checkbox\" ><label for=\"sk-estimator-id-183\" class=\"sk-toggleable__label sk-toggleable__label-arrow\">GaussianNB</label><div class=\"sk-toggleable__content\"><pre>GaussianNB()</pre></div></div></div></div></div></div></div></div></div></div></div></div>"
      ],
      "text/plain": [
       "Pipeline(steps=[('columntransformer',\n",
       "                 ColumnTransformer(n_jobs=-1,\n",
       "                                   transformers=[('impute',\n",
       "                                                  SimpleImputer(strategy='most_frequent'),\n",
       "                                                  ['Age']),\n",
       "                                                 ('ord_pipeline',\n",
       "                                                  Pipeline(steps=[('impute',\n",
       "                                                                   SimpleImputer(strategy='most_frequent')),\n",
       "                                                                  ('ord',\n",
       "                                                                   OrdinalEncoder(handle_unknown='use_encoded_value',\n",
       "                                                                                  unknown_value=-1))]),\n",
       "                                                  ['family_size_grouped']),\n",
       "                                                 ('ohe_pipeline',\n",
       "                                                  Pipeline(s...\n",
       "                                                   'ticket_number_count'])])),\n",
       "                ('votingclassifier',\n",
       "                 VotingClassifier(estimators=[('abc',\n",
       "                                               AdaBoostClassifier(estimator=DecisionTreeClassifier(criterion='entropy',\n",
       "                                                                                                   max_depth=10,\n",
       "                                                                                                   min_samples_leaf=4,\n",
       "                                                                                                   min_samples_split=10),\n",
       "                                                                  learning_rate=0.99)),\n",
       "                                              ('etc',\n",
       "                                               ExtraTreesClassifier(max_features=1,\n",
       "                                                                    min_samples_leaf=3,\n",
       "                                                                    min_samples_split=3)),\n",
       "                                              ('nb', GaussianNB())],\n",
       "                                  weights=[1, 2, 3]))])"
      ]
     },
     "execution_count": 130,
     "metadata": {},
     "output_type": "execute_result"
    }
   ],
   "source": [
    "pipefinalcv2.fit(X_train, y_train)"
   ]
  },
  {
   "cell_type": "code",
   "execution_count": 131,
   "id": "0a79ceaa",
   "metadata": {
    "execution": {
     "iopub.execute_input": "2024-07-06T15:52:03.654639Z",
     "iopub.status.busy": "2024-07-06T15:52:03.654256Z",
     "iopub.status.idle": "2024-07-06T15:52:04.054014Z",
     "shell.execute_reply": "2024-07-06T15:52:04.052867Z"
    },
    "papermill": {
     "duration": 0.449324,
     "end_time": "2024-07-06T15:52:04.056608",
     "exception": false,
     "start_time": "2024-07-06T15:52:03.607284",
     "status": "completed"
    },
    "tags": []
   },
   "outputs": [],
   "source": [
    "Y_pred = pipefinalrfc.predict(X_test)\n",
    "Y_pred2 = pipefinaldtc.predict(X_test)\n",
    "Y_pred3 = pipefinalknn.predict(X_test)\n",
    "Y_pred4 = pipefinalsvc.predict(X_test)\n",
    "Y_pred5 = pipefinallr.predict(X_test)\n",
    "Y_pred6 = pipefinalgnb.predict(X_test)\n",
    "Y_pred7 = pipefinalxg.predict(X_test)\n",
    "Y_pred8 = pipefinalabc.predict(X_test)\n",
    "Y_pred9 = pipefinaletc.predict(X_test)\n",
    "Y_pred10 = pipefinalgbc.predict(X_test)\n",
    "Y_pred11 = pipefinalcv1.predict(X_test)\n",
    "Y_pred12 = pipefinalcv2.predict(X_test)"
   ]
  },
  {
   "cell_type": "code",
   "execution_count": 132,
   "id": "b75e219e",
   "metadata": {
    "execution": {
     "iopub.execute_input": "2024-07-06T15:52:04.149864Z",
     "iopub.status.busy": "2024-07-06T15:52:04.149457Z",
     "iopub.status.idle": "2024-07-06T15:52:04.162414Z",
     "shell.execute_reply": "2024-07-06T15:52:04.161324Z"
    },
    "papermill": {
     "duration": 0.062017,
     "end_time": "2024-07-06T15:52:04.164660",
     "exception": false,
     "start_time": "2024-07-06T15:52:04.102643",
     "status": "completed"
    },
    "tags": []
   },
   "outputs": [],
   "source": [
    "submission = pd.DataFrame({\n",
    "    'PassengerId': test_data['PassengerId'],\n",
    "    'Survived': Y_pred\n",
    "})\n",
    "\n",
    "submission2 = pd.DataFrame({\n",
    "    'PassengerId': test_data['PassengerId'],\n",
    "    'Survived': Y_pred2\n",
    "})\n",
    "\n",
    "submission3 = pd.DataFrame({\n",
    "    'PassengerId': test_data['PassengerId'],\n",
    "    'Survived': Y_pred3\n",
    "})\n",
    "\n",
    "submission4 = pd.DataFrame({\n",
    "    'PassengerId': test_data['PassengerId'],\n",
    "    'Survived': Y_pred4\n",
    "})\n",
    "\n",
    "submission5 = pd.DataFrame({\n",
    "    'PassengerId': test_data['PassengerId'],\n",
    "    'Survived': Y_pred5\n",
    "})\n",
    "\n",
    "submission6 = pd.DataFrame({\n",
    "    'PassengerId': test_data['PassengerId'],\n",
    "    'Survived': Y_pred6\n",
    "})\n",
    "\n",
    "submission7 = pd.DataFrame({\n",
    "    'PassengerId': test_data['PassengerId'],\n",
    "    'Survived': Y_pred7\n",
    "})\n",
    "\n",
    "submission8 = pd.DataFrame({\n",
    "    'PassengerId': test_data['PassengerId'],\n",
    "    'Survived': Y_pred8\n",
    "})\n",
    "\n",
    "submission9 = pd.DataFrame({\n",
    "    'PassengerId': test_data['PassengerId'],\n",
    "    'Survived': Y_pred9\n",
    "})\n",
    "\n",
    "submission10 = pd.DataFrame({\n",
    "    'PassengerId': test_data['PassengerId'],\n",
    "    'Survived': Y_pred10\n",
    "})\n",
    "\n",
    "submission11 = pd.DataFrame({\n",
    "        \"PassengerId\": test_data[\"PassengerId\"],\n",
    "        \"Survived\": Y_pred11\n",
    "})\n",
    "\n",
    "submission12 = pd.DataFrame({\n",
    "        \"PassengerId\": test_data[\"PassengerId\"],\n",
    "        \"Survived\": Y_pred12\n",
    "})"
   ]
  },
  {
   "cell_type": "code",
   "execution_count": 133,
   "id": "933e794e",
   "metadata": {
    "execution": {
     "iopub.execute_input": "2024-07-06T15:52:04.258711Z",
     "iopub.status.busy": "2024-07-06T15:52:04.258316Z",
     "iopub.status.idle": "2024-07-06T15:52:04.280141Z",
     "shell.execute_reply": "2024-07-06T15:52:04.279130Z"
    },
    "papermill": {
     "duration": 0.071492,
     "end_time": "2024-07-06T15:52:04.282642",
     "exception": false,
     "start_time": "2024-07-06T15:52:04.211150",
     "status": "completed"
    },
    "tags": []
   },
   "outputs": [],
   "source": [
    "submission.to_csv('/kaggle/working/submission929_1.csv', index=False)\n",
    "submission2.to_csv('/kaggle/working/submission929_2.csv', index=False)\n",
    "submission3.to_csv('/kaggle/working/submission929_3.csv', index=False)\n",
    "submission4.to_csv('/kaggle/working/submission929_4.csv', index=False)\n",
    "submission5.to_csv('/kaggle/working/submission929_5.csv', index=False)\n",
    "submission6.to_csv('/kaggle/working/submission929_6.csv', index=False)\n",
    "submission7.to_csv('/kaggle/working/submission929_7.csv', index=False)\n",
    "submission8.to_csv('/kaggle/working/submission101_8.csv', index=False)\n",
    "submission9.to_csv('/kaggle/working/submission101_9.csv', index=False)\n",
    "submission10.to_csv('/kaggle/working/submission101_10.csv', index=False)\n",
    "submission11.to_csv('/kaggle/working/submission101_11.csv', index=False)\n",
    "submission12.to_csv('/kaggle/working/submission101_12.csv', index=False)"
   ]
  },
  {
   "cell_type": "code",
   "execution_count": null,
   "id": "f3b53a26",
   "metadata": {
    "papermill": {
     "duration": 0.045609,
     "end_time": "2024-07-06T15:52:04.373984",
     "exception": false,
     "start_time": "2024-07-06T15:52:04.328375",
     "status": "completed"
    },
    "tags": []
   },
   "outputs": [],
   "source": []
  }
 ],
 "metadata": {
  "kaggle": {
   "accelerator": "none",
   "dataSources": [
    {
     "databundleVersionId": 26502,
     "sourceId": 3136,
     "sourceType": "competition"
    }
   ],
   "dockerImageVersionId": 30732,
   "isGpuEnabled": false,
   "isInternetEnabled": true,
   "language": "python",
   "sourceType": "notebook"
  },
  "kernelspec": {
   "display_name": "Python 3",
   "language": "python",
   "name": "python3"
  },
  "language_info": {
   "codemirror_mode": {
    "name": "ipython",
    "version": 3
   },
   "file_extension": ".py",
   "mimetype": "text/x-python",
   "name": "python",
   "nbconvert_exporter": "python",
   "pygments_lexer": "ipython3",
   "version": "3.10.13"
  },
  "papermill": {
   "default_parameters": {},
   "duration": 3453.937408,
   "end_time": "2024-07-06T15:52:07.046064",
   "environment_variables": {},
   "exception": null,
   "input_path": "__notebook__.ipynb",
   "output_path": "__notebook__.ipynb",
   "parameters": {},
   "start_time": "2024-07-06T14:54:33.108656",
   "version": "2.5.0"
  }
 },
 "nbformat": 4,
 "nbformat_minor": 5
}
